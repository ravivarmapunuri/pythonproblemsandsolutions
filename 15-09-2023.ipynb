{
 "cells": [
  {
   "cell_type": "code",
   "execution_count": 16,
   "metadata": {},
   "outputs": [
    {
     "name": "stdout",
     "output_type": "stream",
     "text": [
      "1 2 3 6 9 18 27 54 "
     ]
    }
   ],
   "source": [
    "#1st program\n",
    "n=abs(int(input()))\n",
    "if n==0 or n==1:\n",
    "    print(\"No factors\")\n",
    "else:\n",
    "    for i in range(1,n+1):\n",
    "        if (n)%i==0:\n",
    "            print(i,end=\" \")\n"
   ]
  },
  {
   "cell_type": "code",
   "execution_count": 5,
   "metadata": {},
   "outputs": [
    {
     "name": "stdout",
     "output_type": "stream",
     "text": [
      "[30] [30, 40] [30, 40, 50] [30, 40, 50, 20] [30, 40, 50, 20, 20] [30, 40, 50, 20, 20, 10] [30, 40, 50, 20, 20, 10, 90] [30, 40, 50, 20, 20, 10, 90, 10] [30, 40, 50, 20, 20, 10, 90, 10, 10] [30, 40, 50, 20, 20, 10, 90, 10, 10, 10] [40] [40, 50] [40, 50, 20] [40, 50, 20, 20] [40, 50, 20, 20, 10] [40, 50, 20, 20, 10, 90] [40, 50, 20, 20, 10, 90, 10] [40, 50, 20, 20, 10, 90, 10, 10] [40, 50, 20, 20, 10, 90, 10, 10, 10] [50] [50, 20] [50, 20, 20] [50, 20, 20, 10] [50, 20, 20, 10, 90] [50, 20, 20, 10, 90, 10] [50, 20, 20, 10, 90, 10, 10] [50, 20, 20, 10, 90, 10, 10, 10] [20] [20, 20] [20, 20, 10] [20, 20, 10, 90] [20, 20, 10, 90, 10] [20, 20, 10, 90, 10, 10] [20, 20, 10, 90, 10, 10, 10] [20] [20, 10] [20, 10, 90] [20, 10, 90, 10] [20, 10, 90, 10, 10] [20, 10, 90, 10, 10, 10] [10] [10, 90] [10, 90, 10] [10, 90, 10, 10] [10, 90, 10, 10, 10] [90] [90, 10] [90, 10, 10] [90, 10, 10, 10] [10] [10, 10] [10, 10, 10] [10] [10, 10] [10]\n",
      "3\n"
     ]
    }
   ],
   "source": [
    "#sub_arrays\n",
    "def find_subarrays(arr):\n",
    "    subarrays = []\n",
    "    n = len(arr)\n",
    "\n",
    "    for i in range(n):\n",
    "        for j in range(i, n):\n",
    "            subarray = arr[i:j+1]\n",
    "            l.append(subarray)\n",
    "        \n",
    "l=[]\n",
    "# Example usage:\n",
    "input_array = [30,40 ,50, 20, 20, 10, 90, 10, 10, 10]\n",
    "subarrays = find_subarrays(input_array)\n",
    "print(*l)\n",
    "z=[]\n",
    "for i in l:\n",
    "    if sum(i)<100:\n",
    "        z.append(len(i))\n",
    "print(max(z))"
   ]
  },
  {
   "cell_type": "code",
   "execution_count": 23,
   "metadata": {},
   "outputs": [
    {
     "name": "stdout",
     "output_type": "stream",
     "text": [
      "1\n"
     ]
    }
   ],
   "source": [
    "#2nd prg\n",
    "def find_s(l):\n",
    "    n=len(l)\n",
    "    sub=[]\n",
    "    l1=[]\n",
    "    for i in range(n):\n",
    "        for j in range(i,n):\n",
    "            sub=l[i:j+1]\n",
    "            l1.append(sub)\n",
    "    return l1\n",
    "n,k=input().split()\n",
    "l=list(map(int,input().split()))\n",
    "z=find_s(l)\n",
    "f=[]\n",
    "for i in z:\n",
    "    if len(i)>1:\n",
    "        if sum(i)<int(k):\n",
    "            f.append(i)\n",
    "c=1\n",
    "for i in f:\n",
    "    if c<len(i):\n",
    "        c=len(i)\n",
    "print(c)"
   ]
  },
  {
   "cell_type": "code",
   "execution_count": 89,
   "metadata": {},
   "outputs": [
    {
     "name": "stdout",
     "output_type": "stream",
     "text": [
      "3\n"
     ]
    }
   ],
   "source": [
    "#2nd prg\n",
    "n,k=input().split()\n",
    "l=list(map(int,input().split()))\n",
    "l1=[]\n",
    "l2=[]\n",
    "for i in range(0,len(l)):\n",
    "    for j in range(i+1,len(l)+1):\n",
    "        l1.append(list(l[i:j]))\n",
    "for i in l1:\n",
    "    if sum(i)<int(k):\n",
    "        l2.append(len(i))\n",
    "print(max(l2))"
   ]
  },
  {
   "cell_type": "code",
   "execution_count": 124,
   "metadata": {},
   "outputs": [
    {
     "name": "stdout",
     "output_type": "stream",
     "text": [
      "5 [1, 2, 3, 1, 4]\n"
     ]
    }
   ],
   "source": [
    "#3rd prg\n",
    "n=int(input())\n",
    "l=list(map(int,input().split(\",\")))\n",
    "print(n,l)"
   ]
  },
  {
   "cell_type": "code",
   "execution_count": 125,
   "metadata": {},
   "outputs": [
    {
     "name": "stdout",
     "output_type": "stream",
     "text": [
      "108\n"
     ]
    }
   ],
   "source": [
    "print(ord('l'))"
   ]
  },
  {
   "cell_type": "code",
   "execution_count": 6,
   "metadata": {},
   "outputs": [
    {
     "name": "stdout",
     "output_type": "stream",
     "text": [
      "fw: 130.0 tw: 70.0\n"
     ]
    }
   ],
   "source": [
    "#4th prg\n",
    "v=int(input())\n",
    "w=int(input())\n",
    "if w<2 or w%2!=0 or v>=w:\n",
    "    print(\"Invalid input\")\n",
    "else:\n",
    "    fw=(w-4)/4-4\n",
    "    tw=v-fw\n",
    "print(\"fw:\",fw,\"tw:\",tw)"
   ]
  },
  {
   "cell_type": "code",
   "execution_count": 105,
   "metadata": {},
   "outputs": [
    {
     "name": "stdout",
     "output_type": "stream",
     "text": [
      "130.0 70.0\n"
     ]
    }
   ],
   "source": [
    "# Accept input values\n",
    "V = int(input())\n",
    "W = int(input())\n",
    "\n",
    "# Check constraints\n",
    "if W < 2 or W % 2 != 0 or V >= W:\n",
    "    print(\"INVALID INPUT\")\n",
    "else:\n",
    "    # Calculate the number of four-wheelers and two-wheelers\n",
    "    FW = (W - 2 * V) / 2\n",
    "    TW = V - FW\n",
    "\n",
    "    # Print the results\n",
    "    print(TW,FW)\n"
   ]
  },
  {
   "cell_type": "code",
   "execution_count": 9,
   "metadata": {},
   "outputs": [
    {
     "name": "stdout",
     "output_type": "stream",
     "text": [
      "130 70\n"
     ]
    }
   ],
   "source": [
    "v=int(input())\n",
    "w=int(input())\n",
    "tw=0\n",
    "fw=0\n",
    "s=0\n",
    "for i in range(1,v):\n",
    "    if (i*2)+(v-i)*4==w:\n",
    "        tw=i\n",
    "        fw=v-i\n",
    "print(tw,fw)"
   ]
  },
  {
   "cell_type": "code",
   "execution_count": 2,
   "metadata": {},
   "outputs": [
    {
     "name": "stdout",
     "output_type": "stream",
     "text": [
      "['all', 'the', 'best']\n",
      "bmm uif cftu\n"
     ]
    }
   ],
   "source": [
    "#5th prg\n",
    "m=input().split()\n",
    "print(m)\n",
    "k=int(input())\n",
    "l=[]\n",
    "for i in m:\n",
    "    z=[]\n",
    "    for j in range(len(i)):\n",
    "        z.append(chr(ord(i[j])+1))\n",
    "    l.append(\"\".join(z))\n",
    "print(\" \".join(l))"
   ]
  },
  {
   "cell_type": "code",
   "execution_count": 58,
   "metadata": {},
   "outputs": [
    {
     "name": "stdout",
     "output_type": "stream",
     "text": [
      "Bmm \n",
      "uif \n",
      "cftu"
     ]
    }
   ],
   "source": [
    "#5th prg\n",
    "n=input()\n",
    "k=int(input())\n",
    "for i in n:\n",
    "    if i==\" \":\n",
    "        print(\" \")\n",
    "    else:\n",
    "        print(chr(ord(i)+k),end=\"\")\n"
   ]
  }
 ],
 "metadata": {
  "kernelspec": {
   "display_name": "Python 3",
   "language": "python",
   "name": "python3"
  },
  "language_info": {
   "codemirror_mode": {
    "name": "ipython",
    "version": 3
   },
   "file_extension": ".py",
   "mimetype": "text/x-python",
   "name": "python",
   "nbconvert_exporter": "python",
   "pygments_lexer": "ipython3",
   "version": "3.11.4"
  },
  "orig_nbformat": 4
 },
 "nbformat": 4,
 "nbformat_minor": 2
}
