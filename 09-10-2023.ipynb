{
 "cells": [
  {
   "cell_type": "code",
   "execution_count": null,
   "metadata": {},
   "outputs": [],
   "source": [
    "#madam logic\n",
    "s=input()\n",
    "c=input().lower()\n",
    "if c=='y':\n",
    "    l=input().split()\n",
    "    print(\"total members\",len(l)+1)\n",
    "    print(\"comission details \")\n",
    "    print(\"{}:{}\".format(s,500*len(l)))\n",
    "    for i in l:\n",
    "        print(\"{}:{}\".format(i,250))\n",
    "else:\n",
    "    print(\"{}:{}\".format(s,250))"
   ]
  }
 ],
 "metadata": {
  "kernelspec": {
   "display_name": "Python 3",
   "language": "python",
   "name": "python3"
  },
  "language_info": {
   "name": "python",
   "version": "3.11.4"
  }
 },
 "nbformat": 4,
 "nbformat_minor": 2
}
