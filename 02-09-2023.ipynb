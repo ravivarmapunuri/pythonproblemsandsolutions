{
 "cells": [
  {
   "cell_type": "code",
   "execution_count": 172,
   "metadata": {},
   "outputs": [
    {
     "name": "stdout",
     "output_type": "stream",
     "text": [
      "4\n"
     ]
    }
   ],
   "source": [
    "#1st program\n",
    "#2 8 3 5 7 4 1 2\n",
    "r=int(input())\n",
    "units=int(input())\n",
    "n=int(input())\n",
    "arr=list(map(int,input().split()))\n",
    "food=r*units\n",
    "s=0\n",
    "c=0\n",
    "for i in arr:\n",
    "    s+=int(i)\n",
    "    c+=1\n",
    "    if s>=food:\n",
    "        break\n",
    "print(c)"
   ]
  },
  {
   "cell_type": "code",
   "execution_count": 180,
   "metadata": {},
   "outputs": [
    {
     "name": "stdout",
     "output_type": "stream",
     "text": [
      "|\n"
     ]
    },
    {
     "data": {
      "text/plain": [
       "'top=len(s)-1\\na=0\\nwhile top>1:\\n    x=s[top-2:top-1]\\n    if x[1]==\"^\":\\n        a=int(x[0])^int(x[2])\\n    if x[1]==\"&\":\\n        a=int(x[0])&int(x[2])\\n    if x[1]==\"|\":\\n        a=int(x[0])|int(x[2])\\n    top-=2\\n    s[top]=a\\nprint(a)'"
      ]
     },
     "execution_count": 180,
     "metadata": {},
     "output_type": "execute_result"
    }
   ],
   "source": [
    "#2nd program\n",
    "#1C0C1C1A0B1\n",
    "s=input().lower()\n",
    "for i in s:\n",
    "    if i==\"a\":\n",
    "        s=s.replace(\"a\",\"&\")\n",
    "    elif i==\"b\":\n",
    "        s=s.replace(\"b\",\"|\")\n",
    "    elif i==\"c\":\n",
    "        s=s.replace(\"c\",\"^\")\n",
    "top=len(s)\n",
    "\n",
    "\"\"\"top=len(s)-1\n",
    "a=0\n",
    "while top>1:\n",
    "    x=s[top-2:top-1]\n",
    "    if x[1]==\"^\":\n",
    "        a=int(x[0])^int(x[2])\n",
    "    if x[1]==\"&\":\n",
    "        a=int(x[0])&int(x[2])\n",
    "    if x[1]==\"|\":\n",
    "        a=int(x[0])|int(x[2])\n",
    "    top-=2\n",
    "    s[top]=a\n",
    "print(a)\"\"\""
   ]
  },
  {
   "cell_type": "code",
   "execution_count": 19,
   "metadata": {},
   "outputs": [
    {
     "name": "stdout",
     "output_type": "stream",
     "text": [
      "1\n"
     ]
    }
   ],
   "source": [
    "def OperationsBinaryString(s):\n",
    "    if s is None or len(s) == 0:\n",
    "        return -1\n",
    "\n",
    "    result = 0\n",
    "    operation = 'OR'\n",
    "\n",
    "    for char in s:\n",
    "        if char in ['0', '1']:\n",
    "            num = int(char)\n",
    "            if operation == 'OR':\n",
    "                result |= num\n",
    "            elif operation == 'AND':\n",
    "                result &= num\n",
    "            elif operation == 'XOR':\n",
    "                result ^= num\n",
    "        elif char == 'A':\n",
    "            operation = 'AND'\n",
    "        elif char == 'B':\n",
    "            operation = 'OR'\n",
    "        elif char == 'C':\n",
    "            operation = 'XOR'\n",
    "\n",
    "    return result\n",
    "\n",
    "# Example usage:\n",
    "str_input = \"1C0C1C1A0B1\"\n",
    "result = OperationsBinaryString(str_input)\n",
    "print(result)"
   ]
  },
  {
   "cell_type": "code",
   "execution_count": 151,
   "metadata": {},
   "outputs": [
    {
     "name": "stdout",
     "output_type": "stream",
     "text": [
      "1\n"
     ]
    }
   ],
   "source": [
    "#3rd program\n",
    "s=input()\n",
    "flag=0\n",
    "if len(s)>=4:\n",
    "    if (ord(s[0]) in range(48,57)): \n",
    "        flag=0\n",
    "    else:\n",
    "        for i in s:\n",
    "            if ord(i)==32 or ord(i)==47:\n",
    "                flag=0\n",
    "                break\n",
    "            elif i.isdigit() or ord(i) in range(65,99):\n",
    "                flag=1\n",
    "\n",
    "if flag==1:\n",
    "    print(\"1\")\n",
    "else:\n",
    "    print(\"0\")"
   ]
  },
  {
   "cell_type": "code",
   "execution_count": 35,
   "metadata": {},
   "outputs": [
    {
     "name": "stdout",
     "output_type": "stream",
     "text": [
      "5 10\n",
      "Not Possible\n"
     ]
    }
   ],
   "source": [
    "#13-09-2023\n",
    "'''You have two numbers number1 and number2, your job is to check the number of borrow operations needed for subtraction of number1 from number2. If the subtraction is not possible\n",
    "    then return the string not possible.'''\n",
    "'''\n",
    "754\n",
    "658\n",
    "Answer : 2\n",
    "654\n",
    "666\n",
    "Answer: Not possible'''\n",
    "n1=int(input())\n",
    "n2=int(input())\n",
    "print(n1,n2)\n",
    "c=0\n",
    "if n1<n2:\n",
    "    print(\"Not Possible\")\n",
    "else:\n",
    "    a=[int(i) for i in str(n1)][::-1]\n",
    "    b=[int(i) for i in str(n2)][::-1]\n",
    "    print(a,b)\n",
    "    n=0\n",
    "    while n<len(a):\n",
    "        if a[n]-b[n]<0:\n",
    "            c+=1\n",
    "            a[n+1]-=1\n",
    "        n+=1\n",
    "    print(c)\n"
   ]
  },
  {
   "cell_type": "code",
   "execution_count": 38,
   "metadata": {},
   "outputs": [
    {
     "name": "stdout",
     "output_type": "stream",
     "text": [
      "Not possible\n"
     ]
    }
   ],
   "source": [
    "# Input two numbers\n",
    "number1 = int(input(\"Enter the first number: \"))\n",
    "number2 = int(input(\"Enter the second number: \"))\n",
    "\n",
    "# Convert numbers to lists of digits in reverse order\n",
    "a = [int(digit) for digit in str(number1)][::-1]\n",
    "b = [int(digit) for digit in str(number2)][::-1]\n",
    "\n",
    "# Make sure the lists have the same length by adding zeros if needed\n",
    "max_len = max(len(a), len(b))\n",
    "a.extend([0] * (max_len - len(a)))\n",
    "b.extend([0] * (max_len - len(b)))\n",
    "\n",
    "# Initialize variables\n",
    "borrows = 0\n",
    "borrow = 0\n",
    "\n",
    "# Iterate through the lists from right to left\n",
    "for i in range(max_len):\n",
    "    if a[i] - borrow < b[i]:\n",
    "        borrow = 1\n",
    "        borrows += 1\n",
    "    else:\n",
    "        borrow = 0\n",
    "\n",
    "# Check if subtraction is not possible\n",
    "if borrow == 1:\n",
    "    print(\"Not possible\")\n",
    "else:\n",
    "    print(\"Number of borrow operations:\", borrows)\n"
   ]
  },
  {
   "cell_type": "code",
   "execution_count": null,
   "metadata": {},
   "outputs": [],
   "source": [
    "# Input two numbers\n",
    "number1 = int(input(\"Enter the first number: \"))\n",
    "number2 = int(input(\"Enter the second number: \"))\n",
    "\n",
    "# Initialize the borrow count\n",
    "borrow_count = 0\n",
    "\n",
    "# Check if number1 is less than number2 (subtraction not possible)\n",
    "if number1 < number2:\n",
    "    print(\"Not possible\")\n",
    "else:\n",
    "    # Convert both numbers to lists of digits\n",
    "    digits1 = [int(digit) for digit in str(number1)]\n",
    "    digits2 = [int(digit) for digit in str(number2)]\n",
    "\n",
    "    # Ensure both lists have the same length by adding leading zeros\n",
    "    max_len = max(len(digits1), len(digits2))\n",
    "    digits1 = [0] * (max_len - len(digits1)) + digits1\n",
    "    digits2 = [0] * (max_len - len(digits2)) + digits2\n",
    "\n",
    "    # Initialize a borrow variable\n",
    "    borrow = 0\n",
    "\n",
    "    # Iterate through the digits from right to left\n",
    "    for i in range(max_len - 1, -1, -1):\n",
    "        if digits1[i] - borrow < digits2[i]:\n",
    "            borrow_count += 1\n",
    "            borrow = 1  # Set borrow to 1\n",
    "        else:\n",
    "            borrow = 0  # Reset borrow to 0\n",
    "\n",
    "    # Print the number of borrow operations needed\n",
    "    print(\"Number of borrow operations:\", borrow_count)\n"
   ]
  }
 ],
 "metadata": {
  "kernelspec": {
   "display_name": "Python 3",
   "language": "python",
   "name": "python3"
  },
  "language_info": {
   "codemirror_mode": {
    "name": "ipython",
    "version": 3
   },
   "file_extension": ".py",
   "mimetype": "text/x-python",
   "name": "python",
   "nbconvert_exporter": "python",
   "pygments_lexer": "ipython3",
   "version": "3.11.4"
  },
  "orig_nbformat": 4
 },
 "nbformat": 4,
 "nbformat_minor": 2
}
