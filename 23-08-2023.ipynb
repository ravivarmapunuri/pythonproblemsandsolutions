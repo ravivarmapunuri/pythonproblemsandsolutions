{
 "cells": [
  {
   "cell_type": "code",
   "execution_count": 19,
   "metadata": {},
   "outputs": [
    {
     "name": "stdout",
     "output_type": "stream",
     "text": [
      "-2\n"
     ]
    }
   ],
   "source": [
    "#1st program\n",
    "n=input()\n",
    "h,s=0,0\n",
    "for i in range(0,len(n)):\n",
    "    if '#' in n[i]:\n",
    "        h+=1\n",
    "    if '*' in n[i]:\n",
    "        s+=1\n",
    "if s>h:\n",
    "    print(s-h)\n",
    "if h>s:\n",
    "    print(s-h)\n",
    "if h==s:\n",
    "    print('0')"
   ]
  },
  {
   "cell_type": "code",
   "execution_count": 43,
   "metadata": {},
   "outputs": [
    {
     "ename": "ValueError",
     "evalue": "invalid literal for int() with base 10: ''",
     "output_type": "error",
     "traceback": [
      "\u001b[1;31m---------------------------------------------------------------------------\u001b[0m",
      "\u001b[1;31mValueError\u001b[0m                                Traceback (most recent call last)",
      "Cell \u001b[1;32mIn[43], line 6\u001b[0m\n\u001b[0;32m      4\u001b[0m l\u001b[39m=\u001b[39m[]\n\u001b[0;32m      5\u001b[0m \u001b[39mfor\u001b[39;00m i \u001b[39min\u001b[39;00m \u001b[39mrange\u001b[39m(n):\n\u001b[1;32m----> 6\u001b[0m     l\u001b[39m.\u001b[39mappend(\u001b[39mint\u001b[39;49m(\u001b[39minput\u001b[39;49m()))\n\u001b[0;32m      7\u001b[0m m\u001b[39m=\u001b[39ml[\u001b[39m0\u001b[39m]\n\u001b[0;32m      8\u001b[0m \u001b[39mfor\u001b[39;00m i \u001b[39min\u001b[39;00m \u001b[39mrange\u001b[39m(\u001b[39m1\u001b[39m,n):\n",
      "\u001b[1;31mValueError\u001b[0m: invalid literal for int() with base 10: ''"
     ]
    }
   ],
   "source": [
    "#2nd program\n",
    "n=int(input())\n",
    "c=1\n",
    "l=[]\n",
    "for i in range(n):\n",
    "    l.append(int(input()))\n",
    "m=l[0]\n",
    "for i in range(1,n):\n",
    "    if l[i]>m:\n",
    "        c+=1\n",
    "        m=l[i]\n",
    "print(c)"
   ]
  },
  {
   "cell_type": "code",
   "execution_count": 42,
   "metadata": {},
   "outputs": [
    {
     "ename": "IndexError",
     "evalue": "list index out of range",
     "output_type": "error",
     "traceback": [
      "\u001b[1;31m---------------------------------------------------------------------------\u001b[0m",
      "\u001b[1;31mIndexError\u001b[0m                                Traceback (most recent call last)",
      "Cell \u001b[1;32mIn[42], line 10\u001b[0m\n\u001b[0;32m      8\u001b[0m max_val\u001b[39m=\u001b[39ml[i]\n\u001b[0;32m      9\u001b[0m \u001b[39mfor\u001b[39;00m j \u001b[39min\u001b[39;00m \u001b[39mrange\u001b[39m(\u001b[39m0\u001b[39m,max_val):\n\u001b[1;32m---> 10\u001b[0m     \u001b[39mif\u001b[39;00m max_val\u001b[39m>\u001b[39ml[j]:\n\u001b[0;32m     11\u001b[0m         \u001b[39mpass\u001b[39;00m\n\u001b[0;32m     12\u001b[0m     c\u001b[39m+\u001b[39m\u001b[39m=\u001b[39m\u001b[39m1\u001b[39m\n",
      "\u001b[1;31mIndexError\u001b[0m: list index out of range"
     ]
    }
   ],
   "source": [
    "#2nd prg\n",
    "n=int(input())\n",
    "l=[]\n",
    "c=0\n",
    "for i in range(n):\n",
    "    l.append(int(input()))\n",
    "for i in range(0,len(l)):\n",
    "    max_val=l[i]\n",
    "    for j in range(0,max_val):\n",
    "        if max_val>l[j]:\n",
    "            pass\n",
    "        c+=1\n",
    "print(c)"
   ]
  },
  {
   "cell_type": "code",
   "execution_count": 73,
   "metadata": {},
   "outputs": [
    {
     "name": "stdout",
     "output_type": "stream",
     "text": [
      "1\n",
      "1\n"
     ]
    }
   ],
   "source": [
    "#3rd program\n",
    "a=int(input())\n",
    "l,m=0,0\n",
    "c=0\n",
    "b=list(map(int,input().split()))\n",
    "l=min(b)\n",
    "m=max(b)\n",
    "for i in range(a):\n",
    "    if l==b[i] and l<=b[i]:\n",
    "        "
   ]
  },
  {
   "cell_type": "code",
   "execution_count": 80,
   "metadata": {},
   "outputs": [
    {
     "name": "stdout",
     "output_type": "stream",
     "text": [
      "AAB ASH FTE JKR\n"
     ]
    }
   ],
   "source": [
    "#4th program\n",
    "s=input().split()\n",
    "s.sort()\n",
    "print(\" \".join(s))"
   ]
  },
  {
   "cell_type": "code",
   "execution_count": 87,
   "metadata": {},
   "outputs": [
    {
     "name": "stdout",
     "output_type": "stream",
     "text": [
      "AAB ASH FTE JKR\n"
     ]
    }
   ],
   "source": [
    "print(*sorted(input().split()))"
   ]
  },
  {
   "cell_type": "code",
   "execution_count": 45,
   "metadata": {},
   "outputs": [
    {
     "ename": "TypeError",
     "evalue": "unsupported operand type(s) for +: 'int' and 'str'",
     "output_type": "error",
     "traceback": [
      "\u001b[1;31m---------------------------------------------------------------------------\u001b[0m",
      "\u001b[1;31mTypeError\u001b[0m                                 Traceback (most recent call last)",
      "Cell \u001b[1;32mIn[45], line 15\u001b[0m\n\u001b[0;32m     13\u001b[0m \u001b[39mfor\u001b[39;00m i \u001b[39min\u001b[39;00m \u001b[39mrange\u001b[39m(\u001b[39mlen\u001b[39m(v)\u001b[39m+\u001b[39m\u001b[39m1\u001b[39m):\n\u001b[0;32m     14\u001b[0m     \u001b[39mif\u001b[39;00m v[i] \u001b[39m==\u001b[39m\u001b[39m'\u001b[39m\u001b[39m+\u001b[39m\u001b[39m'\u001b[39m:\n\u001b[1;32m---> 15\u001b[0m         l\u001b[39m.\u001b[39mappend(l[i]\u001b[39m+\u001b[39;49mv[i]\u001b[39m+\u001b[39m\u001b[39m1\u001b[39m)\n\u001b[0;32m     16\u001b[0m \u001b[39mprint\u001b[39m(l)\n",
      "\u001b[1;31mTypeError\u001b[0m: unsupported operand type(s) for +: 'int' and 'str'"
     ]
    }
   ],
   "source": [
    "#5th program\n",
    "n=list(input())\n",
    "l=[]\n",
    "s=0\n",
    "c=0\n",
    "for i in range(0,len(n)):\n",
    "    if n[i]=='+':\n",
    "        s=int(n[i-1])+int(n[i+1])\n",
    "        l.append(s)\n",
    "        c=i+2\n",
    "        break\n",
    "v=n[c:]\n",
    "for i in range(len(v)+1):\n",
    "    if v[i] =='+':\n",
    "        l.append(l[i]+v[i]+1)\n",
    "print(l)\n"
   ]
  },
  {
   "cell_type": "code",
   "execution_count": 3,
   "metadata": {},
   "outputs": [
    {
     "name": "stdout",
     "output_type": "stream",
     "text": [
      "-3\n"
     ]
    }
   ],
   "source": [
    "n=list(input())\n",
    "rev=n[::-1]\n",
    "top=len(rev)-1\n",
    "a=0\n",
    "while top>1:\n",
    "    x=rev[top-2:top+1]\n",
    "    if x[1]=='+':\n",
    "        a=int(x[0])+int(x[2])\n",
    "    if x[1]=='-':\n",
    "        a=int(x[2])-int(x[0])\n",
    "    if x[1]=='*':\n",
    "        a=int(x[0])*int(x[2])\n",
    "    if x[1]=='/':\n",
    "        a=int(x[0])/int(x[2])\n",
    "    top-=2\n",
    "    rev[top]=a\n",
    "print(a)"
   ]
  }
 ],
 "metadata": {
  "kernelspec": {
   "display_name": "Python 3",
   "language": "python",
   "name": "python3"
  },
  "language_info": {
   "codemirror_mode": {
    "name": "ipython",
    "version": 3
   },
   "file_extension": ".py",
   "mimetype": "text/x-python",
   "name": "python",
   "nbconvert_exporter": "python",
   "pygments_lexer": "ipython3",
   "version": "3.11.4"
  },
  "orig_nbformat": 4
 },
 "nbformat": 4,
 "nbformat_minor": 2
}
