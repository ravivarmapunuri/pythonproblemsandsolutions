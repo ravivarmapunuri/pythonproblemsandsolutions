{
 "cells": [
  {
   "cell_type": "code",
   "execution_count": 4,
   "metadata": {},
   "outputs": [
    {
     "name": "stdout",
     "output_type": "stream",
     "text": [
      "H s playing crickt\n"
     ]
    }
   ],
   "source": [
    "#removing digits\n",
    "s=input()\n",
    "v=\"\"\n",
    "for i in s:\n",
    "    if i.isdigit():\n",
    "        pass\n",
    "    else:\n",
    "        v+=i\n",
    "print(v)"
   ]
  },
  {
   "cell_type": "code",
   "execution_count": 86,
   "metadata": {},
   "outputs": [
    {
     "name": "stdout",
     "output_type": "stream",
     "text": [
      "0\n"
     ]
    }
   ],
   "source": [
    "s=\"1a1b1c1\"\n",
    "s=s.replace('a','&').replace('b',\"|\").replace('c','^')\n",
    "v=int(s[0])\n",
    "for i in range(len(s)):\n",
    "    if s[i]==\"&\":\n",
    "        v&=int(s[i+1])\n",
    "    if s[i]==\"|\":\n",
    "        v|=int(s[i+1])\n",
    "    if s[i]=='^':\n",
    "        v^=int(s[i+1])\n",
    "print(v)"
   ]
  },
  {
   "cell_type": "code",
   "execution_count": 40,
   "metadata": {},
   "outputs": [
    {
     "name": "stdout",
     "output_type": "stream",
     "text": [
      "4\n"
     ]
    }
   ],
   "source": [
    "n=int(input())\n",
    "c=0\n",
    "for i in range(1,n):\n",
    "    for j in range(n,0,-1):\n",
    "        if i<=j:\n",
    "            if i+j==n:\n",
    "                c+=1\n",
    "print(c)"
   ]
  },
  {
   "cell_type": "code",
   "execution_count": 58,
   "metadata": {},
   "outputs": [
    {
     "name": "stdout",
     "output_type": "stream",
     "text": [
      "2\n"
     ]
    }
   ],
   "source": [
    "l=[18,19,18,19,12,18,19]\n",
    "l1=[]\n",
    "for i in range(len(l)):\n",
    "    for j in range(i+1,len(l)):\n",
    "        if l[i]==l[j]:\n",
    "            l1.append(l[i])\n",
    "print(len(set(l1)))"
   ]
  },
  {
   "cell_type": "code",
   "execution_count": 74,
   "metadata": {},
   "outputs": [
    {
     "name": "stdout",
     "output_type": "stream",
     "text": [
      "4\n"
     ]
    }
   ],
   "source": [
    "n=int(input())\n",
    "c=0\n",
    "v,v1,v2=\"2\",\"4\",\"8\"\n",
    "for i in range(n):\n",
    "    if len(str(i))>=3:\n",
    "        if v in str(i) and v1 in str(i) and v2 in str(i):\n",
    "            c+=1\n",
    "print(c)"
   ]
  },
  {
   "cell_type": "code",
   "execution_count": 83,
   "metadata": {},
   "outputs": [
    {
     "name": "stdout",
     "output_type": "stream",
     "text": [
      "2\n"
     ]
    }
   ],
   "source": [
    "n=int(input())\n",
    "c=0\n",
    "for i in range(n):\n",
    "    if len(str(i))>=3:\n",
    "        if ('2' in str(i)) and ('4' in str(i)) and ('8' in str(i)):\n",
    "            c+=1\n",
    "print(c)"
   ]
  },
  {
   "cell_type": "code",
   "execution_count": 78,
   "metadata": {},
   "outputs": [
    {
     "name": "stdout",
     "output_type": "stream",
     "text": [
      "2\n"
     ]
    }
   ],
   "source": [
    "def check(num):\n",
    "    num=str(num)\n",
    "    twos=num.count('2')\n",
    "    four=num.count('4')\n",
    "    eight=num.count('8')\n",
    "    return twos==four==eight and twos>0\n",
    "\n",
    "def count_numbers(N):\n",
    "    count=0\n",
    "    for i in range(1,N+1):\n",
    "        if(check(i)):\n",
    "            count+=1\n",
    "    return count%1000000007\n",
    "\n",
    "N=int(input())\n",
    "\n",
    "print(count_numbers(N))"
   ]
  },
  {
   "cell_type": "code",
   "execution_count": 3,
   "metadata": {},
   "outputs": [
    {
     "name": "stdout",
     "output_type": "stream",
     "text": [
      "34\n"
     ]
    }
   ],
   "source": [
    "s=\"great\"\n",
    "c=0\n",
    "for i in s:\n",
    "    if i not in \"aeiou\":\n",
    "        c+=10\n",
    "    else:\n",
    "        c+=2\n",
    "print(c)"
   ]
  },
  {
   "cell_type": "code",
   "execution_count": 10,
   "metadata": {},
   "outputs": [
    {
     "name": "stdout",
     "output_type": "stream",
     "text": [
      "7\n"
     ]
    }
   ],
   "source": [
    "a=[3,2,1,7,5,4]\n",
    "e,o=[],[]\n",
    "for i in range(len(a)):\n",
    "    if i%2==0:\n",
    "        e.append(a[i])\n",
    "    else:\n",
    "        o.append(a[i])\n",
    "e.sort()\n",
    "o.sort()\n",
    "print(e[-2]+o[-2])"
   ]
  },
  {
   "cell_type": "code",
   "execution_count": 14,
   "metadata": {},
   "outputs": [
    {
     "name": "stdout",
     "output_type": "stream",
     "text": [
      "2\n"
     ]
    }
   ],
   "source": [
    "a=9\n",
    "b=[5,2,4,3,9,7,1]\n",
    "c=0\n",
    "for i in range(len(b)):\n",
    "    for j in range(i+1,len(b)):\n",
    "        if b[i]+b[j]==a:\n",
    "            c+=1\n",
    "print(c)"
   ]
  },
  {
   "cell_type": "code",
   "execution_count": 70,
   "metadata": {},
   "outputs": [
    {
     "name": "stdout",
     "output_type": "stream",
     "text": [
      "4\n"
     ]
    }
   ],
   "source": [
    "n = 679234\n",
    "while n >= 10:\n",
    "    t = n\n",
    "    n = 0\n",
    "    while t > 0:\n",
    "        n += t % 10\n",
    "        t //= 10\n",
    "print(n)\n"
   ]
  },
  {
   "cell_type": "code",
   "execution_count": 72,
   "metadata": {},
   "outputs": [
    {
     "name": "stdout",
     "output_type": "stream",
     "text": [
      "0 1 1 2 3 5 8 13 21 34 \n",
      "88\n"
     ]
    }
   ],
   "source": [
    "n=10\n",
    "f,f1=0,1\n",
    "s=f+f1\n",
    "print(f,f1,end=\" \")\n",
    "for i in range(n-2):\n",
    "    f2=f+f1\n",
    "    s+=f2\n",
    "    print(f2,end=\" \")\n",
    "    f=f1\n",
    "    f1=f2\n",
    "print()\n",
    "print(s)"
   ]
  },
  {
   "cell_type": "code",
   "execution_count": 109,
   "metadata": {},
   "outputs": [
    {
     "name": "stdout",
     "output_type": "stream",
     "text": [
      "armstrong\n"
     ]
    }
   ],
   "source": [
    "n=int(input())\n",
    "l=[int(i) for i in str(n)]\n",
    "s=0\n",
    "for i in l:\n",
    "    s+=i**len(l)\n",
    "if n==s:\n",
    "    print(\"armstrong\")\n",
    "else:\n",
    "    print(\"not\")"
   ]
  },
  {
   "cell_type": "code",
   "execution_count": 93,
   "metadata": {},
   "outputs": [
    {
     "name": "stdout",
     "output_type": "stream",
     "text": [
      "2\n"
     ]
    }
   ],
   "source": [
    "n,m=map(int,input().split())\n",
    "c=0\n",
    "while m>0 and n>0 and m+n>=4:\n",
    "    if n<m:\n",
    "        n,m=n-1,m-3\n",
    "    elif n>m:\n",
    "        n,m=n-3,m-1\n",
    "    else:\n",
    "        n,m=n-2,m-2\n",
    "    c+=1\n",
    "print(c)\n"
   ]
  }
 ],
 "metadata": {
  "kernelspec": {
   "display_name": "Python 3",
   "language": "python",
   "name": "python3"
  },
  "language_info": {
   "codemirror_mode": {
    "name": "ipython",
    "version": 3
   },
   "file_extension": ".py",
   "mimetype": "text/x-python",
   "name": "python",
   "nbconvert_exporter": "python",
   "pygments_lexer": "ipython3",
   "version": "3.11.4"
  }
 },
 "nbformat": 4,
 "nbformat_minor": 2
}
