{
 "cells": [
  {
   "cell_type": "code",
   "execution_count": 2,
   "metadata": {},
   "outputs": [
    {
     "name": "stdout",
     "output_type": "stream",
     "text": [
      "SAME\n",
      "cHANGES\n",
      "tO\n",
      "rAVI\n"
     ]
    }
   ],
   "source": [
    "s='sameChangesToRavi'\n",
    "l=[]\n",
    "r=\"\"\n",
    "for i in s:\n",
    "    if i.isupper():\n",
    "        l.append(r)\n",
    "        r=\"\"\n",
    "        r+=i.lower()\n",
    "    else:\n",
    "        r+=i.upper()\n",
    "l.append(r)\n",
    "for i in l:\n",
    "    print(i)"
   ]
  },
  {
   "cell_type": "code",
   "execution_count": 3,
   "metadata": {},
   "outputs": [
    {
     "name": "stdout",
     "output_type": "stream",
     "text": [
      "SAVE\n",
      "cHANGES\n",
      "iN\n",
      "tHE\n",
      "eDITOR\n"
     ]
    }
   ],
   "source": [
    "s='saveChangesInTheEditor'\n",
    "r=\"\"\n",
    "l=[]\n",
    "for i in s:\n",
    "    if i.isupper():\n",
    "        l.append(r)\n",
    "        r=\"\"\n",
    "        r+=i.lower()\n",
    "    else:\n",
    "        r+=i.upper()\n",
    "l.append(r)\n",
    "for i in l:\n",
    "    print(i)"
   ]
  }
 ],
 "metadata": {
  "kernelspec": {
   "display_name": "Python 3",
   "language": "python",
   "name": "python3"
  },
  "language_info": {
   "codemirror_mode": {
    "name": "ipython",
    "version": 3
   },
   "file_extension": ".py",
   "mimetype": "text/x-python",
   "name": "python",
   "nbconvert_exporter": "python",
   "pygments_lexer": "ipython3",
   "version": "3.11.4"
  }
 },
 "nbformat": 4,
 "nbformat_minor": 2
}
