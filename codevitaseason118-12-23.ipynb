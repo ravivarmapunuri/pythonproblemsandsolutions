{
 "cells": [
  {
   "cell_type": "code",
   "execution_count": 7,
   "metadata": {},
   "outputs": [
    {
     "name": "stdout",
     "output_type": "stream",
     "text": [
      "3\n"
     ]
    }
   ],
   "source": [
    "def maximize_points(chocolates, initial_chocolates):\n",
    "    chocolates.sort()\n",
    "    points = 0\n",
    "\n",
    "    for bag in chocolates:\n",
    "\n",
    "        if bag <= initial_chocolates:\n",
    "            initial_chocolates -= bag\n",
    "            points += 1\n",
    "        else:\n",
    "            break\n",
    "\n",
    "    return points\n",
    "\n",
    "# Input reading\n",
    "n_values = input().split()\n",
    "chocolates = list(map(int, n_values))\n",
    "initial_chocolates = int(input())\n",
    "\n",
    "# Output\n",
    "result = maximize_points(chocolates, initial_chocolates)\n",
    "print(result)\n"
   ]
  },
  {
   "cell_type": "code",
   "execution_count": 25,
   "metadata": {},
   "outputs": [
    {
     "name": "stdout",
     "output_type": "stream",
     "text": [
      "2\n"
     ]
    }
   ],
   "source": [
    "c=list(map(int,input().split()))\n",
    "p=1\n",
    "ci=int(input())\n",
    "mn=min(c)\n",
    "mx=max(c)\n",
    "l=[]\n",
    "for i in range(len(c)):\n",
    "    if ci>=mn:\n",
    "        ci=ci-mn\n",
    "        p+=1\n",
    "        l.append(p)\n",
    "        c.remove(mn)\n",
    "        if c:\n",
    "            mn=min(c)\n",
    "    else:\n",
    "        ci=ci+mx\n",
    "        p-=1\n",
    "        l.append(p)\n",
    "        c.remove(mx)\n",
    "        if c:\n",
    "            mx=max(c)\n",
    "print(max(l))"
   ]
  },
  {
   "cell_type": "code",
   "execution_count": 8,
   "metadata": {},
   "outputs": [
    {
     "name": "stdout",
     "output_type": "stream",
     "text": [
      "Krishna 200\n"
     ]
    }
   ],
   "source": [
    "import math\n",
    "\n",
    "def calculate_circle_area(radius):\n",
    "    return math.ceil(math.pi * radius * radius)\n",
    "\n",
    "def calculate_distance(point1, point2):\n",
    "    return math.sqrt((point2[0] - point1[0]) + (point2[1] - point1[1]) )\n",
    "\n",
    "def calculate_money_transferred(actual_area, fenced_area):\n",
    "    if actual_area < fenced_area:\n",
    "        return \"Krishna\", (fenced_area - actual_area) * 20\n",
    "    elif actual_area > fenced_area:\n",
    "        closest_square_root = math.floor(math.sqrt(actual_area))\n",
    "        closest_square_area = closest_square_root \n",
    "        return \"Shiva\", min((actual_area - closest_square_area) * 20, closest_square_area * 20)\n",
    "    else:\n",
    "        return -1\n",
    "\n",
    "# Input reading\n",
    "point_A = list(map(int, input().split()))\n",
    "point_B = list(map(int, input().split()))\n",
    "point_C = list(map(int, input().split()))\n",
    "\n",
    "# Calculate the radius and area of the circle\n",
    "radius = calculate_distance(point_A, point_B)\n",
    "actual_area = calculate_circle_area(radius)\n",
    "\n",
    "# Calculate the distance between point A and C to determine the fenced area\n",
    "fenced_radius = calculate_distance(point_A, point_C)\n",
    "fenced_area = calculate_circle_area(fenced_radius)\n",
    "\n",
    "# Calculate money transferred based on the rules\n",
    "result = calculate_money_transferred(actual_area, fenced_area)\n",
    "# Output\n",
    "if result == -1:\n",
    "    print(-1)\n",
    "else:\n",
    "    person, amount = result\n",
    "    print(f\"{person} {amount}\")\n"
   ]
  },
  {
   "cell_type": "code",
   "execution_count": 1,
   "metadata": {},
   "outputs": [
    {
     "name": "stdout",
     "output_type": "stream",
     "text": [
      "2"
     ]
    }
   ],
   "source": [
    "def max_points(chocolates,initial):\n",
    "  chocolates=sorted(chocolates)\n",
    "  points=1\n",
    "  l=[1]\n",
    "  i=0\n",
    "  while i < len(chocolates):\n",
    "    if chocolates[i]<=initial:\n",
    "      initial=initial-chocolates[i]\n",
    "      points+=1\n",
    "      i+=1\n",
    "    else:\n",
    "      points-=1\n",
    "      initial+=chocolates[-1]\n",
    "      chocolates.pop()\n",
    "    l.append(points)\n",
    "  return max(l)\n",
    "# Example usage:\n",
    "chocolates_list = list(map(int, input().split()))  # Input list of chocolates\n",
    "initial_chocolates = int(input())  # Initial chocolates Bittu has\n",
    "result = max_points(chocolates_list, initial_chocolates)\n",
    "print(result,end=\"\")"
   ]
  }
 ],
 "metadata": {
  "kernelspec": {
   "display_name": "Python 3",
   "language": "python",
   "name": "python3"
  },
  "language_info": {
   "codemirror_mode": {
    "name": "ipython",
    "version": 3
   },
   "file_extension": ".py",
   "mimetype": "text/x-python",
   "name": "python",
   "nbconvert_exporter": "python",
   "pygments_lexer": "ipython3",
   "version": "3.11.4"
  }
 },
 "nbformat": 4,
 "nbformat_minor": 2
}
