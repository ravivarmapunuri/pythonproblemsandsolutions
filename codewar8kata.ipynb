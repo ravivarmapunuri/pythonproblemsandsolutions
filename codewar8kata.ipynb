{
 "cells": [
  {
   "cell_type": "code",
   "execution_count": 15,
   "metadata": {},
   "outputs": [
    {
     "name": "stdout",
     "output_type": "stream",
     "text": [
      "4 is a perfect square.\n"
     ]
    }
   ],
   "source": [
    "import math\n",
    "\n",
    "def is_perfect_square(num):\n",
    "    # Check if the square root is an integer\n",
    "    square_root = math.isqrt(num)\n",
    "    \n",
    "    # Check if the square of the square root equals the original number\n",
    "    return square_root**2 == num\n",
    "\n",
    "# Example usage:\n",
    "num_to_check = 4\n",
    "if is_perfect_square(num_to_check):\n",
    "    print(f\"{num_to_check} is a perfect square.\")\n",
    "else:\n",
    "    print(f\"{num_to_check} is not a perfect square.\")\n"
   ]
  },
  {
   "cell_type": "code",
   "execution_count": 19,
   "metadata": {},
   "outputs": [
    {
     "name": "stdout",
     "output_type": "stream",
     "text": [
      "2\n",
      "9\n",
      "3\n",
      "49\n",
      "4\n",
      "1\n"
     ]
    }
   ],
   "source": [
    "l=[4 ,3 ,9 ,7 ,2 ,1]\n",
    "l1=[]\n",
    "for i in l:\n",
    "    sr=math.isqrt(i)\n",
    "    if sr**2==i:\n",
    "        print(math.isqrt(i))\n",
    "    else:\n",
    "        print(i**2)\n"
   ]
  },
  {
   "cell_type": "code",
   "execution_count": 23,
   "metadata": {},
   "outputs": [
    {
     "name": "stdout",
     "output_type": "stream",
     "text": [
      "the needle at position 2\n"
     ]
    }
   ],
   "source": [
    "l=[3,0,\"needle\",\"biscuit\",7]\n",
    "print(f\"the needle at position {l.index('needle')}\")"
   ]
  },
  {
   "cell_type": "code",
   "execution_count": 14,
   "metadata": {},
   "outputs": [],
   "source": [
    "def best_friend(txt, a, b):\n",
    "    words = txt.split()\n",
    "\n",
    "    # Iterate through words and check if 'a' is always before 'b'\n",
    "    for word in words:\n",
    "        indices_a = [i for i, letter in enumerate(word) if letter == a]\n",
    "\n",
    "        # Check if 'b' immediately follows 'a' in each occurrence\n",
    "        for index_a in indices_a:\n",
    "            if index_a < len(word) - 1 and word[index_a + 1] == b:\n",
    "                continue\n",
    "            else:\n",
    "                return False\n",
    "\n",
    "    # If all occurrences of 'a' are immediately followed by 'b', return True\n",
    "    return True\n",
    "\"\"\"Time: 505ms Passed: 108Failed: 0\n",
    "Test Results:\n",
    "Fixed Tests\n",
    "Basic Test Cases\n",
    " (8 of 8 Assertions)\n",
    "Completed in 0.18ms\n",
    "Random Tests\n",
    "Testing for best_friend(axzi rziddzizw fg lfqozi, z, i)\n",
    "Testing for best_friend(rbkzx ohkgu uiwdpc f qoerxc, r, v)\n",
    "Testing for best_friend(alrrtt b sdt wibkif fezes, e, r)\n",
    "Testing for best_friend(adts lqfvts htsbtsvtsftssxts, t, s)\n",
    "Testing for best_friend(hawjmawjawaiaw kawnawllawbawdaw nfawkaw rawlawbkawojaw, a, w)\n",
    "Testing for best_friend(wmp dpmpampymp pmpnmp ompr vmpvmpcpmpmmp, m, p)\n",
    "Testing for best_friend(qglkct wyfqyr xitc, a, z)\n",
    "Testing for best_friend(wzznzz lzzazzczzpzz, z, z)\n",
    "Testing for best_friend(zxsmzxsyxsjs i tq bxs kxslbg xxs, x, s)\n",
    "Testing for best_friend(udkydk, d, k)\n",
    "Testing for best_friend(fgnv dgn ggnjgntu bgnsgnhiih, g, n)\n",
    "Testing for best_friend(xj o cx fqvu parm dda, p, z)\n",
    "Testing for best_friend(lncl, n, c)\n",
    "Testing for best_friend(fprxwprdprjpr, p, r)\n",
    "Testing for best_friend(poyvoyeoyvoy g aoyqoyo nxeoydoyeoya, o, y)\n",
    "Testing for best_friend(gjqbd zzmn le ffd, r, v)\n",
    "Testing for best_friend(pfcotfcnkx, f, c)\n",
    "Testing for best_friend(mdvd l v ttndd vr, b, f)\n",
    "Testing for best_friend(x, h, o)\n",
    "Testing for best_friend(xlccrvlc, l, c)\n",
    "Testing for best_friend(lda rhda sgdaidazgpda n gda, d, a)\n",
    "Testing for best_friend(qemvz gx, g, u)\n",
    "Testing for best_friend(cdf tr, v, m)\n",
    "Testing for best_friend(tfn ocfnj, f, n)\n",
    "Testing for best_friend(pgbvjf, j, f)\n",
    "Testing for best_friend(sjpq zae bweo, s, r)\n",
    "Testing for best_friend(qxsce nm i k, k, s)\n",
    "Testing for best_friend(hyb, g, d)\n",
    "Testing for best_friend(rrogh eyj xjni y f, x, o)\n",
    "Testing for best_friend(khgd tgdug agdvgdm wjgdugd egdae, g, d)\n",
    "Testing for best_friend(dq irnv, t, j)\n",
    "Testing for best_friend(oiwveu, e, p)\n",
    "Testing for best_friend(nq, t, u)\n",
    "Testing for best_friend(fr tuvuw na hurtz fbpejr wbgh, d, w)\n",
    "Testing for best_friend(bjyajyojygb, j, y)\n",
    "Testing for best_friend(aobkvnkvnl bdvnpvn, v, n)\n",
    "Testing for best_friend(qkjlkj kkjmawzkjhkj gkjlkjmc, k, j)\n",
    "Testing for best_friend(jfbkza xcowpt gf r a gyxc, q, k)\n",
    "Testing for best_friend(ilmnlmu, l, m)\n",
    "Testing for best_friend(sadje ythvel pkr jmvkr vnoeju crfwf, u, c)\n",
    "Testing for best_friend(axv eo, f, v)\n",
    "Testing for best_friend(yxhjj w yznsp thm rkindh kagfjw, d, c)\n",
    "Testing for best_friend(iwqa tz, w, a)\n",
    "Testing for best_friend(ouapbap, a, p)\n",
    "Testing for best_friend(xnbxnbvnbznbunb kznb venb ttunbsnbw yd enbenbpnb, n, b)\n",
    "Testing for best_friend(qaosytaoag lsaolaodaodao yaowb jaao saodaozao, a, o)\n",
    "Testing for best_friend(jxk xqo l iva bzc, a, j)\n",
    "Testing for best_friend(wy lxmxdd im, s, n)\n",
    "Testing for best_friend(huveo wyok iqkwt tnmvxf aryi tnljke, p, v)\n",
    "Testing for best_friend(prdj utqre f ziuj, c, l)\n",
    "Testing for best_friend(nunxfo yohxha rob, w, i)\n",
    "Testing for best_friend(zw q, w, w)\n",
    "Testing for best_friend(haal falx, a, l)\n",
    "Testing for best_friend(gzx qbucruccucpuc tpucj gv yzucpmuc, u, c)\n",
    "Testing for best_friend(vgcg tpsjzoa djzdn, j, z)\n",
    "Testing for best_friend(bnd mne, a, t)\n",
    "Testing for best_friend(v adf, s, a)\n",
    "Testing for best_friend(qbfv nnmqf xvj, m, g)\n",
    "Testing for best_friend(uwof mr ihf, y, l)\n",
    "Testing for best_friend(jtehbrxbrl vbr h ghbrjbrycb vbr jhbrfmbrg, b, r)\n",
    "Testing for best_friend(isyznyzmmyz ypyzoyzx ewyzjyzzyzuyz iyzoyzb susyzgyz zpyziyz, y, z)\n",
    "Testing for best_friend(zq gsoiksorsoxv rso, s, o)\n",
    "Testing for best_friend(u erd irdrrd brdvrd ugrdd, r, d)\n",
    "Testing for best_friend(uidtsdtudt kdthdtjdtq r q rdtpy, d, t)\n",
    "Testing for best_friend(fmdttm, x, k)\n",
    "Testing for best_friend(aaz, b, i)\n",
    "Testing for best_friend(thwwpg wynbdv fpy onwwp f nrhjfn, l, n)\n",
    "Testing for best_friend(psyb iecrybmyb bybtfyb hpybnybcybryb gybnbybkjyb iybqdyb, y, b)\n",
    "Testing for best_friend(hk on aum x h vyc, a, k)\n",
    "Testing for best_friend(e hbpnt rxx i ek, b, e)\n",
    "Testing for best_friend(bt, u, s)\n",
    "Testing for best_friend(n crsft ntr, q, r)\n",
    "Testing for best_friend(tgnrb ztz w sn fgk, t, l)\n",
    "Testing for best_friend(gslkihf gki, k, i)\n",
    "Testing for best_friend(nsxsf usffsfcrsf ysfxssf krsf, s, f)\n",
    "Testing for best_friend(s wiral o h m, r, p)\n",
    "Testing for best_friend(t tlc mfbje xrg p, y, z)\n",
    "Testing for best_friend(jeuseuaeuxeux koeuueui, e, u)\n",
    "Testing for best_friend(bdlis mxsazp emx, n, b)\n",
    "Testing for best_friend(snznhx, u, o)\n",
    "Testing for best_friend(iwzhwzy gnwwzniwzbwz rwzlwz, w, z)\n",
    "Testing for best_friend(jncsnc pnca, n, c)\n",
    "Testing for best_friend(thjiul lcnu kxj ej, w, t)\n",
    "Testing for best_friend(zny ycnyobnyiqny msqyckny sjnyvny shnyfny inyqnywnybnynqny, n, y)\n",
    "Testing for best_friend(jucphg gp d dmggu, j, a)\n",
    "Testing for best_friend(xub lubrubgubeubah mubjub, u, b)\n",
    "Testing for best_friend(rniwrnip hlkniw tni b swnipni, n, i)\n",
    "Testing for best_friend(mxzuw k ayxvu rdzksb, h, w)\n",
    "Testing for best_friend(rbas fg elnp, k, y)\n",
    "Testing for best_friend(gp vpdwpdbopd, p, d)\n",
    "Testing for best_friend(x xf fhs ruhg ak, k, f)\n",
    "Testing for best_friend(a mzf lza nbm, k, n)\n",
    "Testing for best_friend(rkjhjohjg fhjjhjphjblhj phjuhjdhjhhj phjlzhjnochj e, h, j)\n",
    "Testing for best_friend(imp ompzocr fpmpw ymmpompcbmpc hsmmp qmpuemp, m, p)\n",
    "Testing for best_friend(risdri vhg cqqibc xekrzt fatu, v, i)\n",
    "Testing for best_friend(usdzvj, x, y)\n",
    "Testing for best_friend(x n cp, u, i)\n",
    "Testing for best_friend(qaar kvus, u, n)\n",
    "Testing for best_friend(jxg ld, w, c)\n",
    "Testing for best_friend(eiz p ixjxly nnn, r, t)\n",
    "Completed in 9.34ms\n",
    "You have passed all of the tests! :)\"\"\""
   ]
  }
 ],
 "metadata": {
  "kernelspec": {
   "display_name": "Python 3",
   "language": "python",
   "name": "python3"
  },
  "language_info": {
   "codemirror_mode": {
    "name": "ipython",
    "version": 3
   },
   "file_extension": ".py",
   "mimetype": "text/x-python",
   "name": "python",
   "nbconvert_exporter": "python",
   "pygments_lexer": "ipython3",
   "version": "3.11.4"
  }
 },
 "nbformat": 4,
 "nbformat_minor": 2
}
