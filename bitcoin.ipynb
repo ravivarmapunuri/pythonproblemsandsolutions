{
 "cells": [
  {
   "cell_type": "code",
   "execution_count": 1,
   "metadata": {},
   "outputs": [
    {
     "name": "stdout",
     "output_type": "stream",
     "text": [
      "Bitcoin Price (USD): $46689\n"
     ]
    }
   ],
   "source": [
    "import requests\n",
    "import time\n",
    "\n",
    "def get_bitcoin_price():\n",
    "    url = \"https://api.coingecko.com/api/v3/simple/price\"\n",
    "    params = {\n",
    "        'ids': 'bitcoin',\n",
    "        'vs_currencies': 'usd'\n",
    "    }\n",
    "\n",
    "    response = requests.get(url, params=params)\n",
    "    data = response.json()\n",
    "\n",
    "    if 'bitcoin' in data and 'usd' in data['bitcoin']:\n",
    "        return data['bitcoin']['usd']\n",
    "    else:\n",
    "        return None\n",
    "\n",
    "def track_bitcoin_price(interval_seconds=60*60):\n",
    "    while True:\n",
    "        price = get_bitcoin_price()\n",
    "\n",
    "        if price is not None:\n",
    "            print(f\"Bitcoin Price (USD): ${price}\")\n",
    "\n",
    "        time.sleep(interval_seconds)\n",
    "\n",
    "if __name__ == \"__main__\":\n",
    "    track_bitcoin_price()\n"
   ]
  }
 ],
 "metadata": {
  "kernelspec": {
   "display_name": "Python 3",
   "language": "python",
   "name": "python3"
  },
  "language_info": {
   "codemirror_mode": {
    "name": "ipython",
    "version": 3
   },
   "file_extension": ".py",
   "mimetype": "text/x-python",
   "name": "python",
   "nbconvert_exporter": "python",
   "pygments_lexer": "ipython3",
   "version": "3.11.4"
  }
 },
 "nbformat": 4,
 "nbformat_minor": 2
}
