{
 "cells": [
  {
   "cell_type": "code",
   "execution_count": 47,
   "metadata": {},
   "outputs": [
    {
     "name": "stdout",
     "output_type": "stream",
     "text": [
      "[-39957, -17136, 1, 2, -26711]\n",
      "-57091\n"
     ]
    }
   ],
   "source": [
    "#1st prg\n",
    "l=list(map(int,input().split(\",\")))\n",
    "print(l)\n",
    "v=0\n",
    "for i in range(len(l)):\n",
    "    if i+1<len(l):\n",
    "        if l[i]+l[i+1]<1:\n",
    "            v+=l[i]\n",
    "print(v)\n"
   ]
  },
  {
   "cell_type": "code",
   "execution_count": 3,
   "metadata": {},
   "outputs": [
    {
     "name": "stdout",
     "output_type": "stream",
     "text": [
      "-57093\n"
     ]
    }
   ],
   "source": [
    "#n = int(input())\n",
    "l=list(map(int,input().split(\",\")))\n",
    "min = 0\n",
    "for i in range(1, len(l)):\n",
    "   if sum(l[:i]) < min:\n",
    "      min = sum(l[:i])\n",
    "print(min)"
   ]
  },
  {
   "cell_type": "code",
   "execution_count": 6,
   "metadata": {},
   "outputs": [
    {
     "name": "stdout",
     "output_type": "stream",
     "text": [
      "211\n",
      "-1\n"
     ]
    }
   ],
   "source": [
    "#2nd prg\n",
    "def g(n):\n",
    "    if len(n)==1:\n",
    "        return [n]\n",
    "    p=[]\n",
    "    for i in range(len(n)):\n",
    "        f=n[i]\n",
    "        r=n[:i]+n[i+1:]\n",
    "        for j in g(r):\n",
    "            p.append(f+j)\n",
    "    return p\n",
    "n=input()\n",
    "print(n)\n",
    "p_l=g(n)\n",
    "p_l.sort()\n",
    "z=[]\n",
    "for i in set(p_l):\n",
    "    if i>n:\n",
    "        z.append(i)\n",
    "z.sort()\n",
    "if z:\n",
    "    print(z[0])\n",
    "else:\n",
    "    print(-1)"
   ]
  },
  {
   "cell_type": "code",
   "execution_count": 5,
   "metadata": {},
   "outputs": [
    {
     "name": "stdout",
     "output_type": "stream",
     "text": [
      "-1\n"
     ]
    }
   ],
   "source": [
    "arr = []\n",
    "def permute(s,ans):\n",
    "    n = len(s)\n",
    "    if (n == 0):\n",
    "        arr.append(ans)\n",
    "        return\n",
    "    for i in range(n):\n",
    "        ch = s[i]\n",
    "        L = s[0:i]\n",
    "        R = s[i + 1:]\n",
    "        REM = L+ R\n",
    "        permute(REM,ans + ch)\n",
    "ans= \"\"\n",
    "s = input()\n",
    "n = len(s)\n",
    "permute(s,ans)\n",
    "arr = list(set(arr))\n",
    "arr.sort()\n",
    "ind = arr.index(s)\n",
    "if(ind == len(arr)-1):\n",
    "    print(-1)\n",
    "else:\n",
    "    print(arr[ind+1])"
   ]
  },
  {
   "cell_type": "code",
   "execution_count": 48,
   "metadata": {},
   "outputs": [
    {
     "name": "stdout",
     "output_type": "stream",
     "text": [
      "[1, 2, 3, 4, 5]\n",
      "5\n",
      "(3, 4)\n"
     ]
    }
   ],
   "source": [
    "#3rd prg\n",
    "l=list(map(int,input().split(\",\")))\n",
    "print(l)\n",
    "n=int(input())\n",
    "print(n)\n",
    "v=[]\n",
    "for i in range(len(l)):\n",
    "    if n==l[i]:\n",
    "        if n==l[-1]:\n",
    "            print((l[i-2],l[i-1]))\n",
    "        elif i-1 in range(len(l)):\n",
    "            print((l[i-1],l[i+1]))\n",
    "        else:\n",
    "            print(-1)"
   ]
  },
  {
   "cell_type": "code",
   "execution_count": 78,
   "metadata": {},
   "outputs": [
    {
     "name": "stdout",
     "output_type": "stream",
     "text": [
      "bbbab\n"
     ]
    }
   ],
   "source": [
    "#4th prg\n",
    "def g(s):\n",
    "    if len(s)==1:\n",
    "        return [s]\n",
    "    p=[]\n",
    "    for i in range(len(s)):\n",
    "        f=s[i]\n",
    "        r=s[:i]+s[i+1:]\n",
    "        for j in g(r):\n",
    "            p.append(f+j)\n",
    "    return p\n",
    "s=input()\n",
    "print(s)\n",
    "p=g(s)\n",
    "l=[]\n",
    "for i in p:\n",
    "    if i not in l:\n",
    "        l.append(i)\n",
    "for  i in range(len(l)):\n",
    "    v=l[i]\n",
    "    for j in range((i)):\n",
    "        if v==l[j]:\n",
    "            print(l[i])"
   ]
  },
  {
   "cell_type": "code",
   "execution_count": 60,
   "metadata": {},
   "outputs": [
    {
     "name": "stdout",
     "output_type": "stream",
     "text": [
      "[[0, 0, 0, 0, 0, 0], [0, 0, 0, 0, 0, 0], [0, 0, 0, 0, 0, 0], [0, 0, 0, 0, 0, 0], [0, 0, 0, 0, 0, 0], [0, 0, 0, 0, 0, 0]]\n",
      "4\n"
     ]
    }
   ],
   "source": [
    "s = input()\n",
    "n = len(s)\n",
    "rev = s[::-1]\n",
    "dp = [[0 for _ in range(n+1)] for _ in range(n+1)]\n",
    "\n",
    "for i in range(1, n+1):\n",
    "    for j in range(1, n+1):\n",
    "        if s[i-1] == rev[j-1]:\n",
    "            dp[i][j] = 1 + dp[i-1][j-1]\n",
    "        else:\n",
    "            dp[i][j] = max(dp[i-1][j], dp[i][j-1])\n",
    "\n",
    "print(dp[n][n])"
   ]
  },
  {
   "cell_type": "code",
   "execution_count": 89,
   "metadata": {},
   "outputs": [
    {
     "name": "stdout",
     "output_type": "stream",
     "text": [
      "3   3\n",
      "4   1\n",
      "3   2\n",
      "2\n"
     ]
    }
   ],
   "source": [
    "#5th prg\n",
    "s, rem = input(), 0\n",
    "for i in s:\n",
    "    rem = (rem * 10 + int(i)) % 11\n",
    "print(rem)"
   ]
  },
  {
   "cell_type": "code",
   "execution_count": 114,
   "metadata": {},
   "outputs": [
    {
     "name": "stdout",
     "output_type": "stream",
     "text": [
      "[5, 7, 9, 10]\n",
      "[10, 18, 21, 20]\n",
      "20\n"
     ]
    }
   ],
   "source": [
    "#6th prg\n",
    "n = int(input())\n",
    "a = list(map(int, input().split()))\n",
    "a.sort()\n",
    "a1 = []\n",
    "print(a)\n",
    "for i in range(len(a) - 1, -1, -1):\n",
    "    x = a[i] * (len(a) - i)\n",
    "    a1.append(x)\n",
    "print(a1)\n",
    "l=[]\n",
    "for i in range(len(a1)):\n",
    "    if a1[-1 - i] >= a1[i]:\n",
    "        print(a1[-1 - i])\n",
    "        break\n"
   ]
  },
  {
   "cell_type": "code",
   "execution_count": 131,
   "metadata": {},
   "outputs": [
    {
     "name": "stdout",
     "output_type": "stream",
     "text": [
      "43\n"
     ]
    }
   ],
   "source": [
    "#7th prg\n",
    "r=int(input())\n",
    "c=int(input())\n",
    "v=[]\n",
    "for i in range(r):\n",
    "    l=[]\n",
    "    for j in range(c):\n",
    "        l.append(int(input()))\n",
    "    v.append(l)\n",
    "s=sum(max(v))\n",
    "s1=0\n",
    "for i in v:\n",
    "    s1+=max(i)\n",
    "print(s1+s)"
   ]
  },
  {
   "cell_type": "code",
   "execution_count": 166,
   "metadata": {},
   "outputs": [
    {
     "name": "stdout",
     "output_type": "stream",
     "text": [
      "3.0\n"
     ]
    }
   ],
   "source": [
    "#8th prg\n",
    "#n! / (r! x (n-r)!)\n",
    "n=int(input())\n",
    "r=int(input())\n",
    "nl=[i for i in range(n,0,-1)]\n",
    "n1=1\n",
    "for i in nl:\n",
    "    n1*=i\n",
    "rl=[i for i in range(r,0,-1)]\n",
    "r1=1\n",
    "for i in rl:\n",
    "    r1*=i\n",
    "nr=n-r\n",
    "nrl=[i for i in range(nr,0,-1)]\n",
    "nr1=1\n",
    "for i in nrl:\n",
    "    nr1*=i\n",
    "m=int(input())\n",
    "print((n1/(r1*nr1))%m)"
   ]
  },
  {
   "cell_type": "code",
   "execution_count": 133,
   "metadata": {},
   "outputs": [
    {
     "name": "stdout",
     "output_type": "stream",
     "text": [
      "10\n"
     ]
    }
   ],
   "source": [
    "import math\n",
    "n=int(input())\n",
    "r=int(input())\n",
    "m=int(input())\n",
    "#nCr= (n!)/((n-r)!)*(r!)\n",
    "numerator=(math.factorial(n))\n",
    "denominator=(math.factorial(n-r))*math.factorial(r)\n",
    "ncr=numerator//denominator\n",
    "print(ncr%m)"
   ]
  },
  {
   "cell_type": "code",
   "execution_count": 207,
   "metadata": {},
   "outputs": [
    {
     "name": "stdout",
     "output_type": "stream",
     "text": [
      "------------ 012\n",
      "\n",
      "\n",
      "\n",
      "\n",
      "\n",
      "\n"
     ]
    }
   ],
   "source": [
    "#9th prg\n",
    "def g(l):\n",
    "    if len(l)==1:\n",
    "        return [l]\n",
    "    p1=[]\n",
    "    for i in range(len(l)):\n",
    "        f=l[i]\n",
    "        r=l[:i]+l[i+1:]\n",
    "        for j in g(r):\n",
    "            p1.append([f]+j)\n",
    "    return p1\n",
    "\n",
    "n=int(input())\n",
    "l=[str(i) for i in range(n)]\n",
    "s=\"\"\n",
    "for i in l:\n",
    "    s+=str(i)\n",
    "print(\"------------\",s)\n",
    "p=g(l)\n",
    "l1=[]\n",
    "c=0\n",
    "for i in p:\n",
    "    if i not in l1:\n",
    "        l1.append(i)\n",
    "for i in range(len(l1)):\n",
    "    for j in range(len(l1[i])):\n",
    "        if j==l1[i][j]:\n",
    "            print(l1[j])\n",
    "    print()"
   ]
  },
  {
   "cell_type": "code",
   "execution_count": 210,
   "metadata": {},
   "outputs": [
    {
     "name": "stdout",
     "output_type": "stream",
     "text": [
      "Count of Derangements is  1\n"
     ]
    }
   ],
   "source": [
    "# A Naive Recursive Python3\n",
    "# program to count derangements\n",
    "\n",
    "def countDer(n):\n",
    "\t\n",
    "\t# Base cases\n",
    "\tif (n == 1): return 0\n",
    "\tif (n == 2): return 1\n",
    "\t\n",
    "\t# countDer(n) = (n-1)[countDer(n-1) + der(n-2)]\n",
    "\treturn (n - 1) * (countDer(n - 1) +\n",
    "\t\t\t\t\tcountDer(n - 2))\n",
    "\n",
    "# Driver Code\n",
    "n = 2\n",
    "print(\"Count of Derangements is \", countDer(n))\n",
    "\n",
    "\n",
    "# This code is contributed by Azkia Anam.\n"
   ]
  },
  {
   "cell_type": "code",
   "execution_count": 123,
   "metadata": {},
   "outputs": [
    {
     "name": "stdout",
     "output_type": "stream",
     "text": [
      "[' erethllohe', 'hllohe eret']\n"
     ]
    }
   ],
   "source": [
    "#10th prg\n",
    "s=\"llohe ereth\"\n",
    "l=[]\n",
    "c=2\n",
    "v=len(s)//2\n",
    "v1=s[v:]+s[:v]\n",
    "for i in range(c):\n",
    "    l.append(v1)\n",
    "    x=l[i]\n",
    "    v1=x[v:]+x[:v]\n",
    "m=0\n",
    "print(l)\n"
   ]
  },
  {
   "cell_type": "code",
   "execution_count": 127,
   "metadata": {},
   "outputs": [
    {
     "name": "stdout",
     "output_type": "stream",
     "text": [
      "[False, True, False, False, False, False, False, False, False, False, False]\n",
      "1\n"
     ]
    }
   ],
   "source": [
    "l = ['llohe ereth', 'hllohe eret']\n",
    "c=0\n",
    "\n",
    "# Assuming the strings in the list have the same length\n",
    "if len(l[0]) == len(l[1]):\n",
    "    matching_characters = [char1 == char2 for char1, char2 in zip(l[0], l[1])]\n",
    "    print(matching_characters)\n",
    "    for index, is_matching in enumerate(matching_characters, start=1):\n",
    "        if is_matching:\n",
    "            c+=1\n",
    "else:\n",
    "    print(\"Strings in the list do not have the same length.\")\n",
    "print(c)"
   ]
  },
  {
   "cell_type": "code",
   "execution_count": 130,
   "metadata": {},
   "outputs": [
    {
     "name": "stdout",
     "output_type": "stream",
     "text": [
      "[<zip object at 0x0000018DD1502A80>]\n"
     ]
    }
   ],
   "source": [
    "l=['s','r']\n"
   ]
  },
  {
   "cell_type": "code",
   "execution_count": 223,
   "metadata": {},
   "outputs": [
    {
     "name": "stdout",
     "output_type": "stream",
     "text": [
      "40320\n"
     ]
    }
   ],
   "source": [
    "#11th prg\n",
    "import math\n",
    "print(math.factorial(8))"
   ]
  }
 ],
 "metadata": {
  "kernelspec": {
   "display_name": "Python 3",
   "language": "python",
   "name": "python3"
  },
  "language_info": {
   "codemirror_mode": {
    "name": "ipython",
    "version": 3
   },
   "file_extension": ".py",
   "mimetype": "text/x-python",
   "name": "python",
   "nbconvert_exporter": "python",
   "pygments_lexer": "ipython3",
   "version": "3.11.4"
  },
  "orig_nbformat": 4
 },
 "nbformat": 4,
 "nbformat_minor": 2
}
