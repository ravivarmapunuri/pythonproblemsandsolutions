{
 "cells": [
  {
   "cell_type": "code",
   "execution_count": 2,
   "metadata": {},
   "outputs": [
    {
     "name": "stdout",
     "output_type": "stream",
     "text": [
      "37\n"
     ]
    }
   ],
   "source": [
    "#1st program\n",
    "n=int(input())\n",
    "s=0\n",
    "for i in range(n):\n",
    "    m,v=map(int,input().split())\n",
    "    s=s+(m*v) \n",
    "print(s)"
   ]
  },
  {
   "cell_type": "code",
   "execution_count": 53,
   "metadata": {},
   "outputs": [
    {
     "name": "stdout",
     "output_type": "stream",
     "text": [
      "Kkunjkhahorin\n",
      "akkuronnjihhK\n"
     ]
    }
   ],
   "source": [
    "#2nd program\n",
    "n=int(input())\n",
    "s=input()\n",
    "s1=s[0:n]\n",
    "print(s1)\n",
    "prime=[]\n",
    "com=[]\n",
    "fl=[]\n",
    "for i in s1:\n",
    "    for j in range(2,ord(i)):\n",
    "        if ord(i)%j==0:\n",
    "            com.append(i)\n",
    "            break\n",
    "for i in s1:\n",
    "    if i not in com:\n",
    "        prime.append(i)\n",
    "prime.sort()\n",
    "com.sort(reverse=True)\n",
    "fl=prime+com\n",
    "print(\"\".join(fl))\n"
   ]
  },
  {
   "cell_type": "code",
   "execution_count": 56,
   "metadata": {},
   "outputs": [
    {
     "name": "stdout",
     "output_type": "stream",
     "text": [
      "[1, 2, 3, 4, 5, 67, 8] [1, 2, 3, 4, 5]\n"
     ]
    }
   ],
   "source": [
    "#3rd program\n",
    "n=int(input())\n",
    "l=list(map(int,input().split()))\n",
    "fl=l[:n]\n",
    "m=int(input())\n"
   ]
  },
  {
   "cell_type": "code",
   "execution_count": 59,
   "metadata": {},
   "outputs": [
    {
     "ename": "IndexError",
     "evalue": "list index out of range",
     "output_type": "error",
     "traceback": [
      "\u001b[1;31m---------------------------------------------------------------------------\u001b[0m",
      "\u001b[1;31mIndexError\u001b[0m                                Traceback (most recent call last)",
      "Cell \u001b[1;32mIn[59], line 8\u001b[0m\n\u001b[0;32m      6\u001b[0m dp[\u001b[39m0\u001b[39m] \u001b[39m=\u001b[39m a[\u001b[39m0\u001b[39m]\n\u001b[0;32m      7\u001b[0m \u001b[39mfor\u001b[39;00m i \u001b[39min\u001b[39;00m \u001b[39mrange\u001b[39m(\u001b[39m1\u001b[39m, m):\n\u001b[1;32m----> 8\u001b[0m     dp[i] \u001b[39m=\u001b[39m (dp[i\u001b[39m-\u001b[39m\u001b[39m1\u001b[39m] \u001b[39m+\u001b[39m a[i]) \u001b[39m%\u001b[39m m\n\u001b[0;32m      9\u001b[0m     \u001b[39mif\u001b[39;00m i \u001b[39m>\u001b[39m\u001b[39m=\u001b[39m \u001b[39m2\u001b[39m:\n\u001b[0;32m     10\u001b[0m         dp[i] \u001b[39m=\u001b[39m (dp[i] \u001b[39m+\u001b[39m dp[i\u001b[39m-\u001b[39m\u001b[39m2\u001b[39m]) \u001b[39m%\u001b[39m m\n",
      "\u001b[1;31mIndexError\u001b[0m: list index out of range"
     ]
    }
   ],
   "source": [
    "r = int(input())\n",
    "a = list(map(int, input().split()))\n",
    "m = int(input())"
   ]
  },
  {
   "cell_type": "code",
   "execution_count": 86,
   "metadata": {},
   "outputs": [
    {
     "name": "stdout",
     "output_type": "stream",
     "text": [
      "104\n",
      "100\n",
      "106\n",
      "109\n",
      "105\n",
      "96\n"
     ]
    }
   ],
   "source": [
    "#4th program\n",
    "s=input().lower()\n",
    "for i in range(0,len(s)):\n",
    "    print(ord(s[i])-i)"
   ]
  },
  {
   "cell_type": "code",
   "execution_count": 2,
   "metadata": {},
   "outputs": [
    {
     "name": "stdout",
     "output_type": "stream",
     "text": [
      "6\n"
     ]
    }
   ],
   "source": [
    "def calculate_net_worth(rooms, m):\n",
    "    n = len(rooms)\n",
    "    \n",
    "    if n <= 3:\n",
    "        return sum(rooms) % m\n",
    "    \n",
    "    net_worth = [0] * n\n",
    "    net_worth[0] = rooms[0]\n",
    "    net_worth[1] = rooms[1] + rooms[0]\n",
    "    net_worth[2] = rooms[2] + rooms[1] + rooms[0]\n",
    "    \n",
    "    for i in range(3, n):\n",
    "        net_worth[i] = (net_worth[i-1] + net_worth[i-2] + net_worth[i-3] + rooms[i]) % m\n",
    "    \n",
    "    return net_worth[-1]\n",
    "\n",
    "# Read input\n",
    "num_rooms = int(input())\n",
    "money_in_rooms = list(map(int, input().split()))\n",
    "mod_value = int(input())\n",
    "\n",
    "# Calculate and print net worth\n",
    "result = calculate_net_worth(money_in_rooms, mod_value)\n",
    "print(result)\n"
   ]
  },
  {
   "cell_type": "code",
   "execution_count": 49,
   "metadata": {},
   "outputs": [
    {
     "name": "stdout",
     "output_type": "stream",
     "text": [
      "28\n"
     ]
    }
   ],
   "source": [
    "def calculate_net_worth(rooms, m):\n",
    "    n = len(rooms)\n",
    "    net_worth = [0] * n\n",
    "    for i in range(n):\n",
    "        if i < 3:\n",
    "            net_worth[i] = sum(rooms[:i+1]) % m\n",
    "             \n",
    "        else:\n",
    "            net_worth[i] = (net_worth[i-1] + net_worth[i-2] + net_worth[i-3] + rooms[i]) % m\n",
    "    \n",
    "    return net_worth[-1]\n",
    "\n",
    "# Read input\n",
    "num_rooms = int(input())\n",
    "money_in_rooms = list(map(int, input().split()))\n",
    "mod_value = int(input())\n",
    "\n",
    "# Calculate and print net worth\n",
    "result = calculate_net_worth(money_in_rooms, mod_value)\n",
    "print(result)\n"
   ]
  },
  {
   "cell_type": "code",
   "execution_count": 50,
   "metadata": {},
   "outputs": [
    {
     "name": "stdout",
     "output_type": "stream",
     "text": [
      "[4, 2, 0, 3, 2, 5]\n",
      "9\n"
     ]
    }
   ],
   "source": [
    "def trap(height):\n",
    "    if not height:\n",
    "        return 0\n",
    "    \n",
    "    n = len(height)\n",
    "    left = 0\n",
    "    right = n - 1\n",
    "    left_max = 0\n",
    "    right_max = 0\n",
    "    trapped_water = 0\n",
    "    \n",
    "    while left < right:\n",
    "        if height[left] < height[right]:\n",
    "            if height[left] > left_max:\n",
    "                left_max = height[left]\n",
    "            else:\n",
    "                trapped_water += left_max - height[left]\n",
    "            left += 1\n",
    "        else:\n",
    "            if height[right] > right_max:\n",
    "                right_max = height[right]\n",
    "            else:\n",
    "                trapped_water += right_max - height[right]\n",
    "            right -= 1\n",
    "    \n",
    "    return trapped_water\n",
    "\n",
    "input_list = list(map(int,input().split()))\n",
    "print(input_list)\n",
    "output = trap(input_list)\n",
    "print(output)  # Output should be 6\n"
   ]
  }
 ],
 "metadata": {
  "kernelspec": {
   "display_name": "Python 3",
   "language": "python",
   "name": "python3"
  },
  "language_info": {
   "codemirror_mode": {
    "name": "ipython",
    "version": 3
   },
   "file_extension": ".py",
   "mimetype": "text/x-python",
   "name": "python",
   "nbconvert_exporter": "python",
   "pygments_lexer": "ipython3",
   "version": "3.11.4"
  },
  "orig_nbformat": 4
 },
 "nbformat": 4,
 "nbformat_minor": 2
}
