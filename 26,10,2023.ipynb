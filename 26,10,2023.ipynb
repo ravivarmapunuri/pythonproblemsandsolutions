{
 "cells": [
  {
   "cell_type": "code",
   "execution_count": 4,
   "metadata": {},
   "outputs": [
    {
     "name": "stdout",
     "output_type": "stream",
     "text": [
      "he is playing football and summing enjoying summer vacation\n"
     ]
    }
   ],
   "source": [
    "s=\"he is playing football and he is summing and enjoying summer vacation\".split()\n",
    "l=[]\n",
    "for i in s:\n",
    "    if i not in l:\n",
    "        l.append(i)\n",
    "print(*l)"
   ]
  },
  {
   "cell_type": "code",
   "execution_count": 10,
   "metadata": {},
   "outputs": [
    {
     "name": "stdout",
     "output_type": "stream",
     "text": [
      "enjoying and he playing summing football is summer\n"
     ]
    }
   ],
   "source": [
    "s=input().split()\n",
    "result=[]\n",
    "res=[]\n",
    "for i in range(len(s)):\n",
    "    for j in range(i,len(s)):\n",
    "        if s[i]==s[j]:\n",
    "            res.append(s[j])\n",
    "        else:\n",
    "            result.append(s[i])\n",
    "print(*set(result))"
   ]
  },
  {
   "cell_type": "code",
   "execution_count": 12,
   "metadata": {},
   "outputs": [
    {
     "name": "stdout",
     "output_type": "stream",
     "text": [
      "palindrome but not symetric\n"
     ]
    }
   ],
   "source": [
    "s=\"ama\"\n",
    "if s==s[::-1]:\n",
    "    s1=s[:len(s)//2]\n",
    "    s2=s[len(s)//2:]\n",
    "    if s1==s2:\n",
    "        print(\"palindrome and symetric\")\n",
    "    else:\n",
    "        print(\"palindrome but not symetric\")\n",
    "else:\n",
    "    print(\"not a palindrome\")"
   ]
  },
  {
   "cell_type": "code",
   "execution_count": 3,
   "metadata": {},
   "outputs": [
    {
     "name": "stdout",
     "output_type": "stream",
     "text": [
      "[1, 2, 3, 4, 'red', 'orange', 'green', 'black']\n"
     ]
    }
   ],
   "source": [
    "a=[101,234,781,345]\n",
    "a=[2,9,16,12]"
   ]
  },
  {
   "cell_type": "code",
   "execution_count": 8,
   "metadata": {},
   "outputs": [
    {
     "name": "stdout",
     "output_type": "stream",
     "text": [
      "2 9 16 12 "
     ]
    }
   ],
   "source": [
    "a=[101,234,781,345]\n",
    "r=[]\n",
    "for i in a:\n",
    "    l=[int(j) for j in str(i)]\n",
    "    print(sum(l),end=' ')"
   ]
  },
  {
   "cell_type": "code",
   "execution_count": 40,
   "metadata": {},
   "outputs": [
    {
     "name": "stdout",
     "output_type": "stream",
     "text": [
      "[2, 9, 16, 12]\n"
     ]
    }
   ],
   "source": [
    "a=[101,234,781,345]\n",
    "r=[]\n",
    "for i in a:\n",
    "    v=0\n",
    "    for j in str(i):\n",
    "        v+=int(j)\n",
    "    r.append(v)\n",
    "print(r)"
   ]
  },
  {
   "cell_type": "code",
   "execution_count": 7,
   "metadata": {},
   "outputs": [
    {
     "name": "stdout",
     "output_type": "stream",
     "text": [
      "2 9 7 3 "
     ]
    }
   ],
   "source": [
    "a=[101,234,781,345]\n",
    "for i in a:\n",
    "    while i>10:\n",
    "        t=i\n",
    "        i=0\n",
    "        while t>0:\n",
    "            i+=t%10\n",
    "            t=t//10\n",
    "    print(i,end=\" \")\n"
   ]
  },
  {
   "cell_type": "code",
   "execution_count": 24,
   "metadata": {},
   "outputs": [
    {
     "name": "stdout",
     "output_type": "stream",
     "text": [
      "89\n"
     ]
    }
   ],
   "source": [
    "l=[chr(i) for i in range(ord('a'),ord('z'))]\n",
    "l1=[chr(i) for i in range(ord('A'),ord('Z'))]\n",
    "s='Hello World'\n",
    "v=0\n",
    "for i in s:\n",
    "    if i not in \"aeiou\" and i in l:\n",
    "        v+=(l.index(i)+1) \n",
    "    elif i not in \"aieou\" and i in l1:\n",
    "        v+=(l1.index(i)+1)\n",
    "print(v)"
   ]
  },
  {
   "cell_type": "code",
   "execution_count": 26,
   "metadata": {},
   "outputs": [
    {
     "name": "stdout",
     "output_type": "stream",
     "text": [
      "[1]\n",
      "[1, 2]\n",
      "[1, 2, 3]\n",
      "[2]\n",
      "[2, 3]\n",
      "[3]\n"
     ]
    }
   ],
   "source": [
    "l=[1,2,3]\n",
    "for i in range(len(l)):\n",
    "    for j in range(i+1,len(l)+1):\n",
    "        print(l[i:j])"
   ]
  },
  {
   "cell_type": "code",
   "execution_count": 28,
   "metadata": {},
   "outputs": [
    {
     "name": "stdout",
     "output_type": "stream",
     "text": [
      "[[1], [1, 2], [1, 2, 3], [2], [2, 3], [3]]\n"
     ]
    }
   ],
   "source": [
    "def createSublist(lst):\n",
    "    n = len(arr)\n",
    "    sub=[]\n",
    "    for i in range(n):\n",
    "        for j in  range(i+1,n+1):\n",
    "            sub.append(lst[i:j])\n",
    "\n",
    "    return sub\n",
    "\n",
    "arr=[1,2,3]\n",
    "res=createSublist(arr)\n",
    "print(res)"
   ]
  },
  {
   "cell_type": "code",
   "execution_count": 42,
   "metadata": {},
   "outputs": [
    {
     "name": "stdout",
     "output_type": "stream",
     "text": [
      "[[], [1], [1, 2], [1, 2, 3], [1, 3], [2], [2, 3], [3]]\n"
     ]
    }
   ],
   "source": [
    "def generate_subsets(input_list):\n",
    "    if not input_list:\n",
    "        return [[]]\n",
    "    subsets_without_first_element = generate_subsets(input_list[1:])\n",
    "    subsets_with_first_element = [[input_list[0]] + subset for subset in subsets_without_first_element]\n",
    "    return subsets_without_first_element + subsets_with_first_element\n",
    "\n",
    "input_list = [1, 2, 3]\n",
    "output = generate_subsets(input_list)\n",
    "output.sort()\n",
    "print(output)\n"
   ]
  },
  {
   "cell_type": "code",
   "execution_count": 1,
   "metadata": {},
   "outputs": [
    {
     "name": "stdout",
     "output_type": "stream",
     "text": [
      "[[], [1], [2], [3], [4], [1, 2], [1, 3], [1, 4], [2, 3], [2, 4], [3, 4], [1, 2, 3], [1, 2, 4], [1, 3, 4], [2, 3, 4], [1, 2, 3, 4]]\n"
     ]
    }
   ],
   "source": [
    "from itertools import combinations\n",
    "def createSublist(lst):\n",
    "    subs=[]\n",
    "    for i in range(0,len(lst)+1):\n",
    "        temo=[list(x) for x in combinations(lst,i)]\n",
    "        if len(temo)>0:\n",
    "            subs.extend(temo)\n",
    "    return subs\n",
    "l=[1,2,3,4]\n",
    "print(createSublist(l))"
   ]
  },
  {
   "cell_type": "code",
   "execution_count": 45,
   "metadata": {},
   "outputs": [
    {
     "ename": "SyntaxError",
     "evalue": "invalid syntax (3237502014.py, line 3)",
     "output_type": "error",
     "traceback": [
      "\u001b[1;36m  Cell \u001b[1;32mIn[45], line 3\u001b[1;36m\u001b[0m\n\u001b[1;33m    zero index = []\u001b[0m\n\u001b[1;37m         ^\u001b[0m\n\u001b[1;31mSyntaxError\u001b[0m\u001b[1;31m:\u001b[0m invalid syntax\n"
     ]
    }
   ],
   "source": [
    "a=[1,5,8,4,2,6,9]\n",
    "k=10\n",
    "zero index = []\n",
    "one index = [1,5,8,4,2,6,9]\n",
    "two index =[8,2],[6,4],[9,1]\n",
    "three index =[1,5,4],[6,3,1],[2,5,3]\n",
    "four index = [1,2,3,4]"
   ]
  },
  {
   "cell_type": "code",
   "execution_count": 61,
   "metadata": {},
   "outputs": [
    {
     "name": "stdout",
     "output_type": "stream",
     "text": [
      "[1, 9]\n",
      "[8, 2]\n",
      "[4, 6]\n",
      "[1, 5, 4]\n"
     ]
    }
   ],
   "source": [
    "from itertools import combinations\n",
    "def c(a):\n",
    "    subs=[]\n",
    "    for i in range(0,len(a)+1):\n",
    "        t=[list(x) for x in combinations(a,i)]\n",
    "        for i in t:\n",
    "            if sum(i)==10:\n",
    "                print(i)\n",
    "    \n",
    "a=[1,5,8,4,2,6,9]\n",
    "v=c(a)\n"
   ]
  },
  {
   "cell_type": "code",
   "execution_count": 41,
   "metadata": {},
   "outputs": [
    {
     "name": "stdout",
     "output_type": "stream",
     "text": [
      "5\n"
     ]
    }
   ],
   "source": [
    "s=['ccc','hahsas','hah','asaij']\n",
    "\n",
    "c=0\n",
    "for i in s:\n",
    "    if i==i[::-1]:\n",
    "        c+=1\n",
    "    else:\n",
    "        v=len(i)\n",
    "        if v%2==0:\n",
    "            f=i[:v//2]\n",
    "            s=i[v//2:]\n",
    "            if f==f[::-1]:\n",
    "                c+=1\n",
    "            if s==s[::-1]:\n",
    "                c+=1\n",
    "        else:\n",
    "            f=i[:v//2+1]\n",
    "            s=i[v//2+1:]\n",
    "            if f==f[::-1]:\n",
    "                c+=1\n",
    "            if s==s[::-1]:\n",
    "                c+=1\n",
    "print(c)"
   ]
  },
  {
   "cell_type": "code",
   "execution_count": null,
   "metadata": {},
   "outputs": [],
   "source": []
  }
 ],
 "metadata": {
  "kernelspec": {
   "display_name": "Python 3",
   "language": "python",
   "name": "python3"
  },
  "language_info": {
   "codemirror_mode": {
    "name": "ipython",
    "version": 3
   },
   "file_extension": ".py",
   "mimetype": "text/x-python",
   "name": "python",
   "nbconvert_exporter": "python",
   "pygments_lexer": "ipython3",
   "version": "3.11.4"
  }
 },
 "nbformat": 4,
 "nbformat_minor": 2
}
