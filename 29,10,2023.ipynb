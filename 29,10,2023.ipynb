{
 "cells": [
  {
   "cell_type": "code",
   "execution_count": 37,
   "metadata": {},
   "outputs": [
    {
     "name": "stdout",
     "output_type": "stream",
     "text": [
      "10\n",
      "4\n"
     ]
    }
   ],
   "source": [
    "#mad number\n",
    "n=int(input())\n",
    "c=0\n",
    "for i in range(1,n+1):\n",
    "    if len(str(i))==1:\n",
    "        if i%2==0:\n",
    "            c+=1\n",
    "    else:\n",
    "        print(i)\n",
    "        while i>=10:\n",
    "            temp=i\n",
    "            i=0\n",
    "            while temp>0:\n",
    "                i+=temp%10\n",
    "                temp=temp//10\n",
    "        if i%2==0:\n",
    "            c+=1\n",
    "print(c)"
   ]
  },
  {
   "cell_type": "code",
   "execution_count": 59,
   "metadata": {},
   "outputs": [
    {
     "name": "stdout",
     "output_type": "stream",
     "text": [
      "19\n"
     ]
    }
   ],
   "source": [
    "#2nd prg\n",
    "n=int(input())\n",
    "a=[1,2,3,4]\n",
    "for i in range(5,n+1):\n",
    "    a.append(sum(a[i-5:i]))\n",
    "print(a[-1])"
   ]
  },
  {
   "cell_type": "code",
   "execution_count": 76,
   "metadata": {},
   "outputs": [
    {
     "name": "stdout",
     "output_type": "stream",
     "text": [
      "No\n"
     ]
    }
   ],
   "source": [
    "def sum_squares_digits(n):\n",
    "    res=0\n",
    "    while n>0:\n",
    "        res+=(n%10)**2\n",
    "        n=n//10\n",
    "    return res\n",
    "\n",
    "n=int(input())\n",
    "while n>9:\n",
    "    n=sum_squares_digits(n)\n",
    "if n==1:\n",
    "    print(\"Yes\")\n",
    "else:\n",
    "    print(\"No\")"
   ]
  }
 ],
 "metadata": {
  "kernelspec": {
   "display_name": "Python 3",
   "language": "python",
   "name": "python3"
  },
  "language_info": {
   "codemirror_mode": {
    "name": "ipython",
    "version": 3
   },
   "file_extension": ".py",
   "mimetype": "text/x-python",
   "name": "python",
   "nbconvert_exporter": "python",
   "pygments_lexer": "ipython3",
   "version": "3.11.4"
  }
 },
 "nbformat": 4,
 "nbformat_minor": 2
}
