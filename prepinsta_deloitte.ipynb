{
 "cells": [
  {
   "cell_type": "code",
   "execution_count": 112,
   "metadata": {},
   "outputs": [
    {
     "name": "stdout",
     "output_type": "stream",
     "text": [
      "[3, 2, 1]\n",
      "3\n"
     ]
    }
   ],
   "source": [
    "#1st prg\n",
    "l=[4,3,7,2,6,1]\n",
    "l1=[]\n",
    "c=1\n",
    "for i in range(len(l)):\n",
    "    if i+1<len(l):\n",
    "        if l[i+1]<l[i]:\n",
    "            l1.append(l[i+1])\n",
    "print(l1)\n",
    "for i in range(len(l1)):\n",
    "        if i+1<len(l1):\n",
    "             if l1[i]>l1[i+1]:\n",
    "                  c+=1\n",
    "print(c)        "
   ]
  },
  {
   "cell_type": "code",
   "execution_count": 114,
   "metadata": {},
   "outputs": [
    {
     "name": "stdout",
     "output_type": "stream",
     "text": [
      "3\n"
     ]
    }
   ],
   "source": [
    "n = int(input())\n",
    "a = list(map(int, input().split()))\n",
    "m = a[0]\n",
    "ans = 0\n",
    "for i in range(1, n):\n",
    "    if a[i] < m:\n",
    "        m = a[i]\n",
    "        ans += 1\n",
    "print(ans)"
   ]
  },
  {
   "cell_type": "code",
   "execution_count": 123,
   "metadata": {},
   "outputs": [
    {
     "name": "stdout",
     "output_type": "stream",
     "text": [
      "0 0 0 1 1 "
     ]
    }
   ],
   "source": [
    "#2nd prg\n",
    "l=[1,2,3,4,5]\n",
    "c=2\n",
    "z=[bin(i)[2:] for i in l]\n",
    "for i in z:\n",
    "    if len(i)<=2:\n",
    "        print(0,end=\" \")\n",
    "    else:\n",
    "        print(i[:-c],end=\" \")"
   ]
  },
  {
   "cell_type": "code",
   "execution_count": 130,
   "metadata": {},
   "outputs": [
    {
     "name": "stdout",
     "output_type": "stream",
     "text": [
      "1 1 2 \n"
     ]
    }
   ],
   "source": [
    "N=int(input())\n",
    "a=list(map(int,input().split()))\n",
    "n=int(input())\n",
    "s=\"\"\n",
    "for i in a:\n",
    "    s+=str(i>>n)+\" \"\n",
    "print(s)"
   ]
  },
  {
   "cell_type": "code",
   "execution_count": 141,
   "metadata": {},
   "outputs": [
    {
     "name": "stdout",
     "output_type": "stream",
     "text": [
      "3\n"
     ]
    }
   ],
   "source": [
    "#3rd prg\n",
    "n,m=map(int,input().split())\n",
    "l=[i for i in range(n,0,-1)]\n",
    "z=[bin(i)[2:] for i in l]\n",
    "d=0\n",
    "for i in z:\n",
    "    if i.count('1')==m:\n",
    "        d+=1\n",
    "print(d)"
   ]
  },
  {
   "cell_type": "code",
   "execution_count": 142,
   "metadata": {},
   "outputs": [
    {
     "name": "stdout",
     "output_type": "stream",
     "text": [
      "37\n"
     ]
    }
   ],
   "source": [
    "#4th prg\n",
    "n = int(input())\n",
    "s = 0\n",
    "for i in range(n):\n",
    "    m, v = map(int, input().split())\n",
    "    s += m * v\n",
    "print(s)"
   ]
  },
  {
   "cell_type": "code",
   "execution_count": 143,
   "metadata": {},
   "outputs": [
    {
     "name": "stdout",
     "output_type": "stream",
     "text": [
      "ACD\n"
     ]
    }
   ],
   "source": [
    "#5th prg\n",
    "s1 = input()\n",
    "s2 = input()\n",
    "s3 = \"\"\n",
    "\n",
    "\n",
    "def fun(i, j, k, s):\n",
    "    global s1\n",
    "    global s2\n",
    "    global s3\n",
    "    if i == len(s1) or j == len(s2):\n",
    "        if len(s3) == len(s):\n",
    "            s3 = min(s, s3)\n",
    "        elif len(s3) < len(s):\n",
    "            s3 = s\n",
    "        return k\n",
    "    if s1[i] == s2[j]:\n",
    "        return fun(i + 1, j + 1, k + 1, s + s1[i])\n",
    "    return max(fun(i + 1, j, k, s), fun(i, j + 1, k, s))\n",
    "\n",
    "\n",
    "fun(0, 0, 0, \"\")\n",
    "print(s3)"
   ]
  },
  {
   "cell_type": "code",
   "execution_count": 1,
   "metadata": {},
   "outputs": [
    {
     "name": "stdout",
     "output_type": "stream",
     "text": [
      "['abc', 'bcd'] ['acd', 'bac']\n",
      "['bcd', 'acd']\n"
     ]
    }
   ],
   "source": [
    "a=\"abcd\"\n",
    "b=\"bacd\"\n",
    "l=[]\n",
    "for i in range(len(a)):\n",
    "    for j in range(i+1,len(a)+1):\n",
    "        if a[i:j] not in l and len(a[i:j])==len(a)-1:\n",
    "            l.append(a[i:j])\n",
    "l1=[]\n",
    "for i in range(len(b)):\n",
    "    for j in range(i+1,len(b)+1):\n",
    "        if b[i:j] not in l1 and len(b[i:j])==len(b)-1:\n",
    "            l1.append(b[i:j])\n",
    "l.sort()\n",
    "l1.sort()\n",
    "print(l,l1)\n",
    "v=[]\n",
    "for i in l1:\n",
    "    v.append(\"\".join(sorted(i)))\n",
    "for i in l:\n",
    "    if i in v:\n",
    "        l.pop(l.index(i))\n",
    "        l1.pop(v.index(i))\n",
    "print(l+l1)\n"
   ]
  }
 ],
 "metadata": {
  "kernelspec": {
   "display_name": "Python 3",
   "language": "python",
   "name": "python3"
  },
  "language_info": {
   "codemirror_mode": {
    "name": "ipython",
    "version": 3
   },
   "file_extension": ".py",
   "mimetype": "text/x-python",
   "name": "python",
   "nbconvert_exporter": "python",
   "pygments_lexer": "ipython3",
   "version": "3.11.4"
  },
  "orig_nbformat": 4
 },
 "nbformat": 4,
 "nbformat_minor": 2
}
