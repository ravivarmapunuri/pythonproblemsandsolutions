{
 "cells": [
  {
   "cell_type": "code",
   "execution_count": 1,
   "metadata": {},
   "outputs": [
    {
     "name": "stdout",
     "output_type": "stream",
     "text": [
      "3\n"
     ]
    }
   ],
   "source": [
    "def minCostToGenerateString(S, words, K, cost):\n",
    "    n = len(S)\n",
    "    dp = [float('inf')] * (n + 1)\n",
    "    dp[0] = 0\n",
    "\n",
    "    for i in range(1, n + 1):\n",
    "        for j in range(K):\n",
    "            word = words[j]\n",
    "            word_len = len(word)\n",
    "            if i >= word_len:\n",
    "                substring = S[i - word_len:i]\n",
    "                if substring == word:\n",
    "                    dp[i] = min(dp[i], dp[i - word_len] + cost[j])\n",
    "\n",
    "    return dp[n] if dp[n] != float('inf') else -1\n",
    "S = \"leetcode\"\n",
    "words = [\"leet\", \"code\"]\n",
    "K = 2\n",
    "cost = [1, 2]\n",
    "\n",
    "result = minCostToGenerateString(S, words, K, cost)\n",
    "print(result)  # This will print the minimum cost required to generate \"leetcode\"\n"
   ]
  },
  {
   "cell_type": "code",
   "execution_count": 14,
   "metadata": {},
   "outputs": [
    {
     "name": "stdout",
     "output_type": "stream",
     "text": [
      "19\n",
      "30\n"
     ]
    }
   ],
   "source": [
    "def maximumProfit(input1, input2, input3, input4):\n",
    "    total_profit = 0\n",
    "    unique_ids = set()\n",
    "\n",
    "    for i in range(input2):\n",
    "        unique_id = input1[i]\n",
    "\n",
    "        if unique_id not in unique_ids:\n",
    "            total_profit += input3[i]\n",
    "            unique_ids.add(unique_id)\n",
    "\n",
    "    return total_profit\n",
    "\n",
    "# Test example 1\n",
    "input1 = [4, 6, 3, 3, 4]\n",
    "input2 = 5\n",
    "input3 = [-1, 10, 10, 15, -5]\n",
    "input4 = 5\n",
    "output1 = maximumProfit(input1, input2, input3, input4)\n",
    "print(output1)  # Output: 25\n",
    "\n",
    "# Test example 2\n",
    "input1 = [1, 2, 1]\n",
    "input2 = 3\n",
    "input3 = [10, 20, 30]\n",
    "input4 = 3\n",
    "output2 = maximumProfit(input1, input2, input3, input4)\n",
    "print(output2)  # Output: 60\n"
   ]
  },
  {
   "cell_type": "code",
   "execution_count": 19,
   "metadata": {},
   "outputs": [
    {
     "name": "stdout",
     "output_type": "stream",
     "text": [
      "[0, 1]\n"
     ]
    }
   ],
   "source": [
    "#palindrome subarray\n",
    "num=int(input())\n",
    "string=input()[:num]\n",
    "l=[]\n",
    "l1=[]\n",
    "res=[]\n",
    "num_pair = int(input())\n",
    "for i in range(num_pair):\n",
    "    pair = input()\n",
    "    n1,n2=map(int,pair.split())\n",
    "    l.append((n1,n2))\n",
    "for i in l:\n",
    "    left= i[0]\n",
    "    right=i[len(i)-1]\n",
    "    palindrome = string[left-1:right]\n",
    "    if palindrome[::-1]==palindrome:\n",
    "        res.append(0)\n",
    "    else:\n",
    "        if len(palindrome)==3:\n",
    "            for i in range(0,len(palindrome)):\n",
    "                p=palindrome[i+1:]+palindrome[i]\n",
    "                if p==p[::-1]:\n",
    "                    res.append(0)\n",
    "                    break\n",
    "        else:\n",
    "            for j in palindrome:\n",
    "                t=palindrome.replace(j,input())\n",
    "                if t==t[::-1]:\n",
    "                    res.append(1)\n",
    "                    break\n",
    "                else:\n",
    "                    b=palindrome.replace(j,'')\n",
    "                    if b==b[::-1]:\n",
    "                        res.append(1)\n",
    "                        break\n",
    "print(res)"
   ]
  },
  {
   "cell_type": "code",
   "execution_count": 20,
   "metadata": {},
   "outputs": [
    {
     "name": "stdout",
     "output_type": "stream",
     "text": [
      "7\n"
     ]
    }
   ],
   "source": [
    "from itertools import combinations\n",
    "lst=['1010','0100','0001','1111','1011']\n",
    "values =[5,5,5,10,2]\n",
    "lst1=[]\n",
    "lst2=[]\n",
    "lst3=[]\n",
    "for i in range(1,len(lst)):\n",
    "    lst1.extend(list(combinations(lst,i )))\n",
    "for i in lst1:\n",
    "    if len(i)==1:\n",
    "        if i[0]=='1111':\n",
    "            lst2.append(list(i))\n",
    "    else:\n",
    "        sum=0\n",
    "        for j in i:\n",
    "            sum=sum+int(j,2)\n",
    "        if (sum==15):\n",
    "            lst2.append(list(i))\n",
    "if (len(lst2)==0):\n",
    "    print(\"-1\")\n",
    "else:\n",
    "    for i in lst2:\n",
    "        sum=0\n",
    "        for j in i:\n",
    "            index=lst.index(j)\n",
    "            sum=sum+values[index]\n",
    "        lst3.append(sum)\n",
    "    print(min(lst3))\n"
   ]
  }
 ],
 "metadata": {
  "kernelspec": {
   "display_name": "Python 3",
   "language": "python",
   "name": "python3"
  },
  "language_info": {
   "codemirror_mode": {
    "name": "ipython",
    "version": 3
   },
   "file_extension": ".py",
   "mimetype": "text/x-python",
   "name": "python",
   "nbconvert_exporter": "python",
   "pygments_lexer": "ipython3",
   "version": "3.11.4"
  },
  "orig_nbformat": 4
 },
 "nbformat": 4,
 "nbformat_minor": 2
}
