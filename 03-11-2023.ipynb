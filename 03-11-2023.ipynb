{
 "cells": [
  {
   "cell_type": "code",
   "execution_count": 6,
   "metadata": {},
   "outputs": [
    {
     "name": "stdout",
     "output_type": "stream",
     "text": [
      "19\n"
     ]
    }
   ],
   "source": [
    "n=3\n",
    "m=10\n",
    "o=0\n",
    "e=0\n",
    "for i in range(1,m+1):\n",
    "    if i%n==0:\n",
    "        e+=i\n",
    "    else:\n",
    "        o+=i\n",
    "print(o-e)"
   ]
  },
  {
   "cell_type": "code",
   "execution_count": 8,
   "metadata": {},
   "outputs": [
    {
     "name": "stdout",
     "output_type": "stream",
     "text": [
      "7\n"
     ]
    }
   ],
   "source": [
    "l=[3,2,1,7,5,4]\n",
    "o=[]\n",
    "e=[]\n",
    "for i in range(len(l)):\n",
    "    if i%2==0:\n",
    "        e.append(l[i])\n",
    "    else:\n",
    "        o.append(l[i])\n",
    "e.sort()\n",
    "o.sort()\n",
    "print(e[-2]+o[-2])"
   ]
  },
  {
   "cell_type": "code",
   "execution_count": 9,
   "metadata": {},
   "outputs": [
    {
     "name": "stdout",
     "output_type": "stream",
     "text": [
      "Anagram\n"
     ]
    }
   ],
   "source": [
    "s=\"listen\"\n",
    "s1=\"silent\"\n",
    "if sorted(s1)==sorted(s):\n",
    "    print('Anagram')\n",
    "else:\n",
    "    print(\"Not a anagram\")"
   ]
  },
  {
   "cell_type": "code",
   "execution_count": 1,
   "metadata": {},
   "outputs": [
    {
     "name": "stdout",
     "output_type": "stream",
     "text": [
      "abcdef000"
     ]
    }
   ],
   "source": [
    "n=120340506\n",
    "s=\"\"\n",
    "e=\"\"\n",
    "for i in str(n):\n",
    "    if i=='0':\n",
    "        e+=i\n",
    "    else:\n",
    "        s+=i\n",
    "s=s+e\n",
    "for i in s:\n",
    "    v=int(i)+9\n",
    "    if v>9:\n",
    "        print(hex(v)[2:],end=\"\")\n",
    "    else:\n",
    "        print(0,end=\"\")\n"
   ]
  }
 ],
 "metadata": {
  "kernelspec": {
   "display_name": "Python 3",
   "language": "python",
   "name": "python3"
  },
  "language_info": {
   "codemirror_mode": {
    "name": "ipython",
    "version": 3
   },
   "file_extension": ".py",
   "mimetype": "text/x-python",
   "name": "python",
   "nbconvert_exporter": "python",
   "pygments_lexer": "ipython3",
   "version": "3.11.4"
  }
 },
 "nbformat": 4,
 "nbformat_minor": 2
}
