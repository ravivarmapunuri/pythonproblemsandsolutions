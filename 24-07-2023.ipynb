{
 "cells": [
  {
   "cell_type": "code",
   "execution_count": 15,
   "metadata": {},
   "outputs": [
    {
     "ename": "IndexError",
     "evalue": "string index out of range",
     "output_type": "error",
     "traceback": [
      "\u001b[1;31m---------------------------------------------------------------------------\u001b[0m",
      "\u001b[1;31mIndexError\u001b[0m                                Traceback (most recent call last)",
      "Cell \u001b[1;32mIn[15], line 4\u001b[0m\n\u001b[0;32m      2\u001b[0m l\u001b[39m=\u001b[39mn\u001b[39m.\u001b[39msplit(\u001b[39m\"\u001b[39m\u001b[39m.\u001b[39m\u001b[39m\"\u001b[39m)\n\u001b[0;32m      3\u001b[0m \u001b[39mfor\u001b[39;00m i \u001b[39min\u001b[39;00m l:\n\u001b[1;32m----> 4\u001b[0m     \u001b[39mif\u001b[39;00m i[\u001b[39m-\u001b[39;49m\u001b[39m1\u001b[39;49m]\u001b[39m==\u001b[39m\u001b[39m'\u001b[39m\u001b[39m?\u001b[39m\u001b[39m'\u001b[39m \u001b[39mor\u001b[39;00m i \u001b[39m==\u001b[39m\u001b[39m'\u001b[39m\u001b[39m!\u001b[39m\u001b[39m'\u001b[39m \u001b[39mor\u001b[39;00m i \u001b[39m==\u001b[39m \u001b[39m'\u001b[39m\u001b[39m.\u001b[39m\u001b[39m'\u001b[39m:\n\u001b[0;32m      5\u001b[0m         \u001b[39mprint\u001b[39m(i)\n\u001b[0;32m      6\u001b[0m \u001b[39m'''\u001b[39;00m\n\u001b[0;32m      7\u001b[0m \u001b[39mc=0\u001b[39;00m\n\u001b[0;32m      8\u001b[0m \u001b[39mfor i in n:\u001b[39;00m\n\u001b[0;32m      9\u001b[0m \u001b[39m    if( i=='?' or i=='!' or i=='.'):\u001b[39;00m\n\u001b[0;32m     10\u001b[0m \u001b[39m        c+=1\u001b[39;00m\n\u001b[0;32m     11\u001b[0m \u001b[39mprint(c)'''\u001b[39;00m\n",
      "\u001b[1;31mIndexError\u001b[0m: string index out of range"
     ]
    }
   ],
   "source": [
    "n=input(\"Enter the paragraph\")\n",
    "l=n.split(\".\")\n",
    "for i in l:\n",
    "    if i=='?' or i =='!' or i == '.':\n",
    "        print(i)\n",
    "'''\n",
    "c=0\n",
    "for i in n:\n",
    "    if( i=='?' or i=='!' or i=='.'):\n",
    "        c+=1\n",
    "print(c)'''"
   ]
  },
  {
   "cell_type": "code",
   "execution_count": 97,
   "metadata": {},
   "outputs": [
    {
     "name": "stdout",
     "output_type": "stream",
     "text": [
      "2\n"
     ]
    }
   ],
   "source": [
    "#1st Prg\n",
    "s=input().split()\n",
    "c=0\n",
    "for i in s:\n",
    "    if(i[len(i)-1]==\"!\" or i[len(i)-1]==\"?\"):\n",
    "        c+=1\n",
    "    elif i[len(i)-1]==\".\" and i[len(i)-2]=\".\":\n",
    "        c+=1\n",
    "print(c)"
   ]
  },
  {
   "cell_type": "code",
   "execution_count": 73,
   "metadata": {},
   "outputs": [
    {
     "name": "stdout",
     "output_type": "stream",
     "text": [
      "[1, 2, 3, 4, 5, 6, 7, 8, 9, 10, 12, 14, 16, 18, 21, 23, 25, 27, 29, 31, 35, 37, 39]\n"
     ]
    }
   ],
   "source": [
    "#2nd Prg\n",
    "s=int(input())\n",
    "r=0\n",
    "l=[]\n",
    "for i in range(1,s+1):\n",
    "    if i<=10:\n",
    "        l.append(i)\n",
    "    if i>=11 and i<=s:\n",
    "        n=i//10\n",
    "        m=i%10\n",
    "        if  n==m:\n",
    "            pass\n",
    "        elif n//2==0:\n",
    "            if m==2 or m==4 or m==6 or m==8:\n",
    "                z=str(n)+str(m)\n",
    "                l.append(int(z))\n",
    "        elif n//2==1:\n",
    "            if m==1 or m==3 or m==5 or m==7 or m==9:\n",
    "                z=str(n)+str(m)\n",
    "                l.append(int(z))                \n",
    "print(l)\n"
   ]
  },
  {
   "cell_type": "code",
   "execution_count": 2,
   "metadata": {},
   "outputs": [
    {
     "name": "stdout",
     "output_type": "stream",
     "text": [
      "1 2 3 4 5 6 7 8 9 10 12 14 16 18 21 23 25 27 29 30 32 34 36 38 41 43 45 47 49 50 52 54 56 58 61 63 65 67 69 70 72 74 76 78 81 83 85 87 89 90 92 94 96 98 100 "
     ]
    }
   ],
   "source": [
    "n=int(input())\n",
    "o=[1,3,5,7,9]\n",
    "e=[2,4,6,8,0]\n",
    "for i in range(1,n+1):\n",
    "    if i<=10:\n",
    "        print(i,end=\" \")\n",
    "    else:\n",
    "        i=str(i)\n",
    "        for j in range(len(i)-1):\n",
    "            f=0\n",
    "            if int(i[j]) in o and int(i[j+1]) in e:\n",
    "                f=1\n",
    "            if int(i[j]) in e and int(i[j+1]) in o:\n",
    "                f=1\n",
    "            else:\n",
    "                break\n",
    "        if f==1:\n",
    "            print(int(i),end=\" \")\n",
    "        "
   ]
  }
 ],
 "metadata": {
  "kernelspec": {
   "display_name": "Python 3",
   "language": "python",
   "name": "python3"
  },
  "language_info": {
   "codemirror_mode": {
    "name": "ipython",
    "version": 3
   },
   "file_extension": ".py",
   "mimetype": "text/x-python",
   "name": "python",
   "nbconvert_exporter": "python",
   "pygments_lexer": "ipython3",
   "version": "3.11.4"
  },
  "orig_nbformat": 4
 },
 "nbformat": 4,
 "nbformat_minor": 2
}
