{
 "cells": [
  {
   "cell_type": "code",
   "execution_count": 1,
   "metadata": {},
   "outputs": [
    {
     "name": "stdout",
     "output_type": "stream",
     "text": [
      "[11, 1000, 1]\n"
     ]
    }
   ],
   "source": [
    "#11 1000 1\n",
    "n1=int(input())\n",
    "n2=list(map(int,input().split()))\n",
    "print(n2)"
   ]
  },
  {
   "cell_type": "code",
   "execution_count": 4,
   "metadata": {},
   "outputs": [
    {
     "name": "stdout",
     "output_type": "stream",
     "text": [
      "0011\n",
      "1000\n",
      "0001\n"
     ]
    }
   ],
   "source": [
    "print(str(11).zfill(4))\n",
    "print(str(1000).zfill(4))\n",
    "print(str(1).zfill(4))\n"
   ]
  },
  {
   "cell_type": "code",
   "execution_count": 20,
   "metadata": {},
   "outputs": [
    {
     "name": "stdout",
     "output_type": "stream",
     "text": [
      "12\n",
      "[[1, 2, 3], [4, 5, 6], [7, 8, 9], [10, 11, 12]]\n"
     ]
    }
   ],
   "source": [
    "#2nd prg\n",
    "n=int(input(\"Enter the size of the string\"))\n",
    "n1=int(input(\"Enter the sublist\"))\n",
    "l1=list(map(int,input().split()))\n",
    "k,j=n1,0\n",
    "z=[]\n",
    "print(len(l1))\n",
    "for i in range(len(l1)):\n",
    "    z.append(l1[j:k])\n",
    "    j+=n1\n",
    "    k+=n1\n",
    "v=[i for i in z if i]\n",
    "print(v)\n"
   ]
  },
  {
   "cell_type": "code",
   "execution_count": 18,
   "metadata": {},
   "outputs": [
    {
     "name": "stdout",
     "output_type": "stream",
     "text": [
      "12\n",
      "[[1, 2, 3], [4, 5, 6], [7, 8, 9], [10, 11, 12]]\n"
     ]
    }
   ],
   "source": [
    "#2nd prg\n",
    "n=int(input(\"Enter the size of the string\"))\n",
    "n1=int(input(\"Enter the sublist\"))\n",
    "l1=list(map(int,input().split()))\n",
    "z=[]\n",
    "i,j,k=0,0,n1\n",
    "print(len(l1))\n",
    "while i<len(l1):\n",
    "    z.append(l1[j:k])\n",
    "    j+=n1\n",
    "    k+=n1\n",
    "    i+=1\n",
    "v=[i for i in z if i]\n",
    "print(v)"
   ]
  },
  {
   "cell_type": "code",
   "execution_count": 59,
   "metadata": {},
   "outputs": [
    {
     "name": "stdout",
     "output_type": "stream",
     "text": [
      "[[1, 3], [2, 5]]\n"
     ]
    }
   ],
   "source": [
    "c=list(map(int,input().split()))\n",
    "n=2\n",
    "j=0\n",
    "z=[]\n",
    "for i in range(len(c)):\n",
    "    z.append(c[j:n])\n",
    "    j+=n\n",
    "    n+=n\n",
    "f=[i for i in z if i]\n",
    "print(f)\n"
   ]
  },
  {
   "cell_type": "code",
   "execution_count": 9,
   "metadata": {},
   "outputs": [
    {
     "name": "stdout",
     "output_type": "stream",
     "text": [
      "1\n"
     ]
    }
   ],
   "source": [
    "def find_beats_to_return(N, B):\n",
    "    beats = 1\n",
    "    students = list(range(1, N + 1))\n",
    "    \n",
    "    while students != B:\n",
    "        beats += 1\n",
    "        temp = [0] * N\n",
    "        for i in range(1, N + 1):\n",
    "            temp[B[i - 1] - 1] = students[i - 1]\n",
    "        students = temp\n",
    "    \n",
    "    return beats\n",
    "\n",
    "# Example usage:\n",
    "N = 3\n",
    "B = [1,2,3]\n",
    "result = find_beats_to_return(N, B)\n",
    "print(result)  # Output will be 6\n"
   ]
  },
  {
   "cell_type": "code",
   "execution_count": 17,
   "metadata": {},
   "outputs": [
    {
     "name": "stdout",
     "output_type": "stream",
     "text": [
      "[2, 3, 1, 5, 4]\n",
      "6\n"
     ]
    }
   ],
   "source": [
    "n=int(input())\n",
    "l=list(map(int,input().split()))[:n]\n",
    "print(l)\n",
    "l2=list(range(1,n+1))\n",
    "c=1\n",
    "for i in range(n):\n",
    "   if l[:n]!=l2[:n]:\n",
    "    c+=1\n",
    "    n=n-1\n",
    "print(c)"
   ]
  }
 ],
 "metadata": {
  "kernelspec": {
   "display_name": "Python 3",
   "language": "python",
   "name": "python3"
  },
  "language_info": {
   "codemirror_mode": {
    "name": "ipython",
    "version": 3
   },
   "file_extension": ".py",
   "mimetype": "text/x-python",
   "name": "python",
   "nbconvert_exporter": "python",
   "pygments_lexer": "ipython3",
   "version": "3.11.4"
  },
  "orig_nbformat": 4
 },
 "nbformat": 4,
 "nbformat_minor": 2
}
