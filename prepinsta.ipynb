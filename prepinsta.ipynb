{
 "cells": [
  {
   "cell_type": "code",
   "execution_count": 1,
   "metadata": {},
   "outputs": [
    {
     "name": "stdout",
     "output_type": "stream",
     "text": [
      "Positive\n"
     ]
    }
   ],
   "source": [
    "#print the given number is positive or negative number\n",
    "n=int(input())\n",
    "print(\"Positive\" if n>0 else \"Negative\")"
   ]
  },
  {
   "cell_type": "code",
   "execution_count": 13,
   "metadata": {},
   "outputs": [
    {
     "name": "stdout",
     "output_type": "stream",
     "text": [
      "Even number\n"
     ]
    }
   ],
   "source": [
    "#Even or odd \n",
    "print(\"Even number\" if int(input())%2==0 else \"Odd number\")"
   ]
  },
  {
   "cell_type": "code",
   "execution_count": 25,
   "metadata": {},
   "outputs": [
    {
     "name": "stdout",
     "output_type": "stream",
     "text": [
      "21\n"
     ]
    }
   ],
   "source": [
    "#print the sum of n natural number\n",
    "n=int(input())\n",
    "print(n*(n+1)//2)"
   ]
  },
  {
   "cell_type": "code",
   "execution_count": 3,
   "metadata": {},
   "outputs": [
    {
     "name": "stdout",
     "output_type": "stream",
     "text": [
      "15\n"
     ]
    }
   ],
   "source": [
    "#print the sum of numbers in a specific range\n",
    "a,b=input().split()\n",
    "s=0\n",
    "z=[s:=s+i for i in range(int(a),int(b)+1) ]\n",
    "print(s)    "
   ]
  },
  {
   "cell_type": "code",
   "execution_count": 56,
   "metadata": {},
   "outputs": [
    {
     "name": "stdout",
     "output_type": "stream",
     "text": [
      "1 5\n",
      "B is greater than A\n"
     ]
    }
   ],
   "source": [
    "#Greatest of two numbers\n",
    "a,b=input().split()\n",
    "print(a,b)\n",
    "print(\"A is greatere than B\" if(int(a)>int(b)) else \"B is greater than A\")"
   ]
  },
  {
   "cell_type": "code",
   "execution_count": 6,
   "metadata": {},
   "outputs": [
    {
     "name": "stdout",
     "output_type": "stream",
     "text": [
      "30\n"
     ]
    }
   ],
   "source": [
    "#Greatest of three numbers\n",
    "n,n1,n2=10,30,20\n",
    "m= n if n>n1 else n1\n",
    "m= n2 if n2>m else m\n",
    "print(m)"
   ]
  },
  {
   "cell_type": "code",
   "execution_count": 8,
   "metadata": {},
   "outputs": [
    {
     "name": "stdout",
     "output_type": "stream",
     "text": [
      "y\n"
     ]
    }
   ],
   "source": [
    "#leap year or not \n",
    "import calendar\n",
    "\n",
    "y=int(input())\n",
    "\n",
    "if calendar.isleap(y):\n",
    "    print(\"y\")\n",
    "else:\n",
    "    print(\"n\")"
   ]
  },
  {
   "cell_type": "code",
   "execution_count": 17,
   "metadata": {},
   "outputs": [
    {
     "name": "stdout",
     "output_type": "stream",
     "text": [
      "<function <lambda> at 0x00000229C42FEFC0>\n",
      "y\n"
     ]
    }
   ],
   "source": [
    "is_leap= lambda y:(y%4==0 or y%100!=0) and (y%400==0)\n",
    "y=2000\n",
    "print(is_leap)\n",
    "if is_leap(y):\n",
    "    print(\"y\")\n",
    "else:\n",
    "    print(\"n\")"
   ]
  },
  {
   "cell_type": "code",
   "execution_count": 31,
   "metadata": {},
   "outputs": [
    {
     "name": "stdout",
     "output_type": "stream",
     "text": [
      "not\n"
     ]
    }
   ],
   "source": [
    "#prime or not \n",
    "n=int(input())\n",
    "if n>1:\n",
    "    for i in range(2,n):\n",
    "        if n%i==0:\n",
    "            print(\"not\")\n",
    "            break\n",
    "    else:\n",
    "        print(\"Prime Number\")\n",
    "else:\n",
    "    print(\"Not\")"
   ]
  },
  {
   "cell_type": "code",
   "execution_count": 34,
   "metadata": {},
   "outputs": [
    {
     "name": "stdout",
     "output_type": "stream",
     "text": [
      "2 3 5 7 "
     ]
    }
   ],
   "source": [
    "#prime number between given range\n",
    "n=1\n",
    "m=10\n",
    "for i in range(n,m+1):\n",
    "    if i>1:\n",
    "        for j in range(2,i):\n",
    "            if i%j==0:\n",
    "                break\n",
    "        else:\n",
    "            print(i,end=\" \")"
   ]
  },
  {
   "cell_type": "code",
   "execution_count": 35,
   "metadata": {},
   "outputs": [
    {
     "name": "stdout",
     "output_type": "stream",
     "text": [
      "143\n"
     ]
    }
   ],
   "source": [
    "#reverse the number\n",
    "n=341\n",
    "m=0\n",
    "while n:\n",
    "    r=n%10\n",
    "    m=(m*10)+r\n",
    "    n=n//10\n",
    "print(m)"
   ]
  },
  {
   "cell_type": "code",
   "execution_count": 37,
   "metadata": {},
   "outputs": [
    {
     "name": "stdout",
     "output_type": "stream",
     "text": [
      "palindrome\n"
     ]
    }
   ],
   "source": [
    "#palindrome or not \n",
    "n=121\n",
    "t=n\n",
    "m=0\n",
    "while n:\n",
    "    r=n%10\n",
    "    m=(m*10)+r\n",
    "    n=n//10\n",
    "if t==m:\n",
    "    print(\"palindrome\")"
   ]
  },
  {
   "cell_type": "code",
   "execution_count": 49,
   "metadata": {},
   "outputs": [
    {
     "name": "stdout",
     "output_type": "stream",
     "text": [
      "True\n"
     ]
    }
   ],
   "source": [
    "#armstrong or not \n",
    "n=371\n",
    "t=n\n",
    "l=len(str(n))\n",
    "m=0\n",
    "while n:\n",
    "    r=n%10\n",
    "    m+=r**l\n",
    "    n=n//10\n",
    "print(t==m)"
   ]
  },
  {
   "cell_type": "code",
   "execution_count": 55,
   "metadata": {},
   "outputs": [
    {
     "name": "stdout",
     "output_type": "stream",
     "text": [
      "153 370 371 407 1634 8208 9474 "
     ]
    }
   ],
   "source": [
    "#armstrong between range\n",
    "n=150\n",
    "m=10000\n",
    "for i in range(n,m+1):\n",
    "    m=i\n",
    "    j=len(str(i))\n",
    "    x=0\n",
    "    while i:\n",
    "        r=i%10\n",
    "        x+=r**j\n",
    "        i=i//10\n",
    "    if m==x:\n",
    "        print(m,end=\" \")"
   ]
  },
  {
   "cell_type": "code",
   "execution_count": 62,
   "metadata": {},
   "outputs": [
    {
     "name": "stdout",
     "output_type": "stream",
     "text": [
      "153 370 371 407 1634 8208 9474 "
     ]
    }
   ],
   "source": [
    "n=150\n",
    "m=10000\n",
    "for i in range(n,m+1):\n",
    "    s=str(i)\n",
    "    ln=len(s)\n",
    "    v=0\n",
    "    l=[v:=v+int(j)**ln for j in s]\n",
    "    if i==v:\n",
    "        print(i,end=\" \")"
   ]
  },
  {
   "cell_type": "code",
   "execution_count": 68,
   "metadata": {},
   "outputs": [
    {
     "name": "stdout",
     "output_type": "stream",
     "text": [
      "0 1 1 2 "
     ]
    }
   ],
   "source": [
    "#fibonacci series\n",
    "n=4\n",
    "f,f1=0,1\n",
    "f2=0\n",
    "print(f,f1,end=\" \")\n",
    "for i in range(2,n):\n",
    "    f2=f+f1\n",
    "    print(f2,end=\" \")\n",
    "    f=f1\n",
    "    f1=f2"
   ]
  },
  {
   "cell_type": "code",
   "execution_count": 70,
   "metadata": {},
   "outputs": [
    {
     "name": "stdout",
     "output_type": "stream",
     "text": [
      "5\n"
     ]
    }
   ],
   "source": [
    "#find the nth term of a fibonacci series \n",
    "n=6\n",
    "f,f1=0,1\n",
    "f2=0\n",
    "for i in range(2,n):\n",
    "    f2=f+f1\n",
    "    f=f1\n",
    "    f1=f2\n",
    "print(f2)"
   ]
  },
  {
   "cell_type": "code",
   "execution_count": 71,
   "metadata": {},
   "outputs": [
    {
     "name": "stdout",
     "output_type": "stream",
     "text": [
      "120\n"
     ]
    }
   ],
   "source": [
    "#factorial of a given number\n",
    "n=5\n",
    "f=1\n",
    "for i in range(1,n+1):\n",
    "    f*=i\n",
    "print(f)"
   ]
  },
  {
   "cell_type": "code",
   "execution_count": 72,
   "metadata": {},
   "outputs": [
    {
     "name": "stdout",
     "output_type": "stream",
     "text": [
      "8\n"
     ]
    }
   ],
   "source": [
    "#power of the number\n",
    "n=2\n",
    "m=3\n",
    "print(n**m)"
   ]
  },
  {
   "cell_type": "code",
   "execution_count": 73,
   "metadata": {},
   "outputs": [
    {
     "name": "stdout",
     "output_type": "stream",
     "text": [
      "8\n"
     ]
    }
   ],
   "source": [
    "n=2\n",
    "m=3\n",
    "print(pow(n,m))"
   ]
  },
  {
   "cell_type": "code",
   "execution_count": 77,
   "metadata": {},
   "outputs": [
    {
     "name": "stdout",
     "output_type": "stream",
     "text": [
      "2 5 "
     ]
    }
   ],
   "source": [
    "#factor of a number\n",
    "n=10\n",
    "for i in range(2,n):\n",
    "    if n%i==0:\n",
    "        print(i,end=' ')"
   ]
  },
  {
   "cell_type": "code",
   "execution_count": 78,
   "metadata": {},
   "outputs": [
    {
     "name": "stdout",
     "output_type": "stream",
     "text": [
      "[2, 5]\n"
     ]
    }
   ],
   "source": [
    "n=10\n",
    "l=[i for i in range(2,n) if n%i==0]\n",
    "print(l)"
   ]
  },
  {
   "cell_type": "code",
   "execution_count": 3,
   "metadata": {},
   "outputs": [
    {
     "name": "stdout",
     "output_type": "stream",
     "text": [
      "2 3 5 7 "
     ]
    }
   ],
   "source": [
    "#finding the prime factors of a number\n",
    "n=210\n",
    "for i in range(2,n+1):\n",
    "    if n%i==0:\n",
    "        for j in range(2,i):\n",
    "            if i%j==0:\n",
    "                break\n",
    "        else:\n",
    "            print(i,end=\" \")"
   ]
  },
  {
   "cell_type": "code",
   "execution_count": 6,
   "metadata": {},
   "outputs": [
    {
     "name": "stdout",
     "output_type": "stream",
     "text": [
      "True\n"
     ]
    }
   ],
   "source": [
    "#strong number or not \n",
    "n=145\n",
    "t=n\n",
    "s=0\n",
    "while n:\n",
    "    m=1\n",
    "    r=n%10\n",
    "    for i in range(1,r+1):\n",
    "        m*=i\n",
    "    s+=m\n",
    "    n=n//10\n",
    "print(t==s)"
   ]
  },
  {
   "cell_type": "code",
   "execution_count": 12,
   "metadata": {},
   "outputs": [
    {
     "name": "stdout",
     "output_type": "stream",
     "text": [
      "True\n"
     ]
    }
   ],
   "source": [
    "#perfect number or not \n",
    "n=28\n",
    "s=0\n",
    "for i in range(1,n):\n",
    "    if n%i==0:\n",
    "        s+=i\n",
    "print(n==s)"
   ]
  },
  {
   "cell_type": "code",
   "execution_count": 27,
   "metadata": {},
   "outputs": [
    {
     "name": "stdout",
     "output_type": "stream",
     "text": [
      "[1, 4, 9, 16, 25, 36, 49, 64, 81, 100]\n",
      "not\n"
     ]
    }
   ],
   "source": [
    "#perfect square or not \n",
    "n=84\n",
    "l1=[i*i for i in range(1,11)]\n",
    "print(l1)\n",
    "if n in l1:\n",
    "    print(\"perfect square\")\n",
    "else:\n",
    "    print(\"not\")"
   ]
  },
  {
   "cell_type": "code",
   "execution_count": 19,
   "metadata": {},
   "outputs": [
    {
     "name": "stdout",
     "output_type": "stream",
     "text": [
      "7\n",
      "6\n"
     ]
    }
   ],
   "source": [
    "import math\n",
    "from math import sqrt\n",
    "print(math.ceil(sqrt(42)))\n",
    "print(math.floor(sqrt(42)))"
   ]
  },
  {
   "cell_type": "code",
   "execution_count": 30,
   "metadata": {},
   "outputs": [
    {
     "name": "stdout",
     "output_type": "stream",
     "text": [
      "True\n"
     ]
    }
   ],
   "source": [
    "#automorphic number or not ---> whose number ends with same number\n",
    "n=5\n",
    "s=str(int(5**2))\n",
    "print(str(n)==s[-1])"
   ]
  },
  {
   "cell_type": "code",
   "execution_count": 39,
   "metadata": {},
   "outputs": [
    {
     "name": "stdout",
     "output_type": "stream",
     "text": [
      "T\n"
     ]
    }
   ],
   "source": [
    "#harshad number or not -----> 21=--> 2+1 = 3 , 21 is divided by 3\n",
    "n=21\n",
    "m=n\n",
    "while n>=10:\n",
    "    t=0\n",
    "    while n:\n",
    "        r=n%10\n",
    "        t+=r\n",
    "        n=n//10\n",
    "if m%t==0:\n",
    "    print(\"T\")\n",
    "else:\n",
    "    print(\"N\")"
   ]
  },
  {
   "cell_type": "code",
   "execution_count": 44,
   "metadata": {},
   "outputs": [
    {
     "name": "stdout",
     "output_type": "stream",
     "text": [
      "Abudant number\n"
     ]
    }
   ],
   "source": [
    "#abudant number or not\n",
    "n=12\n",
    "s=0\n",
    "for i in range(1,n):\n",
    "    if n%i==0:\n",
    "        s+=i\n",
    "if s>i:\n",
    "    print(\"Abudant number\")\n",
    "else:\n",
    "    print(\"not\")"
   ]
  },
  {
   "cell_type": "code",
   "execution_count": 60,
   "metadata": {},
   "outputs": [],
   "source": [
    "#friendly pair or not \n",
    "n=28\n",
    "m=6\n",
    "s=0\n",
    "s1=0\n",
    "n1,m1=0,0\n",
    "for i in range(1,n+1):\n",
    "    if n%i==0:\n",
    "        s+=i\n",
    "for j in range(1,m+1):\n",
    "    if m%j==0:\n",
    "        s1+=j"
   ]
  },
  {
   "cell_type": "code",
   "execution_count": 1,
   "metadata": {},
   "outputs": [
    {
     "name": "stdout",
     "output_type": "stream",
     "text": [
      "Friendly pair\n"
     ]
    }
   ],
   "source": [
    "def printDivisors(n, factors) :\n",
    "    i = 1\n",
    "    while i <= n :\n",
    "        if (n % i==0) :\n",
    "            factors.append(i)\n",
    "        i = i + 1\n",
    "    return sum(factors) - n\n",
    "\n",
    "if __name__ == \"__main__\": \n",
    "  number1, number2 = 6, 28\n",
    "  if int(printDivisors(number1, [])/number1) == int(printDivisors(number2, [])/number2):\n",
    "    print(\"Friendly pair\")\n",
    "  else:\n",
    "    print(\"Not a Friendly Pair\")"
   ]
  }
 ],
 "metadata": {
  "kernelspec": {
   "display_name": "Python 3",
   "language": "python",
   "name": "python3"
  },
  "language_info": {
   "codemirror_mode": {
    "name": "ipython",
    "version": 3
   },
   "file_extension": ".py",
   "mimetype": "text/x-python",
   "name": "python",
   "nbconvert_exporter": "python",
   "pygments_lexer": "ipython3",
   "version": "3.11.0"
  },
  "orig_nbformat": 4
 },
 "nbformat": 4,
 "nbformat_minor": 2
}
