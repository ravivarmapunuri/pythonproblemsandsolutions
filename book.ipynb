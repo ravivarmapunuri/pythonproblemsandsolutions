{
 "cells": [
  {
   "cell_type": "code",
   "execution_count": 7,
   "metadata": {},
   "outputs": [
    {
     "name": "stdout",
     "output_type": "stream",
     "text": [
      "Even number\n"
     ]
    }
   ],
   "source": [
    "#even or odd \n",
    "if((int(input())%2==0)):\n",
    "    print(\"Even number\")\n",
    "else:\n",
    "    print(\"Odd number\")"
   ]
  },
  {
   "cell_type": "code",
   "execution_count": 17,
   "metadata": {},
   "outputs": [
    {
     "name": "stdout",
     "output_type": "stream",
     "text": [
      "Prime number\n"
     ]
    }
   ],
   "source": [
    "#prime or not\n",
    "n=int(input())\n",
    "if n>=2:\n",
    "    for i in range(2,n):\n",
    "        if n%i==0:\n",
    "            print(\"not a prime\")\n",
    "            break\n",
    "    else:\n",
    "        print(\"Prime number\")\n",
    "else:\n",
    "    print(\"not a prime\")     "
   ]
  },
  {
   "cell_type": "code",
   "execution_count": 23,
   "metadata": {},
   "outputs": [
    {
     "name": "stdout",
     "output_type": "stream",
     "text": [
      "2 3 5 7 11 13 17 19 23 29 31 37 41 43 47 53 59 61 67 71 73 79 83 89 97 "
     ]
    }
   ],
   "source": [
    "#prime number b/w range\n",
    "n=int(input())\n",
    "m=int(input())\n",
    "for i in range(n,m+1):\n",
    "    if i>=2:\n",
    "        for j in range(2,i):\n",
    "            if i%j==0:\n",
    "                break\n",
    "        else:\n",
    "            print(i,end=\" \")"
   ]
  },
  {
   "cell_type": "code",
   "execution_count": 29,
   "metadata": {},
   "outputs": [
    {
     "name": "stdout",
     "output_type": "stream",
     "text": [
      "not a pronic\n"
     ]
    }
   ],
   "source": [
    "#pronic or not \n",
    "n=int(input())\n",
    "for i in range(1,n+1):\n",
    "    if i*(i+1)==n:\n",
    "        print(\"Pronic\")\n",
    "        break\n",
    "    else:\n",
    "        print(\"not a pronic\")\n",
    "        break"
   ]
  },
  {
   "cell_type": "code",
   "execution_count": 50,
   "metadata": {},
   "outputs": [],
   "source": [
    "#perfect number or not\n",
    "n=int(input())\n",
    "c=0\n",
    "if n>0:\n",
    "    for i in range(1,n):\n",
    "        if n%i==0:\n",
    "            c+=i\n",
    "    if c==n:\n",
    "        print(\"Perfect\")\n",
    "    else:\n",
    "        print(\"not\")"
   ]
  },
  {
   "cell_type": "code",
   "execution_count": 123,
   "metadata": {},
   "outputs": [
    {
     "name": "stdout",
     "output_type": "stream",
     "text": [
      "lcm: 75 gcd: 5\n"
     ]
    }
   ],
   "source": [
    "#gcd and lcm\n",
    "n=15\n",
    "m=25\n",
    "for i in range(1,min(n,m)+1):\n",
    "    if n%i ==0 and m%i ==0:\n",
    "        h=i\n",
    "l=(n*m)//h\n",
    "print(\"lcm:\",l,\"gcd:\",h)"
   ]
  },
  {
   "cell_type": "code",
   "execution_count": 125,
   "metadata": {},
   "outputs": [
    {
     "name": "stdout",
     "output_type": "stream",
     "text": [
      "120\n"
     ]
    }
   ],
   "source": [
    "#recursion\n",
    "n=int(input())\n",
    "f=1\n",
    "for i in range(1,n+1):\n",
    "    f=f*i\n",
    "print(f)"
   ]
  },
  {
   "cell_type": "code",
   "execution_count": 128,
   "metadata": {},
   "outputs": [
    {
     "name": "stdout",
     "output_type": "stream",
     "text": [
      "0 1 1 2 3 5 "
     ]
    }
   ],
   "source": [
    "#fibonacci series\n",
    "n=int(input())\n",
    "f,f1=0,1\n",
    "print(f ,f1 ,end=\" \")\n",
    "for i in range(2,n+1):\n",
    "    f2=f+f1\n",
    "    print(f2,end=\" \")\n",
    "    f=f1\n",
    "    f1=f2"
   ]
  },
  {
   "cell_type": "code",
   "execution_count": 131,
   "metadata": {},
   "outputs": [
    {
     "name": "stdout",
     "output_type": "stream",
     "text": [
      "0 1 1 2 3 5 8 13 21 34 "
     ]
    }
   ],
   "source": [
    "#fibonacci series upto n \n",
    "n=int(input())\n",
    "f,f1=0,1\n",
    "print(f ,f1 ,end=\" \")\n",
    "for i in range(2,n):\n",
    "    f2=f+f1\n",
    "    print(f2,end=\" \")\n",
    "    f=f1\n",
    "    f1=f2"
   ]
  },
  {
   "cell_type": "code",
   "execution_count": 132,
   "metadata": {},
   "outputs": [
    {
     "name": "stdout",
     "output_type": "stream",
     "text": [
      "21\n"
     ]
    }
   ],
   "source": [
    "#reverse the number\n",
    "n=int(input())\n",
    "print(str(n)[::-1])"
   ]
  },
  {
   "cell_type": "code",
   "execution_count": 137,
   "metadata": {},
   "outputs": [
    {
     "name": "stdout",
     "output_type": "stream",
     "text": [
      "143\n"
     ]
    }
   ],
   "source": [
    "n=int(input())\n",
    "r=0\n",
    "while n:\n",
    "    d=n%10\n",
    "    r=(r*10)+d\n",
    "    n=n//10\n",
    "print(r)"
   ]
  },
  {
   "cell_type": "code",
   "execution_count": 3,
   "metadata": {},
   "outputs": [
    {
     "name": "stdout",
     "output_type": "stream",
     "text": [
      "palindrome \n"
     ]
    }
   ],
   "source": [
    "#given number is palindrome or not \n",
    "n=int(input())\n",
    "if str(n)==str(n)[::-1]:\n",
    "    print(\"palindrome \")\n",
    "else:\n",
    "    print(\"not a palindrome\")"
   ]
  },
  {
   "cell_type": "code",
   "execution_count": 8,
   "metadata": {},
   "outputs": [
    {
     "name": "stdout",
     "output_type": "stream",
     "text": [
      "121\n",
      "palindrome\n"
     ]
    }
   ],
   "source": [
    "n=int(input())\n",
    "t=n\n",
    "r=0\n",
    "while n:\n",
    "    d=n%10\n",
    "    r=(r*10)+d\n",
    "    n=n//10\n",
    "print(r)\n",
    "if r==t:\n",
    "    print(\"palindrome\")\n",
    "else:\n",
    "    print('not')"
   ]
  },
  {
   "cell_type": "code",
   "execution_count": 18,
   "metadata": {},
   "outputs": [
    {
     "name": "stdout",
     "output_type": "stream",
     "text": [
      "strong\n"
     ]
    }
   ],
   "source": [
    "#strong number or not \n",
    "n=int(input())\n",
    "l=[int(i) for i in str(n)]\n",
    "s=0\n",
    "for i in l:\n",
    "    f=1\n",
    "    for j in range(1,i+1):\n",
    "        f=f*j\n",
    "    s+=f\n",
    "if s==n:\n",
    "    print(\"strong\")\n",
    "else:\n",
    "    print(\"not\")"
   ]
  },
  {
   "cell_type": "code",
   "execution_count": 29,
   "metadata": {},
   "outputs": [
    {
     "name": "stdout",
     "output_type": "stream",
     "text": [
      "[4, 5]\n",
      "not \n"
     ]
    }
   ],
   "source": [
    "#armstrong or not \n",
    "n=int(input())\n",
    "l=[int(i) for i in str(n)]\n",
    "s=0\n",
    "for i in l:\n",
    "    v=0\n",
    "    for j in range(1,len(l)+1):\n",
    "        v=i**len(l)\n",
    "    s+=v\n",
    "if s==n:\n",
    "    print('armstrong ')\n",
    "else:\n",
    "    print('not ')"
   ]
  },
  {
   "cell_type": "code",
   "execution_count": 30,
   "metadata": {},
   "outputs": [
    {
     "name": "stdout",
     "output_type": "stream",
     "text": [
      "anagram\n"
     ]
    }
   ],
   "source": [
    "#anagram or not \n",
    "if (sorted(input()))==(sorted(input())):\n",
    "    print(\"anagram\")\n",
    "else:\n",
    "    print('not')"
   ]
  },
  {
   "cell_type": "code",
   "execution_count": 1,
   "metadata": {},
   "outputs": [
    {
     "name": "stdout",
     "output_type": "stream",
     "text": [
      "not \n"
     ]
    }
   ],
   "source": [
    "#panagram or not \n",
    "s=input().lower()\n",
    "c=0\n",
    "for i in set(s):\n",
    "    if i in \"abcdefghijklmnopqrstuvwxyz\":\n",
    "        c+=1\n",
    "if c==26:\n",
    "    print('panagram')\n",
    "else:\n",
    "    print('not ')"
   ]
  },
  {
   "cell_type": "code",
   "execution_count": 3,
   "metadata": {},
   "outputs": [
    {
     "name": "stdout",
     "output_type": "stream",
     "text": [
      "1000\n"
     ]
    }
   ],
   "source": [
    "#decimal to binary\n",
    "n=int(input())\n",
    "print(bin(n)[2:])"
   ]
  },
  {
   "cell_type": "code",
   "execution_count": 12,
   "metadata": {},
   "outputs": [
    {
     "name": "stdout",
     "output_type": "stream",
     "text": [
      "11\n"
     ]
    }
   ],
   "source": [
    "n=int(input())\n",
    "res=''\n",
    "while n:\n",
    "    res+=str(n%2)\n",
    "    n=n//2\n",
    "print(res[::-1])"
   ]
  },
  {
   "cell_type": "code",
   "execution_count": 22,
   "metadata": {},
   "outputs": [
    {
     "name": "stdout",
     "output_type": "stream",
     "text": [
      "7\n"
     ]
    }
   ],
   "source": [
    "#binary to decimal\n",
    "n=int(input())\n",
    "print(int(str(n),2))"
   ]
  },
  {
   "cell_type": "code",
   "execution_count": 23,
   "metadata": {},
   "outputs": [
    {
     "name": "stdout",
     "output_type": "stream",
     "text": [
      "4\n"
     ]
    }
   ],
   "source": [
    "n=int(input())\n",
    "s=str(n)\n",
    "i=len(s)-1\n",
    "res=0\n",
    "for j in s:\n",
    "    res+=int(j)*(2**i)\n",
    "    i-=1\n",
    "print(res)"
   ]
  },
  {
   "cell_type": "code",
   "execution_count": 28,
   "metadata": {},
   "outputs": [
    {
     "name": "stdout",
     "output_type": "stream",
     "text": [
      "22 11\n",
      "11 22\n"
     ]
    }
   ],
   "source": [
    "#swap the two numbers without using third variable\n",
    "n=int(input())\n",
    "m=int(input())\n",
    "print(n,m)\n",
    "n=n+m\n",
    "m=n-m\n",
    "n=n-m\n",
    "print(n,m)"
   ]
  },
  {
   "cell_type": "code",
   "execution_count": 2,
   "metadata": {},
   "outputs": [
    {
     "name": "stdout",
     "output_type": "stream",
     "text": [
      "leap year\n"
     ]
    }
   ],
   "source": [
    "#leap year\n",
    "y=int(input())\n",
    "if (y%400==0 and y%100!=0 or y%4==0):\n",
    "    print(\"leap year\")\n",
    "else:\n",
    "    print(\"not\")"
   ]
  },
  {
   "cell_type": "code",
   "execution_count": 31,
   "metadata": {},
   "outputs": [
    {
     "name": "stdout",
     "output_type": "stream",
     "text": [
      "6\n"
     ]
    }
   ],
   "source": [
    "#sum of the individual digits in a number\n",
    "n=int(input())\n",
    "l=[int(i) for i in str(n)]\n",
    "print(sum(l))"
   ]
  },
  {
   "cell_type": "code",
   "execution_count": 9,
   "metadata": {},
   "outputs": [
    {
     "name": "stdout",
     "output_type": "stream",
     "text": [
      "p 1\n",
      "a 1\n",
      "c 1\n",
      "e 1\n"
     ]
    }
   ],
   "source": [
    "#print occurence of the each character in string\n",
    "s=input()\n",
    "l=[]\n",
    "l1=[]\n",
    "for i in s:\n",
    "    if i not in l1:\n",
    "        l.append(s.count(i))\n",
    "        l1.append(i)\n",
    "for i in range(len(l1)):\n",
    "    print(l1[i],l[i])"
   ]
  },
  {
   "cell_type": "code",
   "execution_count": 11,
   "metadata": {},
   "outputs": [
    {
     "name": "stdout",
     "output_type": "stream",
     "text": [
      "p 1\n",
      "a 1\n",
      "c 2\n",
      "e 3\n",
      "o 1\n",
      "l 2\n",
      "g 1\n"
     ]
    }
   ],
   "source": [
    "s=input()\n",
    "res=\"\"\n",
    "for i in s:\n",
    "    c=s.count(i)\n",
    "    if i not in res:\n",
    "        res+=i\n",
    "        print(i+\" \"+str(c))"
   ]
  },
  {
   "cell_type": "code",
   "execution_count": 17,
   "metadata": {},
   "outputs": [
    {
     "name": "stdout",
     "output_type": "stream",
     "text": [
      "e 3\n"
     ]
    }
   ],
   "source": [
    "#print maximum occurence string \n",
    "s=input()\n",
    "res=0\n",
    "ch=\"\"\n",
    "for i in s:\n",
    "    c=s.count(i)\n",
    "    if res<c:\n",
    "        res=c\n",
    "        ch=i\n",
    "print(ch,res)"
   ]
  },
  {
   "cell_type": "code",
   "execution_count": 25,
   "metadata": {},
   "outputs": [
    {
     "name": "stdout",
     "output_type": "stream",
     "text": [
      "el"
     ]
    }
   ],
   "source": [
    "s=input()\n",
    "l=[]\n",
    "l1=[]\n",
    "for i in s:\n",
    "    if i not in l1:\n",
    "        l.append(s.count(i))\n",
    "        l1.append(i)\n",
    "for i in range(len(l1)):\n",
    "    if max(l)==l[i]:\n",
    "        print(l1[i],end=\"\")"
   ]
  },
  {
   "cell_type": "code",
   "execution_count": 27,
   "metadata": {},
   "outputs": [
    {
     "name": "stdout",
     "output_type": "stream",
     "text": [
      "pace\n"
     ]
    }
   ],
   "source": [
    "#print the minimum occurence in the string\n",
    "s=input()\n",
    "r=\"\"\n",
    "for i in s:\n",
    "    if s.count(i)==1:\n",
    "        r+=i\n",
    "print(r)"
   ]
  },
  {
   "cell_type": "code",
   "execution_count": 31,
   "metadata": {},
   "outputs": [
    {
     "name": "stdout",
     "output_type": "stream",
     "text": [
      "pace\n"
     ]
    }
   ],
   "source": [
    "s=input()\n",
    "l=[i for i in  s if s.count(i)==1]\n",
    "print(\"\".join(l))"
   ]
  },
  {
   "cell_type": "code",
   "execution_count": 33,
   "metadata": {},
   "outputs": [
    {
     "name": "stdout",
     "output_type": "stream",
     "text": [
      "palindrome\n"
     ]
    }
   ],
   "source": [
    "#given string is palindrome or not \n",
    "v=input()\n",
    "if v==v[::-1]:\n",
    "    print(\"palindrome\")\n",
    "else:\n",
    "    print(\"not\")"
   ]
  },
  {
   "cell_type": "code",
   "execution_count": 34,
   "metadata": {},
   "outputs": [
    {
     "name": "stdout",
     "output_type": "stream",
     "text": [
      "ivar\n"
     ]
    }
   ],
   "source": [
    "#reverse the string \n",
    "s=input()\n",
    "print(s[::-1])"
   ]
  },
  {
   "cell_type": "code",
   "execution_count": 37,
   "metadata": {},
   "outputs": [
    {
     "name": "stdout",
     "output_type": "stream",
     "text": [
      "ecap"
     ]
    }
   ],
   "source": [
    "s=input()\n",
    "l=len(s)-1\n",
    "i=l\n",
    "while i>-1:\n",
    "    print(s[i],end=\"\")\n",
    "    i-=1"
   ]
  },
  {
   "cell_type": "code",
   "execution_count": 40,
   "metadata": {},
   "outputs": [
    {
     "name": "stdout",
     "output_type": "stream",
     "text": [
      "acep\n"
     ]
    }
   ],
   "source": [
    "#sort the string as per english alphabets\n",
    "print(\"\".join(sorted(input())))"
   ]
  },
  {
   "cell_type": "code",
   "execution_count": 41,
   "metadata": {},
   "outputs": [
    {
     "name": "stdout",
     "output_type": "stream",
     "text": [
      "1 8 3\n"
     ]
    }
   ],
   "source": [
    "#print count of special chr , alphabets and digits \n",
    "s=input()\n",
    "s1,a,d=0,0,0\n",
    "for i in s:\n",
    "    if i.isdigit():\n",
    "        d+=1\n",
    "    elif i.isalpha():\n",
    "        a+=1\n",
    "    else:\n",
    "        s1+=1\n",
    "print(s1,a,d)"
   ]
  },
  {
   "cell_type": "code",
   "execution_count": 44,
   "metadata": {},
   "outputs": [
    {
     "name": "stdout",
     "output_type": "stream",
     "text": [
      "3 8 1\n"
     ]
    }
   ],
   "source": [
    "s=input()\n",
    "d=[i for i in s if i.isdigit()]\n",
    "a=[i for i in s if i.isalpha()]\n",
    "s1=[i for i in s if not i.isalpha() and not i.isdigit()]\n",
    "print(len(d),len(a),len(s1))"
   ]
  },
  {
   "cell_type": "code",
   "execution_count": 46,
   "metadata": {},
   "outputs": [
    {
     "name": "stdout",
     "output_type": "stream",
     "text": [
      "aeo\n"
     ]
    }
   ],
   "source": [
    "#print the vowels in the string\n",
    "s=input().lower()\n",
    "res=\"\"\n",
    "for i in s:\n",
    "    if i in \"aeiou\" and i not in res:\n",
    "        res+=i\n",
    "print(res)"
   ]
  },
  {
   "cell_type": "code",
   "execution_count": 59,
   "metadata": {},
   "outputs": [
    {
     "name": "stdout",
     "output_type": "stream",
     "text": [
      "plgc"
     ]
    }
   ],
   "source": [
    "#print the constants in string\n",
    "s=set(input().lower())\n",
    "for i in str(s):\n",
    "    if i.isalpha():\n",
    "        if i not in \"aeiou\":\n",
    "            print(i,end=\"\")"
   ]
  },
  {
   "cell_type": "code",
   "execution_count": 63,
   "metadata": {},
   "outputs": [
    {
     "name": "stdout",
     "output_type": "stream",
     "text": [
      "ollehworld\n"
     ]
    }
   ],
   "source": [
    "#print the given string in reverse order and half of the string as it is \n",
    "s=input()\n",
    "print(s[:len(s)//2][::-1]+s[len(s)//2:])\n"
   ]
  },
  {
   "cell_type": "code",
   "execution_count": 5,
   "metadata": {},
   "outputs": [
    {
     "name": "stdout",
     "output_type": "stream",
     "text": [
      "[1, 2, 3, 4, 5]\n"
     ]
    }
   ],
   "source": [
    "#ascending order of given list\n",
    "s=[3,1,2,4,5]\n",
    "s.sort()\n",
    "print(s)"
   ]
  },
  {
   "cell_type": "code",
   "execution_count": 35,
   "metadata": {},
   "outputs": [
    {
     "name": "stdout",
     "output_type": "stream",
     "text": [
      "[1, 2, 3, 4, 5, 6]\n"
     ]
    }
   ],
   "source": [
    "s=[3,1,2,5,4,6]\n",
    "for i in range(len(s)):\n",
    "    for j in range(i,len(s)):\n",
    "        temp=0\n",
    "        if s[i]>s[j]:\n",
    "            temp=s[i]\n",
    "            s[i]=s[j]\n",
    "            s[j]=temp\n",
    "print(s)"
   ]
  },
  {
   "cell_type": "code",
   "execution_count": 36,
   "metadata": {},
   "outputs": [
    {
     "name": "stdout",
     "output_type": "stream",
     "text": [
      "[6, 5, 4, 3, 2, 1]\n"
     ]
    }
   ],
   "source": [
    "#now descending order\n",
    "s=[3,1,2,5,4,6]\n",
    "s.sort(reverse=True)\n",
    "print(s)"
   ]
  },
  {
   "cell_type": "code",
   "execution_count": 37,
   "metadata": {},
   "outputs": [
    {
     "name": "stdout",
     "output_type": "stream",
     "text": [
      "[6, 5, 4, 3, 2, 1]\n"
     ]
    }
   ],
   "source": [
    "s=[3,1,2,5,4,6]\n",
    "for i in range(len(s)):\n",
    "    for j in range(i,len(s)):\n",
    "        if s[i]<s[j]:\n",
    "            temp=s[i]\n",
    "            s[i]=s[j]\n",
    "            s[j]=temp\n",
    "print(s)"
   ]
  },
  {
   "cell_type": "code",
   "execution_count": 43,
   "metadata": {},
   "outputs": [
    {
     "name": "stdout",
     "output_type": "stream",
     "text": [
      "[1, 2, 3, 6, 5, 4]\n"
     ]
    }
   ],
   "source": [
    "#half ascending and descending\n",
    "s=[3,1,2,5,4,6]\n",
    "s1,s2=s[:len(s)//2],s[len(s)//2:]\n",
    "s1.sort()\n",
    "s2.sort(reverse=True)\n",
    "print(s1+s2)"
   ]
  },
  {
   "cell_type": "code",
   "execution_count": 46,
   "metadata": {},
   "outputs": [
    {
     "name": "stdout",
     "output_type": "stream",
     "text": [
      "[1, 2, 3, 6, 5, 4]\n"
     ]
    }
   ],
   "source": [
    "s=[3,1,2,5,4,6]\n",
    "for i in range(len(s)//2):\n",
    "    for j in range(i,len(s)//2):\n",
    "        if s[i]>s[j]:\n",
    "            temp=s[i]\n",
    "            s[i]=s[j]\n",
    "            s[j]=temp\n",
    "for i in range(len(s)//2,len(s)):\n",
    "    for j in range(i,len(s)):\n",
    "        if s[i]<s[j]:\n",
    "            temp=s[i]\n",
    "            s[i]=s[j]\n",
    "            s[j]=temp\n",
    "print(s)"
   ]
  },
  {
   "cell_type": "code",
   "execution_count": 63,
   "metadata": {},
   "outputs": [
    {
     "name": "stdout",
     "output_type": "stream",
     "text": [
      "not found\n"
     ]
    }
   ],
   "source": [
    "#print the given key element is found in the given list or not\n",
    "s=[3,1,2,5,4,6]\n",
    "k=int(input())\n",
    "for i in s:\n",
    "    if k==i:\n",
    "        print(\"key found \") \n",
    "        break\n",
    "else:\n",
    "    print(\"not found\")\n",
    "        \n"
   ]
  },
  {
   "cell_type": "code",
   "execution_count": 64,
   "metadata": {},
   "outputs": [
    {
     "name": "stdout",
     "output_type": "stream",
     "text": [
      "1 6\n"
     ]
    }
   ],
   "source": [
    "#print the minimum and maximum \n",
    "s=[3,1,2,5,4,6]\n",
    "s.sort()\n",
    "print(s[0],s[-1])"
   ]
  },
  {
   "cell_type": "code",
   "execution_count": 67,
   "metadata": {},
   "outputs": [
    {
     "name": "stdout",
     "output_type": "stream",
     "text": [
      "1 6\n"
     ]
    }
   ],
   "source": [
    "s=[3,1,2,5,4,6]\n",
    "l=s[0]\n",
    "m=s[0]\n",
    "for i in s:\n",
    "    if i<l:\n",
    "        l=i\n",
    "    if i>m:\n",
    "        m=i\n",
    "print(l,m)"
   ]
  },
  {
   "cell_type": "code",
   "execution_count": 68,
   "metadata": {},
   "outputs": [
    {
     "name": "stdout",
     "output_type": "stream",
     "text": [
      "21\n"
     ]
    }
   ],
   "source": [
    "#sum of all digits in given list\n",
    "s=[3,1,2,5,4,6]\n",
    "print(sum(s))"
   ]
  },
  {
   "cell_type": "code",
   "execution_count": 69,
   "metadata": {},
   "outputs": [
    {
     "name": "stdout",
     "output_type": "stream",
     "text": [
      "21\n"
     ]
    }
   ],
   "source": [
    "s=[3,1,2,5,4,6]\n",
    "t=0\n",
    "for i in s:\n",
    "    t+=i\n",
    "print(t)"
   ]
  },
  {
   "cell_type": "code",
   "execution_count": 71,
   "metadata": {},
   "outputs": [
    {
     "name": "stdout",
     "output_type": "stream",
     "text": [
      "3\n"
     ]
    }
   ],
   "source": [
    "#print absolute difference between sum of all even and odd numbers in list\n",
    "s=[3,1,2,5,4]\n",
    "e,o=0,0\n",
    "for i in s:\n",
    "    if i%2==0:\n",
    "        e+=i\n",
    "    else:\n",
    "        o+=i\n",
    "print(abs(e-o))"
   ]
  },
  {
   "cell_type": "code",
   "execution_count": 92,
   "metadata": {},
   "outputs": [
    {
     "name": "stdout",
     "output_type": "stream",
     "text": [
      "HAI hOW ARE yOU\n"
     ]
    }
   ],
   "source": [
    "#upper to lower ,lower to upper\n",
    "s=\"hai How are You\"\n",
    "v=\"\"\n",
    "for i in s:\n",
    "    if i.islower():\n",
    "        v+=(i.upper())\n",
    "    elif i.isupper():\n",
    "        v+=i.lower()\n",
    "    elif i==\" \":\n",
    "        v+=i\n",
    "print(v)"
   ]
  },
  {
   "cell_type": "code",
   "execution_count": 97,
   "metadata": {},
   "outputs": [
    {
     "name": "stdout",
     "output_type": "stream",
     "text": [
      "ongole college pace\n"
     ]
    }
   ],
   "source": [
    "#reverse the string\n",
    "s=\"pace college ongole\".split()\n",
    "print(*s[::-1])"
   ]
  },
  {
   "cell_type": "code",
   "execution_count": 98,
   "metadata": {},
   "outputs": [
    {
     "name": "stdout",
     "output_type": "stream",
     "text": [
      "3\n"
     ]
    }
   ],
   "source": [
    "#print the count numbers of word\n",
    "s=\"pace college ongole\".split()\n",
    "print(len(s))"
   ]
  },
  {
   "cell_type": "code",
   "execution_count": 33,
   "metadata": {},
   "outputs": [
    {
     "name": "stdout",
     "output_type": "stream",
     "text": [
      "0\n"
     ]
    }
   ],
   "source": [
    "#findout the given key from list using binary search mechanism\n",
    "l = [10, 20, 30, 40, 50]\n",
    "k = 10\n",
    "\n",
    "def binary_search(l, k):\n",
    "    low = 0\n",
    "    high = len(l) - 1\n",
    "    while low <= high:\n",
    "        mid = (low + high) // 2\n",
    "        if l[mid] == k:\n",
    "            return mid\n",
    "        elif l[mid] < k:\n",
    "            low = mid + 1\n",
    "        else:\n",
    "            high = mid - 1\n",
    "    return -1\n",
    "\n",
    "result = binary_search(l, k)\n",
    "print(result)\n"
   ]
  },
  {
   "cell_type": "code",
   "execution_count": 34,
   "metadata": {},
   "outputs": [
    {
     "name": "stdout",
     "output_type": "stream",
     "text": [
      "5\n"
     ]
    }
   ],
   "source": [
    "#print the sum of the individual digits of the given number until the sum should be single digit\n",
    "s=9998888999\n",
    "while s>=10:\n",
    "    temp=s\n",
    "    s=0\n",
    "    while temp:\n",
    "        s+=temp%10\n",
    "        temp=temp//10\n",
    "print(s)"
   ]
  },
  {
   "cell_type": "code",
   "execution_count": 35,
   "metadata": {},
   "outputs": [],
   "source": [
    "#------------------------Basic to advance coding questions---------------------------------------------------------------------------------"
   ]
  },
  {
   "cell_type": "code",
   "execution_count": 37,
   "metadata": {},
   "outputs": [
    {
     "name": "stdout",
     "output_type": "stream",
     "text": [
      "8 3 1\n"
     ]
    }
   ],
   "source": [
    "#print the count of occurence of the alphabets , digits and special characters in string\n",
    "s=\"hellohai@123\"\n",
    "a,d,c=0,0,0\n",
    "for i in s:\n",
    "    if i.isalpha():\n",
    "        a+=1\n",
    "    elif i.isdigit():\n",
    "        d+=1\n",
    "    else:\n",
    "        c+=1\n",
    "print(a,d,c)"
   ]
  },
  {
   "cell_type": "code",
   "execution_count": 47,
   "metadata": {},
   "outputs": [
    {
     "name": "stdout",
     "output_type": "stream",
     "text": [
      "found\n"
     ]
    }
   ],
   "source": [
    "# found out the substring in given string or not\n",
    "s=\"hello hai\".split()\n",
    "s1=\"hai\"\n",
    "v=0\n",
    "for i in s:\n",
    "    if i==s1:\n",
    "        v=1\n",
    "        break\n",
    "if v==1:\n",
    "    print(\"found\")\n",
    "else:\n",
    "    print(\"not\")\n"
   ]
  },
  {
   "cell_type": "code",
   "execution_count": 48,
   "metadata": {},
   "outputs": [
    {
     "name": "stdout",
     "output_type": "stream",
     "text": [
      "2\n"
     ]
    }
   ],
   "source": [
    "#print how many times occured given substring or not \n",
    "s=\"abcdcdc\"\n",
    "s1=\"cdc\"\n",
    "c=0\n",
    "for i in range(len(s)):\n",
    "    for j in range(i,len(s)+1):\n",
    "        if s[i:j]==s1:\n",
    "            c+=1\n",
    "print(c)"
   ]
  },
  {
   "cell_type": "code",
   "execution_count": 49,
   "metadata": {},
   "outputs": [
    {
     "name": "stdout",
     "output_type": "stream",
     "text": [
      "2\n"
     ]
    }
   ],
   "source": [
    "s=\"abcdcdc\"\n",
    "s1=\"cdc\"\n",
    "c=0\n",
    "for i in range(0,len(s)):\n",
    "    if s[i:i+len(s1)]==s1:\n",
    "        c+=1\n",
    "print(c)"
   ]
  },
  {
   "cell_type": "code",
   "execution_count": 57,
   "metadata": {},
   "outputs": [
    {
     "name": "stdout",
     "output_type": "stream",
     "text": [
      "pppppaaacce\n"
     ]
    }
   ],
   "source": [
    "#print the following format\n",
    "# p5a3c2e1\n",
    "# pppppaaacce\n",
    "s=\"p5a3c2e1\"\n",
    "r=\"\"\n",
    "for i in s:\n",
    "    if i.isalpha():\n",
    "        ch=i\n",
    "    if i.isdigit():\n",
    "        r+=ch*int(i)\n",
    "print(r)"
   ]
  },
  {
   "cell_type": "code",
   "execution_count": 59,
   "metadata": {},
   "outputs": [
    {
     "name": "stdout",
     "output_type": "stream",
     "text": [
      "ongole college pace\n"
     ]
    }
   ],
   "source": [
    "#reverse order according t0 words\n",
    "s=\"pace college ongole\".split()\n",
    "print(*s[::-1])"
   ]
  },
  {
   "cell_type": "code",
   "execution_count": 62,
   "metadata": {},
   "outputs": [
    {
     "name": "stdout",
     "output_type": "stream",
     "text": [
      "p5a3c2e1\n"
     ]
    }
   ],
   "source": [
    "#print as per following \n",
    "#pppppaaacce\n",
    "#p5a3c2e1\n",
    "s=\"pppppaaacce\"\n",
    "r=\"\"\n",
    "for i in s:\n",
    "    if i not in r:\n",
    "        r+=i\n",
    "        r+=str(s.count(i))\n",
    "print(r)"
   ]
  },
  {
   "cell_type": "code",
   "execution_count": 69,
   "metadata": {},
   "outputs": [
    {
     "name": "stdout",
     "output_type": "stream",
     "text": [
      "16\n"
     ]
    }
   ],
   "source": [
    "#abcd ------->16(97+98+99+100------->394------>16)\n",
    "s=\"abcd\"\n",
    "l=[ord(i) for i in s]\n",
    "v=[int(i) for i in str(sum(l))]\n",
    "print(sum(v))"
   ]
  },
  {
   "cell_type": "code",
   "execution_count": 76,
   "metadata": {},
   "outputs": [
    {
     "name": "stdout",
     "output_type": "stream",
     "text": [
      "PacE CollegE "
     ]
    }
   ],
   "source": [
    "#firt and last letter of the string in uppercase\n",
    "s=\"pace college\".split()\n",
    "for i in s:\n",
    "    print(i[0].upper()+i[1:-1]+i[-1].upper(),end=\" \")"
   ]
  },
  {
   "cell_type": "code",
   "execution_count": 86,
   "metadata": {},
   "outputs": [
    {
     "name": "stdout",
     "output_type": "stream",
     "text": [
      "abcns1359$*@\n"
     ]
    }
   ],
   "source": [
    "#sort the given string as first alphabets,digits and special charaters that in ascending order\n",
    "s=\"b9c@31*ans5$\"\n",
    "a,d,c=\"\",\"\",\"\"\n",
    "for i in s:\n",
    "    if i.isalpha():\n",
    "        a+=i\n",
    "    elif i.isdigit():\n",
    "        d+=i\n",
    "    else:\n",
    "        c+=i\n",
    "a=\"\".join(sorted(a))+\"\".join(sorted(d))+\"\".join(sorted(c))\n",
    "print(a)"
   ]
  },
  {
   "cell_type": "code",
   "execution_count": 96,
   "metadata": {},
   "outputs": [
    {
     "name": "stdout",
     "output_type": "stream",
     "text": [
      "42\n"
     ]
    }
   ],
   "source": [
    "#print the sum of the digits in the given string \n",
    "s=\"pace12col14l16ege\"\n",
    "for i in s:\n",
    "    if i.isalpha():\n",
    "        s=s.replace(i,\" \")\n",
    "v=s.split()\n",
    "l=[int(i) for i in v]\n",
    "print(sum(l))"
   ]
  },
  {
   "cell_type": "code",
   "execution_count": 48,
   "metadata": {},
   "outputs": [
    {
     "name": "stdout",
     "output_type": "stream",
     "text": [
      "a\n",
      "b a\n",
      "d c\n",
      "d\n"
     ]
    }
   ],
   "source": [
    "#divide the string as per the key and remove duplicate from it \n",
    "s=\"aaaabacdcddd\"\n",
    "k,m=3,k\n",
    "l=0\n",
    "r=[]\n",
    "for i in range(len(s)//2):\n",
    "    r.append(set(s[l:m]))\n",
    "    if m==len(s):\n",
    "        break\n",
    "    else:\n",
    "        l+=k\n",
    "        m+=k\n",
    "for i in r:\n",
    "    print(*i)"
   ]
  },
  {
   "cell_type": "code",
   "execution_count": 56,
   "metadata": {},
   "outputs": [
    {
     "name": "stdout",
     "output_type": "stream",
     "text": [
      "a\n",
      "ab\n",
      "cd\n",
      "d\n"
     ]
    }
   ],
   "source": [
    "s=\"aaaabacdcddd\"\n",
    "k=3\n",
    "r=\"\"\n",
    "for i in range(0,len(s),k):\n",
    "    r+=s[i:i+k]+\" \"\n",
    "for i in r.split():\n",
    "    res=\"\"\n",
    "    for j in i:\n",
    "        if j not in res:\n",
    "            res+=j\n",
    "    print(res)"
   ]
  },
  {
   "cell_type": "code",
   "execution_count": 61,
   "metadata": {},
   "outputs": [
    {
     "name": "stdout",
     "output_type": "stream",
     "text": [
      "pace\n"
     ]
    }
   ],
   "source": [
    "#print the even length string else print -1\n",
    "s=\"pace college\".split()\n",
    "c=0\n",
    "for i in s:\n",
    "    if len(i)%2==0:\n",
    "        print(i)\n",
    "        c=1\n",
    "if c==0:\n",
    "    print(-1)"
   ]
  },
  {
   "cell_type": "code",
   "execution_count": 67,
   "metadata": {},
   "outputs": [
    {
     "name": "stdout",
     "output_type": "stream",
     "text": [
      "afbecede\n"
     ]
    }
   ],
   "source": [
    "#print as per the following pattern\n",
    "\"\"\"\n",
    "string = a5b3c2d1\n",
    "output = afbecede\n",
    "--------------------\n",
    "5th character from a is f\n",
    "3rd  ||         b is e \n",
    "so on \n",
    "\"\"\"\n",
    "s=\"a5b3c2d1\"\n",
    "r=\"\"\n",
    "for i in range(len(s)):\n",
    "    if s[i].isalpha():\n",
    "        r+=s[i]\n",
    "    elif s[i].isdigit():\n",
    "        r+=(chr(ord(s[i-1])+int(s[i])))\n",
    "print(r)"
   ]
  },
  {
   "cell_type": "code",
   "execution_count": 69,
   "metadata": {},
   "outputs": [
    {
     "name": "stdout",
     "output_type": "stream",
     "text": [
      "anagram\n"
     ]
    }
   ],
   "source": [
    "#check two string are anagrams or not \n",
    "if (sorted(input()))==(sorted(input())):\n",
    "    print(\"anagram\")\n",
    "else:\n",
    "    print(\"not\")"
   ]
  },
  {
   "cell_type": "code",
   "execution_count": 73,
   "metadata": {},
   "outputs": [
    {
     "name": "stdout",
     "output_type": "stream",
     "text": [
      "panagram\n"
     ]
    }
   ],
   "source": [
    "#check whether given string is panagram or not \n",
    "s=input().lower()\n",
    "a=0\n",
    "for i in set(s):\n",
    "    if i in \"abcdefghijklmnopqrstuvwxyz\":\n",
    "        a+=1\n",
    "if a==26:\n",
    "    print(\"panagram\")\n",
    "else:\n",
    "    print(\"not\")"
   ]
  },
  {
   "cell_type": "code",
   "execution_count": 86,
   "metadata": {},
   "outputs": [
    {
     "name": "stdout",
     "output_type": "stream",
     "text": [
      "abcd\n"
     ]
    }
   ],
   "source": [
    "#remove duplicates values \n",
    "a=\"abcabcddddaad\"\n",
    "j=0\n",
    "r=\"\"\n",
    "for i in a:\n",
    "    if a.index(i)==j:\n",
    "        r+=i\n",
    "    j+=1\n",
    "print(r)"
   ]
  },
  {
   "cell_type": "code",
   "execution_count": 88,
   "metadata": {},
   "outputs": [
    {
     "name": "stdout",
     "output_type": "stream",
     "text": [
      "much.so.you.thank\n"
     ]
    }
   ],
   "source": [
    "#thank.you.so.much\n",
    "#much.so.you.thank\n",
    "s=\"thank.you.so.much\".split(\".\")\n",
    "print(\".\".join(s[::-1]))"
   ]
  },
  {
   "cell_type": "code",
   "execution_count": 92,
   "metadata": {},
   "outputs": [
    {
     "name": "stdout",
     "output_type": "stream",
     "text": [
      "2\n"
     ]
    }
   ],
   "source": [
    "#if given string is even then print non repeated values else print only repeated values \n",
    "s=\"12234\"\n",
    "if len(s)%2==0:\n",
    "    for i in s:\n",
    "        if s.count(i)==1:\n",
    "            print(i,end=\"\")\n",
    "else:\n",
    "    r=\"\"\n",
    "    for i in s:\n",
    "        if s.count(i)>1 and i not in r:\n",
    "            r+=i\n",
    "    print(r)"
   ]
  },
  {
   "cell_type": "code",
   "execution_count": 167,
   "metadata": {},
   "outputs": [
    {
     "name": "stdout",
     "output_type": "stream",
     "text": [
      "True\n",
      "True\n",
      "True\n",
      "True\n",
      "True\n"
     ]
    }
   ],
   "source": [
    "s=\"2qA2\"\n",
    "x=False\n",
    "print(s.isalnum())\n",
    "for i in s:\n",
    "    if i.isalpha():\n",
    "        x=True\n",
    "        break\n",
    "print(x)\n",
    "y=False\n",
    "for i in s:\n",
    "    if i.isdigit():\n",
    "        y=True\n",
    "        break\n",
    "print(y)\n",
    "l=False\n",
    "for i in s:\n",
    "    if i.islower():\n",
    "        l=True\n",
    "        break\n",
    "print(l)\n",
    "u=False\n",
    "for i in s:\n",
    "    if i.isupper():\n",
    "        u=True\n",
    "        break\n",
    "print(u)"
   ]
  },
  {
   "cell_type": "code",
   "execution_count": 105,
   "metadata": {},
   "outputs": [
    {
     "name": "stdout",
     "output_type": "stream",
     "text": [
      "2640"
     ]
    }
   ],
   "source": [
    "s=\"hello world\".lower().split()\n",
    "a=\"abcdefghijklmnopqrstuvwxyz\"\n",
    "s1=\"\"\n",
    "for i in s:\n",
    "    r=0\n",
    "    if len(i)%2==0:\n",
    "        v=0\n",
    "        u=-1\n",
    "        for j in range(len(i)//2):\n",
    "            l=a.index(i[v])+1\n",
    "            l1=a.index(i[u])+1\n",
    "            r+=abs(l-l1)\n",
    "            v+=1\n",
    "            u-=1\n",
    "        print(r,end=\"\")\n",
    "    else:\n",
    "        m=len(i)//2\n",
    "        r=a.index(i[m])+1\n",
    "        v=0\n",
    "        u=len(i)-1\n",
    "        x=0\n",
    "        while v<u:\n",
    "            l=a.index(i[v])+1\n",
    "            l1=a.index(i[u])+1\n",
    "            x+=abs(l-l1)\n",
    "            v+=1\n",
    "            u-=1\n",
    "        print(r+x,end=\"\")"
   ]
  },
  {
   "cell_type": "code",
   "execution_count": 2,
   "metadata": {},
   "outputs": [
    {
     "name": "stdout",
     "output_type": "stream",
     "text": [
      "e 3\n"
     ]
    }
   ],
   "source": [
    "#print the maximum occured character with value\n",
    "s=\"pace college\"\n",
    "j=\"\"\n",
    "c=0\n",
    "for i in s:\n",
    "    if c<s.count(i):\n",
    "        c=s.count(i)\n",
    "        j=i\n",
    "print(j,c)"
   ]
  },
  {
   "cell_type": "code",
   "execution_count": 4,
   "metadata": {},
   "outputs": [
    {
     "name": "stdout",
     "output_type": "stream",
     "text": [
      "sample\n"
     ]
    }
   ],
   "source": [
    "#replace first occurence character with # expect itself character at first position\n",
    "s=input()\n",
    "temp=s[1:]\n",
    "print(s[0]+temp.replace(s[0],'#'))"
   ]
  },
  {
   "cell_type": "code",
   "execution_count": 11,
   "metadata": {},
   "outputs": [
    {
     "name": "stdout",
     "output_type": "stream",
     "text": [
      "page\n"
     ]
    }
   ],
   "source": [
    "#print first two and last two characters from the string\n",
    "s=\"pace college \".strip()\n",
    "if len(s)>2:\n",
    "    print(s[:2]+s[-2:])\n",
    "else:\n",
    "    print(s)"
   ]
  },
  {
   "cell_type": "code",
   "execution_count": 15,
   "metadata": {},
   "outputs": [
    {
     "name": "stdout",
     "output_type": "stream",
     "text": [
      "welcome python "
     ]
    }
   ],
   "source": [
    "#print the common words in the given two strings \n",
    "s=\"welcome to python programming\".split()\n",
    "s1=\"welcome python\".split()\n",
    "for i in s:\n",
    "    if i in s1:\n",
    "        print(i,end=\" \")"
   ]
  },
  {
   "cell_type": "code",
   "execution_count": 17,
   "metadata": {},
   "outputs": [
    {
     "name": "stdout",
     "output_type": "stream",
     "text": [
      "3\n"
     ]
    }
   ],
   "source": [
    "#print the count of common words in the given two strings \n",
    "s=\"welcome to python programming\".split()\n",
    "s1=\"welcome to java programming\".split()\n",
    "c=0\n",
    "for i in s:\n",
    "    if i in s1:\n",
    "        c+=1\n",
    "print(c)"
   ]
  },
  {
   "cell_type": "code",
   "execution_count": 18,
   "metadata": {},
   "outputs": [
    {
     "name": "stdout",
     "output_type": "stream",
     "text": [
      "college engineering pace\n"
     ]
    }
   ],
   "source": [
    "#sort the given string as per alphabets of first character of string\n",
    "s=\"pace engineering college\".split()\n",
    "s.sort()\n",
    "print(*s)"
   ]
  },
  {
   "cell_type": "code",
   "execution_count": 20,
   "metadata": {},
   "outputs": [
    {
     "name": "stdout",
     "output_type": "stream",
     "text": [
      "acepceegllo\n"
     ]
    }
   ],
   "source": [
    "#sort the given string \n",
    "s=\"pace college\".split()\n",
    "r=\"\"\n",
    "for i in s:\n",
    "    r+=\"\".join(sorted(i))\n",
    "print(r)"
   ]
  },
  {
   "cell_type": "code",
   "execution_count": 55,
   "metadata": {},
   "outputs": [
    {
     "name": "stdout",
     "output_type": "stream",
     "text": [
      "cpoalcleege"
     ]
    }
   ],
   "source": [
    "#print the strings alternatively\n",
    "s1=\"pace\"\n",
    "s=\"college\"\n",
    "for i in range(max(len(s),len(s1))):\n",
    "    if i<len(s):\n",
    "        print(s[i],end=\"\")\n",
    "    if i<len(s1):\n",
    "        print(s1[i],end=\"\")"
   ]
  },
  {
   "cell_type": "code",
   "execution_count": 58,
   "metadata": {},
   "outputs": [
    {
     "name": "stdout",
     "output_type": "stream",
     "text": [
      "HELLOworld\n"
     ]
    }
   ],
   "source": [
    "#print the first half in uppercase and rest of the string in lower \n",
    "s=\"helloworld\".lower()\n",
    "l=len(s)//2\n",
    "for i in range(l):\n",
    "    print(s[i].upper(),end=\"\")\n",
    "print(s[l:])"
   ]
  },
  {
   "cell_type": "code",
   "execution_count": 61,
   "metadata": {},
   "outputs": [
    {
     "name": "stdout",
     "output_type": "stream",
     "text": [
      "3 -- 4\n"
     ]
    }
   ],
   "source": [
    "#print most occured digit in given four strings\n",
    "n1=123\n",
    "n2=234\n",
    "n3=345\n",
    "n4=673\n",
    "s=str(n1)+str(n2)+str(n3)+str(n4)\n",
    "c=0\n",
    "d=\"\"\n",
    "for i in s:\n",
    "    if c<s.count(i):\n",
    "        c=s.count(i)\n",
    "        d=i\n",
    "print(d,\"--\",c)"
   ]
  },
  {
   "cell_type": "code",
   "execution_count": 64,
   "metadata": {},
   "outputs": [
    {
     "name": "stdout",
     "output_type": "stream",
     "text": [
      "ollehworld\n"
     ]
    }
   ],
   "source": [
    "#print the half string in reverse and rest of the string same as input\n",
    "s=\"helloworld\"\n",
    "l=len(s)//2\n",
    "print(s[:l][::-1]+s[l:])"
   ]
  },
  {
   "cell_type": "code",
   "execution_count": 68,
   "metadata": {},
   "outputs": [
    {
     "name": "stdout",
     "output_type": "stream",
     "text": [
      "e i\n"
     ]
    }
   ],
   "source": [
    "#print the vowels and without duplicates in given string\n",
    "s=\"engineering\"\n",
    "r=\"\"\n",
    "for i in s:\n",
    "    if i in \"aeiou\":\n",
    "        r+=i\n",
    "print(*set(r))"
   ]
  },
  {
   "cell_type": "code",
   "execution_count": 69,
   "metadata": {},
   "outputs": [
    {
     "name": "stdout",
     "output_type": "stream",
     "text": [
      "p 1\n",
      "a 1\n",
      "c 2\n",
      "e 3\n",
      "o 1\n",
      "l 2\n",
      "g 1\n"
     ]
    }
   ],
   "source": [
    "#print the count of each character without duplicates\n",
    "s=\"pacecollege\"\n",
    "r=\"\"\n",
    "for i in s:\n",
    "    if i not in r:\n",
    "        r+=i\n",
    "        print(i,s.count(i))"
   ]
  },
  {
   "cell_type": "code",
   "execution_count": 70,
   "metadata": {},
   "outputs": [
    {
     "name": "stdout",
     "output_type": "stream",
     "text": [
      "paog"
     ]
    }
   ],
   "source": [
    "#print the minimum occurence characters in string \n",
    "s=\"pacecollege\"\n",
    "for i in s:\n",
    "    if s.count(i)==1:\n",
    "        print(i,end=\"\")"
   ]
  },
  {
   "cell_type": "code",
   "execution_count": 114,
   "metadata": {},
   "outputs": [
    {
     "name": "stdout",
     "output_type": "stream",
     "text": [
      "hl\n"
     ]
    }
   ],
   "source": [
    "#print the maximum occurence characters in string \n",
    "s=\"hellohai\"\n",
    "l=[s.count(i) for i in s]\n",
    "m=max(l)\n",
    "r=\"\"\n",
    "for i in s:\n",
    "    if s.count(i)==m and i not in r:\n",
    "        r+=i\n",
    "print(r)"
   ]
  },
  {
   "cell_type": "code",
   "execution_count": 117,
   "metadata": {},
   "outputs": [
    {
     "name": "stdout",
     "output_type": "stream",
     "text": [
      "uoyer@awo#hia%hol&leh\n"
     ]
    }
   ],
   "source": [
    "#reverse the string without modifying the speical character in the string\n",
    "s=\"hello@hai#how%are&you\"\n",
    "r=\"\"\n",
    "a=\"\"\n",
    "for i in s:\n",
    "    if i.isalnum():\n",
    "        a+=i\n",
    "a=a[::-1]\n",
    "j=0\n",
    "for i in s:\n",
    "    if i.isalnum():\n",
    "        r+=a[j]\n",
    "        j+=1\n",
    "    else:\n",
    "        r+=i\n",
    "print(r)"
   ]
  },
  {
   "cell_type": "code",
   "execution_count": 148,
   "metadata": {},
   "outputs": [
    {
     "name": "stdout",
     "output_type": "stream",
     "text": [
      "string is symmetric\n",
      "string is not palindrome\n"
     ]
    }
   ],
   "source": [
    "#print the string is symmetric or not and palindrome or not\n",
    "s=\"khokho\"\n",
    "l=len(s)//2\n",
    "if s[:l]==s[l:]:\n",
    "    print(\"string is symmetric\")\n",
    "else:\n",
    "    print(\"string is not symmetric\")\n",
    "if s[:l][::-1]==s[l:]:\n",
    "    print(\"string is palindrome\")\n",
    "else:\n",
    "    print(\"string is not palindrome\")"
   ]
  },
  {
   "cell_type": "code",
   "execution_count": 156,
   "metadata": {},
   "outputs": [
    {
     "name": "stdout",
     "output_type": "stream",
     "text": [
      "not palindrome\n"
     ]
    }
   ],
   "source": [
    "#print the given string is palindrome or not after removing the constants in string\n",
    "s=\"xayzuezyax\"\n",
    "r=\"\"\n",
    "c=0\n",
    "for i in s:\n",
    "    if i in \"aeiou\":\n",
    "        r+=i\n",
    "        c+=1\n",
    "if c>1:\n",
    "    if r==r[::-1]:\n",
    "        print(\"Palindrome\")\n",
    "    else:\n",
    "        print(\"not palindrome\")\n",
    "else:\n",
    "    print(-1)"
   ]
  },
  {
   "cell_type": "code",
   "execution_count": 196,
   "metadata": {},
   "outputs": [
    {
     "name": "stdout",
     "output_type": "stream",
     "text": [
      " pace institute of technology and sciences\n"
     ]
    }
   ],
   "source": [
    "#PaceInstituteOfTechnologyAndSciences\n",
    "#pace institute of technology and sciences\n",
    "s=\"PaceInstituteOfTechnologyAndSciences\"\n",
    "r=\"\"\n",
    "for i in s:\n",
    "    if i.isupper():\n",
    "        r+=\" \"+i.lower()\n",
    "    else:\n",
    "        r+=i\n",
    "print(r)"
   ]
  },
  {
   "cell_type": "code",
   "execution_count": 197,
   "metadata": {},
   "outputs": [
    {
     "name": "stdout",
     "output_type": "stream",
     "text": [
      "aeoeepccllg\n"
     ]
    }
   ],
   "source": [
    "#print the vowels followed by constants\n",
    "s=\"pacecollege\"\n",
    "v=\"aeiouAEIOU\"\n",
    "r=\"\"\n",
    "u=\"\"\n",
    "for i in s:\n",
    "    if i in v:\n",
    "        r+=i\n",
    "    else:\n",
    "        u+=i\n",
    "print(r+u)"
   ]
  },
  {
   "cell_type": "code",
   "execution_count": 1,
   "metadata": {},
   "outputs": [
    {
     "name": "stdout",
     "output_type": "stream",
     "text": [
      "5 6\n"
     ]
    }
   ],
   "source": [
    "#print the count of the vowels followed by constant\n",
    "s=\"pacecollege\"\n",
    "c=0\n",
    "v=0\n",
    "for i in s:\n",
    "    if i in \"aeiou\":\n",
    "        v+=1\n",
    "    else:\n",
    "        c+=1\n",
    "print(v,c)"
   ]
  },
  {
   "cell_type": "code",
   "execution_count": 2,
   "metadata": {},
   "outputs": [
    {
     "name": "stdout",
     "output_type": "stream",
     "text": [
      "5\n"
     ]
    }
   ],
   "source": [
    "#print the count of all uppercase characters in string\n",
    "s=\"HELLOworld\"\n",
    "c=0\n",
    "for i in s:\n",
    "    if i.isupper():\n",
    "        c+=1\n",
    "print(c)"
   ]
  },
  {
   "cell_type": "code",
   "execution_count": 21,
   "metadata": {},
   "outputs": [
    {
     "name": "stdout",
     "output_type": "stream",
     "text": [
      "speCtacUlar\n"
     ]
    }
   ],
   "source": [
    "#\n",
    "s='sPectAculAr'\n",
    "x=2\n",
    "i=1\n",
    "j=0\n",
    "res=\"\"\n",
    "while i<=len(s):\n",
    "    if i%x==0:\n",
    "        res+=s[j].swapcase()\n",
    "    else:\n",
    "        res+=s[j]\n",
    "    i+=1\n",
    "    j+=1\n",
    "print(res)"
   ]
  },
  {
   "cell_type": "code",
   "execution_count": 63,
   "metadata": {},
   "outputs": [
    {
     "name": "stdout",
     "output_type": "stream",
     "text": [
      "speCtacUlar\n"
     ]
    }
   ],
   "source": [
    "s=\"sPectAculAr\"\n",
    "x=2\n",
    "r=\"\"\n",
    "for i in range(1,len(s)+1):\n",
    "    if i%x==0:\n",
    "        r+=s[i-1].swapcase()\n",
    "    else:\n",
    "        r+=s[i-1]\n",
    "print(r)"
   ]
  },
  {
   "cell_type": "code",
   "execution_count": 66,
   "metadata": {},
   "outputs": [
    {
     "name": "stdout",
     "output_type": "stream",
     "text": [
      "['p'] ['pa'] ['pac'] ['pace'] ['a'] ['ac'] ['ace'] ['c'] ['ce'] ['e'] "
     ]
    }
   ],
   "source": [
    "s=\"pace\"\n",
    "for i in range(len(s)):\n",
    "    for j in range(i+1,len(s)+1):\n",
    "        print([s[i:j]],end=' ')"
   ]
  },
  {
   "cell_type": "code",
   "execution_count": 67,
   "metadata": {},
   "outputs": [
    {
     "name": "stdout",
     "output_type": "stream",
     "text": [
      "hello.hai,how,are.you\n"
     ]
    }
   ],
   "source": [
    "#swap commas with dots and dots with commas\n",
    "s=\"hello,hai.how.are,you\"\n",
    "s=s.replace(\",\",\"*\").replace(\".\",\",\").replace(\"*\",\".\")\n",
    "print(s)"
   ]
  },
  {
   "cell_type": "code",
   "execution_count": 68,
   "metadata": {},
   "outputs": [
    {
     "name": "stdout",
     "output_type": "stream",
     "text": [
      "college\n"
     ]
    }
   ],
   "source": [
    "#print the words which are greater than given k length\n",
    "s=\"pace college\".split()\n",
    "k=5\n",
    "for i in s:\n",
    "    if len(i)>k:\n",
    "        print(i)"
   ]
  },
  {
   "cell_type": "code",
   "execution_count": 92,
   "metadata": {},
   "outputs": [
    {
     "name": "stdout",
     "output_type": "stream",
     "text": [
      "hello\n"
     ]
    }
   ],
   "source": [
    "#print the longest string , if both are same length then print first one\n",
    "s=\"hello\"\n",
    "s1=\"world\"\n",
    "v= s if len(s)>=len(s1) else s1\n",
    "print(v)"
   ]
  },
  {
   "cell_type": "code",
   "execution_count": 95,
   "metadata": {},
   "outputs": [
    {
     "name": "stdout",
     "output_type": "stream",
     "text": [
      "pce\n"
     ]
    }
   ],
   "source": [
    "#remove the ith character from the string\n",
    "s=\"pace\"\n",
    "x=1\n",
    "v=s[:x]+s[x+1:]\n",
    "print(v)"
   ]
  },
  {
   "cell_type": "code",
   "execution_count": 107,
   "metadata": {},
   "outputs": [
    {
     "name": "stdout",
     "output_type": "stream",
     "text": [
      "binary string\n"
     ]
    }
   ],
   "source": [
    "#find out the given string is binary string or not\n",
    "s=\"0100101\"\n",
    "for i in s:\n",
    "    if i not in \"01\":\n",
    "        print(\"not binary string\")\n",
    "        break\n",
    "else:\n",
    "    print(\"binary string\")"
   ]
  },
  {
   "cell_type": "code",
   "execution_count": 111,
   "metadata": {},
   "outputs": [
    {
     "name": "stdout",
     "output_type": "stream",
     "text": [
      "eacp\n"
     ]
    }
   ],
   "source": [
    "# swap the first and last element in string\n",
    "s=\"pace\".strip()\n",
    "print(s[-1]+s[1:-1]+s[0])"
   ]
  },
  {
   "cell_type": "code",
   "execution_count": 112,
   "metadata": {},
   "outputs": [
    {
     "name": "stdout",
     "output_type": "stream",
     "text": [
      "cel\n"
     ]
    }
   ],
   "source": [
    "#print the duplicates elements in string\n",
    "s='pacecollege'\n",
    "r=\"\"\n",
    "for i in s:\n",
    "    if s.count(i)>1 and i not in r:\n",
    "        r+=i\n",
    "print(r)"
   ]
  },
  {
   "cell_type": "code",
   "execution_count": 121,
   "metadata": {},
   "outputs": [
    {
     "name": "stdout",
     "output_type": "stream",
     "text": [
      "cl\n"
     ]
    }
   ],
   "source": [
    "#print the characters whose occurence is even\n",
    "s=\"pacecollege\"\n",
    "r=\"\"\n",
    "for i in s:\n",
    "    if s.count(i)%2==0 and i not in r:\n",
    "        r+=i\n",
    "print(r)"
   ]
  },
  {
   "cell_type": "code",
   "execution_count": 124,
   "metadata": {},
   "outputs": [
    {
     "name": "stdout",
     "output_type": "stream",
     "text": [
      "No\n"
     ]
    }
   ],
   "source": [
    "#print yes if string is started with vowel else print no\n",
    "s=\"zngineering\"\n",
    "if s[0] in \"aeiou\":\n",
    "    print(\"Yes\")\n",
    "else:\n",
    "    print(\"No\")"
   ]
  },
  {
   "cell_type": "code",
   "execution_count": 129,
   "metadata": {},
   "outputs": [
    {
     "name": "stdout",
     "output_type": "stream",
     "text": [
      "s'telekatedocteeltsetnoc\n"
     ]
    }
   ],
   "source": [
    "# let's take leetcode contest\n",
    "# s'telekatedocteeltsetnoc\n",
    "s=\"let's take leetcode contest\".split()\n",
    "r=\"\"\n",
    "for i in s:\n",
    "    r+=i[::-1]\n",
    "print(r)"
   ]
  },
  {
   "cell_type": "code",
   "execution_count": 138,
   "metadata": {},
   "outputs": [
    {
     "name": "stdout",
     "output_type": "stream",
     "text": [
      "LOveLY\n"
     ]
    }
   ],
   "source": [
    "#replace the character with alternative case\n",
    "s=\"loVEly\"\n",
    "print(s.swapcase())"
   ]
  },
  {
   "cell_type": "code",
   "execution_count": 143,
   "metadata": {},
   "outputs": [
    {
     "name": "stdout",
     "output_type": "stream",
     "text": [
      "8\n"
     ]
    }
   ],
   "source": [
    "#print the count of the string without the whitespaces\n",
    "s=\"hello hai\"\n",
    "c=0\n",
    "for i in s :\n",
    "    if i not in \" \":\n",
    "        c+=1\n",
    "print(c)"
   ]
  },
  {
   "cell_type": "code",
   "execution_count": 151,
   "metadata": {},
   "outputs": [
    {
     "name": "stdout",
     "output_type": "stream",
     "text": [
      "engineering\n"
     ]
    }
   ],
   "source": [
    "#print the longestest word in given string\n",
    "s=\"pace engineering college\".split()\n",
    "l=[len(i) for i in s]\n",
    "print(s[l.index(max(l))])"
   ]
  },
  {
   "cell_type": "code",
   "execution_count": 156,
   "metadata": {},
   "outputs": [
    {
     "name": "stdout",
     "output_type": "stream",
     "text": [
      "pace\n"
     ]
    }
   ],
   "source": [
    "#print the smallest word in given string\n",
    "s=\"pace engineering college\".split()\n",
    "l=[len(i) for i in s]\n",
    "print(s[l.index(min(l))])"
   ]
  },
  {
   "cell_type": "code",
   "execution_count": 189,
   "metadata": {},
   "outputs": [
    {
     "name": "stdout",
     "output_type": "stream",
     "text": [
      "hadoopbigdatahadoop\n"
     ]
    }
   ],
   "source": [
    "#encloser the longer string with in the shorter string\n",
    "s=\"bigdata\"\n",
    "s1=\"hadoop\"\n",
    "r=\"\"\n",
    "if len(s)==len(s1):\n",
    "    print(\"both are same\")\n",
    "elif len(s)>len(s1):\n",
    "    r=s1+s+s1\n",
    "else:\n",
    "    r=s+s1+s\n",
    "print(r)"
   ]
  },
  {
   "cell_type": "code",
   "execution_count": 191,
   "metadata": {},
   "outputs": [
    {
     "name": "stdout",
     "output_type": "stream",
     "text": [
      "hellohai123"
     ]
    }
   ],
   "source": [
    "#program to remove the special characters \n",
    "s=\"hellohai@123\"\n",
    "for i in s:\n",
    "    if i.isalnum():\n",
    "        print(i,end=\"\")"
   ]
  },
  {
   "cell_type": "code",
   "execution_count": 7,
   "metadata": {},
   "outputs": [
    {
     "name": "stdout",
     "output_type": "stream",
     "text": [
      "hElLO"
     ]
    }
   ],
   "source": [
    "#lowercase to uppercase and uppercase to lowercase\n",
    "s=\"HeLlo\"\n",
    "for i in s:\n",
    "    if i.islower():\n",
    "        print(i.upper(),end=\"\")\n",
    "    elif i.isupper():\n",
    "        print(i.lower(),end=\"\")\n"
   ]
  },
  {
   "cell_type": "code",
   "execution_count": 10,
   "metadata": {},
   "outputs": [
    {
     "name": "stdout",
     "output_type": "stream",
     "text": [
      "hElLO\n"
     ]
    }
   ],
   "source": [
    "s=\"HeLlo\".swapcase()\n",
    "print(s)"
   ]
  },
  {
   "cell_type": "code",
   "execution_count": 76,
   "metadata": {},
   "outputs": [
    {
     "name": "stdout",
     "output_type": "stream",
     "text": [
      "True\n"
     ]
    }
   ],
   "source": [
    "# print true if string have 1 digit and 1 letter and also not having speical characters else false\n",
    "s='hello123'\n",
    "d,l,c=0,0,0\n",
    "for i in s:\n",
    "    if i.isalnum():\n",
    "        if i.isdigit():\n",
    "            d=1\n",
    "        elif i.isalpha():\n",
    "            l=1\n",
    "    else:\n",
    "        c=1\n",
    "if d>0 and l>0 and c==0:\n",
    "    print(\"True\")\n",
    "else:\n",
    "    print(\"False\")\n"
   ]
  },
  {
   "cell_type": "code",
   "execution_count": 78,
   "metadata": {},
   "outputs": [
    {
     "name": "stdout",
     "output_type": "stream",
     "text": [
      "elo HL\n"
     ]
    }
   ],
   "source": [
    "#print the lowercase letters followed by uppercase letters\n",
    "s=\"HeLlo\"\n",
    "u=\"\"\n",
    "l=\"\"\n",
    "for i in s:\n",
    "    if i.islower():\n",
    "        l+=i\n",
    "    elif i.isupper():\n",
    "        u+=i\n",
    "print(l,u)"
   ]
  },
  {
   "cell_type": "code",
   "execution_count": 79,
   "metadata": {},
   "outputs": [
    {
     "name": "stdout",
     "output_type": "stream",
     "text": [
      "hlo"
     ]
    }
   ],
   "source": [
    "#remove the odd index values character in a string\n",
    "s=\"hello\"\n",
    "for i in range(len(s)):\n",
    "    if i%2==0:\n",
    "        print(s[i],end=\"\")"
   ]
  },
  {
   "cell_type": "code",
   "execution_count": 81,
   "metadata": {},
   "outputs": [
    {
     "name": "stdout",
     "output_type": "stream",
     "text": [
      "  pacecollegeongole\n"
     ]
    }
   ],
   "source": [
    "#move all the spaces to the front of the string\n",
    "s=\"pace college ongole\"\n",
    "p,x=\"\",\"\"\n",
    "for i in s:\n",
    "    if i.isspace():\n",
    "        p+=i\n",
    "    else:\n",
    "        x+=i\n",
    "print(p+x)"
   ]
  },
  {
   "cell_type": "code",
   "execution_count": 95,
   "metadata": {},
   "outputs": [
    {
     "name": "stdout",
     "output_type": "stream",
     "text": [
      "Valid\n"
     ]
    }
   ],
   "source": [
    "# string must contain HT only else print invalid\n",
    "s=\"HTHTHT\"\n",
    "f=0\n",
    "for i in range(0,len(s),2):\n",
    "    if s[i:i+2]!=\"HT\":\n",
    "        f=1\n",
    "        break\n",
    "if f==0:\n",
    "    print(\"Valid\")\n",
    "else:\n",
    "    print(\"Invalid\")"
   ]
  },
  {
   "cell_type": "code",
   "execution_count": 97,
   "metadata": {},
   "outputs": [
    {
     "name": "stdout",
     "output_type": "stream",
     "text": [
      "alphabets string\n"
     ]
    }
   ],
   "source": [
    "# string is uppercase print uppercase or in lowercase then lowercase else alphabets string\n",
    "s=\"helAlo\"\n",
    "if s.islower():\n",
    "    print(\"lower case\")\n",
    "elif s.isupper():\n",
    "    print(\"upper case\")\n",
    "else:\n",
    "    print(\"alphabets string\")"
   ]
  },
  {
   "cell_type": "code",
   "execution_count": 120,
   "metadata": {},
   "outputs": [
    {
     "name": "stdout",
     "output_type": "stream",
     "text": [
      "bwaadtl*i*a*r*"
     ]
    }
   ],
   "source": [
    "# bad , water\n",
    "# bwaadt *e *r\n",
    "s,s1=\"badliar\",\"wat\"\n",
    "for i in range(max(len(s),len(s1))):\n",
    "    if i<len(s):\n",
    "        if s[i]:\n",
    "            print(s[i],end=\"\")\n",
    "    else:\n",
    "        print(\"*\",end=\"\")\n",
    "    if i<len(s1):\n",
    "        if s1[i]:\n",
    "            print(s1[i],end=\"\")\n",
    "    else:\n",
    "        print(\"*\",end=\"\")"
   ]
  },
  {
   "cell_type": "code",
   "execution_count": 132,
   "metadata": {},
   "outputs": [
    {
     "name": "stdout",
     "output_type": "stream",
     "text": [
      "craair"
     ]
    }
   ],
   "source": [
    "#print the first and last characters of the words in string\n",
    "s=\"consider a integer\".split()\n",
    "for i in s:\n",
    "    print(i[0]+i[-1],end=\"\")"
   ]
  },
  {
   "cell_type": "code",
   "execution_count": 39,
   "metadata": {},
   "outputs": [
    {
     "name": "stdout",
     "output_type": "stream",
     "text": [
      "senosnIia\n"
     ]
    }
   ],
   "source": [
    "# Indonesia\n",
    "# s \n",
    "# senodnIia\n",
    "s=\"Insonesia\"\n",
    "k=\"s\"\n",
    "v=[i for i in range(len(s)) if s[i]==k]\n",
    "if v:\n",
    "    print(s[:v[-1]+1][::-1]+s[v[-1]+1:])\n",
    "else:\n",
    "    print(s)"
   ]
  },
  {
   "cell_type": "code",
   "execution_count": 158,
   "metadata": {},
   "outputs": [
    {
     "name": "stdout",
     "output_type": "stream",
     "text": [
      "lliksset\n"
     ]
    }
   ],
   "source": [
    "s=\"skillset\"\n",
    "ch=\"l\"\n",
    "f=s.rfind(ch)\n",
    "print(s[:f+1][::-1]+s[f+1:])"
   ]
  },
  {
   "cell_type": "code",
   "execution_count": 63,
   "metadata": {},
   "outputs": [
    {
     "name": "stdout",
     "output_type": "stream",
     "text": [
      "No\n"
     ]
    }
   ],
   "source": [
    "#take n string and if all first and last character equal print Yes else No\n",
    "n=2\n",
    "l=['Mang0','morning']\n",
    "f=0\n",
    "c=0\n",
    "for i in l:\n",
    "    if i[0].lower()==l[0][0].lower():\n",
    "        f+=1\n",
    "    if i[-1].lower()==l[0][-1].lower():\n",
    "        c+=1\n",
    "if f==c==n:\n",
    "    print(\"Yes\")\n",
    "else:\n",
    "    print(\"No\")"
   ]
  },
  {
   "cell_type": "code",
   "execution_count": 69,
   "metadata": {},
   "outputs": [
    {
     "name": "stdout",
     "output_type": "stream",
     "text": [
      "heelllo"
     ]
    }
   ],
   "source": [
    "#print the odd position character one time and even two times\n",
    "s=\"hello\"\n",
    "for i in range(0,len(s)):\n",
    "    if i%2!=0:\n",
    "        print(s[i]*2,end=\"\")\n",
    "    else:\n",
    "        print(s[i],end=\"\")"
   ]
  },
  {
   "cell_type": "code",
   "execution_count": 140,
   "metadata": {},
   "outputs": [
    {
     "name": "stdout",
     "output_type": "stream",
     "text": [
      "['the', 'sky', 'is', 'blue']\n",
      "the is blue "
     ]
    }
   ],
   "source": [
    "#print the words of the string if it contains atleast one vowel\n",
    "s=\"The sky is blue\".lower().split()\n",
    "print(s)\n",
    "for i in s:\n",
    "    flag=1\n",
    "    for j in i:\n",
    "        if  j in 'aeiou':\n",
    "            flag=0\n",
    "    if flag==0:\n",
    "        print(i,end=\" \")"
   ]
  },
  {
   "cell_type": "code",
   "execution_count": 164,
   "metadata": {},
   "outputs": [
    {
     "name": "stdout",
     "output_type": "stream",
     "text": [
      "palpe\n"
     ]
    }
   ],
   "source": [
    "#swap 1 and 2 , 3 and 4 , 5 and 6 \n",
    "s=\"apple\"\n",
    "i=1\n",
    "j=0\n",
    "r=\"\"\n",
    "while i<len(s):\n",
    "    r+=s[i]+s[j]\n",
    "    j+=2\n",
    "    i+=2\n",
    "if len(s)%2!=0:\n",
    "    r+=s[-1]\n",
    "print(r)"
   ]
  },
  {
   "cell_type": "code",
   "execution_count": 199,
   "metadata": {},
   "outputs": [
    {
     "name": "stdout",
     "output_type": "stream",
     "text": [
      "ogdo\n"
     ]
    }
   ],
   "source": [
    "s=\"good\"\n",
    "r=\"\"\n",
    "j=0\n",
    "for i in range(0,len(s)-1,2):\n",
    "    r+=s[i+1]+s[j]\n",
    "    j+=2\n",
    "if len(s)%2!=0:\n",
    "    r+=s[-1]\n",
    "print(r)"
   ]
  },
  {
   "cell_type": "code",
   "execution_count": 203,
   "metadata": {},
   "outputs": [
    {
     "name": "stdout",
     "output_type": "stream",
     "text": [
      "3\n"
     ]
    }
   ],
   "source": [
    "s=\"mediterranean\"\n",
    "r=\"\"\n",
    "for i in s:\n",
    "    if i in \"aeiou\" and i not in r:\n",
    "        r+=i\n",
    "print(len(r))"
   ]
  },
  {
   "cell_type": "code",
   "execution_count": 206,
   "metadata": {},
   "outputs": [
    {
     "name": "stdout",
     "output_type": "stream",
     "text": [
      "good#@*morning"
     ]
    }
   ],
   "source": [
    "#replace the space with #@*\n",
    "s=\"good morning\"\n",
    "for i in s:\n",
    "    if i==\" \":\n",
    "        print(\"#@*\",end=\"\")\n",
    "    else:\n",
    "        print(i,end=\"\")"
   ]
  },
  {
   "cell_type": "code",
   "execution_count": 215,
   "metadata": {},
   "outputs": [
    {
     "name": "stdout",
     "output_type": "stream",
     "text": [
      "sometimes adjective comes between article and noun \n"
     ]
    }
   ],
   "source": [
    "#remove all articles a,an and the in string if string contains all articles then print -1\n",
    "s=\" sometimes an adjective comes between the article and noun\".split()\n",
    "l=['a','an','the']\n",
    "r=\"\"\n",
    "for i in s:\n",
    "    if i not in l:\n",
    "        r+=i+\" \"\n",
    "if r:\n",
    "    print(r)\n",
    "else:\n",
    "    print(-1)"
   ]
  },
  {
   "cell_type": "code",
   "execution_count": 293,
   "metadata": {},
   "outputs": [
    {
     "name": "stdout",
     "output_type": "stream",
     "text": [
      "4\n",
      "1\n",
      "aba\n"
     ]
    }
   ],
   "source": [
    "#string contains atleast . and if the string is replace the . withany character and its palindrome then print the modified string\n",
    "s='a.ba'\n",
    "print(len(s))\n",
    "v=s.replace('.',\"\")\n",
    "i=s.index('.')\n",
    "print(i)\n",
    "r=s[:i]+s[len(s)-i-1]+s[i+1:]\n",
    "if v[::-1]==v:\n",
    "    print(v)\n",
    "elif r[::-1]==r:\n",
    "    print(r)\n",
    "else:\n",
    "    print(-1)"
   ]
  },
  {
   "cell_type": "code",
   "execution_count": 265,
   "metadata": {},
   "outputs": [
    {
     "name": "stdout",
     "output_type": "stream",
     "text": [
      "1\n"
     ]
    }
   ],
   "source": [
    "#print the count of longest palindrome string\n",
    "s=\"triangle\"\n",
    "l=[]\n",
    "for i in range(len(s)):\n",
    "    for j in range(i+1,len(s)+1):\n",
    "        if s[i:j]==s[i:j][::-1]:\n",
    "            l.append(len(s[i:j]))\n",
    "print(max(l))"
   ]
  },
  {
   "cell_type": "code",
   "execution_count": 263,
   "metadata": {},
   "outputs": [
    {
     "name": "stdout",
     "output_type": "stream",
     "text": [
      "246\n",
      "12\n"
     ]
    }
   ],
   "source": [
    "#sum of max occurence characters\n",
    "s=\"122344566\"\n",
    "l=[s.count(i) for i in s]\n",
    "s1=0\n",
    "r=\"\"\n",
    "for i in s:\n",
    "    if s.count(i)==max(l) and i not in r:\n",
    "        r+=i\n",
    "        s1+=int(i)\n",
    "print(s1)"
   ]
  },
  {
   "cell_type": "code",
   "execution_count": 26,
   "metadata": {},
   "outputs": [
    {
     "name": "stdout",
     "output_type": "stream",
     "text": [
      "4\n",
      "100\n"
     ]
    }
   ],
   "source": [
    "#two binary strings a and b , return their sum as a binary string\n",
    "def binary(a):\n",
    "    s=0\n",
    "    i=len(a)-1\n",
    "    for j in a:\n",
    "        s=s+int(j)*(2**i)\n",
    "        i-=1\n",
    "    return s\n",
    "\n",
    "a=\"11\"\n",
    "b=\"1\"\n",
    "s1=binary(a)+binary(b)\n",
    "r=\"\"\n",
    "while s1>0:\n",
    "    rem= s1%2\n",
    "    s1=s1//2\n",
    "    r+=str(rem)\n",
    "print(r[::-1])"
   ]
  },
  {
   "cell_type": "code",
   "execution_count": 51,
   "metadata": {},
   "outputs": [
    {
     "name": "stdout",
     "output_type": "stream",
     "text": [
      "10101\n"
     ]
    }
   ],
   "source": [
    "a=\"1010\"\n",
    "b=\"1011\"\n",
    "c=int(a,2)+int(b,2)\n",
    "print(bin(c)[2:])"
   ]
  },
  {
   "cell_type": "code",
   "execution_count": 64,
   "metadata": {},
   "outputs": [
    {
     "name": "stdout",
     "output_type": "stream",
     "text": [
      "Palindrome\n"
     ]
    }
   ],
   "source": [
    "#check whethear given string is palindrome or not by removing all spaces and speical characters\n",
    "s=\"A man, a plan, a canal: Panama\".lower()\n",
    "r=[i for i in s if i.isalnum()]\n",
    "if r==r[::-1]:\n",
    "    print(\"Palindrome\")\n",
    "else:\n",
    "    print(\"Not palindrome\")"
   ]
  },
  {
   "cell_type": "code",
   "execution_count": 65,
   "metadata": {},
   "outputs": [
    {
     "name": "stdout",
     "output_type": "stream",
     "text": [
      "3\n"
     ]
    }
   ],
   "source": [
    "#print the count of strings are which are in same case\n",
    "n=4\n",
    "l=['hello','ravi','TASK','Fun']\n",
    "c=0\n",
    "for i in l:\n",
    "    if i.islower() or i.isupper():\n",
    "        c+=1\n",
    "print(c)"
   ]
  },
  {
   "cell_type": "code",
   "execution_count": 115,
   "metadata": {},
   "outputs": [
    {
     "name": "stdout",
     "output_type": "stream",
     "text": [
      "ai"
     ]
    }
   ],
   "source": [
    "s=\"paris\"\n",
    "x=8&1 #(8--> 1000 and 1--->1 , so 1000 & 0001 => 000(0) even else 000(1) odd )\n",
    "if x==1:\n",
    "    for i in range(0,len(s),2):\n",
    "            print(s[i],end=\"\")\n",
    "else:\n",
    "    for i in range(1,len(s),2):\n",
    "            print(s[i],end=\"\")"
   ]
  },
  {
   "cell_type": "code",
   "execution_count": 100,
   "metadata": {},
   "outputs": [
    {
     "name": "stdout",
     "output_type": "stream",
     "text": [
      "ai\n"
     ]
    }
   ],
   "source": [
    "s=\"paris\"\n",
    "x=8\n",
    "r=\"\"\n",
    "if x%2!=0:\n",
    "    for i in range(0,len(s),2):\n",
    "        r+=s[i]\n",
    "else:\n",
    "    for j in range(1,len(s),2):\n",
    "        r+=s[j]\n",
    "print(r)"
   ]
  },
  {
   "cell_type": "code",
   "execution_count": 137,
   "metadata": {},
   "outputs": [
    {
     "name": "stdout",
     "output_type": "stream",
     "text": [
      "pace college\n"
     ]
    }
   ],
   "source": [
    "#remove the string after the particular substring \n",
    "s=\" pace college ongole\".split()\n",
    "ss=\"college\"\n",
    "if ss in s:\n",
    "    v=s.index(ss)\n",
    "    print(*s[:v+1])\n",
    "else:\n",
    "    print(*s)"
   ]
  },
  {
   "cell_type": "code",
   "execution_count": 156,
   "metadata": {},
   "outputs": [
    {
     "name": "stdout",
     "output_type": "stream",
     "text": [
      "['GFG', 'Bst', 'f', 'r', 'g', 'ks']\n"
     ]
    }
   ],
   "source": [
    "#split the string based on the vowels\n",
    "l=\"aeiouAEIOU\"\n",
    "s=\"GFGaBstuforigeeks\"\n",
    "r=\"\"\n",
    "for i in s:\n",
    "    if i in l:\n",
    "        r+=\" \"\n",
    "    else:\n",
    "        r+=i\n",
    "print(r.split())"
   ]
  },
  {
   "cell_type": "code",
   "execution_count": 157,
   "metadata": {},
   "outputs": [
    {
     "name": "stdout",
     "output_type": "stream",
     "text": [
      "bbcdf\n"
     ]
    }
   ],
   "source": [
    "#replace the vowels with next character\n",
    "s=\"abcde\"\n",
    "r=\"\"\n",
    "for i in s:\n",
    "    if i in \"aeiou\":\n",
    "        r+=chr(ord(i)+1)\n",
    "    else:\n",
    "        r+=i\n",
    "print(r)"
   ]
  },
  {
   "cell_type": "code",
   "execution_count": 159,
   "metadata": {},
   "outputs": [
    {
     "name": "stdout",
     "output_type": "stream",
     "text": [
      "hello\n"
     ]
    }
   ],
   "source": [
    "#strip() ---> remove the front and back end element\n",
    "s=\"...........hello...........\".strip(\".\")\n",
    "print(s)"
   ]
  },
  {
   "cell_type": "code",
   "execution_count": 160,
   "metadata": {},
   "outputs": [
    {
     "name": "stdout",
     "output_type": "stream",
     "text": [
      "hhhh--------\n"
     ]
    }
   ],
   "source": [
    "#lstrip()-------> is used to trim the left of the string\n",
    "s=\"---------------hhhh--------\".lstrip(\"-\")\n",
    "print(s)"
   ]
  },
  {
   "cell_type": "code",
   "execution_count": 161,
   "metadata": {},
   "outputs": [
    {
     "name": "stdout",
     "output_type": "stream",
     "text": [
      ">>>>>>>>>>>hello\n"
     ]
    }
   ],
   "source": [
    "#rstrip()---------> is used to trim the right of the string\n",
    "s=\">>>>>>>>>>>hello>>>>>>>>>\".rstrip(\">\")\n",
    "print(s)"
   ]
  },
  {
   "cell_type": "code",
   "execution_count": 167,
   "metadata": {},
   "outputs": [
    {
     "name": "stdout",
     "output_type": "stream",
     "text": [
      "[1, 3, 5]\n"
     ]
    }
   ],
   "source": [
    "#program to print the indxes of the substring in the string\n",
    "s=\"java programming python programming c programming\".split()\n",
    "ss=\"programming\"\n",
    "l=[]\n",
    "for i in range(len(s)):\n",
    "    if s[i]==ss:\n",
    "        l.append(i)\n",
    "print(l)"
   ]
  },
  {
   "cell_type": "code",
   "execution_count": 170,
   "metadata": {},
   "outputs": [
    {
     "name": "stdout",
     "output_type": "stream",
     "text": [
      "ecap\n"
     ]
    }
   ],
   "source": [
    "#reverse the string if it's length is multiple of 4\n",
    "s=\"pace\"\n",
    "if len(s)%4==0:\n",
    "    print(s[::-1])\n",
    "else:\n",
    "    print(s)"
   ]
  },
  {
   "cell_type": "code",
   "execution_count": 23,
   "metadata": {},
   "outputs": [
    {
     "name": "stdout",
     "output_type": "stream",
     "text": [
      "hurt,hurt heart\n",
      "Let it be, dont  it be, dont  it be, dont  it be\n"
     ]
    }
   ],
   "source": [
    "#replace()\n",
    "s='cold,cold heart'\n",
    "print(s.replace('cold','hurt'))\n",
    "ss='Let it be, let it be, let it be, let it be'\n",
    "print(ss.replace('let','dont ',4))"
   ]
  },
  {
   "cell_type": "code",
   "execution_count": 24,
   "metadata": {},
   "outputs": [
    {
     "name": "stdout",
     "output_type": "stream",
     "text": [
      "['Tutor', 'Joes', 'Computer', 'Education']\n"
     ]
    }
   ],
   "source": [
    "#\n",
    "s='Tutor\\nJoes\\nComputer\\nEducation'.split('\\n')\n",
    "print(s)"
   ]
  },
  {
   "cell_type": "code",
   "execution_count": 38,
   "metadata": {},
   "outputs": [
    {
     "name": "stdout",
     "output_type": "stream",
     "text": [
      "Decimal 10\n",
      "Binary 1010\n",
      "Octual 12\n",
      "Heximal A\n"
     ]
    }
   ],
   "source": [
    "n=10\n",
    "print(\"Decimal\",n)\n",
    "print(\"Binary\",bin(n)[2:])\n",
    "print(\"Octual\",oct(n)[2:])\n",
    "print(\"Heximal\",(hex(n)[2:].upper()))"
   ]
  },
  {
   "cell_type": "code",
   "execution_count": 40,
   "metadata": {},
   "outputs": [
    {
     "name": "stdout",
     "output_type": "stream",
     "text": [
      "10\n"
     ]
    }
   ],
   "source": [
    "#print the count of the non-substrings\n",
    "s=\"pace\"\n",
    "l=len(s)\n",
    "print(int(l*(l+1)//2))"
   ]
  },
  {
   "cell_type": "code",
   "execution_count": 25,
   "metadata": {},
   "outputs": [
    {
     "name": "stdout",
     "output_type": "stream",
     "text": [
      "11\n"
     ]
    }
   ],
   "source": [
    "r=[\"I\",\"V\",\"X\",\"L\",\"C\",\"D\",\"M\"]\n",
    "a=[1,5,10,50,100,500,1000]\n",
    "s=\"IX\"\n",
    "c=0\n",
    "for i in s:\n",
    "    if i in r:\n",
    "        c+=a[r.index(i)]\n",
    "print(c)"
   ]
  },
  {
   "cell_type": "code",
   "execution_count": 1,
   "metadata": {},
   "outputs": [
    {
     "name": "stdout",
     "output_type": "stream",
     "text": [
      "1994\n"
     ]
    }
   ],
   "source": [
    "s='MCMXCIV'\n",
    "d={'I':1,'V':5,'X':10,'L':50,'C':100,'D':500,'M':1000,'IV':4,'IX':9,'XL':40,'XC':90,'CD':400,'CM':900}\n",
    "n=0\n",
    "i=0\n",
    "while i<len(s):\n",
    "    if s[i:i+2] in d:\n",
    "        n=n+d[s[i:i+2]]\n",
    "        i+=1\n",
    "    else:\n",
    "        n=n+d[s[i]]\n",
    "    i+=1\n",
    "print(n)"
   ]
  },
  {
   "cell_type": "code",
   "execution_count": 57,
   "metadata": {},
   "outputs": [
    {
     "name": "stdout",
     "output_type": "stream",
     "text": [
      "0\n"
     ]
    }
   ],
   "source": [
    "s=\"sadbutsada\"\n",
    "ss=\"sad\"\n",
    "if ss in s:\n",
    "    print(s.index(ss))\n",
    "else:\n",
    "    print(-1)"
   ]
  },
  {
   "cell_type": "code",
   "execution_count": 59,
   "metadata": {},
   "outputs": [
    {
     "name": "stdout",
     "output_type": "stream",
     "text": [
      "True False\n"
     ]
    }
   ],
   "source": [
    "#startswith() ------> if the string starts with specific value return true else false\n",
    "s=\"50 String coding questions  using python\"\n",
    "r=s.startswith('50 String')\n",
    "r1=s.startswith('Hello world')\n",
    "print(r,r1)"
   ]
  },
  {
   "cell_type": "code",
   "execution_count": 69,
   "metadata": {},
   "outputs": [
    {
     "name": "stdout",
     "output_type": "stream",
     "text": [
      "False True\n"
     ]
    }
   ],
   "source": [
    "#endswith() -------> if string a specific end value then true else false\n",
    "s=\"Ravi varma is bad boy\"\n",
    "r=s.endswith('is')\n",
    "r1=s.endswith('boy')\n",
    "print(r,r1)"
   ]
  },
  {
   "cell_type": "code",
   "execution_count": 105,
   "metadata": {},
   "outputs": [
    {
     "name": "stdout",
     "output_type": "stream",
     "text": [
      "Happy number\n"
     ]
    }
   ],
   "source": [
    "#happy number or not\n",
    "s=82\n",
    "def sm(s):\n",
    "    c=0\n",
    "    while s>0:\n",
    "        r=s%10\n",
    "        c+=r**2\n",
    "        s=s//10\n",
    "    if len(str(c))>1:\n",
    "        return sm(c)\n",
    "    else:\n",
    "        return c\n",
    "output=sm(s)\n",
    "if output==1:\n",
    "    print(\"Happy number\")\n",
    "else:\n",
    "    print(\"not\")"
   ]
  },
  {
   "cell_type": "code",
   "execution_count": 108,
   "metadata": {},
   "outputs": [
    {
     "name": "stdout",
     "output_type": "stream",
     "text": [
      "7\n"
     ]
    }
   ],
   "source": [
    "s=\"PPPPPP@PPP@PP$PP\"\n",
    "s=s.replace(\"@\",\" \").replace(\"$\",\" \").split()\n",
    "a=[]\n",
    "for i in s:\n",
    "    a.append(len(i)+1)\n",
    "a[-1]-=1\n",
    "print(max(a))"
   ]
  },
  {
   "cell_type": "code",
   "execution_count": 5,
   "metadata": {},
   "outputs": [
    {
     "name": "stdout",
     "output_type": "stream",
     "text": [
      "{'w': 3, '.': 2, 'g': 2, 'o': 3, 'l': 1, 'e': 1, 'c': 1, 'm': 1}\n"
     ]
    }
   ],
   "source": [
    "#print the count of the characters\n",
    "s=\"www.google.com\"\n",
    "d={}\n",
    "for i in s:\n",
    "    if i in d:\n",
    "        d[i]+=1\n",
    "    else:\n",
    "        d[i]=1\n",
    "print(d)"
   ]
  },
  {
   "cell_type": "code",
   "execution_count": 11,
   "metadata": {},
   "outputs": [
    {
     "name": "stdout",
     "output_type": "stream",
     "text": [
      "{'w': 3, '.': 2, 'g': 2, 'o': 3, 'l': 1, 'e': 1, 'c': 1, 'm': 1}\n"
     ]
    }
   ],
   "source": [
    "from collections import Counter\n",
    "s='www.google.com'\n",
    "r=Counter(s)\n",
    "print(dict(r))"
   ]
  },
  {
   "cell_type": "code",
   "execution_count": 20,
   "metadata": {},
   "outputs": [
    {
     "name": "stdout",
     "output_type": "stream",
     "text": [
      "slice(0, 2, None)\n",
      "slice(0, 2, None)\n",
      "rvrv\n"
     ]
    }
   ],
   "source": [
    "#to get a string first two and last chr from string . if len is 2  print empty string\n",
    "s=\"rv\"\n",
    "if len(s)<2:\n",
    "    print(\"Empty string\")\n",
    "else:\n",
    "    s1=slice(0,2)\n",
    "    s2=slice(len(s)-2,len(s))\n",
    "    print(s[s1]+s[s2])"
   ]
  },
  {
   "cell_type": "code",
   "execution_count": 23,
   "metadata": {},
   "outputs": [
    {
     "name": "stdout",
     "output_type": "stream",
     "text": [
      "pyon\n"
     ]
    }
   ],
   "source": [
    "s='python'\n",
    "if len(s)<2:\n",
    "    print(\"Empty string\")\n",
    "else:\n",
    "    print(s[0:2]+s[-2:])"
   ]
  },
  {
   "cell_type": "code",
   "execution_count": 28,
   "metadata": {},
   "outputs": [
    {
     "name": "stdout",
     "output_type": "stream",
     "text": [
      "gan#star#roup\n"
     ]
    }
   ],
   "source": [
    "#replace the other characters other than first with #\n",
    "s=\"gangstargroup\"\n",
    "f=s[0]\n",
    "r=s.replace(f,'#')\n",
    "print(f+r[1:])"
   ]
  },
  {
   "cell_type": "code",
   "execution_count": 12,
   "metadata": {},
   "outputs": [
    {
     "name": "stdout",
     "output_type": "stream",
     "text": [
      "[1, 2, 4, 5, 8]\n"
     ]
    }
   ],
   "source": [
    "#sort the list without using  bulit in function\n",
    "l=[4,5,8,2,1]\n",
    "for i in range(len(l)):\n",
    "    for j in range(i+1,len(l)):\n",
    "        if l[i]>l[j]:\n",
    "            temp=l[i]\n",
    "            l[i]=l[j]\n",
    "            l[j]=temp\n",
    "print(l)"
   ]
  },
  {
   "cell_type": "code",
   "execution_count": 16,
   "metadata": {},
   "outputs": [
    {
     "name": "stdout",
     "output_type": "stream",
     "text": [
      "[8, 5, 4, 2, 1]\n"
     ]
    }
   ],
   "source": [
    "#decending order \n",
    "l=[4,5,8,1,2]\n",
    "for i in range(len(l)):\n",
    "    for j in range(i+1,len(l)):\n",
    "        if l[i]<l[j]:\n",
    "            temp=l[i]\n",
    "            l[i]=l[j]\n",
    "            l[j]=temp\n",
    "print(l)"
   ]
  },
  {
   "cell_type": "code",
   "execution_count": 17,
   "metadata": {},
   "outputs": [
    {
     "name": "stdout",
     "output_type": "stream",
     "text": [
      "24 12 "
     ]
    }
   ],
   "source": [
    "l=[4,24,8,10,12,23]\n",
    "v=[6,4]\n",
    "for i in l:\n",
    "    if i%v[0]==0 and i%v[1]==0:\n",
    "        print(i,end=\" \")"
   ]
  },
  {
   "cell_type": "code",
   "execution_count": 20,
   "metadata": {},
   "outputs": [
    {
     "name": "stdout",
     "output_type": "stream",
     "text": [
      "[24]\n"
     ]
    }
   ],
   "source": [
    "l=[4,24,8,10,12,23]\n",
    "v=[6,4]\n",
    "l2=[]\n",
    "for i in range(len(l)):\n",
    "    flag=0\n",
    "    for j in range(len(v)):\n",
    "        if l[i]%v[j]!=0:\n",
    "            flag=1\n",
    "            break\n",
    "    if flag==0:\n",
    "        l2.append(l[i])\n",
    "print(l2)"
   ]
  },
  {
   "cell_type": "code",
   "execution_count": 55,
   "metadata": {},
   "outputs": [
    {
     "name": "stdout",
     "output_type": "stream",
     "text": [
      "1 7 2 6 3 5 4\n"
     ]
    }
   ],
   "source": [
    "l=[1,3,4,5,6,2,7]\n",
    "l.sort()\n",
    "l1=[]\n",
    "i=0\n",
    "j=len(l)-1\n",
    "while i<j:\n",
    "    print(l[i],end=\" \")\n",
    "    print(l[j],end=\" \")\n",
    "    i+=1\n",
    "    j-=1\n",
    "if len(l)%2!=0:\n",
    "    print(l[i])"
   ]
  },
  {
   "cell_type": "code",
   "execution_count": 58,
   "metadata": {},
   "outputs": [
    {
     "name": "stdout",
     "output_type": "stream",
     "text": [
      "3\n",
      "5\n",
      "4\n",
      "6\n"
     ]
    }
   ],
   "source": [
    "l=[1,2,3,4]\n",
    "k=[1,2,5,6]\n",
    "r=[]\n",
    "v=max(len(l),len(k))\n",
    "i=0\n",
    "while i<v:\n",
    "    if l[i]!=k[i]:\n",
    "        print(l[i])\n",
    "        print(k[i])\n",
    "    i+=1"
   ]
  },
  {
   "cell_type": "code",
   "execution_count": 60,
   "metadata": {},
   "outputs": [
    {
     "name": "stdout",
     "output_type": "stream",
     "text": [
      "3\n",
      "4\n",
      "5\n",
      "6\n"
     ]
    }
   ],
   "source": [
    "l=[1,2,3,4]\n",
    "v=[1,2,5,6]\n",
    "for i in l:\n",
    "    if i not in v:\n",
    "        print(i)\n",
    "for j in v:\n",
    "    if j not in l:\n",
    "        print(j)"
   ]
  },
  {
   "cell_type": "code",
   "execution_count": 1,
   "metadata": {},
   "outputs": [
    {
     "name": "stdout",
     "output_type": "stream",
     "text": [
      "2\n",
      "4\n",
      "6\n",
      "16\n"
     ]
    }
   ],
   "source": [
    "l=[1,2,3,4]\n",
    "for i in range(len(l)):\n",
    "    if i%2==0:\n",
    "        print(l[i]+l[i])\n",
    "    else:\n",
    "        print(l[i]*l[i])"
   ]
  },
  {
   "cell_type": "code",
   "execution_count": 23,
   "metadata": {},
   "outputs": [
    {
     "name": "stdout",
     "output_type": "stream",
     "text": [
      "27\n"
     ]
    }
   ],
   "source": [
    "l=[1,2,3,4,5,6,7,8]\n",
    "n=3\n",
    "s=0\n",
    "for i in range(1,n+1):\n",
    "    s+=l[i]\n",
    "s1=0\n",
    "for i in range(len(l)-(n+1),len(l)-1):\n",
    "    s1+=l[i]\n",
    "print(s+s1)"
   ]
  },
  {
   "cell_type": "code",
   "execution_count": 30,
   "metadata": {},
   "outputs": [
    {
     "name": "stdout",
     "output_type": "stream",
     "text": [
      "27\n"
     ]
    }
   ],
   "source": [
    "l=[1,2,3,4,5,6,7,8]\n",
    "x=3\n",
    "s=sum(l[:x])\n",
    "s1=sum(l[-3:])\n",
    "print(s+s1)"
   ]
  },
  {
   "cell_type": "code",
   "execution_count": 60,
   "metadata": {},
   "outputs": [
    {
     "name": "stdout",
     "output_type": "stream",
     "text": [
      "[1, 2, 3, 4] 3\n",
      "1\n"
     ]
    }
   ],
   "source": [
    "l=[1,2,3,1,4,1]\n",
    "v=[]\n",
    "v1=[]\n",
    "for i in l:\n",
    "    if i not in v1:\n",
    "        v1.append(i)\n",
    "        v.append(l.count(i))\n",
    "z=max(v)\n",
    "print(v1,z)\n",
    "print(v1[v.index(max(v))])"
   ]
  },
  {
   "cell_type": "code",
   "execution_count": 62,
   "metadata": {},
   "outputs": [
    {
     "name": "stdout",
     "output_type": "stream",
     "text": [
      "[2, 3, 4, 1, 1, 1]\n"
     ]
    }
   ],
   "source": [
    "l=[1,2,3,1,4,1]\n",
    "v=[]\n",
    "for i in l:\n",
    "    v.append(l.count(i))\n",
    "m=max(v)\n",
    "l1=[]\n",
    "l2=[]\n",
    "for i in l:\n",
    "    if l.count(i)==m:\n",
    "        l1.append(i)\n",
    "    else:\n",
    "        l2.append(i)\n",
    "print(l2+l1)"
   ]
  },
  {
   "cell_type": "code",
   "execution_count": 65,
   "metadata": {},
   "outputs": [
    {
     "name": "stdout",
     "output_type": "stream",
     "text": [
      "7 9\n",
      "8 8\n",
      "9 7\n",
      "5 6\n"
     ]
    }
   ],
   "source": [
    "l=[7,8,9,5]\n",
    "l1=[6,7,8,9]\n",
    "l1.sort(reverse=True)\n",
    "for i in range(len(l)):\n",
    "    print(l[i],l1[i])"
   ]
  },
  {
   "cell_type": "code",
   "execution_count": 67,
   "metadata": {},
   "outputs": [
    {
     "name": "stdout",
     "output_type": "stream",
     "text": [
      "[2, 4]\n"
     ]
    }
   ],
   "source": [
    "l=[1,2,3,1,2,3,4,1,3,1,2,4,3,4]\n",
    "v=[]\n",
    "l1=[]\n",
    "for i in l:\n",
    "    if l.count(i)%2!=0 and i not in l1:\n",
    "        l1.append(i)\n",
    "print(l1)\n"
   ]
  },
  {
   "cell_type": "code",
   "execution_count": 112,
   "metadata": {},
   "outputs": [
    {
     "name": "stdout",
     "output_type": "stream",
     "text": [
      "5\n",
      "3\n",
      "0 89\n"
     ]
    }
   ],
   "source": [
    "l=[26,23,45,89,12,0]\n",
    "print(l.index(min(l)))\n",
    "print(l.index(max(l)))\n",
    "print(l[5],l[3])"
   ]
  },
  {
   "cell_type": "code",
   "execution_count": 154,
   "metadata": {},
   "outputs": [
    {
     "name": "stdout",
     "output_type": "stream",
     "text": [
      "3 5\n"
     ]
    }
   ],
   "source": [
    "l=[26,23,45,89,12,0]\n",
    "s=0\n",
    "l1=0\n",
    "for i in l:\n",
    "    if i>l1:\n",
    "        l1=i\n",
    "    if i<s:\n",
    "        s=i\n",
    "print(l.index(l1),l.index(s))"
   ]
  },
  {
   "cell_type": "code",
   "execution_count": 159,
   "metadata": {},
   "outputs": [
    {
     "name": "stdout",
     "output_type": "stream",
     "text": [
      "3\n"
     ]
    }
   ],
   "source": [
    "l=[1,2,3,4,5,6,7]\n",
    "e=8\n",
    "c=0\n",
    "for i in range(len(l)):\n",
    "    for j in range(len(l)-1,-1,-1):\n",
    "        if i<j:\n",
    "            if l[i]+l[j]==e:\n",
    "                c+=1\n",
    "print(c)"
   ]
  },
  {
   "cell_type": "code",
   "execution_count": 164,
   "metadata": {},
   "outputs": [
    {
     "name": "stdout",
     "output_type": "stream",
     "text": [
      "[1, 2, 6, 3, 4]\n"
     ]
    }
   ],
   "source": [
    "l=[1,2,3,4]\n",
    "p=2\n",
    "e=6\n",
    "l.insert(2,6)\n",
    "print(l)"
   ]
  },
  {
   "cell_type": "code",
   "execution_count": 171,
   "metadata": {},
   "outputs": [
    {
     "name": "stdout",
     "output_type": "stream",
     "text": [
      "[5, 7, 8]\n"
     ]
    }
   ],
   "source": [
    "l=[5,6,7,8]\n",
    "e=6\n",
    "l.remove(e)\n",
    "print(l)"
   ]
  },
  {
   "cell_type": "code",
   "execution_count": 179,
   "metadata": {},
   "outputs": [
    {
     "name": "stdout",
     "output_type": "stream",
     "text": [
      "[9, 5, 6, 7, 8, 4]\n"
     ]
    }
   ],
   "source": [
    "l=[4,5,6,7,8,9]\n",
    "print([l[-1]]+l[1:-1]+[l[0]])"
   ]
  },
  {
   "cell_type": "code",
   "execution_count": 185,
   "metadata": {},
   "outputs": [
    {
     "name": "stdout",
     "output_type": "stream",
     "text": [
      "[9, 5, 6, 7, 8, 4]\n"
     ]
    }
   ],
   "source": [
    "l=[4,5,6,7,8,9]\n",
    "t=l[0]\n",
    "l[0]=l[-1]\n",
    "l[-1]=t\n",
    "print(l)"
   ]
  },
  {
   "cell_type": "code",
   "execution_count": 1,
   "metadata": {},
   "outputs": [
    {
     "name": "stdout",
     "output_type": "stream",
     "text": [
      "p 1\n",
      "a 1\n",
      "c 1\n",
      "e 1\n"
     ]
    }
   ],
   "source": [
    "s=\"pace\"\n",
    "v=\"\"\n",
    "for i in s:\n",
    "    if i not in v:\n",
    "        v+=i\n",
    "        print(i,s.count(i))"
   ]
  },
  {
   "cell_type": "code",
   "execution_count": 5,
   "metadata": {},
   "outputs": [
    {
     "name": "stdout",
     "output_type": "stream",
     "text": [
      "e 3\n"
     ]
    }
   ],
   "source": [
    "s=\"pace college\"\n",
    "v=0\n",
    "r=\"\"\n",
    "for i in s:\n",
    "    if v<s.count(i):\n",
    "        v=s.count(i)\n",
    "        r=i\n",
    "print(r,v)"
   ]
  },
  {
   "cell_type": "code",
   "execution_count": 6,
   "metadata": {},
   "outputs": [
    {
     "name": "stdout",
     "output_type": "stream",
     "text": [
      "paog\n"
     ]
    }
   ],
   "source": [
    "s=\"pacecollege\"\n",
    "r=\"\"\n",
    "for i in s:\n",
    "    if s.count(i)==1 and i not in r:\n",
    "        r+=i\n",
    "print(r)"
   ]
  },
  {
   "cell_type": "code",
   "execution_count": 8,
   "metadata": {},
   "outputs": [
    {
     "name": "stdout",
     "output_type": "stream",
     "text": [
      "paceolg\n"
     ]
    }
   ],
   "source": [
    "s=\"pacecollege\"\n",
    "r=\"\"\n",
    "for i in s:\n",
    "    if i not in r:\n",
    "        r+=i\n",
    "print(r)"
   ]
  },
  {
   "cell_type": "code",
   "execution_count": 9,
   "metadata": {},
   "outputs": [
    {
     "name": "stdout",
     "output_type": "stream",
     "text": [
      "cel\n"
     ]
    }
   ],
   "source": [
    "s=\"pace college\"\n",
    "r=\"\"\n",
    "for i in s:\n",
    "    if s.count(i)>1 and i not in r:\n",
    "        r+=i\n",
    "print(r)"
   ]
  },
  {
   "cell_type": "code",
   "execution_count": 10,
   "metadata": {},
   "outputs": [
    {
     "name": "stdout",
     "output_type": "stream",
     "text": [
      "paceolg cel\n"
     ]
    }
   ],
   "source": [
    "s=\"pacecollege\"\n",
    "u=\"\"\n",
    "d=\"\"\n",
    "for i in s:\n",
    "    if i not in u:\n",
    "        u+=i\n",
    "    if s.count(i)>1 and i not in d:\n",
    "        d+=i\n",
    "print(u,d)"
   ]
  },
  {
   "cell_type": "code",
   "execution_count": 11,
   "metadata": {},
   "outputs": [
    {
     "name": "stdout",
     "output_type": "stream",
     "text": [
      "cl\n"
     ]
    }
   ],
   "source": [
    "s=\"pacecollege\"\n",
    "r=\"\"\n",
    "for i in s:\n",
    "    if s.count(i)%2==0 and i not in r:\n",
    "        r+=i\n",
    "print(r)"
   ]
  },
  {
   "cell_type": "code",
   "execution_count": 74,
   "metadata": {},
   "outputs": [
    {
     "name": "stdout",
     "output_type": "stream",
     "text": [
      "l\n"
     ]
    }
   ],
   "source": [
    "s=\"pacecollegel\"\n",
    "r=[]\n",
    "for i in s:\n",
    "    r.append(s.count(i))\n",
    "m=max(r)\n",
    "re=\"\"\n",
    "v=\"\"\n",
    "c=0\n",
    "for i in s:\n",
    "    if s.count(i)==m and i not in re:\n",
    "        re+=i\n",
    "        if c<ord(i):\n",
    "            c=ord(i)\n",
    "            v=i\n",
    "print(v)"
   ]
  },
  {
   "cell_type": "code",
   "execution_count": 103,
   "metadata": {},
   "outputs": [
    {
     "name": "stdout",
     "output_type": "stream",
     "text": [
      "r 2\n",
      "g 2\n",
      "m 2\n"
     ]
    }
   ],
   "source": [
    "s=\"programming\"\n",
    "l=[]\n",
    "for i in s:\n",
    "    l.append(s.count(i))\n",
    "m=max(l)\n",
    "r=\"\"\n",
    "for i in s:\n",
    "    if s.count(i)==m and i not in r:\n",
    "        r+=i\n",
    "        print(i,m)"
   ]
  },
  {
   "cell_type": "code",
   "execution_count": 106,
   "metadata": {},
   "outputs": [
    {
     "name": "stdout",
     "output_type": "stream",
     "text": [
      "2\n"
     ]
    }
   ],
   "source": [
    "s=\"abcdcdc\"\n",
    "s1=\"cdc\"\n",
    "c=0\n",
    "for i in range(len(s)):\n",
    "    if s[i:i+len(s1)]==s1:\n",
    "        c+=1\n",
    "print(c)"
   ]
  },
  {
   "cell_type": "code",
   "execution_count": 107,
   "metadata": {},
   "outputs": [
    {
     "name": "stdout",
     "output_type": "stream",
     "text": [
      "anagram\n"
     ]
    }
   ],
   "source": [
    "s=sorted(input())\n",
    "s1=sorted(input())\n",
    "if s==s1:\n",
    "    print(\"anagram\")\n",
    "else:\n",
    "    print(\"not a anagram\")"
   ]
  },
  {
   "cell_type": "code",
   "execution_count": 111,
   "metadata": {},
   "outputs": [
    {
     "name": "stdout",
     "output_type": "stream",
     "text": [
      "panagram\n"
     ]
    }
   ],
   "source": [
    "s=\"the quick brown fox jumps over the lazy dog\"\n",
    "v=0\n",
    "for i in set(s):\n",
    "    if i.isalpha():\n",
    "        v+=1\n",
    "if v==26:\n",
    "    print(\"panagram\")\n",
    "else:\n",
    "    print(\"not a panagram\")"
   ]
  },
  {
   "cell_type": "code",
   "execution_count": 112,
   "metadata": {},
   "outputs": [
    {
     "name": "stdout",
     "output_type": "stream",
     "text": [
      "s'teLekatedoCteeLtsetnoc\n"
     ]
    }
   ],
   "source": [
    "s=\"Let's take LeetCode contest\".split()\n",
    "r=\"\"\n",
    "for i in s:\n",
    "    r+=i[::-1]\n",
    "print(r)"
   ]
  },
  {
   "cell_type": "code",
   "execution_count": 116,
   "metadata": {},
   "outputs": [
    {
     "name": "stdout",
     "output_type": "stream",
     "text": [
      "lovely\n"
     ]
    }
   ],
   "source": [
    "s=\"LOVELY\".lower()\n",
    "print(s)"
   ]
  },
  {
   "cell_type": "code",
   "execution_count": 119,
   "metadata": {},
   "outputs": [
    {
     "name": "stdout",
     "output_type": "stream",
     "text": [
      "cd-ab\n"
     ]
    }
   ],
   "source": [
    "s=\"ab-cd\".split(\"-\")\n",
    "print(\"-\".join(s[::-1]))\n"
   ]
  },
  {
   "cell_type": "code",
   "execution_count": 121,
   "metadata": {},
   "outputs": [
    {
     "name": "stdout",
     "output_type": "stream",
     "text": [
      "['a', 'b', 'c', 'd', 't', 's'] ['s', 't', 'd', 'c', 'b', 'a']\n",
      "st-dc@ba\n"
     ]
    }
   ],
   "source": [
    "s=\"ab-cd@ts\"\n",
    "r=\"\"\n",
    "l=[]\n",
    "j=0\n",
    "for i in s:\n",
    "    if i.isalnum():\n",
    "        l.append(i)\n",
    "r1=l[::-1]\n",
    "print(l,r1)\n",
    "for i in range(len(s)):\n",
    "    if s[i].isalnum():\n",
    "        r+=r1[j]\n",
    "        j+=1\n",
    "    else:\n",
    "        r+=s[i]\n",
    "print(r)"
   ]
  },
  {
   "cell_type": "code",
   "execution_count": 123,
   "metadata": {},
   "outputs": [
    {
     "name": "stdout",
     "output_type": "stream",
     "text": [
      "blue is sky the\n"
     ]
    }
   ],
   "source": [
    "s=\"the sky is blue\".split(\" \")\n",
    "print(\" \".join(s[::-1]))"
   ]
  },
  {
   "cell_type": "code",
   "execution_count": 128,
   "metadata": {},
   "outputs": [
    {
     "name": "stdout",
     "output_type": "stream",
     "text": [
      "PacE CollegE "
     ]
    }
   ],
   "source": [
    "s=\"pace college\".split()\n",
    "for i in s:\n",
    "    print(i[0].upper()+i[1:-1]+i[-1].upper(),end=\" \")"
   ]
  },
  {
   "cell_type": "code",
   "execution_count": 141,
   "metadata": {},
   "outputs": [
    {
     "name": "stdout",
     "output_type": "stream",
     "text": [
      "16\n"
     ]
    }
   ],
   "source": [
    "s=\"abcd\"\n",
    "s1=0\n",
    "for i in s:\n",
    "    s1+=ord(i)\n",
    "l=[int(i) for i in str(s1)]\n",
    "print(sum(l))"
   ]
  },
  {
   "cell_type": "code",
   "execution_count": 144,
   "metadata": {},
   "outputs": [
    {
     "name": "stdout",
     "output_type": "stream",
     "text": [
      "PythOn2\n"
     ]
    }
   ],
   "source": [
    "s=\"pYTHoN2\"\n",
    "r=\"\"\n",
    "for i in s:\n",
    "    if i.isupper():\n",
    "        r+=i.lower()\n",
    "    elif i.islower():\n",
    "        r+=i.upper()\n",
    "    else:\n",
    "        r+=i\n",
    "print(r)"
   ]
  },
  {
   "cell_type": "code",
   "execution_count": 152,
   "metadata": {},
   "outputs": [
    {
     "name": "stdout",
     "output_type": "stream",
     "text": [
      "['2', '6'] ['5', '9']\n",
      "5296\n"
     ]
    }
   ],
   "source": [
    "s=\"ab$g*2h5k*%9t6\"\n",
    "l1=[]\n",
    "l2=[]\n",
    "res=\"\"\n",
    "for i in s:\n",
    "    if i.isalnum():\n",
    "        pass\n",
    "    else:\n",
    "        c=c+1\n",
    "for i in s:\n",
    "    if i.isdigit():\n",
    "        if int(i)%2==0:\n",
    "            l1.append(i)\n",
    "        else:\n",
    "            l2.append(i)\n",
    "print(l1,l2)\n",
    "if c%2==0:\n",
    "    for i in range(len(l1)):\n",
    "        res+=l2[i]+l1[i]\n",
    "else:\n",
    "    for i in range(len(l1)):\n",
    "        res+=l1[i]+l2[i]\n",
    "\n",
    "print(res)"
   ]
  },
  {
   "cell_type": "code",
   "execution_count": 162,
   "metadata": {},
   "outputs": [
    {
     "name": "stdout",
     "output_type": "stream",
     "text": [
      "['b', 'c', 'a', 'n', 's'] ['9', '3', '1', '5'] ['@', '*', '$']\n",
      "abcns1359$*@\n"
     ]
    }
   ],
   "source": [
    "s=\"b9c@31*ans5$\"\n",
    "a=[]\n",
    "b=[]\n",
    "c=[]\n",
    "for i in s:\n",
    "    if i.isalpha():\n",
    "        a.append(i)\n",
    "    elif i.isdigit():\n",
    "        b.append(i)\n",
    "    else:\n",
    "        c.append(i)\n",
    "print(a,b,c)\n",
    "a.sort()\n",
    "b.sort()\n",
    "c.sort()\n",
    "print(\"\".join(a+b+c))"
   ]
  },
  {
   "cell_type": "code",
   "execution_count": 168,
   "metadata": {},
   "outputs": [
    {
     "name": "stdout",
     "output_type": "stream",
     "text": [
      "helloWORLD\n"
     ]
    }
   ],
   "source": [
    "s=\"helloworld\".lower()\n",
    "print(s[:len(s)//2]+s[len(s)//2:].upper())"
   ]
  },
  {
   "cell_type": "code",
   "execution_count": 176,
   "metadata": {},
   "outputs": [
    {
     "name": "stdout",
     "output_type": "stream",
     "text": [
      "vtcniy"
     ]
    }
   ],
   "source": [
    "s=\"vaticancity\"\n",
    "x=69\n",
    "if x%2==0:\n",
    "    for i in range(len(s)):\n",
    "        if i%2!=0:\n",
    "            print(s[i],end=\"\")\n",
    "else:\n",
    "    for i in range(len(s)):\n",
    "        if i%2==0:\n",
    "            print(s[i],end=\"\")"
   ]
  },
  {
   "cell_type": "code",
   "execution_count": 180,
   "metadata": {},
   "outputs": [
    {
     "name": "stdout",
     "output_type": "stream",
     "text": [
      "Hello, Hai How Are You? "
     ]
    }
   ],
   "source": [
    "s=\"hello, hai how are you?\".split()\n",
    "for i in s:\n",
    "    print(i[0].upper()+i[1:],end=\" \")"
   ]
  },
  {
   "cell_type": "code",
   "execution_count": 188,
   "metadata": {},
   "outputs": [
    {
     "name": "stdout",
     "output_type": "stream",
     "text": [
      "2516\n"
     ]
    }
   ],
   "source": [
    "s=\"7564168\"\n",
    "n=\"\"\n",
    "for i in range(len(s)):\n",
    "    if int(i)%2==1:\n",
    "        n+=str(int(s[i])**2)\n",
    "print(n[:4])"
   ]
  },
  {
   "cell_type": "code",
   "execution_count": 190,
   "metadata": {},
   "outputs": [
    {
     "name": "stdout",
     "output_type": "stream",
     "text": [
      "02\n"
     ]
    }
   ],
   "source": [
    "s=\"2002\"\n",
    "print(s[-2:])"
   ]
  },
  {
   "cell_type": "code",
   "execution_count": 210,
   "metadata": {},
   "outputs": [
    {
     "name": "stdout",
     "output_type": "stream",
     "text": [
      "hallobe\n"
     ]
    }
   ],
   "source": [
    "s=\"helloba\"\n",
    "v='aeiouAEIOU'\n",
    "l=[i for i in s if i in v]\n",
    "r=\"\"\n",
    "for i in s:\n",
    "    r+=l.pop() if i in v else i\n",
    "print(r)"
   ]
  },
  {
   "cell_type": "code",
   "execution_count": 211,
   "metadata": {},
   "outputs": [
    {
     "name": "stdout",
     "output_type": "stream",
     "text": [
      "bdf\n"
     ]
    }
   ],
   "source": [
    "s=\"abbcccddeeeffff\"\n",
    "r=\"\"\n",
    "for i in s:\n",
    "    if s.count(i)%2==0 and i not in r:\n",
    "        r+=i\n",
    "print(r)"
   ]
  },
  {
   "cell_type": "code",
   "execution_count": 214,
   "metadata": {},
   "outputs": [
    {
     "name": "stdout",
     "output_type": "stream",
     "text": [
      "ab#cd#\n"
     ]
    }
   ],
   "source": [
    "s=\"abacda\"\n",
    "ss=\"#\"\n",
    "v=s[1:].replace(s[0],ss)\n",
    "print(s[0]+v)"
   ]
  },
  {
   "cell_type": "code",
   "execution_count": 217,
   "metadata": {},
   "outputs": [
    {
     "name": "stdout",
     "output_type": "stream",
     "text": [
      "welcome\n"
     ]
    }
   ],
   "source": [
    "s=\"welcome to python\".split()\n",
    "c=0\n",
    "for i in s:\n",
    "    if c<len(i):\n",
    "        c=len(i)\n",
    "for i in s:\n",
    "    if c==len(i):\n",
    "        print(i)"
   ]
  },
  {
   "cell_type": "code",
   "execution_count": 228,
   "metadata": {},
   "outputs": [
    {
     "name": "stdout",
     "output_type": "stream",
     "text": [
      "{'a'}\n",
      "{'a', 'b'}\n",
      "{'c', 'd'}\n"
     ]
    }
   ],
   "source": [
    "s=\"aaaabacdc\"\n",
    "v=len(s)//2-1\n",
    "for i in range(0,len(s),v):\n",
    "    print(set(s[i:v]))\n",
    "    v+=v"
   ]
  },
  {
   "cell_type": "code",
   "execution_count": 229,
   "metadata": {},
   "outputs": [
    {
     "name": "stdout",
     "output_type": "stream",
     "text": [
      "13045"
     ]
    }
   ],
   "source": [
    "s=\"130 words with 45\"\n",
    "for i in s:\n",
    "    if i.isdigit():\n",
    "        print(i,end=\"\")"
   ]
  },
  {
   "cell_type": "code",
   "execution_count": 249,
   "metadata": {},
   "outputs": [
    {
     "name": "stdout",
     "output_type": "stream",
     "text": [
      "2 6\n"
     ]
    }
   ],
   "source": [
    "s=\"122344566\"\n",
    "l=[]\n",
    "for i in s:\n",
    "    l.append(s.count(i))\n",
    "m=max(l)\n",
    "l1=[]\n",
    "for i in s:\n",
    "    if s.count(i)==m:\n",
    "        l1.append(i)\n",
    "print(min(l1),max(l1))"
   ]
  },
  {
   "cell_type": "code",
   "execution_count": 254,
   "metadata": {},
   "outputs": [
    {
     "name": "stdout",
     "output_type": "stream",
     "text": [
      "False\n"
     ]
    }
   ],
   "source": [
    "s=\"p1a@ce%colleg5e\"\n",
    "r=\"\"\n",
    "for i in s:\n",
    "    if i.isalpha():\n",
    "        r+=i\n",
    "print(r==r[::-1])"
   ]
  },
  {
   "cell_type": "code",
   "execution_count": 256,
   "metadata": {},
   "outputs": [
    {
     "name": "stdout",
     "output_type": "stream",
     "text": [
      "Yes\n"
     ]
    }
   ],
   "source": [
    "s=\"0101011001\"\n",
    "c=0\n",
    "for i in s:\n",
    "    if i in '01':\n",
    "        c+=1\n",
    "if c==len(s):\n",
    "    print(\"Yes\")"
   ]
  },
  {
   "cell_type": "code",
   "execution_count": 261,
   "metadata": {},
   "outputs": [
    {
     "name": "stdout",
     "output_type": "stream",
     "text": [
      "8\n"
     ]
    }
   ],
   "source": [
    "s=\"pace\"\n",
    "print(len(s)*((len(s)+1)//2))"
   ]
  },
  {
   "cell_type": "code",
   "execution_count": 263,
   "metadata": {},
   "outputs": [
    {
     "name": "stdout",
     "output_type": "stream",
     "text": [
      "ecap\n"
     ]
    }
   ],
   "source": [
    "s=\"pace\"\n",
    "if len(s)%4==0:\n",
    "    print(s[::-1])\n",
    "else:\n",
    "    print(s)"
   ]
  },
  {
   "cell_type": "code",
   "execution_count": 272,
   "metadata": {},
   "outputs": [
    {
     "name": "stdout",
     "output_type": "stream",
     "text": [
      "page\n"
     ]
    }
   ],
   "source": [
    "s=\"pacecollege\"\n",
    "print(s[:2]+s[-2:])\n"
   ]
  },
  {
   "cell_type": "code",
   "execution_count": 278,
   "metadata": {},
   "outputs": [
    {
     "name": "stdout",
     "output_type": "stream",
     "text": [
      "pcaoclelege\n"
     ]
    }
   ],
   "source": [
    "s=\"pace\"\n",
    "s1=\"college\"\n",
    "r=''\n",
    "i,j=0,0\n",
    "for i in range(len(s+s1)):\n",
    "    if i<len(s):\n",
    "        r+=s[i]\n",
    "    if j<len(s1):\n",
    "        r+=s1[j]\n",
    "    i+=1\n",
    "    j+=1\n",
    "print(r)"
   ]
  },
  {
   "cell_type": "code",
   "execution_count": 3,
   "metadata": {},
   "outputs": [
    {
     "name": "stdout",
     "output_type": "stream",
     "text": [
      "hadoopbigdatahadoop\n"
     ]
    }
   ],
   "source": [
    "s=\"bigdata\"\n",
    "s1='hadoop'\n",
    "if len(s)==len(s1):\n",
    "    print(\"both are equal length\")\n",
    "else:\n",
    "    if len(s)<len(s1):\n",
    "        print(s+s1+s)\n",
    "    else:\n",
    "        print(s1+s+s1)"
   ]
  },
  {
   "cell_type": "code",
   "execution_count": 16,
   "metadata": {},
   "outputs": [
    {
     "name": "stdout",
     "output_type": "stream",
     "text": [
      "n\n",
      "m\n",
      "n\n"
     ]
    }
   ],
   "source": [
    "s=\"environment\"\n",
    "c='e'\n",
    "if c in s:\n",
    "    for i in range(len(s)):\n",
    "        if s[i]==c:\n",
    "            if i==0:\n",
    "                print(s[i+1])\n",
    "            elif i==len(s)-1:\n",
    "                print(s[i-1])\n",
    "            else:\n",
    "                print(s[i-1])\n",
    "                print(s[i+1])\n",
    "else:\n",
    "    print(-1)"
   ]
  },
  {
   "cell_type": "code",
   "execution_count": 17,
   "metadata": {},
   "outputs": [
    {
     "name": "stdout",
     "output_type": "stream",
     "text": [
      "4 3 2\n"
     ]
    }
   ],
   "source": [
    "s=\"abcd123#%\"\n",
    "a=0\n",
    "d=0\n",
    "ss=0\n",
    "for i in s:\n",
    "    if i.isalpha():\n",
    "        a+=1\n",
    "    elif i.isdigit():\n",
    "        d+=1\n",
    "    else:\n",
    "        ss+=1\n",
    "print(a,d,ss)"
   ]
  },
  {
   "cell_type": "code",
   "execution_count": 20,
   "metadata": {},
   "outputs": [
    {
     "name": "stdout",
     "output_type": "stream",
     "text": [
      "hello\n",
      "sTaNd\n",
      "TASK\n",
      "Fun\n",
      "2\n"
     ]
    }
   ],
   "source": [
    "l=[\"hello\",'sTaNd','TASK','Fun']\n",
    "c=0\n",
    "for i in l:\n",
    "    print(i)\n",
    "    if i.islower() or i.isupper():\n",
    "        c+=1\n",
    "print(c)"
   ]
  },
  {
   "cell_type": "code",
   "execution_count": 49,
   "metadata": {},
   "outputs": [
    {
     "name": "stdout",
     "output_type": "stream",
     "text": [
      "white\n",
      "black\n",
      "green\n"
     ]
    }
   ],
   "source": [
    "s=\"whiteblackgreen\"\n",
    "n=3\n",
    "if len(s)%n==0:\n",
    "    v=len(s)//n\n",
    "    ss=v\n",
    "    c=0\n",
    "    for i in range(0,len(s)-1,v):\n",
    "        print(s[c:ss])\n",
    "        c+=v\n",
    "        ss*=2\n",
    "else:\n",
    "    print(-1)"
   ]
  },
  {
   "cell_type": "code",
   "execution_count": 54,
   "metadata": {},
   "outputs": [
    {
     "name": "stdout",
     "output_type": "stream",
     "text": [
      "@\n"
     ]
    }
   ],
   "source": [
    "s=\"hello@@@how#$%ar@e123%$#you&&&\"\n",
    "c=0\n",
    "ss=\"\"\n",
    "for i in s:\n",
    "    if not i.isalnum():\n",
    "        if c<s.count(i):\n",
    "            c=s.count(i)\n",
    "            ss=i\n",
    "print(ss)        "
   ]
  },
  {
   "cell_type": "code",
   "execution_count": 61,
   "metadata": {},
   "outputs": [
    {
     "name": "stdout",
     "output_type": "stream",
     "text": [
      "xcybza"
     ]
    }
   ],
   "source": [
    "s=\"xyz\"\n",
    "ss=\"abc\"[::-1]\n",
    "for i in range(len(s+ss)):\n",
    "    if i<len(s):\n",
    "        print(s[i],end=\"\")\n",
    "    if i<len(ss):\n",
    "        print(ss[i],end=\"\")"
   ]
  },
  {
   "cell_type": "code",
   "execution_count": 62,
   "metadata": {},
   "outputs": [
    {
     "name": "stdout",
     "output_type": "stream",
     "text": [
      "32,054.23\n"
     ]
    }
   ],
   "source": [
    "s=\"32.054,23\"\n",
    "s=s.replace('.','#').replace(',','.').replace('#',',')\n",
    "print(s)"
   ]
  },
  {
   "cell_type": "code",
   "execution_count": 63,
   "metadata": {},
   "outputs": [
    {
     "name": "stdout",
     "output_type": "stream",
     "text": [
      "32,054.23\n"
     ]
    }
   ],
   "source": [
    "s=\"32.054,23\"\n",
    "r=\"\"\n",
    "for i in s:\n",
    "    if i==\".\":\n",
    "        r+=','\n",
    "    elif i==\",\":\n",
    "        r+='.'\n",
    "    else:\n",
    "        r+=i\n",
    "print(r)"
   ]
  }
 ],
 "metadata": {
  "kernelspec": {
   "display_name": "Python 3",
   "language": "python",
   "name": "python3"
  },
  "language_info": {
   "codemirror_mode": {
    "name": "ipython",
    "version": 3
   },
   "file_extension": ".py",
   "mimetype": "text/x-python",
   "name": "python",
   "nbconvert_exporter": "python",
   "pygments_lexer": "ipython3",
   "version": "3.11.4"
  }
 },
 "nbformat": 4,
 "nbformat_minor": 2
}
