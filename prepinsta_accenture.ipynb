{
 "cells": [
  {
   "cell_type": "code",
   "execution_count": 7,
   "metadata": {},
   "outputs": [
    {
     "name": "stdout",
     "output_type": "stream",
     "text": [
      "[2]\n",
      "[2, 8]\n",
      "[2, 8, 3]\n",
      "[2, 8, 3, 5]\n",
      "4\n"
     ]
    }
   ],
   "source": [
    "#1st prg\n",
    "r=int(input())\n",
    "u=int(input())\n",
    "n=int(input())\n",
    "arr=list(map(int,input().split()))\n",
    "for i in range(n):\n",
    "    v=[]\n",
    "    for j in range(i+1,n+1):\n",
    "        v=arr[i:j]\n",
    "        print(v)\n",
    "        if sum(v)>=r*u:\n",
    "            print(len(v))\n",
    "            break\n",
    "    break"
   ]
  },
  {
   "cell_type": "code",
   "execution_count": 6,
   "metadata": {},
   "outputs": [
    {
     "name": "stdout",
     "output_type": "stream",
     "text": [
      "4\n"
     ]
    }
   ],
   "source": [
    "r=7\n",
    "u=2\n",
    "n=8\n",
    "arr=[2,8,3,5,7,4,1,2]\n",
    "s=0\n",
    "c=0\n",
    "for i in arr:\n",
    "    if s<=r*u:\n",
    "        s+=i\n",
    "        c+=1\n",
    "print(c)"
   ]
  },
  {
   "cell_type": "code",
   "execution_count": 2,
   "metadata": {},
   "outputs": [
    {
     "name": "stdout",
     "output_type": "stream",
     "text": [
      "1^0^1^1&0&1\n",
      "0\n"
     ]
    }
   ],
   "source": [
    "#2nd prg--------pending\n",
    "\"\"\"input\n",
    "str: 1C0C1C1A0B1\n",
    "output:1\n",
    "A-AND\n",
    "B-OR\n",
    "C-XOR\"\"\"\n",
    "s=\"1C0C1C1A0A1\"\n",
    "s=s.replace(\"A\",'&').replace(\"B\",\"|\").replace(\"C\",\"^\")\n",
    "print(s)\n",
    "v=0\n",
    "res=0\n",
    "if s==\"\":\n",
    "    print(-1)\n",
    "else:\n",
    "    for i in range(len(s)):\n",
    "        if s[i]=='&':\n",
    "            v=int(s[i-1])&int(s[i+1])\n",
    "        if s[i]=='^':\n",
    "            v=int(s[i-1])&int(s[i+1])\n",
    "        if s[i]==\"|\":\n",
    "            v=int(s[i-1])|int(s[i+1])\n",
    "print(v)"
   ]
  },
  {
   "cell_type": "code",
   "execution_count": 37,
   "metadata": {},
   "outputs": [
    {
     "name": "stdout",
     "output_type": "stream",
     "text": [
      "1\n"
     ]
    }
   ],
   "source": [
    "\"\"\"1C0C1C1A0B1\n",
    "A - AND(&)\n",
    "B - OR (|)\n",
    "C - XOR(^)\"\"\"\n",
    "s = \"1C0C1C1A0B1\".lower()\n",
    "s = s.replace(\"a\",'&').replace(\"b\",\"|\").replace(\"c\",\"^\")\n",
    "v=s[0]\n",
    "for i in range(len(s)):\n",
    "    if s[i]==\"&\":\n",
    "        v=int(v) & int(s[i+1])\n",
    "    if s[i]==\"|\":\n",
    "        v= int(v)| int(s[i+1])\n",
    "    if s[i]==\"^\":\n",
    "        v=int(v) ^ int(s[i+1]) \n",
    "print(v)"
   ]
  },
  {
   "cell_type": "code",
   "execution_count": 45,
   "metadata": {},
   "outputs": [
    {
     "name": "stdout",
     "output_type": "stream",
     "text": [
      "invalid password------1\n"
     ]
    }
   ],
   "source": [
    "#3rd prg\n",
    "s=input()\n",
    "n,u=0,0\n",
    "if len(s)<4:\n",
    "    print(\"invalid password------1\")\n",
    "else:\n",
    "    if s[0].isdigit():\n",
    "        print(\"invalid password\")\n",
    "    else:\n",
    "        for i in s:\n",
    "            if i==\" \" or i==\"/\":\n",
    "                print(\"invalid password\")\n",
    "                break\n",
    "            elif i.isupper():\n",
    "                u=1\n",
    "            elif i.isdigit():\n",
    "                n=1\n",
    "    if u>0 and n>0:\n",
    "        print(\"valid\")\n",
    "    else:\n",
    "        print(\"invalid\")"
   ]
  },
  {
   "cell_type": "code",
   "execution_count": 83,
   "metadata": {},
   "outputs": [
    {
     "name": "stdout",
     "output_type": "stream",
     "text": [
      "0\n"
     ]
    }
   ],
   "source": [
    "s=input()\n",
    "n,u=0,0\n",
    "if len(s)<4:\n",
    "    print(0)\n",
    "else:\n",
    "    if (s[0].isdigit()) or (' ' or '/') in s:\n",
    "        print(0)\n",
    "    else:\n",
    "        for i in s:\n",
    "            if i.isupper():\n",
    "                u=1\n",
    "            if i.isdigit():\n",
    "                n=1\n",
    "        if u==1 and n==1:\n",
    "            print(1)\n",
    "        else:\n",
    "            print(0)"
   ]
  },
  {
   "cell_type": "code",
   "execution_count": 102,
   "metadata": {},
   "outputs": [
    {
     "name": "stdout",
     "output_type": "stream",
     "text": [
      "True\n",
      "True\n"
     ]
    }
   ],
   "source": [
    "s=\"124avg\"\n",
    "print(s[0].isnumeric())\n",
    "print('1'.isdigit())"
   ]
  },
  {
   "cell_type": "code",
   "execution_count": 103,
   "metadata": {},
   "outputs": [
    {
     "name": "stdout",
     "output_type": "stream",
     "text": [
      "[12, 3, 13, 44, 56, 14]\n",
      "3\n"
     ]
    }
   ],
   "source": [
    "#4th prg\n",
    "arr=list(map(int,input().split()))\n",
    "print(arr)\n",
    "n=int(input())\n",
    "d=int(input())\n",
    "c=0\n",
    "for i in arr:\n",
    "    if abs(n-i)<=d:\n",
    "        c+=1\n",
    "print(c)"
   ]
  },
  {
   "cell_type": "code",
   "execution_count": 58,
   "metadata": {},
   "outputs": [
    {
     "name": "stdout",
     "output_type": "stream",
     "text": [
      "19\n"
     ]
    }
   ],
   "source": [
    "#5th prg\n",
    "n=int(input())\n",
    "m=int(input())\n",
    "l=0\n",
    "z=0\n",
    "for i in range(1,m+1):\n",
    "    if i%n==0:\n",
    "        l+=i\n",
    "    else:\n",
    "        z+=i\n",
    "print(z-l)"
   ]
  },
  {
   "cell_type": "code",
   "execution_count": 19,
   "metadata": {},
   "outputs": [
    {
     "name": "stdout",
     "output_type": "stream",
     "text": [
      "[3, 2, 1, 7, 5, 4]\n",
      "[1, 3, 5] [2, 4, 7]\n",
      "7\n"
     ]
    }
   ],
   "source": [
    "#6th prg\n",
    "arr=list(map(int,input().split()))\n",
    "print(arr)\n",
    "e=[]\n",
    "o=[]\n",
    "for i in range(len(arr)):\n",
    "    if i%2==0:\n",
    "        e.append(arr[i])\n",
    "    else:\n",
    "        o.append(arr[i])\n",
    "e.sort()\n",
    "o.sort()\n",
    "print(e,o)\n",
    "print(e[-2]+o[1])\n"
   ]
  },
  {
   "cell_type": "code",
   "execution_count": 39,
   "metadata": {},
   "outputs": [
    {
     "name": "stdout",
     "output_type": "stream",
     "text": [
      "[[-7], [-7, 3], [3], [3], [3, -7], [3, -7, 3]]\n",
      "-21\n"
     ]
    }
   ],
   "source": [
    "#7th prg\n",
    "s=int(input())\n",
    "a=int(input())\n",
    "al=list(map(int,input().split()))\n",
    "l=[]\n",
    "for i in range(len(al)):\n",
    "    v=[]\n",
    "    for j in range(i+1,len(al)+1):\n",
    "        v=al[i:j]\n",
    "        if sum(v)<s:\n",
    "            l.append(v)\n",
    "l.sort()\n",
    "print(l)\n",
    "for i in l:\n",
    "    if len(l[0])==len(l[1]):\n",
    "        v=l[0]+l[1]\n",
    "    else:\n",
    "        v=l[1]\n",
    "if sum(v)<s:\n",
    "    print(v[0]*v[1])"
   ]
  },
  {
   "cell_type": "code",
   "execution_count": 72,
   "metadata": {},
   "outputs": [
    {
     "name": "stdout",
     "output_type": "stream",
     "text": [
      "[8, 18, 12]\n",
      "CI8\n"
     ]
    }
   ],
   "source": [
    "#8th prg\n",
    "n=int(input())\n",
    "n1=int(input())\n",
    "al=[(chr(i)) for i in range(65,90+1)]\n",
    "al1=[int(i)+9 for i in range(1,len(al)+1)]\n",
    "r=[]\n",
    "s=\"\"\n",
    "while n1:\n",
    "    r.append(n1%n)\n",
    "    n1=n1//n\n",
    "print(r)\n",
    "for i in r:\n",
    "    if i>9:\n",
    "        a=i-10\n",
    "        a=a+65\n",
    "        s+=chr(a)\n",
    "    else:\n",
    "        s+=str(i)\n",
    "print(s[::-1])\n",
    "\n"
   ]
  },
  {
   "cell_type": "code",
   "execution_count": 62,
   "metadata": {},
   "outputs": [
    {
     "name": "stdout",
     "output_type": "stream",
     "text": [
      "21\n"
     ]
    }
   ],
   "source": [
    "#9th prg\n",
    "s=input()\n",
    "c=0\n",
    "l=\"\"\n",
    "h=\"-\"\n",
    "if len(s)==0:\n",
    "    print(\"null\")\n",
    "else:\n",
    "    for i in s:\n",
    "        if i==\"-\":\n",
    "            c+=1\n",
    "        else:\n",
    "            l+=i\n",
    "print(h*c+l)"
   ]
  },
  {
   "cell_type": "code",
   "execution_count": 77,
   "metadata": {},
   "outputs": [
    {
     "name": "stdout",
     "output_type": "stream",
     "text": [
      "0\n"
     ]
    }
   ],
   "source": [
    "#10th prg----------under testing\n",
    "n=23#int(input())\n",
    "m=563#int(input())\n",
    "n1=str(n)[::-1]\n",
    "m1=str(m)[::-1]\n",
    "c=0\n",
    "for i in range(len(n1)):\n",
    "    v=int(n1[i])+int(m1[i])\n",
    "    if v>=9:\n",
    "        c+=1\n",
    "print(c)"
   ]
  },
  {
   "cell_type": "code",
   "execution_count": 121,
   "metadata": {},
   "outputs": [
    {
     "name": "stdout",
     "output_type": "stream",
     "text": [
      "paales\n"
     ]
    }
   ],
   "source": [
    "#11th prg\n",
    "s=input()\n",
    "ch1=input()\n",
    "ch2=input()\n",
    "s=s.replace(ch1,'*').replace(ch2,ch1).replace('*',ch2)\n",
    "print(s)"
   ]
  },
  {
   "cell_type": "code",
   "execution_count": 123,
   "metadata": {},
   "outputs": [
    {
     "name": "stdout",
     "output_type": "stream",
     "text": [
      "-4\n"
     ]
    }
   ],
   "source": [
    "#12th prg\n",
    "c=int(input())\n",
    "a=int(input())\n",
    "b=int(input())\n",
    "if c==1:\n",
    "    print(a+b)\n",
    "elif c==2:\n",
    "    print(a-b)\n",
    "elif c==3:\n",
    "    print(a*b)\n",
    "elif c==4:\n",
    "    print(a//b)"
   ]
  },
  {
   "cell_type": "code",
   "execution_count": 104,
   "metadata": {},
   "outputs": [
    {
     "name": "stdout",
     "output_type": "stream",
     "text": [
      "8\n"
     ]
    }
   ],
   "source": [
    "#13th prg\n",
    "a=int(input())\n",
    "b=int(input())\n",
    "arr=[]\n",
    "z=[]\n",
    "for i in range(a,b+1):\n",
    "    arr.append(i)\n",
    "    c=0\n",
    "    while i%2==0 and i!=0:\n",
    "        c+=1\n",
    "        i=i//2\n",
    "    z.append(c)\n",
    "v=max(z)\n",
    "for i in range(len(arr)):\n",
    "    if z[i]==v:\n",
    "        print(arr[i])"
   ]
  },
  {
   "cell_type": "code",
   "execution_count": 96,
   "metadata": {},
   "outputs": [
    {
     "name": "stdout",
     "output_type": "stream",
     "text": [
      "4\n",
      "2\n",
      "1\n"
     ]
    }
   ],
   "source": [
    "i=8\n",
    "c=0\n",
    "while i%2==0 and i!=0:\n",
    "    c+=1\n",
    "    i=i//2\n",
    "    print(i)"
   ]
  },
  {
   "cell_type": "code",
   "execution_count": 157,
   "metadata": {},
   "outputs": [
    {
     "name": "stdout",
     "output_type": "stream",
     "text": [
      "510\n"
     ]
    }
   ],
   "source": [
    "#14th prg\n",
    "m=int(input())\n",
    "n=int(input())\n",
    "l=[]\n",
    "for i in range(m,n+1):\n",
    "    if i%3==0 and i%5==0:\n",
    "        l.append(i)\n",
    "print(sum(l))"
   ]
  },
  {
   "cell_type": "code",
   "execution_count": 163,
   "metadata": {},
   "outputs": [
    {
     "name": "stdout",
     "output_type": "stream",
     "text": [
      "7\n"
     ]
    }
   ],
   "source": [
    "#15th prg\n",
    "a=int(input())\n",
    "l=[int(input(\"Enter element\")) for i in range(a)]\n",
    "e=[]\n",
    "o=[]\n",
    "for i in range(a):\n",
    "    if i%2==0:\n",
    "        e.append(l[i])\n",
    "    else:\n",
    "        o.append(l[i])\n",
    "e.sort()\n",
    "o.sort()\n",
    "print(e[-2]+o[-2])"
   ]
  },
  {
   "cell_type": "code",
   "execution_count": 166,
   "metadata": {},
   "outputs": [
    {
     "name": "stdout",
     "output_type": "stream",
     "text": [
      "660\n"
     ]
    }
   ],
   "source": [
    "#16th prg\n",
    "n=int(input())\n",
    "l=[n*int(i) for i in range(1,10+1)]\n",
    "print(sum(l))"
   ]
  },
  {
   "cell_type": "code",
   "execution_count": 2,
   "metadata": {},
   "outputs": [
    {
     "name": "stdout",
     "output_type": "stream",
     "text": [
      "11 22 33 44 55 66 77 "
     ]
    }
   ],
   "source": [
    "#17th prg\n",
    "n,m=map(int,input().split())\n",
    "l=[]\n",
    "for i in range(n,m+1):\n",
    "    if str(i)==str(i)[::-1]:\n",
    "        print(i,end=\" \")"
   ]
  },
  {
   "cell_type": "code",
   "execution_count": null,
   "metadata": {},
   "outputs": [],
   "source": [
    "#18th prg ----------pending\n"
   ]
  },
  {
   "cell_type": "code",
   "execution_count": 178,
   "metadata": {},
   "outputs": [
    {
     "name": "stdout",
     "output_type": "stream",
     "text": [
      "101\n",
      "3\n"
     ]
    }
   ],
   "source": [
    "#19th prg\n",
    "l=list(map(int,input().split()))\n",
    "v=max(l)\n",
    "for i in range(len(l)):\n",
    "    if l[i]==v:\n",
    "        print(v)\n",
    "        print(i)"
   ]
  },
  {
   "cell_type": "code",
   "execution_count": 177,
   "metadata": {},
   "outputs": [
    {
     "name": "stdout",
     "output_type": "stream",
     "text": [
      "3\n"
     ]
    }
   ],
   "source": [
    "#20th prg\n",
    "n=input()\n",
    "l=[]\n",
    "for i in n:\n",
    "    if i not in l:\n",
    "        l.append(i)\n",
    "print(len(l))"
   ]
  }
 ],
 "metadata": {
  "kernelspec": {
   "display_name": "Python 3",
   "language": "python",
   "name": "python3"
  },
  "language_info": {
   "codemirror_mode": {
    "name": "ipython",
    "version": 3
   },
   "file_extension": ".py",
   "mimetype": "text/x-python",
   "name": "python",
   "nbconvert_exporter": "python",
   "pygments_lexer": "ipython3",
   "version": "3.11.4"
  },
  "orig_nbformat": 4
 },
 "nbformat": 4,
 "nbformat_minor": 2
}
