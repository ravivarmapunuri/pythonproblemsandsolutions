{
 "cells": [
  {
   "cell_type": "code",
   "execution_count": 41,
   "metadata": {},
   "outputs": [
    {
     "name": "stdout",
     "output_type": "stream",
     "text": [
      "[1, 2, 3]\n",
      "[3, 2, 1]\n",
      "True\n"
     ]
    }
   ],
   "source": [
    "#l=[-3,-3,-3,0,0,1,1,1,1,10]\n",
    "#l=[1,2]\n",
    "l=[1,2,2,1,1,3]\n",
    "l1=[]\n",
    "for i in l:\n",
    "    if i not in l1:\n",
    "        l1.append(i)\n",
    "v=[]\n",
    "for i in l:\n",
    "    if l.count(i) not in v:\n",
    "        v.append(l.count(i))\n",
    "print(l1)\n",
    "print(v)\n",
    "print(len(l1)==len(v))"
   ]
  },
  {
   "cell_type": "code",
   "execution_count": 5,
   "metadata": {},
   "outputs": [
    {
     "name": "stdout",
     "output_type": "stream",
     "text": [
      "[1, 2, 3]\n",
      "[3, 2, 1]\n",
      "True\n"
     ]
    }
   ],
   "source": [
    "from collections import Counter\n",
    "\n",
    "l = [1, 2, 2, 1, 1, 3]\n",
    "\n",
    "l1 = list(set(l))\n",
    "v = list(Counter(l).values())\n",
    "\n",
    "print(l1)\n",
    "print(v)\n",
    "print(len(l1) == len(v))\n"
   ]
  },
  {
   "cell_type": "code",
   "execution_count": 6,
   "metadata": {},
   "outputs": [
    {
     "name": "stdout",
     "output_type": "stream",
     "text": [
      "[1, 2, 3]\n",
      "[3, 2, 1]\n",
      "True\n"
     ]
    }
   ],
   "source": [
    "l = [1, 2, 2, 1, 1, 3]\n",
    "\n",
    "l1 = list(set(l))\n",
    "v = [l.count(i) for i in l1]\n",
    "\n",
    "print(l1)\n",
    "print(v)\n",
    "print(len(l1) == len(v))\n"
   ]
  },
  {
   "cell_type": "code",
   "execution_count": 4,
   "metadata": {},
   "outputs": [
    {
     "name": "stdout",
     "output_type": "stream",
     "text": [
      "1\n"
     ]
    }
   ],
   "source": [
    "l=[1]\n",
    "for i in l:\n",
    "    if l.count(i)==1:\n",
    "        print(i)"
   ]
  }
 ],
 "metadata": {
  "kernelspec": {
   "display_name": "Python 3",
   "language": "python",
   "name": "python3"
  },
  "language_info": {
   "codemirror_mode": {
    "name": "ipython",
    "version": 3
   },
   "file_extension": ".py",
   "mimetype": "text/x-python",
   "name": "python",
   "nbconvert_exporter": "python",
   "pygments_lexer": "ipython3",
   "version": "3.11.4"
  }
 },
 "nbformat": 4,
 "nbformat_minor": 2
}
