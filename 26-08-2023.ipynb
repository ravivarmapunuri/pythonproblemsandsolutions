{
 "cells": [
  {
   "cell_type": "code",
   "execution_count": 28,
   "metadata": {},
   "outputs": [
    {
     "name": "stdout",
     "output_type": "stream",
     "text": [
      "1\n",
      "2\n",
      "1\n",
      "2\n",
      "4\n"
     ]
    }
   ],
   "source": [
    "#1st program\n",
    "n=int(input())\n",
    "l=[]\n",
    "p=[]\n",
    "z=0\n",
    "for i in range(n):\n",
    "    l.append(int(input()))\n",
    "for i in l:\n",
    "    for j in range(0,64):\n",
    "        if i==pow(2,j):\n",
    "            i%pow(2,j)\n",
    "        else:\n",
    "            if (pow(2,j)<i):\n",
    "                print(pow(2,j))                   "
   ]
  },
  {
   "cell_type": "code",
   "execution_count": 41,
   "metadata": {},
   "outputs": [
    {
     "name": "stdout",
     "output_type": "stream",
     "text": [
      "6\n"
     ]
    }
   ],
   "source": [
    "#2nd program \n",
    "n=int(input())\n",
    "c=0\n",
    "l=[int(i) for i in input().split()]\n",
    "for i in range(len(l)):\n",
    "    for j in range(1,len(l)):\n",
    "        if l[i]<=l[j]:\n",
    "            c+=1\n",
    "            break\n",
    "print(c)            "
   ]
  },
  {
   "cell_type": "code",
   "execution_count": 2,
   "metadata": {},
   "outputs": [
    {
     "name": "stdout",
     "output_type": "stream",
     "text": [
      "[4, 3, 7, 2, 6, 1]\n",
      "4\n",
      "7\n",
      "6\n"
     ]
    }
   ],
   "source": [
    "#2nd program \n",
    "n=int(input())\n",
    "i=0\n",
    "l=[int(i) for i in input().split()]\n",
    "print(l)\n",
    "while i<len(l):\n",
    "    if i!=len(l)-1:\n",
    "        if l[i]>l[i+1]:\n",
    "            print(l[i])\n",
    "    i+=1\n"
   ]
  }
 ],
 "metadata": {
  "kernelspec": {
   "display_name": "Python 3",
   "language": "python",
   "name": "python3"
  },
  "language_info": {
   "codemirror_mode": {
    "name": "ipython",
    "version": 3
   },
   "file_extension": ".py",
   "mimetype": "text/x-python",
   "name": "python",
   "nbconvert_exporter": "python",
   "pygments_lexer": "ipython3",
   "version": "3.11.4"
  },
  "orig_nbformat": 4
 },
 "nbformat": 4,
 "nbformat_minor": 2
}
