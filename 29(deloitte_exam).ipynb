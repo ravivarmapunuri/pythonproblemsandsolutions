{
 "cells": [
  {
   "cell_type": "code",
   "execution_count": 11,
   "metadata": {},
   "outputs": [
    {
     "name": "stdout",
     "output_type": "stream",
     "text": [
      "Yes\n"
     ]
    }
   ],
   "source": [
    "y=int(input())\n",
    "\n",
    "def leapornot(y):\n",
    "    if y%400==0 and y%100!=0 or y%4==0:\n",
    "        print(\"Yes\")\n",
    "    else:\n",
    "        print(\"No\")\n",
    "if 1582<=y<=9999:\n",
    "    leapornot(y)\n",
    "else:\n",
    "    print(\"No\")"
   ]
  },
  {
   "cell_type": "code",
   "execution_count": 5,
   "metadata": {},
   "outputs": [
    {
     "name": "stdout",
     "output_type": "stream",
     "text": [
      "16 8939779398\n"
     ]
    }
   ],
   "source": [
    "n=int(input())\n",
    "c=0\n",
    "r=0\n",
    "if n>=1:\n",
    "    for i in range(n):\n",
    "        c+=1\n",
    "        r=n+int(str(n)[::-1])\n",
    "        if str(r)==str(r)[::-1]:\n",
    "            break\n",
    "        else:\n",
    "            n=r\n",
    "print(c,r) "
   ]
  },
  {
   "cell_type": "code",
   "execution_count": 2,
   "metadata": {},
   "outputs": [
    {
     "name": "stdout",
     "output_type": "stream",
     "text": [
      "4800\n"
     ]
    }
   ],
   "source": [
    "m,n=1,20\n",
    "print((1*60)*60+(20*60))"
   ]
  },
  {
   "cell_type": "code",
   "execution_count": 16,
   "metadata": {},
   "outputs": [
    {
     "name": "stdout",
     "output_type": "stream",
     "text": [
      "Healthy\n",
      "Unhealthy\n",
      "Unhealthy\n",
      "Healthy\n"
     ]
    }
   ],
   "source": [
    "n=4\n",
    "a=[4579,8752,6111,6789]\n",
    "for i in a:\n",
    "    if \"\".join(sorted(str(i)))==str(i):\n",
    "        print(\"Healthy\")\n",
    "    else:\n",
    "        print(\"Unhealthy\")"
   ]
  },
  {
   "cell_type": "code",
   "execution_count": 1,
   "metadata": {},
   "outputs": [
    {
     "name": "stdout",
     "output_type": "stream",
     "text": [
      "august\n"
     ]
    }
   ],
   "source": [
    "c=[\"january\",\"february\",\"march\",\"april\",\"may\",\"june\",\"july\",\"august\",\"september\",\"october\",\"november\",\"december\"]\n",
    "v=8\n",
    "print(c[v-1])"
   ]
  },
  {
   "cell_type": "code",
   "execution_count": 52,
   "metadata": {},
   "outputs": [
    {
     "name": "stdout",
     "output_type": "stream",
     "text": [
      "2 3 5 7 11 13 17 19 23 29 31 37 41 43 47 53 59 61 67 71 73 79 83 89 97 "
     ]
    }
   ],
   "source": [
    "n,m=97,5\n",
    "l=[]\n",
    "for i in range(2,100):\n",
    "    for j in range(2,i):\n",
    "        if i%j==0:\n",
    "            break\n",
    "    else:\n",
    "        print(i,end=\" \")"
   ]
  },
  {
   "cell_type": "code",
   "execution_count": 50,
   "metadata": {},
   "outputs": [
    {
     "name": "stdout",
     "output_type": "stream",
     "text": [
      "79\n"
     ]
    }
   ],
   "source": [
    "n,m=38,10\n",
    "t=n\n",
    "c=0\n",
    "while n>0:\n",
    "    if n>1:\n",
    "        for i in range(2,n):\n",
    "            if n%i==0:\n",
    "                break\n",
    "        else:\n",
    "            if n>t:\n",
    "                c+=1\n",
    "                if c==m:\n",
    "                    c=n\n",
    "                    break\n",
    "    n+=1\n",
    "print(c)"
   ]
  }
 ],
 "metadata": {
  "kernelspec": {
   "display_name": "Python 3",
   "language": "python",
   "name": "python3"
  },
  "language_info": {
   "codemirror_mode": {
    "name": "ipython",
    "version": 3
   },
   "file_extension": ".py",
   "mimetype": "text/x-python",
   "name": "python",
   "nbconvert_exporter": "python",
   "pygments_lexer": "ipython3",
   "version": "3.11.4"
  }
 },
 "nbformat": 4,
 "nbformat_minor": 2
}
