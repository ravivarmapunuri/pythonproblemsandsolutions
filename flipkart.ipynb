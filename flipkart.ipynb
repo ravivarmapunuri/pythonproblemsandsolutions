{
 "cells": [
  {
   "cell_type": "code",
   "execution_count": 2,
   "metadata": {},
   "outputs": [
    {
     "name": "stdout",
     "output_type": "stream",
     "text": [
      "Error fetching the page: 429 Client Error: Too Many Requests for url: https://www.flipkart.com/samsung-evo-plus-128-gb-microsdxc-class-10-130-mb-s-memory-card/p/itmf7bd9053e39b2?pid=ACCG9NPXBYFFFH2V&lid=LSTACCG9NPXBYFFFH2VQIQBES&marketplace=FLIPKART&store=6bo%2Fjdy&srno=b_1_1&otracker=browse&fm=organic&iid=en_G3FTE49hMrbJvkvOnto1lMLC3OnRbLnHt7Lorsz-0x7SfABAjD7ICwunu_82kXmTVkJG3yEiqhScPD-NG-YcjPUFjCTyOHoHZs-Z5_PS_w0%3D&ppt=hp&ppn=homepage&ssid=nb52sikvps0000001704810298541\n",
      "Failed to retrieve the price.\n",
      "Error fetching the page: 429 Client Error: Too Many Requests for url: https://www.flipkart.com/samsung-evo-plus-128-gb-microsdxc-class-10-130-mb-s-memory-card/p/itmf7bd9053e39b2?pid=ACCG9NPXBYFFFH2V&lid=LSTACCG9NPXBYFFFH2VQIQBES&marketplace=FLIPKART&store=6bo%2Fjdy&srno=b_1_1&otracker=browse&fm=organic&iid=en_G3FTE49hMrbJvkvOnto1lMLC3OnRbLnHt7Lorsz-0x7SfABAjD7ICwunu_82kXmTVkJG3yEiqhScPD-NG-YcjPUFjCTyOHoHZs-Z5_PS_w0%3D&ppt=hp&ppn=homepage&ssid=nb52sikvps0000001704810298541\n",
      "Failed to retrieve the price.\n",
      "Current Price: ₹890\n"
     ]
    }
   ],
   "source": [
    "import requests\n",
    "from bs4 import BeautifulSoup\n",
    "import time\n",
    "\n",
    "def get_flipkart_price(product_url):\n",
    "    headers = {\n",
    "        'User-Agent': 'Mozilla/5.0 (Windows NT 10.0; Win64; x64) AppleWebKit/537.36 (KHTML, like Gecko) Chrome/120.0.0.0 Safari/537.36',  # Set your user agent\n",
    "    }\n",
    "\n",
    "    try:\n",
    "        response = requests.get(product_url, headers=headers)\n",
    "        response.raise_for_status()\n",
    "    except requests.RequestException as e:\n",
    "        print(f\"Error fetching the page: {e}\")\n",
    "        return None\n",
    "\n",
    "    soup = BeautifulSoup(response.text, 'html.parser')\n",
    "\n",
    "    # Replace 'class_name' and 'tag_name' with the actual class and tag names from the Flipkart website.\n",
    "    price_element = soup.find('div', class_='_30jeq3 _16Jk6d')\n",
    "\n",
    "    if price_element:\n",
    "        price = price_element.get_text(strip=True)\n",
    "        return price\n",
    "    else:\n",
    "        print(\"Couldn't find the price on the page.\")\n",
    "        return None\n",
    "\n",
    "# Example usage:\n",
    "product_url = 'https://www.flipkart.com/samsung-evo-plus-128-gb-microsdxc-class-10-130-mb-s-memory-card/p/itmf7bd9053e39b2?pid=ACCG9NPXBYFFFH2V&lid=LSTACCG9NPXBYFFFH2VQIQBES&marketplace=FLIPKART&store=6bo%2Fjdy&srno=b_1_1&otracker=browse&fm=organic&iid=en_G3FTE49hMrbJvkvOnto1lMLC3OnRbLnHt7Lorsz-0x7SfABAjD7ICwunu_82kXmTVkJG3yEiqhScPD-NG-YcjPUFjCTyOHoHZs-Z5_PS_w0%3D&ppt=hp&ppn=homepage&ssid=nb52sikvps0000001704810298541'\n",
    "while True:\n",
    "    current_price = get_flipkart_price(product_url)\n",
    "\n",
    "    if current_price:\n",
    "        print(f\"Current Price: {current_price}\")\n",
    "        break\n",
    "    else:\n",
    "        print(\"Failed to retrieve the price.\")\n",
    "    \n",
    "    # Adjust the sleep duration based on how often you want to check the price.\n",
    "     # Sleep for 1 minute before checking again\n"
   ]
  },
  {
   "cell_type": "code",
   "execution_count": 1,
   "metadata": {},
   "outputs": [
    {
     "name": "stdout",
     "output_type": "stream",
     "text": [
      "Failed to retrieve the current price.\n"
     ]
    }
   ],
   "source": [
    "import requests\n",
    "from bs4 import BeautifulSoup\n",
    "import time\n",
    "\n",
    "def get_product_price(url):\n",
    "    headers = {\n",
    "        \"User-Agent\": \"Mozilla/5.0 (Windows NT 10.0; Win64; x64) AppleWebKit/537.36 (KHTML, like Gecko) Chrome/91.0.4472.124 Safari/537.36\"\n",
    "    }\n",
    "\n",
    "    response = requests.get(url, headers=headers)\n",
    "    soup = BeautifulSoup(response.text, 'html.parser')\n",
    "\n",
    "    # Modify the selector according to the structure of the Flipkart website\n",
    "    price_element = soup.select_one('span[class=\"_1vC4OE _3qQ9m1\"]')\n",
    "\n",
    "    if price_element:\n",
    "        return price_element.get_text().strip()\n",
    "    else:\n",
    "        return None\n",
    "\n",
    "def track_product_price(url):\n",
    "    while True:\n",
    "        current_price = get_product_price(url)\n",
    "\n",
    "        if current_price:\n",
    "            print(f\"Current Price: {current_price}\")\n",
    "            break\n",
    "            # Convert the price strings to numbers (assuming they are in INR)\n",
    "            current_price_numeric = int(current_price.replace('₹', '').replace(',', ''))\n",
    "        else:\n",
    "            print(\"Failed to retrieve the current price.\")\n",
    "            break\n",
    "        \n",
    "\n",
    "if __name__ == \"__main__\":\n",
    "    product_url = \"https://www.flipkart.com/samsung-evo-plus-128-gb-microsdxc-class-10-130-mb-s-memory-card/p/itmf7bd9053e39b2?pid=ACCG9NPXBYFFFH2V&lid=LSTACCG9NPXBYFFFH2VQIQBES&marketplace=FLIPKART&store=6bo%2Fjdy&srno=b_1_1&otracker=browse&fm=organic&iid=en_G3FTE49hMrbJvkvOnto1lMLC3OnRbLnHt7Lorsz-0x7SfABAjD7ICwunu_82kXmTVkJG3yEiqhScPD-NG-YcjPUFjCTyOHoHZs-Z5_PS_w0%3D&ppt=hp&ppn=homepage&ssid=nb52sikvps0000001704810298541\"\n",
    "\n",
    "    track_product_price(product_url)\n"
   ]
  },
  {
   "cell_type": "code",
   "execution_count": 2,
   "metadata": {},
   "outputs": [
    {
     "name": "stdout",
     "output_type": "stream",
     "text": [
      "Current Price: ₹890\n",
      "Price dropped below the target price!\n"
     ]
    }
   ],
   "source": [
    "import requests\n",
    "from bs4 import BeautifulSoup\n",
    "import time\n",
    "\n",
    "def get_product_price(url):\n",
    "    headers = {\n",
    "        \"User-Agent\": \"Mozilla/5.0 (Windows NT 10.0; Win64; x64) AppleWebKit/537.36 (KHTML, like Gecko) Chrome/91.0.4472.124 Safari/537.36\"\n",
    "    }\n",
    "\n",
    "    response = requests.get(url, headers=headers)\n",
    "    soup = BeautifulSoup(response.text, 'html.parser')\n",
    "\n",
    "    # Modify the selector according to the structure of the Flipkart website\n",
    "    price_element = soup.select_one('div[class=\"_30jeq3 _16Jk6d\"]')\n",
    "\n",
    "    if price_element:\n",
    "        return price_element.get_text().strip()\n",
    "    else:\n",
    "        return None\n",
    "\n",
    "def track_product_price(url, target_price):\n",
    "    while True:\n",
    "        current_price = get_product_price(url)\n",
    "\n",
    "        if current_price:\n",
    "            print(f\"Current Price: {current_price}\")\n",
    "\n",
    "            # Convert the price strings to numbers (assuming they are in INR)\n",
    "            current_price_numeric = int(current_price.replace('₹', '').replace(',', ''))\n",
    "\n",
    "            if current_price_numeric <= target_price:\n",
    "                print(\"Price dropped below the target price!\")\n",
    "                break\n",
    "        else:\n",
    "            print(\"Failed to retrieve the current price.\")\n",
    "\n",
    "        # Set the interval for checking the price (in seconds)\n",
    "        time.sleep(60 * 60)  # Check every hour\n",
    "\n",
    "if __name__ == \"__main__\":\n",
    "    product_url = \"https://www.flipkart.com/samsung-evo-plus-128-gb-microsdxc-class-10-130-mb-s-memory-card/p/itmf7bd9053e39b2?pid=ACCG9NPXBYFFFH2V&lid=LSTACCG9NPXBYFFFH2VQIQBES&marketplace=FLIPKART&store=6bo%2Fjdy&srno=b_1_1&otracker=browse&fm=organic&iid=en_G3FTE49hMrbJvkvOnto1lMLC3OnRbLnHt7Lorsz-0x7SfABAjD7ICwunu_82kXmTVkJG3yEiqhScPD-NG-YcjPUFjCTyOHoHZs-Z5_PS_w0%3D&ppt=hp&ppn=homepage&ssid=nb52sikvps0000001704810298541\"\n",
    "    target_price = 5000  # Set your target price\n",
    "\n",
    "    track_product_price(product_url, target_price)\n"
   ]
  }
 ],
 "metadata": {
  "kernelspec": {
   "display_name": "Python 3",
   "language": "python",
   "name": "python3"
  },
  "language_info": {
   "codemirror_mode": {
    "name": "ipython",
    "version": 3
   },
   "file_extension": ".py",
   "mimetype": "text/x-python",
   "name": "python",
   "nbconvert_exporter": "python",
   "pygments_lexer": "ipython3",
   "version": "3.11.4"
  }
 },
 "nbformat": 4,
 "nbformat_minor": 2
}
