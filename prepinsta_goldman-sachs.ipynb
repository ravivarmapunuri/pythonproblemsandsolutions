{
 "cells": [
  {
   "cell_type": "code",
   "execution_count": 10,
   "metadata": {},
   "outputs": [
    {
     "name": "stdout",
     "output_type": "stream",
     "text": [
      "8\n"
     ]
    }
   ],
   "source": [
    "#2nd prg\n",
    "l=[1,8,4,2,10,3,2]\n",
    "v=max(l)\n",
    "v1=[]\n",
    "for i in range(len(l)):\n",
    "    if v==l[i]:\n",
    "        v1=l[i:]\n",
    "m=min(v1)\n",
    "print(v-m)"
   ]
  },
  {
   "cell_type": "code",
   "execution_count": 13,
   "metadata": {},
   "outputs": [
    {
     "name": "stdout",
     "output_type": "stream",
     "text": [
      "8\n"
     ]
    }
   ],
   "source": [
    "#2nd prg\n",
    "l=list(map(int,input().split(\",\")))\n",
    "v=max(l)\n",
    "v1=[]\n",
    "for i in range(len(l)):\n",
    "    if v==l[i]:\n",
    "        v1=l[i:]\n",
    "m=min(v1)\n",
    "if v==m:\n",
    "    print(0)\n",
    "else:\n",
    "    print(v-m)"
   ]
  },
  {
   "cell_type": "code",
   "execution_count": 48,
   "metadata": {},
   "outputs": [
    {
     "name": "stdout",
     "output_type": "stream",
     "text": [
      "('A', 'B') B ('B', 'D')\n",
      "('A', 'C') C ('C', 'F')\n",
      "('B', 'D') D ('D', 'E')\n",
      "('D', 'E') E ('E', 'G')\n"
     ]
    }
   ],
   "source": [
    "#3rd prg\n",
    "l=[(\"B\",\"D\"),(\"D\",\"E\"),(\"A\",\"B\"),(\"C\",\"F\"),(\"E\",\"G\"),(\"A\",\"C\")]\n",
    "l.sort()\n",
    "l1=[]\n",
    "l2=[]\n",
    "for i in range(len(l)):\n",
    "    v=l[i][0]\n",
    "    v1=l[i][1]\n",
    "    for j in range(len(l)):\n",
    "        if v1 == l[j][0]:\n",
    "            print(l[i],v1,l[j])"
   ]
  },
  {
   "cell_type": "code",
   "execution_count": 75,
   "metadata": {},
   "outputs": [
    {
     "name": "stdout",
     "output_type": "stream",
     "text": [
      "..##\n",
      "#.##\n",
      "#…\n",
      "\n",
      "move to downwards\n"
     ]
    }
   ],
   "source": [
    "#4th prg\n",
    "grid =['..##','#.##','#…']\n",
    "for i in grid:\n",
    "    print(i)\n",
    "print()\n",
    "top = 0 \n",
    "bottom = len(grid)-1 \n",
    "left =0 \n",
    "right = len(grid)-1\n",
    "for i in range(len(grid)):\n",
    "    if grid[i][top]=='.':\n",
    "        left+=1\n",
    "        if grid[i][left]=='.':\n",
    "            left+=1\n",
    "            if grid[i][left]=='.':\n",
    "                left+=1\n",
    "            else:\n",
    "                print(\"move to downwards\")\n"
   ]
  },
  {
   "cell_type": "code",
   "execution_count": 75,
   "metadata": {},
   "outputs": [
    {
     "name": "stdout",
     "output_type": "stream",
     "text": [
      "4\n",
      "5\n",
      "7\n",
      "4\n"
     ]
    }
   ],
   "source": [
    "#5th prg\n",
    "l=[3,4,6,6,3]\n",
    "v=max(l)\n",
    "l.remove(v)\n",
    "for i in range(len(l)):\n",
    "    if l[i]<=v:\n",
    "        l[i]+=1\n",
    "        l.append(v)\n",
    "    v=max(l)\n",
    "    print(l[i])"
   ]
  },
  {
   "cell_type": "code",
   "execution_count": 77,
   "metadata": {},
   "outputs": [
    {
     "name": "stdout",
     "output_type": "stream",
     "text": [
      "7\n"
     ]
    }
   ],
   "source": [
    "def minMoves(n,nums):\n",
    "    s=0\n",
    "    i = nums.index(min(nums))\n",
    "    for j in range(n):\n",
    "        if(i==j):\n",
    "            continue\n",
    "        else:\n",
    "            s= s+nums[j]-nums[i]\n",
    "    return s\n",
    "\n",
    "n=int(input())\n",
    "numbers=[]\n",
    "for i in range(n):\n",
    "    numbers.append(int(input()))\n",
    "print(minMoves(n,numbers))"
   ]
  },
  {
   "cell_type": "code",
   "execution_count": 84,
   "metadata": {},
   "outputs": [
    {
     "name": "stdout",
     "output_type": "stream",
     "text": [
      "2\n"
     ]
    }
   ],
   "source": [
    "nums=[3,4,6,6,3]    \n",
    "i = nums.index(max(nums))\n",
    "print(i)"
   ]
  },
  {
   "cell_type": "code",
   "execution_count": 134,
   "metadata": {},
   "outputs": [
    {
     "name": "stdout",
     "output_type": "stream",
     "text": [
      "[1]\n",
      "[2]\n",
      "[3]\n"
     ]
    }
   ],
   "source": [
    "#6th prg\n",
    "x=[1,2,3,1,2]\n",
    "v=[]\n",
    "for i in range(len(x)):\n",
    "    for j in range(i+1,len(x)):\n",
    "        v.append(x[i:j])\n",
    "y=[]\n",
    "for i in v:\n",
    "    if i not in y:\n",
    "        y.append(i)\n",
    "for i in y:\n",
    "    if len(i)<=1:\n",
    "        print(i)"
   ]
  },
  {
   "cell_type": "code",
   "execution_count": 157,
   "metadata": {},
   "outputs": [
    {
     "name": "stdout",
     "output_type": "stream",
     "text": [
      "better luck next time\n"
     ]
    }
   ],
   "source": [
    "#7th prg\n",
    "s=\"go to hell\".split()\n",
    "l=s[0]\n",
    "x=[]\n",
    "for i in s:\n",
    "    if len(i)%2!=0:\n",
    "        if len(i)>len(l):\n",
    "            x.append(i)\n",
    "if x:\n",
    "    print(x[0])\n",
    "else:\n",
    "    print(\"better luck next time\")\n"
   ]
  },
  {
   "cell_type": "code",
   "execution_count": null,
   "metadata": {},
   "outputs": [],
   "source": [
    "n=int(input())\n",
    "sentence=input().split()\n",
    "length=[]\n",
    "for i in sentence:\n",
    "    L=len(i)\n",
    "    if L%2==1:\n",
    "        length.append(len(i))\n",
    "    else:\n",
    "        length.append(0)\n",
    "if max(length)==0:\n",
    "    print(\"Better Luck next Time\")\n",
    "else:\n",
    "    print(sentence[length.index(max(length))])"
   ]
  },
  {
   "cell_type": "code",
   "execution_count": 160,
   "metadata": {},
   "outputs": [
    {
     "name": "stdout",
     "output_type": "stream",
     "text": [
      "c\n"
     ]
    }
   ],
   "source": [
    "#8th prg\n",
    "s=input()\n",
    "ans=[]\n",
    "for i in s:\n",
    "    ans.append(s.count(i))\n",
    "print(s[ans.index(min(ans))])"
   ]
  },
  {
   "cell_type": "code",
   "execution_count": null,
   "metadata": {},
   "outputs": [],
   "source": []
  }
 ],
 "metadata": {
  "kernelspec": {
   "display_name": "Python 3",
   "language": "python",
   "name": "python3"
  },
  "language_info": {
   "codemirror_mode": {
    "name": "ipython",
    "version": 3
   },
   "file_extension": ".py",
   "mimetype": "text/x-python",
   "name": "python",
   "nbconvert_exporter": "python",
   "pygments_lexer": "ipython3",
   "version": "3.11.4"
  },
  "orig_nbformat": 4
 },
 "nbformat": 4,
 "nbformat_minor": 2
}
