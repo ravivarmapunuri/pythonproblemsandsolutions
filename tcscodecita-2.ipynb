{
 "cells": [
  {
   "cell_type": "code",
   "execution_count": 66,
   "metadata": {},
   "outputs": [
    {
     "name": "stdout",
     "output_type": "stream",
     "text": [
      "#pgglNSfiilsfiiSspvfiirfjirdisalvlfiiriinivlpwTfiiriililbp\n",
      "['#2nd', 'program', 'gateway', 'gala', 'l=list(map(str,input().split()))', 'N=int(input())', 'S=[i[0]', 'for', 'i', 'in', 'l]', 's=\"\"', 'for', 'i', 'in', 'S:', 's+=i', 'print(s)', 'v=[]', 'for', 'i', 'in', 'range(0,len(s)):', 'for', 'j', 'in', 'range(i+1,len(s)+1):', 'd=s[i:j]', 'if', 's[i:j]==d[::-1]', 'and', 'len(s[i:j])>2:', 'v.append(i+2)', 'for', 'i', 'in', 'i', 'not', 'v:', 'l1.append(l[i])', 'print(l1)', 'while', 'True:', 'for', 'i', 'in', 'i==N-1:', 'l1.remove(l1[i])', 'break', 'print(l1)']\n",
      "#2nd\n"
     ]
    }
   ],
   "source": [
    "#2nd program gateway gala\n",
    "l=list(map(str,input().split()))\n",
    "N=int(input())\n",
    "S=[i[0] for i in l]\n",
    "s=\"\"\n",
    "for i in S:\n",
    "    s+=i\n",
    "print(s)\n",
    "v=[]\n",
    "for i in range(0,len(s)):\n",
    "    for j in range(i+1,len(s)+1):\n",
    "        d=s[i:j]\n",
    "        if s[i:j]==d[::-1] and len(s[i:j])>2:\n",
    "            v.append(i+2)\n",
    "l1=[]\n",
    "for i in range(len(l)):\n",
    "    if i not in v:\n",
    "        l1.append(l[i])\n",
    "print(l1)\n",
    "while True:\n",
    "    for i in range(len(l1)):\n",
    "        if i==N-1:\n",
    "            l1.remove(l1[i])\n",
    "    if len(l1)==1:\n",
    "        break\n",
    "print(*l1)"
   ]
  },
  {
   "cell_type": "code",
   "execution_count": 67,
   "metadata": {},
   "outputs": [
    {
     "name": "stdout",
     "output_type": "stream",
     "text": [
      "9 11 7 5\n"
     ]
    }
   ],
   "source": [
    "#6th prg\n",
    "#a,b,c,d=input().split()\n",
    "a,b,c,d=9,11,7,5\n",
    "x,y=21,6\n",
    "while True:\n",
    "    "
   ]
  },
  {
   "cell_type": "code",
   "execution_count": 79,
   "metadata": {},
   "outputs": [
    {
     "name": "stdout",
     "output_type": "stream",
     "text": [
      "[4, 3, 3, 6, 5, 2, 8, 8, 2, 7, 9, 2] <class 'list'>\n",
      "59\n"
     ]
    }
   ],
   "source": [
    "l=list(map(int,input().split()))\n",
    "print(l,type(l))\n",
    "s=0\n",
    "for i in l:\n",
    "    s+=i\n",
    "print(s)"
   ]
  },
  {
   "cell_type": "code",
   "execution_count": 127,
   "metadata": {},
   "outputs": [
    {
     "name": "stdout",
     "output_type": "stream",
     "text": [
      "[6, 2, 8, 7, 2]\n",
      "2\n"
     ]
    }
   ],
   "source": [
    "n=12\n",
    "p=[4 ,3 ,3 ,6 ,5 ,2 ,8 ,8 ,2 ,7 ,8 ,2]\n",
    "v=[2 ,1 ,1 ,2 ,3 ,6 ,1 ,6 ,2 ,7 ,6 ,3]\n",
    "b=50\n",
    "all=[]\n",
    "bats=[]\n",
    "bowls=[]\n",
    "for i in range(2,len(p)):\n",
    "    if i%4==0:\n",
    "        all.append(p[i])\n",
    "    if i%2!=0:\n",
    "        bats.append(p[i])\n",
    "    if i%2==0 and i%4!=0:\n",
    "        bowls.append(p[i])\n",
    "if len(all)>1 and len(bowls)>2 and len(bats)>2:\n",
    "    m=max(all,bowls,bats)\n",
    "    print(m)\n",
    "    v=m.index(max(m))\n"
   ]
  },
  {
   "cell_type": "code",
   "execution_count": 82,
   "metadata": {},
   "outputs": [
    {
     "name": "stdout",
     "output_type": "stream",
     "text": [
      "9\n"
     ]
    }
   ],
   "source": [
    "n=12\n",
    "p=[4 ,3 ,3 ,6 ,5 ,2 ,8 ,8 ,2 ,7 ,8 ,2]\n",
    "v=[2 ,1 ,1 ,2 ,3 ,6 ,1 ,6 ,2 ,7 ,6 ,3]\n",
    "b=50\n",
    "all=[]\n",
    "bats=[]\n",
    "bowls=[]"
   ]
  }
 ],
 "metadata": {
  "kernelspec": {
   "display_name": "Python 3",
   "language": "python",
   "name": "python3"
  },
  "language_info": {
   "codemirror_mode": {
    "name": "ipython",
    "version": 3
   },
   "file_extension": ".py",
   "mimetype": "text/x-python",
   "name": "python",
   "nbconvert_exporter": "python",
   "pygments_lexer": "ipython3",
   "version": "3.11.4"
  }
 },
 "nbformat": 4,
 "nbformat_minor": 2
}
