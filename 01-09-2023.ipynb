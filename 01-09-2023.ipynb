{
 "cells": [
  {
   "cell_type": "code",
   "execution_count": null,
   "metadata": {},
   "outputs": [],
   "source": [
    "#1st program"
   ]
  },
  {
   "cell_type": "code",
   "execution_count": 23,
   "metadata": {},
   "outputs": [
    {
     "name": "stdout",
     "output_type": "stream",
     "text": [
      "invalid input\n"
     ]
    }
   ],
   "source": [
    "#2nd program\n",
    "l=int(input(\"Enter the no.of liters to fill the tank\"))\n",
    "d=int(input(\"Enter the distance covered\"))\n",
    "if l>0 and d>0:\n",
    "    li=(l/d)*100\n",
    "    m=d*0.6214\n",
    "    g=l*0.2642\n",
    "    print(\"%.2f\"%li)  #print(\"{:.2f}\".format(li))\n",
    "    print(\"%.2f\"%(m/g))\n",
    "else:\n",
    "    print(\"invalid input\")\n"
   ]
  },
  {
   "cell_type": "code",
   "execution_count": 52,
   "metadata": {},
   "outputs": [
    {
     "name": "stdout",
     "output_type": "stream",
     "text": [
      "CSE 0 ECE 0 MECH 0\n",
      "None of the department has got the highest placement\n"
     ]
    }
   ],
   "source": [
    "#3rd program\n",
    "cse=int(input(\"Enter the no.of students placed in CSE:\"))\n",
    "ece=int(input(\"Enter the no.of students placed in ECE:\"))\n",
    "mech=int(input(\"Enter the no.of students placed in MECH:\"))\n",
    "\n",
    "print(\"CSE\",cse,\"ECE\",ece,\"MECH\",mech)\n",
    "\n",
    "if cse<0 or ece<0 or mech<0:\n",
    "    print(\"Invalid input\")\n",
    "else:\n",
    "    if cse>ece and cse>mech:\n",
    "        print(\"Highest Placement CSE\")\n",
    "    elif ece>mech and ece>cse:\n",
    "        print(\"Highest Placeement ECE\")\n",
    "    elif mech>cse and mech>ece:\n",
    "        print(\"Highest placement MECH\")\n",
    "    elif cse==ece==mech:\n",
    "        print(\"None of the department has got the highest placement\")\n",
    "    elif cse==ece:\n",
    "        print(\"Highes placemente CSE and ECE\")\n",
    "    elif cse==mech:\n",
    "        print(\"Highest placement is CSE and MECH\")\n",
    "    elif ece==mech:\n",
    "        print(\"Highest placemente is ECE and MECH\")"
   ]
  },
  {
   "cell_type": "code",
   "execution_count": 55,
   "metadata": {},
   "outputs": [
    {
     "name": "stdout",
     "output_type": "stream",
     "text": [
      "mech\n"
     ]
    }
   ],
   "source": [
    "cse=int(input())\n",
    "ece=int(input())\n",
    "mech=int(input())\n",
    "if cse<0 or ece<0 or mech<0:\n",
    "    print(\"invalid\")\n",
    "if cse==ece and ece==mech:\n",
    "    print(\"no highest palacements\")\n",
    "m=max(cse,ece,mech)\n",
    "if cse==m:\n",
    "    print(\"cse\")\n",
    "if ece==m:\n",
    "    print(\"ece\")\n",
    "if mech==m:\n",
    "    print(\"mech\")"
   ]
  },
  {
   "cell_type": "code",
   "execution_count": 72,
   "metadata": {},
   "outputs": [
    {
     "name": "stdout",
     "output_type": "stream",
     "text": [
      "d is not avaliable\n"
     ]
    }
   ],
   "source": [
    "#4th program\n",
    "n=int(input(\"Enter the no.of course\"))\n",
    "l=[]\n",
    "if n<=0:\n",
    "    print(\"Invalid\")\n",
    "else:\n",
    "    for i in range(n):\n",
    "        l.append(input(\"Enter the courses\").lower())\n",
    "    c=input(\"Enter the course to be searched\")\n",
    "    if c in l:\n",
    "        print(c,\" is  available\")\n",
    "    else:\n",
    "        print(c,\"is not avaliable\")"
   ]
  },
  {
   "cell_type": "code",
   "execution_count": 1,
   "metadata": {},
   "outputs": [
    {
     "name": "stdout",
     "output_type": "stream",
     "text": [
      "[3, 2, 1] ['6'] [['1', '2', '3'], ['4', '5'], ['6']]\n"
     ]
    }
   ],
   "source": [
    "#5th program\n",
    "n=int(input())\n",
    "l=[]\n",
    "z=[]\n",
    "s=[]\n",
    "if n<=0:\n",
    "    print(\"Invalid\")\n",
    "else:\n",
    "    for i in range(n):\n",
    "        l.append(int(input()))\n",
    "for i in l:\n",
    "    z=[]\n",
    "    for j in range(i):\n",
    "        z.append(input())\n",
    "    s.append(z)\n",
    "print(l,z,s)"
   ]
  },
  {
   "cell_type": "code",
   "execution_count": 2,
   "metadata": {},
   "outputs": [
    {
     "name": "stdout",
     "output_type": "stream",
     "text": [
      "[6, 1, 9, 2, 12, 7, 5, 3, 16, 4]\n",
      "6\n"
     ]
    }
   ],
   "source": [
    "n1=list(map(int,input().split()))\n",
    "print(n1)\n",
    "m2=max(n1)\n",
    "m1=min(n1)\n",
    "count=0\n",
    "for i in range(m1,m2):\n",
    "       if i not in n1:\n",
    "              count+=1\n",
    "print(count)"
   ]
  }
 ],
 "metadata": {
  "kernelspec": {
   "display_name": "Python 3",
   "language": "python",
   "name": "python3"
  },
  "language_info": {
   "codemirror_mode": {
    "name": "ipython",
    "version": 3
   },
   "file_extension": ".py",
   "mimetype": "text/x-python",
   "name": "python",
   "nbconvert_exporter": "python",
   "pygments_lexer": "ipython3",
   "version": "3.11.4"
  },
  "orig_nbformat": 4
 },
 "nbformat": 4,
 "nbformat_minor": 2
}
