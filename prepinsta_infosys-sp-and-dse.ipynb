{
 "cells": [
  {
   "cell_type": "code",
   "execution_count": null,
   "metadata": {},
   "outputs": [],
   "source": [
    "#1st prg\n",
    "n = int(input())\n",
    "lev = int(input())\n",
    "p = []\n",
    "b = []\n",
    "a = []\n",
    "ans = 0\n",
    "for i in range(n):\n",
    "   p.append(int(input()))\n",
    "for j in range(n):\n",
    "   b.append(int(input()))\n",
    "for k in range(n):\n",
    "   a.append([p[k], b[k]])\n",
    "a.sort()\n",
    "for z in a:\n",
    "   if z[0] > lev:\n",
    "       break\n",
    "   lev += z[1]\n",
    "   ans += 1\n",
    "print(ans) "
   ]
  },
  {
   "cell_type": "code",
   "execution_count": null,
   "metadata": {},
   "outputs": [],
   "source": [
    "#2nd prg\n",
    "def counter(n, k):\n",
    "   num = 0\n",
    "   if k == 1:\n",
    "       return n\n",
    "   else:\n",
    "       for i in range(1, n + 1):\n",
    "           for j in range(1, n + 1):\n",
    "               if j % i == 0:\n",
    "                   num += 1\n",
    "   return num\n",
    "\n",
    "\n",
    "def count(n, k):\n",
    "   if k == 1:\n",
    "       return n\n",
    "   if k == 2:\n",
    "       return counter(n, k)\n",
    "   mid = k // 2\n",
    "   x = count(n, k - mid)\n",
    "   y = counter(n, mid)\n",
    "   return x + y - 1\n",
    "\n",
    "\n",
    "n = int(input())\n",
    "k = int(input())\n",
    "print(count(n, k))"
   ]
  },
  {
   "cell_type": "code",
   "execution_count": 127,
   "metadata": {},
   "outputs": [
    {
     "name": "stdout",
     "output_type": "stream",
     "text": [
      "[[15], [6], [12, 5, 6], [5], [12, 5], [12], [1]]\n",
      "[5, 12]\n",
      "2\n"
     ]
    }
   ],
   "source": [
    "#3rd prg\n",
    "l=[15,6,5,12,1]\n",
    "v=[]\n",
    "for i in range(len(l)):\n",
    "    for j in range(i+1,len(l)+1):\n",
    "        v.append(l[i:j][::-1])\n",
    "l1=[]\n",
    "for i in range(len(v)):\n",
    "    if v[i][0]>sum(v[i][1:]):\n",
    "        l1.append(v[i])\n",
    "print(l1)\n",
    "x=[]\n",
    "x1=[]\n",
    "for i in range(len(l1)):\n",
    "    if len(l1[i])>1:\n",
    "        for j in range(len(l1[i])):\n",
    "            if j+1<len(l1[i]):\n",
    "                x.append(l1[i][j]-l1[i][j-1])\n",
    "                x1.append(l1[i])\n",
    "for i in range(len(x)):\n",
    "    if max(x)==x[i]:\n",
    "        print(x1[i][::-1])\n",
    "        print(len(x1[i]))"
   ]
  },
  {
   "cell_type": "code",
   "execution_count": null,
   "metadata": {},
   "outputs": [],
   "source": [
    "def sub(arr, i, n, prev=0):\n",
    "   if i == n:\n",
    "       return 0\n",
    "   a = sub(arr, i + 1, n, prev)\n",
    "   b = 0\n",
    "   if arr[i] > prev:\n",
    "       b = 1 + sub(arr, i + 1, n, arr[i])\n",
    "   return max(b, a)\n",
    "\n",
    "\n",
    "n = int(input())\n",
    "arr = []\n",
    "for i in range(n):\n",
    "   arr.append(int(input()))\n",
    "print(\"Length of Bitwise subsequence will be\", sub(arr, 0, len(arr)))"
   ]
  },
  {
   "cell_type": "code",
   "execution_count": 128,
   "metadata": {},
   "outputs": [
    {
     "name": "stdout",
     "output_type": "stream",
     "text": [
      "7\n"
     ]
    }
   ],
   "source": [
    "#4th prg\n",
    " #N = int(input())\n",
    "# S = list(input())\n",
    "# Cash = int(input())\n",
    "# A = int(input())\n",
    "# B = int(input())\n",
    "N = 6\n",
    "S = list(\"111011\")\n",
    "Cash = 7\n",
    "A = 1\n",
    "B = 3\n",
    "\n",
    "\n",
    "def swap():\n",
    "   global Cash\n",
    "   Rs = S.copy()\n",
    "   S[S.index('1')], S[''.join(S).rindex('0')] = S[''.join(S).rindex('0')], S[S.index('1')]\n",
    "   if Rs == S:\n",
    "       flip()\n",
    "   else:\n",
    "       Cash -= A\n",
    "\n",
    "\n",
    "def flip():\n",
    "   global Cash\n",
    "   S[S.index('1')] = '0'\n",
    "   Cash -= B\n",
    "\n",
    "\n",
    "while Cash > A or Cash > B:\n",
    "   if A < B and '0' in S:\n",
    "       swap()\n",
    "   else:\n",
    "       flip()\n",
    "print(int(''.join(S), 2))\n"
   ]
  },
  {
   "cell_type": "code",
   "execution_count": 155,
   "metadata": {},
   "outputs": [
    {
     "name": "stdout",
     "output_type": "stream",
     "text": [
      "[[1], [2], [4], [7]]\n",
      "2\n",
      "1 [1]\n",
      "2 [2]\n",
      "4 [4]\n",
      "7 [7]\n"
     ]
    }
   ],
   "source": [
    "#5th prg\n",
    "z=0\n",
    "l=[1,2,4,7]\n",
    "x=[]\n",
    "for i in range(len(l)):\n",
    "    for j in range(i+1,len(l)+1):\n",
    "        if len(l[i:j])<len(l)//2:\n",
    "            x.append(l[i:j])\n",
    "print(x)\n",
    "print(len(l)//2)\n",
    "v=[]\n",
    "for i in range(len(x)):\n",
    "    for j in range(len(x[i])):\n",
    "        print(0^x[i][j],x[i])\n"
   ]
  },
  {
   "cell_type": "code",
   "execution_count": 42,
   "metadata": {},
   "outputs": [
    {
     "name": "stdout",
     "output_type": "stream",
     "text": [
      "2\n"
     ]
    }
   ],
   "source": [
    "l=[1,2]\n",
    "x=[]\n",
    "if len(l)//2<=2:\n",
    "    print(0^max(l))\n",
    "else:\n",
    "    for i in range(len(l)):\n",
    "        for j in range(i+1,len(l)+1):\n",
    "            if len(l[i:j])<len(l)//2:\n",
    "                print(l[i:j])"
   ]
  },
  {
   "cell_type": "code",
   "execution_count": 44,
   "metadata": {},
   "outputs": [
    {
     "name": "stdout",
     "output_type": "stream",
     "text": [
      "1 2 3 4 5 6 7 8 46\n"
     ]
    }
   ],
   "source": [
    "#6th prg\n",
    "def Xor_sum(x, arr):\n",
    "   xorSum = sum(arr)\n",
    "\n",
    "   for i in range(1, x):\n",
    "       s = 0\n",
    "       for j in arr:\n",
    "           s += i ^ j\n",
    "       if s > xorSum:\n",
    "           xorSum = s\n",
    "   return xorSum\n",
    "\n",
    "\n",
    "n = 4\n",
    "x = 9\n",
    "arr = [7, 4, 0, 3]\n",
    "print(Xor_sum(x, arr))"
   ]
  },
  {
   "cell_type": "code",
   "execution_count": 51,
   "metadata": {},
   "outputs": [
    {
     "name": "stdout",
     "output_type": "stream",
     "text": [
      "40\n"
     ]
    }
   ],
   "source": [
    "#7th prg \n",
    "def convertBase(m, base):\n",
    "   rem = m % base\n",
    "   m = m // base\n",
    "   while m >= base and (m % base == rem):\n",
    "       m = m // base\n",
    "   if m == rem:\n",
    "       return True\n",
    "   return False\n",
    "\n",
    "\n",
    "m = int(input())\n",
    "base = 2\n",
    "while not convertBase(m, base):\n",
    "   base = base + 1\n",
    "print(base)"
   ]
  },
  {
   "cell_type": "code",
   "execution_count": 54,
   "metadata": {},
   "outputs": [
    {
     "name": "stdout",
     "output_type": "stream",
     "text": [
      "1\n",
      "20\n"
     ]
    }
   ],
   "source": [
    "#8th prg\n"
   ]
  },
  {
   "cell_type": "code",
   "execution_count": 1,
   "metadata": {},
   "outputs": [
    {
     "name": "stdout",
     "output_type": "stream",
     "text": [
      "5\n"
     ]
    }
   ],
   "source": [
    "n = int(input())\n",
    "m = int(input())\n",
    "k = int(input())\n",
    "arr = [0] * n\n",
    "for i in range(m):\n",
    "   arr[i] = int(input())\n",
    "ans = 0\n",
    "arr.sort()\n",
    "if k > 0:\n",
    "   for i in range(k + 1, m + 3, 1):\n",
    "       ans = max(ans, arr[i] - arr[i - k - 1] - 1)\n",
    "else:\n",
    "   j = 0\n",
    "   while arr[j] == 0:\n",
    "       j = j + 1\n",
    "   count = 0\n",
    "   for i in range(1, n + 1, 1):\n",
    "       count += 1\n",
    "       if j < n and (i == arr[j]):\n",
    "           count = 0\n",
    "\n",
    "           j += 1\n",
    "       ans = max(count, ans)\n",
    "print(ans)"
   ]
  },
  {
   "cell_type": "code",
   "execution_count": 26,
   "metadata": {},
   "outputs": [
    {
     "name": "stdout",
     "output_type": "stream",
     "text": [
      "abccdcabacda\n",
      "2\n"
     ]
    }
   ],
   "source": [
    "#11th prg\n",
    "s=input()\n",
    "v=[]\n",
    "s1=0\n",
    "print(s)\n",
    "for i in range(len(s)):\n",
    "    if i+1<len(s):\n",
    "        if s[i]==s[i+1]:\n",
    "            s1+=1\n",
    "print(s1+1)"
   ]
  }
 ],
 "metadata": {
  "kernelspec": {
   "display_name": "Python 3",
   "language": "python",
   "name": "python3"
  },
  "language_info": {
   "codemirror_mode": {
    "name": "ipython",
    "version": 3
   },
   "file_extension": ".py",
   "mimetype": "text/x-python",
   "name": "python",
   "nbconvert_exporter": "python",
   "pygments_lexer": "ipython3",
   "version": "3.11.4"
  }
 },
 "nbformat": 4,
 "nbformat_minor": 2
}
