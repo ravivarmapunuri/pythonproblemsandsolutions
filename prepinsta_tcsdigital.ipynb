{
 "cells": [
  {
   "cell_type": "code",
   "execution_count": 36,
   "metadata": {},
   "outputs": [
    {
     "name": "stdout",
     "output_type": "stream",
     "text": [
      "40 10 20 30\n"
     ]
    }
   ],
   "source": [
    "#1st\n",
    "n=int(input())\n",
    "l=list(map(int,input().split(\",\")))[:n]\n",
    "k=int(input())\n",
    "print(*(l[-k:]+l[:-k]))"
   ]
  },
  {
   "cell_type": "code",
   "execution_count": 11,
   "metadata": {},
   "outputs": [
    {
     "name": "stdout",
     "output_type": "stream",
     "text": [
      "65\n"
     ]
    }
   ],
   "source": [
    "#2nd prg\n",
    "n1=int(input())\n",
    "n2=int(input())\n",
    "c=0\n",
    "for i in range(n1,n2+1):\n",
    "    v=str(i)\n",
    "    if len(v)==1:\n",
    "        c+=1\n",
    "    elif len(v)==2:\n",
    "        if v.count(v[0])<=1:\n",
    "            c+=1\n",
    "    elif len(v)>=2:\n",
    "        if v.count(v[0])!=2 and v.count(v[1])!=2 and v.count(v[1])!=3:\n",
    "            c+=1   \n",
    "print(c)"
   ]
  },
  {
   "cell_type": "code",
   "execution_count": 15,
   "metadata": {},
   "outputs": [
    {
     "name": "stdout",
     "output_type": "stream",
     "text": [
      "72\n"
     ]
    }
   ],
   "source": [
    "#another model\n",
    "n1=int(input())\n",
    "n2=int(input())\n",
    "c=0\n",
    "for i in range(n1,n2+1):\n",
    "    v=str(i)\n",
    "    if len(v)==1:\n",
    "        c+=1\n",
    "    elif len(v)>1:\n",
    "        l=[j for j in v]\n",
    "        s=set(l)\n",
    "        if len(s)==len(v):\n",
    "            c+=1\n",
    "print(c)      "
   ]
  },
  {
   "cell_type": "code",
   "execution_count": 52,
   "metadata": {},
   "outputs": [
    {
     "name": "stdout",
     "output_type": "stream",
     "text": [
      "a\n",
      "aa\n",
      "aaa\n",
      "aaaa\n",
      "aaaabaaaa\n",
      "aaabaaa\n",
      "aabaa\n",
      "aba\n",
      "b\n"
     ]
    }
   ],
   "source": [
    "#3rd\n",
    "def sub(s):\n",
    "    a=len(s)\n",
    "    s1=[]\n",
    "    for  i in range(a):\n",
    "        for j in range(i,a):\n",
    "            s1=s[i:j+1]\n",
    "            z.append(s1)\n",
    "z=[]            \n",
    "s=input()\n",
    "sub(s)\n",
    "l=[]\n",
    "for i in z:\n",
    "    if i==i[::-1]:\n",
    "        l.append(i)\n",
    "l1=[]\n",
    "for i in l:\n",
    "    if i not in l1:\n",
    "        l1.append(i)\n",
    "for i in l1:\n",
    "    if i in s:\n",
    "        print(i)"
   ]
  },
  {
   "cell_type": "code",
   "execution_count": 37,
   "metadata": {},
   "outputs": [
    {
     "name": "stdout",
     "output_type": "stream",
     "text": [
      "nayan\n",
      "t\n",
      "ele\n"
     ]
    }
   ],
   "source": [
    "#nayannamantenet\n",
    "def if_palindrome(s):\n",
    "    if len(s)==1:\n",
    "        return True\n",
    "    s1=s[::-1]\n",
    "    return s1==s\n",
    "s=input()\n",
    "l=len(s) \n",
    "for i in range(1,l-1):\n",
    "    s1=s[:i]\n",
    "    if if_palindrome(s1):\n",
    "        for j in range(1,l-i):\n",
    "            s2=s[i:i+j]\n",
    "            s3=s[i+j:]\n",
    "            if if_palindrome(s2) and if_palindrome(s3):\n",
    "                print(s1)\n",
    "                print(s2)\n",
    "                print(s3)\n",
    "        "
   ]
  },
  {
   "cell_type": "code",
   "execution_count": 81,
   "metadata": {},
   "outputs": [
    {
     "name": "stdout",
     "output_type": "stream",
     "text": [
      "45\n"
     ]
    }
   ],
   "source": [
    "#4th prg\n",
    "n,m=map(int,input().split())\n",
    "v=int(input())\n",
    "v1=str(n)+str(m)\n",
    "l=[]\n",
    "if len(v1)==1:\n",
    "    print(v1)\n",
    "else:\n",
    "    p=[]\n",
    "    for i in range(len(v1)):\n",
    "        f_c=v1[i]\n",
    "        r_v=v1[:i]+v1[:i+1]\n",
    "        for i in "
   ]
  },
  {
   "cell_type": "code",
   "execution_count": 6,
   "metadata": {},
   "outputs": [
    {
     "name": "stdout",
     "output_type": "stream",
     "text": [
      "12345678910\n"
     ]
    },
    {
     "ename": "KeyboardInterrupt",
     "evalue": "",
     "output_type": "error",
     "traceback": [
      "\u001b[1;31m---------------------------------------------------------------------------\u001b[0m",
      "\u001b[1;31mKeyboardInterrupt\u001b[0m                         Traceback (most recent call last)",
      "\u001b[1;32mc:\\Users\\Varma\\Desktop\\python\\prepinsta_tcsdigital.ipynb Cell 7\u001b[0m line \u001b[0;36m1\n\u001b[0;32m     <a href='vscode-notebook-cell:/c%3A/Users/Varma/Desktop/python/prepinsta_tcsdigital.ipynb#W6sZmlsZQ%3D%3D?line=16'>17</a>\u001b[0m     s\u001b[39m+\u001b[39m\u001b[39m=\u001b[39m\u001b[39mstr\u001b[39m(i)\n\u001b[0;32m     <a href='vscode-notebook-cell:/c%3A/Users/Varma/Desktop/python/prepinsta_tcsdigital.ipynb#W6sZmlsZQ%3D%3D?line=17'>18</a>\u001b[0m \u001b[39mprint\u001b[39m(s)\n\u001b[1;32m---> <a href='vscode-notebook-cell:/c%3A/Users/Varma/Desktop/python/prepinsta_tcsdigital.ipynb#W6sZmlsZQ%3D%3D?line=18'>19</a>\u001b[0m p_l\u001b[39m=\u001b[39mg_p(s)\n\u001b[0;32m     <a href='vscode-notebook-cell:/c%3A/Users/Varma/Desktop/python/prepinsta_tcsdigital.ipynb#W6sZmlsZQ%3D%3D?line=19'>20</a>\u001b[0m \u001b[39mprint\u001b[39m(p_l)\n",
      "\u001b[1;32mc:\\Users\\Varma\\Desktop\\python\\prepinsta_tcsdigital.ipynb Cell 7\u001b[0m line \u001b[0;36m9\n\u001b[0;32m      <a href='vscode-notebook-cell:/c%3A/Users/Varma/Desktop/python/prepinsta_tcsdigital.ipynb#W6sZmlsZQ%3D%3D?line=6'>7</a>\u001b[0m     f_c\u001b[39m=\u001b[39ms[i]\n\u001b[0;32m      <a href='vscode-notebook-cell:/c%3A/Users/Varma/Desktop/python/prepinsta_tcsdigital.ipynb#W6sZmlsZQ%3D%3D?line=7'>8</a>\u001b[0m     r_c\u001b[39m=\u001b[39ms[:i]\u001b[39m+\u001b[39ms[i\u001b[39m+\u001b[39m\u001b[39m1\u001b[39m:]\n\u001b[1;32m----> <a href='vscode-notebook-cell:/c%3A/Users/Varma/Desktop/python/prepinsta_tcsdigital.ipynb#W6sZmlsZQ%3D%3D?line=8'>9</a>\u001b[0m     \u001b[39mfor\u001b[39;00m perm1 \u001b[39min\u001b[39;00m g_p(r_c):\n\u001b[0;32m     <a href='vscode-notebook-cell:/c%3A/Users/Varma/Desktop/python/prepinsta_tcsdigital.ipynb#W6sZmlsZQ%3D%3D?line=9'>10</a>\u001b[0m         p\u001b[39m.\u001b[39mappend(f_c\u001b[39m+\u001b[39mperm1)\n\u001b[0;32m     <a href='vscode-notebook-cell:/c%3A/Users/Varma/Desktop/python/prepinsta_tcsdigital.ipynb#W6sZmlsZQ%3D%3D?line=10'>11</a>\u001b[0m \u001b[39mreturn\u001b[39;00m p\n",
      "\u001b[1;32mc:\\Users\\Varma\\Desktop\\python\\prepinsta_tcsdigital.ipynb Cell 7\u001b[0m line \u001b[0;36m9\n\u001b[0;32m      <a href='vscode-notebook-cell:/c%3A/Users/Varma/Desktop/python/prepinsta_tcsdigital.ipynb#W6sZmlsZQ%3D%3D?line=6'>7</a>\u001b[0m     f_c\u001b[39m=\u001b[39ms[i]\n\u001b[0;32m      <a href='vscode-notebook-cell:/c%3A/Users/Varma/Desktop/python/prepinsta_tcsdigital.ipynb#W6sZmlsZQ%3D%3D?line=7'>8</a>\u001b[0m     r_c\u001b[39m=\u001b[39ms[:i]\u001b[39m+\u001b[39ms[i\u001b[39m+\u001b[39m\u001b[39m1\u001b[39m:]\n\u001b[1;32m----> <a href='vscode-notebook-cell:/c%3A/Users/Varma/Desktop/python/prepinsta_tcsdigital.ipynb#W6sZmlsZQ%3D%3D?line=8'>9</a>\u001b[0m     \u001b[39mfor\u001b[39;00m perm1 \u001b[39min\u001b[39;00m g_p(r_c):\n\u001b[0;32m     <a href='vscode-notebook-cell:/c%3A/Users/Varma/Desktop/python/prepinsta_tcsdigital.ipynb#W6sZmlsZQ%3D%3D?line=9'>10</a>\u001b[0m         p\u001b[39m.\u001b[39mappend(f_c\u001b[39m+\u001b[39mperm1)\n\u001b[0;32m     <a href='vscode-notebook-cell:/c%3A/Users/Varma/Desktop/python/prepinsta_tcsdigital.ipynb#W6sZmlsZQ%3D%3D?line=10'>11</a>\u001b[0m \u001b[39mreturn\u001b[39;00m p\n",
      "    \u001b[1;31m[... skipping similar frames: g_p at line 9 (3 times)]\u001b[0m\n",
      "\u001b[1;32mc:\\Users\\Varma\\Desktop\\python\\prepinsta_tcsdigital.ipynb Cell 7\u001b[0m line \u001b[0;36m9\n\u001b[0;32m      <a href='vscode-notebook-cell:/c%3A/Users/Varma/Desktop/python/prepinsta_tcsdigital.ipynb#W6sZmlsZQ%3D%3D?line=6'>7</a>\u001b[0m     f_c\u001b[39m=\u001b[39ms[i]\n\u001b[0;32m      <a href='vscode-notebook-cell:/c%3A/Users/Varma/Desktop/python/prepinsta_tcsdigital.ipynb#W6sZmlsZQ%3D%3D?line=7'>8</a>\u001b[0m     r_c\u001b[39m=\u001b[39ms[:i]\u001b[39m+\u001b[39ms[i\u001b[39m+\u001b[39m\u001b[39m1\u001b[39m:]\n\u001b[1;32m----> <a href='vscode-notebook-cell:/c%3A/Users/Varma/Desktop/python/prepinsta_tcsdigital.ipynb#W6sZmlsZQ%3D%3D?line=8'>9</a>\u001b[0m     \u001b[39mfor\u001b[39;00m perm1 \u001b[39min\u001b[39;00m g_p(r_c):\n\u001b[0;32m     <a href='vscode-notebook-cell:/c%3A/Users/Varma/Desktop/python/prepinsta_tcsdigital.ipynb#W6sZmlsZQ%3D%3D?line=9'>10</a>\u001b[0m         p\u001b[39m.\u001b[39mappend(f_c\u001b[39m+\u001b[39mperm1)\n\u001b[0;32m     <a href='vscode-notebook-cell:/c%3A/Users/Varma/Desktop/python/prepinsta_tcsdigital.ipynb#W6sZmlsZQ%3D%3D?line=10'>11</a>\u001b[0m \u001b[39mreturn\u001b[39;00m p\n",
      "\u001b[1;32mc:\\Users\\Varma\\Desktop\\python\\prepinsta_tcsdigital.ipynb Cell 7\u001b[0m line \u001b[0;36m1\n\u001b[0;32m      <a href='vscode-notebook-cell:/c%3A/Users/Varma/Desktop/python/prepinsta_tcsdigital.ipynb#W6sZmlsZQ%3D%3D?line=7'>8</a>\u001b[0m     r_c\u001b[39m=\u001b[39ms[:i]\u001b[39m+\u001b[39ms[i\u001b[39m+\u001b[39m\u001b[39m1\u001b[39m:]\n\u001b[0;32m      <a href='vscode-notebook-cell:/c%3A/Users/Varma/Desktop/python/prepinsta_tcsdigital.ipynb#W6sZmlsZQ%3D%3D?line=8'>9</a>\u001b[0m     \u001b[39mfor\u001b[39;00m perm1 \u001b[39min\u001b[39;00m g_p(r_c):\n\u001b[1;32m---> <a href='vscode-notebook-cell:/c%3A/Users/Varma/Desktop/python/prepinsta_tcsdigital.ipynb#W6sZmlsZQ%3D%3D?line=9'>10</a>\u001b[0m         p\u001b[39m.\u001b[39mappend(f_c\u001b[39m+\u001b[39mperm1)\n\u001b[0;32m     <a href='vscode-notebook-cell:/c%3A/Users/Varma/Desktop/python/prepinsta_tcsdigital.ipynb#W6sZmlsZQ%3D%3D?line=10'>11</a>\u001b[0m \u001b[39mreturn\u001b[39;00m p\n",
      "\u001b[1;31mKeyboardInterrupt\u001b[0m: "
     ]
    }
   ],
   "source": [
    "#4.....\n",
    "def g_p(s):\n",
    "    if len(s)==1:\n",
    "        return [s]\n",
    "    p=[]\n",
    "    for i in range(len(s)):\n",
    "        f_c=s[i]\n",
    "        r_c=s[:i]+s[i+1:]\n",
    "        for perm1 in g_p(r_c):\n",
    "            p.append(f_c+perm1)\n",
    "    return p\n",
    "\n",
    "n,m=map(int,input().split())\n",
    "l=[i for i in range(n,m+1)]\n",
    "s=\"\"\n",
    "for i in l:\n",
    "    s+=str(i)\n",
    "print(s)\n",
    "p_l=g_p(s)\n",
    "print(p_l)"
   ]
  },
  {
   "cell_type": "code",
   "execution_count": 4,
   "metadata": {},
   "outputs": [
    {
     "ename": "KeyboardInterrupt",
     "evalue": "",
     "output_type": "error",
     "traceback": [
      "\u001b[1;31m---------------------------------------------------------------------------\u001b[0m",
      "\u001b[1;31mKeyboardInterrupt\u001b[0m                         Traceback (most recent call last)",
      "\u001b[1;32mc:\\Users\\Varma\\Desktop\\python\\prepinsta_tcsdigital.ipynb Cell 8\u001b[0m line \u001b[0;36m1\n\u001b[0;32m     <a href='vscode-notebook-cell:/c%3A/Users/Varma/Desktop/python/prepinsta_tcsdigital.ipynb#X10sZmlsZQ%3D%3D?line=10'>11</a>\u001b[0m     \u001b[39mreturn\u001b[39;00m p\n\u001b[0;32m     <a href='vscode-notebook-cell:/c%3A/Users/Varma/Desktop/python/prepinsta_tcsdigital.ipynb#X10sZmlsZQ%3D%3D?line=11'>12</a>\u001b[0m n\u001b[39m=\u001b[39m\u001b[39m\"\u001b[39m\u001b[39m12345678910\u001b[39m\u001b[39m\"\u001b[39m\n\u001b[1;32m---> <a href='vscode-notebook-cell:/c%3A/Users/Varma/Desktop/python/prepinsta_tcsdigital.ipynb#X10sZmlsZQ%3D%3D?line=12'>13</a>\u001b[0m p_list\u001b[39m=\u001b[39mg_p(n)\n\u001b[0;32m     <a href='vscode-notebook-cell:/c%3A/Users/Varma/Desktop/python/prepinsta_tcsdigital.ipynb#X10sZmlsZQ%3D%3D?line=13'>14</a>\u001b[0m z\u001b[39m=\u001b[39m\u001b[39mset\u001b[39m(p_list)\n\u001b[0;32m     <a href='vscode-notebook-cell:/c%3A/Users/Varma/Desktop/python/prepinsta_tcsdigital.ipynb#X10sZmlsZQ%3D%3D?line=14'>15</a>\u001b[0m \u001b[39mfor\u001b[39;00m i \u001b[39min\u001b[39;00m z:\n",
      "\u001b[1;32mc:\\Users\\Varma\\Desktop\\python\\prepinsta_tcsdigital.ipynb Cell 8\u001b[0m line \u001b[0;36m9\n\u001b[0;32m      <a href='vscode-notebook-cell:/c%3A/Users/Varma/Desktop/python/prepinsta_tcsdigital.ipynb#X10sZmlsZQ%3D%3D?line=6'>7</a>\u001b[0m     f_c\u001b[39m=\u001b[39mn[i]\n\u001b[0;32m      <a href='vscode-notebook-cell:/c%3A/Users/Varma/Desktop/python/prepinsta_tcsdigital.ipynb#X10sZmlsZQ%3D%3D?line=7'>8</a>\u001b[0m     r_c\u001b[39m=\u001b[39mn[:i]\u001b[39m+\u001b[39mn[i\u001b[39m+\u001b[39m\u001b[39m1\u001b[39m:]\n\u001b[1;32m----> <a href='vscode-notebook-cell:/c%3A/Users/Varma/Desktop/python/prepinsta_tcsdigital.ipynb#X10sZmlsZQ%3D%3D?line=8'>9</a>\u001b[0m     \u001b[39mfor\u001b[39;00m perm \u001b[39min\u001b[39;00m g_p(r_c):\n\u001b[0;32m     <a href='vscode-notebook-cell:/c%3A/Users/Varma/Desktop/python/prepinsta_tcsdigital.ipynb#X10sZmlsZQ%3D%3D?line=9'>10</a>\u001b[0m         p\u001b[39m.\u001b[39mappend(f_c\u001b[39m+\u001b[39mperm)\n\u001b[0;32m     <a href='vscode-notebook-cell:/c%3A/Users/Varma/Desktop/python/prepinsta_tcsdigital.ipynb#X10sZmlsZQ%3D%3D?line=10'>11</a>\u001b[0m \u001b[39mreturn\u001b[39;00m p\n",
      "\u001b[1;32mc:\\Users\\Varma\\Desktop\\python\\prepinsta_tcsdigital.ipynb Cell 8\u001b[0m line \u001b[0;36m9\n\u001b[0;32m      <a href='vscode-notebook-cell:/c%3A/Users/Varma/Desktop/python/prepinsta_tcsdigital.ipynb#X10sZmlsZQ%3D%3D?line=6'>7</a>\u001b[0m     f_c\u001b[39m=\u001b[39mn[i]\n\u001b[0;32m      <a href='vscode-notebook-cell:/c%3A/Users/Varma/Desktop/python/prepinsta_tcsdigital.ipynb#X10sZmlsZQ%3D%3D?line=7'>8</a>\u001b[0m     r_c\u001b[39m=\u001b[39mn[:i]\u001b[39m+\u001b[39mn[i\u001b[39m+\u001b[39m\u001b[39m1\u001b[39m:]\n\u001b[1;32m----> <a href='vscode-notebook-cell:/c%3A/Users/Varma/Desktop/python/prepinsta_tcsdigital.ipynb#X10sZmlsZQ%3D%3D?line=8'>9</a>\u001b[0m     \u001b[39mfor\u001b[39;00m perm \u001b[39min\u001b[39;00m g_p(r_c):\n\u001b[0;32m     <a href='vscode-notebook-cell:/c%3A/Users/Varma/Desktop/python/prepinsta_tcsdigital.ipynb#X10sZmlsZQ%3D%3D?line=9'>10</a>\u001b[0m         p\u001b[39m.\u001b[39mappend(f_c\u001b[39m+\u001b[39mperm)\n\u001b[0;32m     <a href='vscode-notebook-cell:/c%3A/Users/Varma/Desktop/python/prepinsta_tcsdigital.ipynb#X10sZmlsZQ%3D%3D?line=10'>11</a>\u001b[0m \u001b[39mreturn\u001b[39;00m p\n",
      "\u001b[1;32mc:\\Users\\Varma\\Desktop\\python\\prepinsta_tcsdigital.ipynb Cell 8\u001b[0m line \u001b[0;36m9\n\u001b[0;32m      <a href='vscode-notebook-cell:/c%3A/Users/Varma/Desktop/python/prepinsta_tcsdigital.ipynb#X10sZmlsZQ%3D%3D?line=6'>7</a>\u001b[0m     f_c\u001b[39m=\u001b[39mn[i]\n\u001b[0;32m      <a href='vscode-notebook-cell:/c%3A/Users/Varma/Desktop/python/prepinsta_tcsdigital.ipynb#X10sZmlsZQ%3D%3D?line=7'>8</a>\u001b[0m     r_c\u001b[39m=\u001b[39mn[:i]\u001b[39m+\u001b[39mn[i\u001b[39m+\u001b[39m\u001b[39m1\u001b[39m:]\n\u001b[1;32m----> <a href='vscode-notebook-cell:/c%3A/Users/Varma/Desktop/python/prepinsta_tcsdigital.ipynb#X10sZmlsZQ%3D%3D?line=8'>9</a>\u001b[0m     \u001b[39mfor\u001b[39;00m perm \u001b[39min\u001b[39;00m g_p(r_c):\n\u001b[0;32m     <a href='vscode-notebook-cell:/c%3A/Users/Varma/Desktop/python/prepinsta_tcsdigital.ipynb#X10sZmlsZQ%3D%3D?line=9'>10</a>\u001b[0m         p\u001b[39m.\u001b[39mappend(f_c\u001b[39m+\u001b[39mperm)\n\u001b[0;32m     <a href='vscode-notebook-cell:/c%3A/Users/Varma/Desktop/python/prepinsta_tcsdigital.ipynb#X10sZmlsZQ%3D%3D?line=10'>11</a>\u001b[0m \u001b[39mreturn\u001b[39;00m p\n",
      "\u001b[1;32mc:\\Users\\Varma\\Desktop\\python\\prepinsta_tcsdigital.ipynb Cell 8\u001b[0m line \u001b[0;36m2\n\u001b[0;32m      <a href='vscode-notebook-cell:/c%3A/Users/Varma/Desktop/python/prepinsta_tcsdigital.ipynb#X10sZmlsZQ%3D%3D?line=0'>1</a>\u001b[0m \u001b[39m#permutations \u001b[39;00m\n\u001b[1;32m----> <a href='vscode-notebook-cell:/c%3A/Users/Varma/Desktop/python/prepinsta_tcsdigital.ipynb#X10sZmlsZQ%3D%3D?line=1'>2</a>\u001b[0m \u001b[39mdef\u001b[39;00m \u001b[39mg_p\u001b[39m(n):\n\u001b[0;32m      <a href='vscode-notebook-cell:/c%3A/Users/Varma/Desktop/python/prepinsta_tcsdigital.ipynb#X10sZmlsZQ%3D%3D?line=2'>3</a>\u001b[0m     \u001b[39mif\u001b[39;00m \u001b[39mlen\u001b[39m(n)\u001b[39m==\u001b[39m\u001b[39m1\u001b[39m:\n\u001b[0;32m      <a href='vscode-notebook-cell:/c%3A/Users/Varma/Desktop/python/prepinsta_tcsdigital.ipynb#X10sZmlsZQ%3D%3D?line=3'>4</a>\u001b[0m         \u001b[39mreturn\u001b[39;00m [n]\n",
      "\u001b[1;31mKeyboardInterrupt\u001b[0m: "
     ]
    }
   ],
   "source": [
    "#permutations \n",
    "def g_p(n):\n",
    "    if len(n)==1:\n",
    "        return [n]\n",
    "    p=[]\n",
    "    for i in range(len(n)):\n",
    "        f_c=n[i]\n",
    "        r_c=n[:i]+n[i+1:]\n",
    "        for perm in g_p(r_c):\n",
    "            p.append(f_c+perm)\n",
    "    return p\n",
    "n=\"12345678910\"\n",
    "p_list=g_p(n)\n",
    "z=set(p_list)\n",
    "for i in z:\n",
    "    print(i)"
   ]
  },
  {
   "cell_type": "code",
   "execution_count": 8,
   "metadata": {},
   "outputs": [
    {
     "ename": "MemoryError",
     "evalue": "",
     "output_type": "error",
     "traceback": [
      "\u001b[1;31m---------------------------------------------------------------------------\u001b[0m",
      "\u001b[1;31mMemoryError\u001b[0m                               Traceback (most recent call last)",
      "\u001b[1;32mc:\\Users\\Varma\\Desktop\\python\\prepinsta_tcsdigital.ipynb Cell 9\u001b[0m line \u001b[0;36m1\n\u001b[0;32m     <a href='vscode-notebook-cell:/c%3A/Users/Varma/Desktop/python/prepinsta_tcsdigital.ipynb#X14sZmlsZQ%3D%3D?line=14'>15</a>\u001b[0m \u001b[39mfor\u001b[39;00m i \u001b[39min\u001b[39;00m l:\n\u001b[0;32m     <a href='vscode-notebook-cell:/c%3A/Users/Varma/Desktop/python/prepinsta_tcsdigital.ipynb#X14sZmlsZQ%3D%3D?line=15'>16</a>\u001b[0m     s \u001b[39m+\u001b[39m\u001b[39m=\u001b[39m \u001b[39mstr\u001b[39m(i)\n\u001b[1;32m---> <a href='vscode-notebook-cell:/c%3A/Users/Varma/Desktop/python/prepinsta_tcsdigital.ipynb#X14sZmlsZQ%3D%3D?line=17'>18</a>\u001b[0m p_l \u001b[39m=\u001b[39m g_p(s)\n\u001b[0;32m     <a href='vscode-notebook-cell:/c%3A/Users/Varma/Desktop/python/prepinsta_tcsdigital.ipynb#X14sZmlsZQ%3D%3D?line=19'>20</a>\u001b[0m count \u001b[39m=\u001b[39m \u001b[39m0\u001b[39m\n\u001b[0;32m     <a href='vscode-notebook-cell:/c%3A/Users/Varma/Desktop/python/prepinsta_tcsdigital.ipynb#X14sZmlsZQ%3D%3D?line=20'>21</a>\u001b[0m \u001b[39mfor\u001b[39;00m perm \u001b[39min\u001b[39;00m p_l:\n",
      "\u001b[1;32mc:\\Users\\Varma\\Desktop\\python\\prepinsta_tcsdigital.ipynb Cell 9\u001b[0m line \u001b[0;36m8\n\u001b[0;32m      <a href='vscode-notebook-cell:/c%3A/Users/Varma/Desktop/python/prepinsta_tcsdigital.ipynb#X14sZmlsZQ%3D%3D?line=5'>6</a>\u001b[0m     f_c \u001b[39m=\u001b[39m s[i]\n\u001b[0;32m      <a href='vscode-notebook-cell:/c%3A/Users/Varma/Desktop/python/prepinsta_tcsdigital.ipynb#X14sZmlsZQ%3D%3D?line=6'>7</a>\u001b[0m     r_c \u001b[39m=\u001b[39m s[:i] \u001b[39m+\u001b[39m s[i\u001b[39m+\u001b[39m\u001b[39m1\u001b[39m:]\n\u001b[1;32m----> <a href='vscode-notebook-cell:/c%3A/Users/Varma/Desktop/python/prepinsta_tcsdigital.ipynb#X14sZmlsZQ%3D%3D?line=7'>8</a>\u001b[0m     \u001b[39mfor\u001b[39;00m perm1 \u001b[39min\u001b[39;00m g_p(r_c):\n\u001b[0;32m      <a href='vscode-notebook-cell:/c%3A/Users/Varma/Desktop/python/prepinsta_tcsdigital.ipynb#X14sZmlsZQ%3D%3D?line=8'>9</a>\u001b[0m         p\u001b[39m.\u001b[39mappend(f_c \u001b[39m+\u001b[39m perm1)\n\u001b[0;32m     <a href='vscode-notebook-cell:/c%3A/Users/Varma/Desktop/python/prepinsta_tcsdigital.ipynb#X14sZmlsZQ%3D%3D?line=9'>10</a>\u001b[0m \u001b[39mreturn\u001b[39;00m p\n",
      "\u001b[1;32mc:\\Users\\Varma\\Desktop\\python\\prepinsta_tcsdigital.ipynb Cell 9\u001b[0m line \u001b[0;36m9\n\u001b[0;32m      <a href='vscode-notebook-cell:/c%3A/Users/Varma/Desktop/python/prepinsta_tcsdigital.ipynb#X14sZmlsZQ%3D%3D?line=6'>7</a>\u001b[0m     r_c \u001b[39m=\u001b[39m s[:i] \u001b[39m+\u001b[39m s[i\u001b[39m+\u001b[39m\u001b[39m1\u001b[39m:]\n\u001b[0;32m      <a href='vscode-notebook-cell:/c%3A/Users/Varma/Desktop/python/prepinsta_tcsdigital.ipynb#X14sZmlsZQ%3D%3D?line=7'>8</a>\u001b[0m     \u001b[39mfor\u001b[39;00m perm1 \u001b[39min\u001b[39;00m g_p(r_c):\n\u001b[1;32m----> <a href='vscode-notebook-cell:/c%3A/Users/Varma/Desktop/python/prepinsta_tcsdigital.ipynb#X14sZmlsZQ%3D%3D?line=8'>9</a>\u001b[0m         p\u001b[39m.\u001b[39mappend(f_c \u001b[39m+\u001b[39m perm1)\n\u001b[0;32m     <a href='vscode-notebook-cell:/c%3A/Users/Varma/Desktop/python/prepinsta_tcsdigital.ipynb#X14sZmlsZQ%3D%3D?line=9'>10</a>\u001b[0m \u001b[39mreturn\u001b[39;00m p\n",
      "\u001b[1;31mMemoryError\u001b[0m: "
     ]
    }
   ],
   "source": [
    "def g_p(s):\n",
    "    if len(s) == 1:\n",
    "        return [s]\n",
    "    p = []\n",
    "    for i in range(len(s)):\n",
    "        f_c = s[i]\n",
    "        r_c = s[:i] + s[i+1:]\n",
    "        for perm1 in g_p(r_c):\n",
    "            p.append(f_c + perm1)\n",
    "    return p\n",
    "\n",
    "n, m, v = map(int, input().split())\n",
    "l = [i for i in range(n, m + 1)]\n",
    "s = \"\"\n",
    "for i in l:\n",
    "    s += str(i)\n",
    "\n",
    "p_l = g_p(s)\n",
    "\n",
    "count = 0\n",
    "for perm in p_l:\n",
    "    if sum(map(int, perm)) % 2 == 0:\n",
    "        count += 1\n",
    "\n",
    "print(count)\n"
   ]
  },
  {
   "cell_type": "code",
   "execution_count": 43,
   "metadata": {},
   "outputs": [
    {
     "name": "stdout",
     "output_type": "stream",
     "text": [
      "50\n"
     ]
    }
   ],
   "source": [
    "#5th prg"
   ]
  },
  {
   "cell_type": "code",
   "execution_count": 90,
   "metadata": {},
   "outputs": [
    {
     "name": "stdout",
     "output_type": "stream",
     "text": [
      "465577\n"
     ]
    }
   ],
   "source": [
    "#6th prg\n",
    "def g_p(v):\n",
    "    if len(v)==1:\n",
    "        return [v]\n",
    "    p=[]\n",
    "    for i in range(len(v)):\n",
    "        f_c=v[i]\n",
    "        r_c=v[:i]+v[i+1:]\n",
    "        for perm in g_p(r_c):\n",
    "            p.append(f_c+perm)\n",
    "    return p\n",
    "\n",
    "n,m=map(int,input().split())\n",
    "v=str(n)\n",
    "p_l=g_p(v)\n",
    "p_l.sort()\n",
    "l=[]\n",
    "for i in p_l:\n",
    "    if int(i)>m:\n",
    "        print(i)\n",
    "        break"
   ]
  },
  {
   "cell_type": "code",
   "execution_count": 91,
   "metadata": {},
   "outputs": [
    {
     "name": "stdout",
     "output_type": "stream",
     "text": [
      "{'25', '52'}\n"
     ]
    }
   ],
   "source": [
    "#7th prg\n",
    "#6th prg\n",
    "def g_p(v):\n",
    "    if len(v)==1:\n",
    "        return [v]\n",
    "    p=[]\n",
    "    for i in range(len(v)):\n",
    "        f_c=v[i]\n",
    "        r_c=v[:i]+v[i+1:]\n",
    "        for perm in g_p(r_c):\n",
    "            p.append(f_c+perm)\n",
    "    return p\n",
    "\n",
    "n,m=map(int,input().split())\n",
    "v=str(n)+str(m)\n",
    "p_l=g_p(v)\n",
    "print(set(p_l))\n"
   ]
  }
 ],
 "metadata": {
  "kernelspec": {
   "display_name": "Python 3",
   "language": "python",
   "name": "python3"
  },
  "language_info": {
   "codemirror_mode": {
    "name": "ipython",
    "version": 3
   },
   "file_extension": ".py",
   "mimetype": "text/x-python",
   "name": "python",
   "nbconvert_exporter": "python",
   "pygments_lexer": "ipython3",
   "version": "3.11.4"
  },
  "orig_nbformat": 4
 },
 "nbformat": 4,
 "nbformat_minor": 2
}
