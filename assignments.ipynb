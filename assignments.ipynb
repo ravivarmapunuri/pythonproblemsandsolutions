{
 "cells": [
  {
   "cell_type": "code",
   "execution_count": 7,
   "metadata": {},
   "outputs": [
    {
     "name": "stdout",
     "output_type": "stream",
     "text": [
      "0\n",
      "1\n",
      "2\n",
      "3\n",
      "4\n",
      "5\n",
      "6\n",
      "7\n",
      "8\n",
      "9\n",
      "10\n"
     ]
    }
   ],
   "source": [
    "#print a missing number in a given list as per the size of the list from 0 onwards\n",
    "n=input().split(\" \")\n",
    "size=n[0]\n",
    "l=n[1:]\n",
    "for i in range(0,int(size)+1):\n",
    "    if str(i) not in l:\n",
    "        print(i)"
   ]
  },
  {
   "cell_type": "code",
   "execution_count": 25,
   "metadata": {},
   "outputs": [
    {
     "name": "stdout",
     "output_type": "stream",
     "text": [
      "#######haihelloravi\n"
     ]
    }
   ],
   "source": [
    "#print the #'s before the string \n",
    "n=input()\n",
    "s=[]\n",
    "l=[]\n",
    "for i in n:\n",
    "    if i.isalpha():\n",
    "        l.append(i)\n",
    "    else:\n",
    "        s.append(i)\n",
    "print(\"\".join(s+l))"
   ]
  },
  {
   "cell_type": "code",
   "execution_count": 5,
   "metadata": {},
   "outputs": [
    {
     "name": "stdout",
     "output_type": "stream",
     "text": [
      "ravi#varma#@123\n",
      "##ravivarma@123\n"
     ]
    }
   ],
   "source": [
    "#printing the hash first in given string\n",
    "n=input()\n",
    "print(n)\n",
    "res=\"\"\n",
    "h=\"\"\n",
    "for i in n:\n",
    "    if i=='#':\n",
    "        h+=i\n",
    "    else:\n",
    "        res+=i\n",
    "print(h+res)"
   ]
  },
  {
   "cell_type": "code",
   "execution_count": 24,
   "metadata": {},
   "outputs": [
    {
     "name": "stdout",
     "output_type": "stream",
     "text": [
      "80239\n",
      "5\n"
     ]
    }
   ],
   "source": [
    "#print the sum of prime numbers in given number\n",
    "n=int(input())\n",
    "discount=0\n",
    "print(n)\n",
    "for i in str(n):\n",
    "    z=int(i)\n",
    "    if z==0 or z==1:\n",
    "        pass\n",
    "    else:\n",
    "        c=0\n",
    "        for j in range(2,z):\n",
    "            if z%j==0:\n",
    "                c=1\n",
    "                break\n",
    "        if c==0:\n",
    "            discount+=z\n",
    "print(discount)           "
   ]
  },
  {
   "cell_type": "code",
   "execution_count": 1,
   "metadata": {},
   "outputs": [
    {
     "name": "stdout",
     "output_type": "stream",
     "text": [
      "5\n"
     ]
    }
   ],
   "source": [
    "#print the sum of prime numbers in given number\n",
    "n=input()\n",
    "p=['2','3','5','7']\n",
    "discount=0\n",
    "for i in n:\n",
    "    if i in p:\n",
    "        discount+=int(i)\n",
    "print(discount)"
   ]
  }
 ],
 "metadata": {
  "kernelspec": {
   "display_name": "Python 3",
   "language": "python",
   "name": "python3"
  },
  "language_info": {
   "codemirror_mode": {
    "name": "ipython",
    "version": 3
   },
   "file_extension": ".py",
   "mimetype": "text/x-python",
   "name": "python",
   "nbconvert_exporter": "python",
   "pygments_lexer": "ipython3",
   "version": "3.11.4"
  },
  "orig_nbformat": 4
 },
 "nbformat": 4,
 "nbformat_minor": 2
}
