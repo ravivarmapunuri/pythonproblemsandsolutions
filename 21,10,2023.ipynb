{
 "cells": [
  {
   "cell_type": "code",
   "execution_count": 3,
   "metadata": {},
   "outputs": [
    {
     "name": "stdout",
     "output_type": "stream",
     "text": [
      "3\n"
     ]
    }
   ],
   "source": [
    "a=[12,44,2,26,81,36,18]\n",
    "c=0\n",
    "for i in a:\n",
    "    if i%2==0 and i%6==0:\n",
    "        c+=1\n",
    "print(c)"
   ]
  },
  {
   "cell_type": "code",
   "execution_count": 45,
   "metadata": {},
   "outputs": [
    {
     "name": "stdout",
     "output_type": "stream",
     "text": [
      "0\n"
     ]
    }
   ],
   "source": [
    "a=[10,100,300,200,1000,20,30]\n",
    "k=1\n",
    "a.sort()\n",
    "v=[]\n",
    "for i in range(len(a)):\n",
    "    x=[]\n",
    "    for j in range(k):\n",
    "        if i+1<=len(a):\n",
    "            x.append(a[i])\n",
    "            i+=1\n",
    "    v.append(x)\n",
    "v1=[]\n",
    "for i in v:\n",
    "    if len(i)==k:\n",
    "        v1.append(i)\n",
    "x=[]\n",
    "for i in v1:\n",
    "    x1=max(i)-min(i)\n",
    "    x.append(x1)\n",
    "print(min(x))\n"
   ]
  },
  {
   "cell_type": "code",
   "execution_count": 6,
   "metadata": {},
   "outputs": [
    {
     "name": "stdout",
     "output_type": "stream",
     "text": [
      "20\n"
     ]
    }
   ],
   "source": [
    "arr=[10,100,300,200,1000,20,30] \n",
    "k=3 \n",
    "res=999999999 \n",
    "arr.sort() \n",
    "for i in range(len(arr)-k+1):\n",
    "    temp=arr[i:i+k] \n",
    "    f=max(temp)-min(temp) \n",
    "    if f<res: \n",
    "        res=f \n",
    "        print(res)\n"
   ]
  },
  {
   "cell_type": "code",
   "execution_count": 13,
   "metadata": {},
   "outputs": [],
   "source": [
    "a=426\n",
    "a1=[i for i in str(a)]\n",
    "b=431\n",
    "b1=[i for i in str(b)]\n",
    "c=652\n",
    "c1=[i for i in str(c)]\n",
    "x=list(set(a1+b1+c1))\n",
    "for i in x:\n",
    "    if i in a1 and i in b1 and i in c1:\n",
    "        print(i)"
   ]
  },
  {
   "cell_type": "code",
   "execution_count": 3,
   "metadata": {},
   "outputs": [
    {
     "name": "stdout",
     "output_type": "stream",
     "text": [
      "426461621\n",
      "6\n",
      "[1, 2, 3, 4, 5, 6] [2, 2, 0, 2, 0, 3]\n"
     ]
    }
   ],
   "source": [
    "a=426\n",
    "b=461\n",
    "c=621\n",
    "x=str(a)+str(b)+str(c)\n",
    "print(x)\n",
    "x1=[]\n",
    "v=[]\n",
    "for i in range(int(min(x)),int(max(x))+1):\n",
    "    v.append(x.count(str(i)))\n",
    "    x1.append(i)\n",
    "print(x1[v.index(max(v))])\n",
    "print(x1,v)"
   ]
  },
  {
   "cell_type": "code",
   "execution_count": 7,
   "metadata": {},
   "outputs": [
    {
     "name": "stdout",
     "output_type": "stream",
     "text": [
      "2 3 4\n"
     ]
    }
   ],
   "source": [
    "a=426\n",
    "b=446\n",
    "c=652\n",
    "x=str(a)+str(b)+str(c)\n",
    "v=0\n",
    "z=0\n",
    "for i in range(int(min(x)),int(max(x))+1):\n",
    "    x1=x.count(str(i))\n",
    "    if x1>v:\n",
    "        v=x1\n",
    "        z=i\n",
    "print(z)"
   ]
  },
  {
   "cell_type": "code",
   "execution_count": 1,
   "metadata": {},
   "outputs": [
    {
     "name": "stdout",
     "output_type": "stream",
     "text": [
      "invalid\n"
     ]
    }
   ],
   "source": [
    "n=\"uccess@123\"\n",
    "if len(n)<8:\n",
    "    print(\"invalid\")\n",
    "else:\n",
    "    u,l,d,s=0,0,0,0\n",
    "    for i in n:\n",
    "        if i.isupper():\n",
    "            u=1\n",
    "        elif i.islower():\n",
    "            l=1\n",
    "        elif i.isdigit():\n",
    "            d=1\n",
    "        else:\n",
    "            s=1\n",
    "    if u==1 and l==1 and d==1 and s==1:\n",
    "        print(\"valid \")\n",
    "    else:\n",
    "        print(\"invalid\")"
   ]
  },
  {
   "cell_type": "code",
   "execution_count": 60,
   "metadata": {},
   "outputs": [
    {
     "name": "stdout",
     "output_type": "stream",
     "text": [
      "magical\n"
     ]
    }
   ],
   "source": [
    "n=1\n",
    "s=[int(i) for i in str(n)]\n",
    "v=sum(s)\n",
    "v1=str(v)[::-1]\n",
    "if n==(v*int(v1)):\n",
    "    print(\"magical\")\n",
    "else:\n",
    "    print(\"not \")"
   ]
  },
  {
   "cell_type": "code",
   "execution_count": 87,
   "metadata": {},
   "outputs": [
    {
     "name": "stdout",
     "output_type": "stream",
     "text": [
      "3\n",
      "2\n",
      "1\n"
     ]
    }
   ],
   "source": [
    "s=[1,27,39]\n",
    "l=round(min(s)**(1/3))\n",
    "h=round(max(s)**(1/3))\n",
    "v=len(s)\n",
    "while v:\n",
    "    print(v)\n",
    "    v-=1"
   ]
  },
  {
   "cell_type": "code",
   "execution_count": 70,
   "metadata": {},
   "outputs": [
    {
     "name": "stdout",
     "output_type": "stream",
     "text": [
      "2\n"
     ]
    }
   ],
   "source": [
    "print(round(9**(1/3)))"
   ]
  }
 ],
 "metadata": {
  "kernelspec": {
   "display_name": "Python 3",
   "language": "python",
   "name": "python3"
  },
  "language_info": {
   "codemirror_mode": {
    "name": "ipython",
    "version": 3
   },
   "file_extension": ".py",
   "mimetype": "text/x-python",
   "name": "python",
   "nbconvert_exporter": "python",
   "pygments_lexer": "ipython3",
   "version": "3.11.4"
  }
 },
 "nbformat": 4,
 "nbformat_minor": 2
}
