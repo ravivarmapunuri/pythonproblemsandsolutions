{
 "cells": [
  {
   "cell_type": "code",
   "execution_count": 3,
   "metadata": {},
   "outputs": [
    {
     "ename": "SyntaxError",
     "evalue": "(unicode error) 'unicodeescape' codec can't decode bytes in position 2-3: truncated \\UXXXXXXXX escape (803669342.py, line 39)",
     "output_type": "error",
     "traceback": [
      "\u001b[1;36m  Cell \u001b[1;32mIn[3], line 39\u001b[1;36m\u001b[0m\n\u001b[1;33m    file_path = 'C:\\Users\\Varma\\Downloads\\Data+Bandit_yt4x2i3eiwhoid9\\file.txt'\u001b[0m\n\u001b[1;37m                                                                               ^\u001b[0m\n\u001b[1;31mSyntaxError\u001b[0m\u001b[1;31m:\u001b[0m (unicode error) 'unicodeescape' codec can't decode bytes in position 2-3: truncated \\UXXXXXXXX escape\n"
     ]
    }
   ],
   "source": [
    "import re\n",
    "\n",
    "def extract_sensitive_data(file_path):\n",
    "    ssns = []\n",
    "    credit_cards = []\n",
    "    emails = []\n",
    "    phone_numbers = []\n",
    "\n",
    "    with open(file_path, 'r') as file:\n",
    "        content = file.read()\n",
    "\n",
    "        # Extract Social Security Numbers (SSNs)\n",
    "        ssns = re.findall(r'\\b\\d{3}-\\d{2}-\\d{4}\\b', content)\n",
    "\n",
    "        # Extract Credit Card Numbers\n",
    "        credit_cards = re.findall(r'\\b\\d{16}\\b', content)\n",
    "        credit_cards += re.findall(r'\\b\\d{4}-\\d{4}-\\d{4}-\\d{4}\\b', content)\n",
    "\n",
    "        # Remove hyphens from the credit card numbers\n",
    "        credit_cards = [\"\".join(card.split(\"-\")) for card in credit_cards]\n",
    "\n",
    "        # Extract Email Addresses\n",
    "        emails = re.findall(r'\\b[A-Za-z0-9._%+-]+@[A-Za-z0-9.-]+\\.[A-Z|a-z]{2,}\\b', content)\n",
    "\n",
    "        # Extract Phone Numbers\n",
    "        phone_numbers = re.findall(r'\\b\\(\\d{3}\\) \\d{3}-\\d{4}\\b', content)\n",
    "\n",
    "    # Capture the last character of each type of sensitive data\n",
    "    last_chars = {\n",
    "        'SSN': ssns[-1][-1] if ssns else None,\n",
    "        'CreditCard': credit_cards[-1][-1] if credit_cards else None,\n",
    "        'Email': emails[-1][-1] if emails else None,\n",
    "        'PhoneNumber': phone_numbers[-1][-1] if phone_numbers else None\n",
    "    }\n",
    "\n",
    "    return last_chars\n",
    "\n",
    "\n",
    "file_path = 'C:\\Users\\Varma\\Downloads\\Data+Bandit_yt4x2i3eiwhoid9\\file.txt'\n",
    "extracted_chars = extract_sensitive_data(file_path)\n",
    "\n",
    "# Form the Flag\n",
    "flag = 'HQ8{'\n",
    "for key in extracted_chars:\n",
    "    if extracted_chars[key] is not None:\n",
    "        flag += extracted_chars[key]\n",
    "\n",
    "flag += '}'\n",
    "\n",
    "print(f'Flag: {flag}')\n",
    "\n"
   ]
  },
  {
   "cell_type": "code",
   "execution_count": 10,
   "metadata": {},
   "outputs": [
    {
     "ename": "FileNotFoundError",
     "evalue": "[Errno 2] No such file or directory: 'C:\\\\Users\\\\Varma\\\\Downloads\\\\Data+Bandit_yt4x2i3eiwhoid9\\\\ file.txt'",
     "output_type": "error",
     "traceback": [
      "\u001b[1;31m---------------------------------------------------------------------------\u001b[0m",
      "\u001b[1;31mFileNotFoundError\u001b[0m                         Traceback (most recent call last)",
      "\u001b[1;32mUntitled-1.ipynb Cell 2\u001b[0m line \u001b[0;36m4\n\u001b[0;32m     <a href='vscode-notebook-cell:Untitled-1.ipynb?jupyter-notebook#W1sdW50aXRsZWQ%3D?line=37'>38</a>\u001b[0m \u001b[39m# Use a raw string for the file path\u001b[39;00m\n\u001b[0;32m     <a href='vscode-notebook-cell:Untitled-1.ipynb?jupyter-notebook#W1sdW50aXRsZWQ%3D?line=38'>39</a>\u001b[0m file_path \u001b[39m=\u001b[39m \u001b[39mr\u001b[39m\u001b[39m'\u001b[39m\u001b[39mC:\u001b[39m\u001b[39m\\\u001b[39m\u001b[39mUsers\u001b[39m\u001b[39m\\\u001b[39m\u001b[39mVarma\u001b[39m\u001b[39m\\\u001b[39m\u001b[39mDownloads\u001b[39m\u001b[39m\\\u001b[39m\u001b[39mData+Bandit_yt4x2i3eiwhoid9\u001b[39m\u001b[39m\\\u001b[39m\u001b[39m file.txt\u001b[39m\u001b[39m'\u001b[39m\n\u001b[1;32m---> <a href='vscode-notebook-cell:Untitled-1.ipynb?jupyter-notebook#W1sdW50aXRsZWQ%3D?line=39'>40</a>\u001b[0m extracted_chars \u001b[39m=\u001b[39m extract_sensitive_data(file_path)\n\u001b[0;32m     <a href='vscode-notebook-cell:Untitled-1.ipynb?jupyter-notebook#W1sdW50aXRsZWQ%3D?line=41'>42</a>\u001b[0m \u001b[39m# Form the Flag\u001b[39;00m\n\u001b[0;32m     <a href='vscode-notebook-cell:Untitled-1.ipynb?jupyter-notebook#W1sdW50aXRsZWQ%3D?line=42'>43</a>\u001b[0m flag \u001b[39m=\u001b[39m \u001b[39m'\u001b[39m\u001b[39mHQ8\u001b[39m\u001b[39m{\u001b[39m\u001b[39m'\u001b[39m\n",
      "\u001b[1;32mUntitled-1.ipynb Cell 2\u001b[0m line \u001b[0;36m9\n\u001b[0;32m      <a href='vscode-notebook-cell:Untitled-1.ipynb?jupyter-notebook#W1sdW50aXRsZWQ%3D?line=5'>6</a>\u001b[0m emails \u001b[39m=\u001b[39m []\n\u001b[0;32m      <a href='vscode-notebook-cell:Untitled-1.ipynb?jupyter-notebook#W1sdW50aXRsZWQ%3D?line=6'>7</a>\u001b[0m phone_numbers \u001b[39m=\u001b[39m []\n\u001b[1;32m----> <a href='vscode-notebook-cell:Untitled-1.ipynb?jupyter-notebook#W1sdW50aXRsZWQ%3D?line=8'>9</a>\u001b[0m \u001b[39mwith\u001b[39;00m \u001b[39mopen\u001b[39;49m(file_path, \u001b[39m'\u001b[39;49m\u001b[39mr\u001b[39;49m\u001b[39m'\u001b[39;49m) \u001b[39mas\u001b[39;00m file:\n\u001b[0;32m     <a href='vscode-notebook-cell:Untitled-1.ipynb?jupyter-notebook#W1sdW50aXRsZWQ%3D?line=9'>10</a>\u001b[0m     content \u001b[39m=\u001b[39m file\u001b[39m.\u001b[39mread()\n\u001b[0;32m     <a href='vscode-notebook-cell:Untitled-1.ipynb?jupyter-notebook#W1sdW50aXRsZWQ%3D?line=11'>12</a>\u001b[0m     \u001b[39m# Extract Social Security Numbers (SSNs)\u001b[39;00m\n",
      "File \u001b[1;32m~\\AppData\\Local\\Packages\\PythonSoftwareFoundation.Python.3.11_qbz5n2kfra8p0\\LocalCache\\local-packages\\Python311\\site-packages\\IPython\\core\\interactiveshell.py:284\u001b[0m, in \u001b[0;36m_modified_open\u001b[1;34m(file, *args, **kwargs)\u001b[0m\n\u001b[0;32m    277\u001b[0m \u001b[39mif\u001b[39;00m file \u001b[39min\u001b[39;00m {\u001b[39m0\u001b[39m, \u001b[39m1\u001b[39m, \u001b[39m2\u001b[39m}:\n\u001b[0;32m    278\u001b[0m     \u001b[39mraise\u001b[39;00m \u001b[39mValueError\u001b[39;00m(\n\u001b[0;32m    279\u001b[0m         \u001b[39mf\u001b[39m\u001b[39m\"\u001b[39m\u001b[39mIPython won\u001b[39m\u001b[39m'\u001b[39m\u001b[39mt let you open fd=\u001b[39m\u001b[39m{\u001b[39;00mfile\u001b[39m}\u001b[39;00m\u001b[39m by default \u001b[39m\u001b[39m\"\u001b[39m\n\u001b[0;32m    280\u001b[0m         \u001b[39m\"\u001b[39m\u001b[39mas it is likely to crash IPython. If you know what you are doing, \u001b[39m\u001b[39m\"\u001b[39m\n\u001b[0;32m    281\u001b[0m         \u001b[39m\"\u001b[39m\u001b[39myou can use builtins\u001b[39m\u001b[39m'\u001b[39m\u001b[39m open.\u001b[39m\u001b[39m\"\u001b[39m\n\u001b[0;32m    282\u001b[0m     )\n\u001b[1;32m--> 284\u001b[0m \u001b[39mreturn\u001b[39;00m io_open(file, \u001b[39m*\u001b[39;49margs, \u001b[39m*\u001b[39;49m\u001b[39m*\u001b[39;49mkwargs)\n",
      "\u001b[1;31mFileNotFoundError\u001b[0m: [Errno 2] No such file or directory: 'C:\\\\Users\\\\Varma\\\\Downloads\\\\Data+Bandit_yt4x2i3eiwhoid9\\\\ file.txt'"
     ]
    }
   ],
   "source": [
    "import re\n",
    "\n",
    "def extract_sensitive_data(file_path):\n",
    "    ssns = []\n",
    "    credit_cards = []\n",
    "    emails = []\n",
    "    phone_numbers = []\n",
    "\n",
    "    with open(file_path, 'r') as file:\n",
    "        content = file.read()\n",
    "\n",
    "        # Extract Social Security Numbers (SSNs)\n",
    "        ssns = re.findall(r'\\b\\d{3}-\\d{2}-\\d{4}\\b', content)\n",
    "\n",
    "        # Extract Credit Card Numbers\n",
    "        credit_cards = re.findall(r'\\b\\d{16}\\b', content)\n",
    "        credit_cards += re.findall(r'\\b\\d{4}-\\d{4}-\\d{4}-\\d{4}\\b', content)\n",
    "\n",
    "        # Remove hyphens from the credit card numbers\n",
    "        credit_cards = [\"\".join(card.split(\"-\")) for card in credit_cards]\n",
    "\n",
    "        # Extract Email Addresses\n",
    "        emails = re.findall(r'\\b[A-Za-z0-9._%+-]+@[A-Za-z0-9.-]+\\.[A-Z|a-z]{2,}\\b', content)\n",
    "\n",
    "        # Extract Phone Numbers\n",
    "        phone_numbers = re.findall(r'\\b\\(\\d{3}\\) \\d{3}-\\d{4}\\b', content)\n",
    "\n",
    "    # Capture the last character of each type of sensitive data\n",
    "    last_chars = {\n",
    "        'SSN': ssns[-1][-1] if ssns else None,\n",
    "        'CreditCard': credit_cards[-1][-1] if credit_cards else None,\n",
    "        'Email': emails[-1][-1] if emails else None,\n",
    "        'PhoneNumber': phone_numbers[-1][-1] if phone_numbers else None\n",
    "    }\n",
    "\n",
    "    return last_chars\n",
    "\n",
    "# Use a raw string for the file path\n",
    "file_path = r'C:\\Users\\Varma\\Downloads\\Data+Bandit_yt4x2i3eiwhoid9\\ file.txt'\n",
    "extracted_chars = extract_sensitive_data(file_path)\n",
    "\n",
    "# Form the Flag\n",
    "flag = 'HQ8{'\n",
    "for key in extracted_chars:\n",
    "    if extracted_chars[key] is not None:\n",
    "        flag += extracted_chars[key]\n",
    "\n",
    "flag += '}'\n",
    "\n",
    "print(f'Flag: {flag}')\n"
   ]
  }
 ],
 "metadata": {
  "kernelspec": {
   "display_name": "Python 3",
   "language": "python",
   "name": "python3"
  },
  "language_info": {
   "codemirror_mode": {
    "name": "ipython",
    "version": 3
   },
   "file_extension": ".py",
   "mimetype": "text/x-python",
   "name": "python",
   "nbconvert_exporter": "python",
   "pygments_lexer": "ipython3",
   "version": "3.11.4"
  }
 },
 "nbformat": 4,
 "nbformat_minor": 2
}
