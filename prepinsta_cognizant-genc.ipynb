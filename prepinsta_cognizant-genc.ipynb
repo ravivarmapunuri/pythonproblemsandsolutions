{
 "cells": [
  {
   "cell_type": "code",
   "execution_count": 35,
   "metadata": {},
   "outputs": [
    {
     "name": "stdout",
     "output_type": "stream",
     "text": [
      "abcd\n"
     ]
    }
   ],
   "source": [
    "#1st prg\n",
    "l=int(input())\n",
    "a=[chr(i) for i in range(97,122+1)]\n",
    "b=[int(i) for i in range(1,27)]\n",
    "l1=[int(i) for i in str(l)]\n",
    "z=[]\n",
    "s=\"\"\n",
    "for i in range(len(b)):\n",
    "        if len(l1)>i:\n",
    "            if l1[i]==b[i]:\n",
    "                s+=a[i]\n",
    "print(s)"
   ]
  },
  {
   "cell_type": "code",
   "execution_count": 38,
   "metadata": {},
   "outputs": [
    {
     "name": "stdout",
     "output_type": "stream",
     "text": [
      "{'4132', '1234', '2143', '2314', '1432', '2134', '3421', '1243', '3124', '2431', '3214', '4231', '4321', '1324', '2413', '1423', '3142', '1342', '4312', '4213', '3241', '2341', '4123', '3412'}\n"
     ]
    }
   ],
   "source": [
    "\"\"\"1234\n",
    "abcd\n",
    "awd\n",
    "lcd\n",
    "\"\"\""
   ]
  },
  {
   "cell_type": "code",
   "execution_count": 23,
   "metadata": {},
   "outputs": [
    {
     "name": "stdout",
     "output_type": "stream",
     "text": [
      "[1, 6, 2]\n",
      "5\n"
     ]
    }
   ],
   "source": [
    "#4TH PRG\n",
    "n=int(input())\n",
    "l=[int(input()) for i in range(n)]\n",
    "print(l)\n",
    "v=l[0]\n",
    "l1=[]\n",
    "if v>max(l[1:]):\n",
    "    print(\"0\")\n",
    "else:\n",
    "    for i in range(1,len(l)):\n",
    "        l1.append(abs(v-l[i]))\n",
    "print(max(l1))"
   ]
  },
  {
   "cell_type": "code",
   "execution_count": 11,
   "metadata": {},
   "outputs": [
    {
     "name": "stdout",
     "output_type": "stream",
     "text": [
      "abc\n"
     ]
    }
   ],
   "source": [
    "#5th prg\n",
    "s=input()\n",
    "l=[]\n",
    "for i in s:\n",
    "    if s.count(i)>1:\n",
    "        l.append(i)\n",
    "z=set(l)\n",
    "l1=[]\n",
    "for i in z:\n",
    "    l1.append(ord(i))\n",
    "l1.sort()\n",
    "z1=\"\"\n",
    "for i in l1:\n",
    "    z1+=chr(i)\n",
    "print(z1)"
   ]
  },
  {
   "cell_type": "code",
   "execution_count": 17,
   "metadata": {},
   "outputs": [
    {
     "name": "stdout",
     "output_type": "stream",
     "text": [
      "3\n"
     ]
    }
   ],
   "source": [
    "#9th prg\n",
    "a,b=map(int,input().split())\n",
    "a1=bin(a)[2:]\n",
    "b1=bin(b)[2:]\n",
    "c=0\n",
    "for i in range(len(max(a1,b1))):\n",
    "    if a1[i]!=b1[i]:\n",
    "        c+=1\n",
    "print(c)"
   ]
  }
 ],
 "metadata": {
  "kernelspec": {
   "display_name": "Python 3",
   "language": "python",
   "name": "python3"
  },
  "language_info": {
   "codemirror_mode": {
    "name": "ipython",
    "version": 3
   },
   "file_extension": ".py",
   "mimetype": "text/x-python",
   "name": "python",
   "nbconvert_exporter": "python",
   "pygments_lexer": "ipython3",
   "version": "3.11.4"
  },
  "orig_nbformat": 4
 },
 "nbformat": 4,
 "nbformat_minor": 2
}
