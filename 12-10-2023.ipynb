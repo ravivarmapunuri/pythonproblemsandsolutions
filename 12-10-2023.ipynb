{
 "cells": [
  {
   "cell_type": "code",
   "execution_count": null,
   "metadata": {},
   "outputs": [],
   "source": [
    "#mean program\n",
    "l=list(map(int,input().split()))\n",
    "print(sum(l)/len(l))"
   ]
  },
  {
   "cell_type": "code",
   "execution_count": null,
   "metadata": {},
   "outputs": [],
   "source": [
    "#2nd prg\n",
    "#2 5 \n",
    "#(2 5) (4 10) (6 15) (8 20) (10 25)\n",
    "n,m=map(int,input().split())\n",
    "for i in range(1,5+1):\n",
    "    print((n*i,m*i),end=\" \")"
   ]
  },
  {
   "cell_type": "code",
   "execution_count": null,
   "metadata": {},
   "outputs": [],
   "source": [
    "#p's prg\n",
    "m=int(input())\n",
    "n=int(input())\n",
    "l1=[]\n",
    "for i in range(m):\n",
    "    l=[]\n",
    "    for j in range(n):\n",
    "        l.append(j)\n",
    "    l1.append(l)\n",
    "print(l1)"
   ]
  },
  {
   "cell_type": "code",
   "execution_count": null,
   "metadata": {},
   "outputs": [],
   "source": [
    "def row(l):\n",
    "   print(l[1])\n",
    "\n",
    "   \n",
    "l=[[1,1,1,2,3],\n",
    "   [0,3,4,5,6],\n",
    "   [4,0,4,5,6],\n",
    "   [6,8,0,8,6]]\n",
    "for i in range(len(l)):\n",
    "   for j in range(len(l[i])):\n",
    "      row(l[i][j])\n",
    "    "
   ]
  },
  {
   "cell_type": "code",
   "execution_count": 28,
   "metadata": {},
   "outputs": [
    {
     "name": "stdout",
     "output_type": "stream",
     "text": [
      "1\n",
      "0\n",
      "4\n",
      "6\n"
     ]
    }
   ],
   "source": [
    "l=[[1,1,1,2,3],\n",
    "   [0,3,4,5,6],\n",
    "   [4,0,4,5,6],\n",
    "   [6,8,0,8,6]]\n",
    "j=0\n",
    "for i in range(len(l)):\n",
    "   print(l[i][j])"
   ]
  },
  {
   "cell_type": "code",
   "execution_count": 17,
   "metadata": {},
   "outputs": [
    {
     "name": "stdout",
     "output_type": "stream",
     "text": [
      "[1, 1, 1, 2, 3]\n",
      "[1, 1, 1, 2, 3]\n",
      "[1, 1, 1, 2, 3]\n",
      "[1, 1, 1, 2, 3]\n",
      "[1, 1, 1, 2, 3]\n",
      "[0, 3, 4, 5, 6]\n",
      "[0, 3, 4, 5, 6]\n",
      "[0, 3, 4, 5, 6]\n",
      "[0, 3, 4, 5, 6]\n",
      "[0, 3, 4, 5, 6]\n",
      "[4, 0, 4, 5, 6]\n",
      "[4, 0, 4, 5, 6]\n",
      "[4, 0, 4, 5, 6]\n",
      "[4, 0, 4, 5, 6]\n",
      "[4, 0, 4, 5, 6]\n",
      "[6, 8, 0, 8, 6]\n",
      "[6, 8, 0, 8, 6]\n",
      "[6, 8, 0, 8, 6]\n",
      "[6, 8, 0, 8, 6]\n",
      "[6, 8, 0, 8, 6]\n"
     ]
    }
   ],
   "source": [
    "l=[[1,1,1,2,3],\n",
    "   [0,3,4,5,6],\n",
    "   [4,0,4,5,6],\n",
    "   [6,8,0,8,6]]\n",
    "for i in range(len(l)):\n",
    "    for j in range(len(l[0])):\n",
    "        print(l[i])"
   ]
  },
  {
   "cell_type": "code",
   "execution_count": 3,
   "metadata": {},
   "outputs": [
    {
     "name": "stdout",
     "output_type": "stream",
     "text": [
      "<zip object at 0x000002563EA7D6C0>\n",
      "1,0,4,6\n",
      "1,3,0,8\n",
      "1,4,4,0\n",
      "2,5,5,8\n",
      "3,6,6,6\n"
     ]
    }
   ],
   "source": [
    "# Given list of lists\n",
    "l = [[1, 1, 1, 2, 3],\n",
    "     [0, 3, 4, 5, 6],\n",
    "     [4, 0, 4, 5, 6],\n",
    "     [6, 8, 0, 8, 6]]\n",
    "\n",
    "# Transpose the list of lists\n",
    "transposed_l = list(map(list, zip(*l)))\n",
    "\n",
    "# Join elements in each sub-list with commas and print the output\n",
    "for row in transposed_l:\n",
    "    print(','.join(map(str, row)))\n"
   ]
  },
  {
   "cell_type": "markdown",
   "metadata": {},
   "source": []
  }
 ],
 "metadata": {
  "kernelspec": {
   "display_name": "Python 3",
   "language": "python",
   "name": "python3"
  },
  "language_info": {
   "codemirror_mode": {
    "name": "ipython",
    "version": 3
   },
   "file_extension": ".py",
   "mimetype": "text/x-python",
   "name": "python",
   "nbconvert_exporter": "python",
   "pygments_lexer": "ipython3",
   "version": "3.11.4"
  }
 },
 "nbformat": 4,
 "nbformat_minor": 2
}
