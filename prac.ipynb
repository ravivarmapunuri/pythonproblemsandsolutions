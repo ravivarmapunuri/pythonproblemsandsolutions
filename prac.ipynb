{
 "cells": [
  {
   "cell_type": "code",
   "execution_count": 35,
   "metadata": {},
   "outputs": [
    {
     "name": "stdout",
     "output_type": "stream",
     "text": [
      "prime\n"
     ]
    }
   ],
   "source": [
    "#prime number\n",
    "n=int(input())\n",
    "c=0\n",
    "if n==1 or n==0:\n",
    "    print(\"not prime\")\n",
    "else:\n",
    "    for i in range(2,n):\n",
    "        if n%i==0:\n",
    "            c=1\n",
    "            break\n",
    "    if c==0:\n",
    "        print(\"prime\")\n",
    "    else:\n",
    "        print(\"not prime\")"
   ]
  },
  {
   "cell_type": "code",
   "execution_count": 33,
   "metadata": {},
   "outputs": [
    {
     "name": "stdout",
     "output_type": "stream",
     "text": [
      "2 3 5 7 11 13 17 19 23 29 31 37 41 43 47 53 59 61 67 71 73 79 83 89 97 "
     ]
    }
   ],
   "source": [
    "#prime between give range\n",
    "s=int(input())\n",
    "e=int(input())\n",
    "for i in range(s,e+1):\n",
    "    if i>1:\n",
    "        for j in range(2,i):\n",
    "            if i%j==0:\n",
    "                break\n",
    "        else:\n",
    "            print(i,end=\" \")"
   ]
  },
  {
   "cell_type": "code",
   "execution_count": 45,
   "metadata": {},
   "outputs": [
    {
     "name": "stdout",
     "output_type": "stream",
     "text": [
      "not a pronic\n"
     ]
    }
   ],
   "source": [
    "#pronic or not\n",
    "n=int(input())\n",
    "if n==1 or n==0:\n",
    "    print(\"not a pronic !\")\n",
    "else:\n",
    "    for i in range(2,n+1):\n",
    "        if i*(i+1)==n:\n",
    "            print(\"Pronic\")\n",
    "            break\n",
    "    else:\n",
    "        print(\"not a pronic\")"
   ]
  },
  {
   "cell_type": "code",
   "execution_count": 50,
   "metadata": {},
   "outputs": [
    {
     "name": "stdout",
     "output_type": "stream",
     "text": [
      "not a perfect number\n"
     ]
    }
   ],
   "source": [
    "#perfect number or not \n",
    "n=int(input())\n",
    "s=0\n",
    "for i in range(1,n):\n",
    "    if n%i==0:\n",
    "        s=s+i\n",
    "if s==n:\n",
    "    print(\"perfect number\")\n",
    "else:\n",
    "    print(\"not a perfect number\")"
   ]
  },
  {
   "cell_type": "code",
   "execution_count": 4,
   "metadata": {},
   "outputs": [
    {
     "name": "stdout",
     "output_type": "stream",
     "text": [
      "12\n"
     ]
    }
   ],
   "source": [
    "#gcd of two numbers\n",
    "\n",
    "\"\"\"\n",
    "a=int(input())\n",
    "b=int(input())\n",
    "gc=1\n",
    "for i in range(1,min(a,b)):\n",
    "    if a%i==0 and b%i==0:\n",
    "        gc=i\n",
    "print(gc)\n",
    "\"\"\"\n",
    "a=int(input())\n",
    "b=int(input())\n",
    "while a!=b:\n",
    "    if a>b:\n",
    "        a-=b\n",
    "    else:\n",
    "        b-=a\n",
    "print(a)\n"
   ]
  },
  {
   "cell_type": "code",
   "execution_count": 7,
   "metadata": {},
   "outputs": [
    {
     "name": "stdout",
     "output_type": "stream",
     "text": [
      "36 60\n",
      "36\n",
      "60 36\n",
      "24\n",
      "36 24\n",
      "12\n",
      "24 12\n",
      "0\n",
      "12 0\n",
      "12\n"
     ]
    }
   ],
   "source": [
    "#gcd\n",
    "def gcd(a,b):\n",
    "    print(a,b)\n",
    "    if b==0:\n",
    "        return a\n",
    "    else:\n",
    "        print(a%b)\n",
    "        return gcd(b,a%b)\n",
    "    \n",
    "a=int(input())\n",
    "b=int(input())\n",
    "print(gcd(a,b))"
   ]
  },
  {
   "cell_type": "code",
   "execution_count": 2,
   "metadata": {},
   "outputs": [
    {
     "name": "stdout",
     "output_type": "stream",
     "text": [
      "gcd of 28 and 56 28\n",
      "lcm of a and b 56\n"
     ]
    }
   ],
   "source": [
    "#lcm using gcd\n",
    "a=int(input())\n",
    "b=int(input())\n",
    "\n",
    "def gcd(a,b):\n",
    "    if b==0:\n",
    "        return a\n",
    "    else:\n",
    "        return gcd(b,a%b)\n",
    "\n",
    "def lcm(a,b):\n",
    "    return a*b//gcd(a,b)\n",
    "    \n",
    "print(\"gcd of\",a ,\"and\", b,gcd(a,b))\n",
    "print(\"lcm of a and b\",lcm(a,b))\n"
   ]
  },
  {
   "cell_type": "code",
   "execution_count": 4,
   "metadata": {},
   "outputs": [
    {
     "name": "stdout",
     "output_type": "stream",
     "text": [
      "10\n"
     ]
    }
   ],
   "source": [
    "#lcm \n",
    "a=int(input())\n",
    "b=int(input())\n",
    "def lcm(a,b):\n",
    "    greater=max(a,b)\n",
    "    smallest=min(a,b)\n",
    "    for i in range(greater,a*b+1,greater):\n",
    "        if i % smallest == 0:\n",
    "            return i\n",
    "print(lcm(a,b))"
   ]
  },
  {
   "cell_type": "code",
   "execution_count": 53,
   "metadata": {},
   "outputs": [
    {
     "name": "stdout",
     "output_type": "stream",
     "text": [
      "362880\n"
     ]
    }
   ],
   "source": [
    "#factorial\n",
    "def fact(n):\n",
    "    if n==0 or n==1:\n",
    "        return n\n",
    "    else:\n",
    "        return n*fact(n-1)\n",
    "print(fact(int(input())))"
   ]
  },
  {
   "cell_type": "code",
   "execution_count": 40,
   "metadata": {},
   "outputs": [
    {
     "name": "stdout",
     "output_type": "stream",
     "text": [
      "[0, 1, 1, 2, 3]\n"
     ]
    }
   ],
   "source": [
    "#fibonacci series\n",
    "n=int(input())\n",
    "f=[0,1]\n",
    "for i in range(n-2):\n",
    "    f3=f[i]+f[i+1]\n",
    "    f.append(f3)\n",
    "print(f)"
   ]
  },
  {
   "cell_type": "code",
   "execution_count": 3,
   "metadata": {},
   "outputs": [
    {
     "name": "stdout",
     "output_type": "stream",
     "text": [
      "2 strong number\n"
     ]
    }
   ],
   "source": [
    "#strong number or not \n",
    "n=int(input())\n",
    "nm=0\n",
    "for i in str(n):\n",
    "    z=1\n",
    "    for j in range(1,int(i)+1):\n",
    "        z=z*j\n",
    "    nm=nm+z\n",
    "if n==nm:\n",
    "    print(n,\"strong number\")\n",
    "else:\n",
    "    print(n,\"not a strong number\")"
   ]
  }
 ],
 "metadata": {
  "kernelspec": {
   "display_name": "Python 3",
   "language": "python",
   "name": "python3"
  },
  "language_info": {
   "codemirror_mode": {
    "name": "ipython",
    "version": 3
   },
   "file_extension": ".py",
   "mimetype": "text/x-python",
   "name": "python",
   "nbconvert_exporter": "python",
   "pygments_lexer": "ipython3",
   "version": "3.11.4"
  },
  "orig_nbformat": 4
 },
 "nbformat": 4,
 "nbformat_minor": 2
}
