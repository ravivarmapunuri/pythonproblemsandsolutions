{
 "cells": [
  {
   "cell_type": "code",
   "execution_count": 16,
   "metadata": {},
   "outputs": [
    {
     "name": "stdout",
     "output_type": "stream",
     "text": [
      "12\n"
     ]
    }
   ],
   "source": [
    "#1st program\n",
    "n=int(input())\n",
    "p=[2,3,5,7]\n",
    "res=0\n",
    "if n==0:\n",
    "    print(n)\n",
    "else:\n",
    "    while n>0:\n",
    "        m=n%10\n",
    "        if m in p:\n",
    "            res=res+m\n",
    "        n=n//10\n",
    "print(res)\n"
   ]
  },
  {
   "cell_type": "code",
   "execution_count": 4,
   "metadata": {},
   "outputs": [
    {
     "name": "stdout",
     "output_type": "stream",
     "text": [
      "192\n"
     ]
    }
   ],
   "source": [
    "#2nd program \n",
    "n=int(input())\n",
    "mul=1\n",
    "if n==0:\n",
    "    print(n)\n",
    "else:\n",
    "    while n:\n",
    "        m=n%10\n",
    "        mul=mul*m\n",
    "        n=n//10\n",
    "print(mul)"
   ]
  },
  {
   "cell_type": "code",
   "execution_count": 26,
   "metadata": {},
   "outputs": [
    {
     "name": "stdout",
     "output_type": "stream",
     "text": [
      "21\n"
     ]
    }
   ],
   "source": [
    "#3rd program\n",
    "n=int(input())\n",
    "fib1,fib2=1,1\n",
    "l=[fib1,fib2]\n",
    "if n==0:\n",
    "    print(n)\n",
    "else:\n",
    "    for i in range(1,n-1):\n",
    "        fib3=fib1+fib2\n",
    "        l.append(fib3)\n",
    "        fib1=fib2\n",
    "        fib2=fib3\n",
    "print(l[-1])"
   ]
  },
  {
   "cell_type": "code",
   "execution_count": 41,
   "metadata": {},
   "outputs": [
    {
     "name": "stdout",
     "output_type": "stream",
     "text": [
      "[38, 48, 39]\n"
     ]
    }
   ],
   "source": [
    "#4th program\n",
    "n=int(input())\n",
    "l,z=[],[]\n",
    "for i in range(n):\n",
    "    l.append(int(input()))\n",
    "s=int(input())\n",
    "e=int(input())\n",
    "for i in l:\n",
    "    if i>=s and i<=e:\n",
    "        z.append(i)\n",
    "print(z)"
   ]
  },
  {
   "cell_type": "code",
   "execution_count": 44,
   "metadata": {},
   "outputs": [
    {
     "name": "stdout",
     "output_type": "stream",
     "text": [
      "16\n"
     ]
    }
   ],
   "source": [
    "#5th prpgram\n",
    "f1=int(input(\"Enter the first element\"))\n",
    "f2=int(input(\"Enter the second element\"))\n",
    "z=0\n",
    "n=int(input(\"Enter the iterations to be done\"))\n",
    "for i in range(n-1):\n",
    "    z=f1+f2\n",
    "    f1=z\n",
    "print(z)"
   ]
  },
  {
   "cell_type": "code",
   "execution_count": 6,
   "metadata": {},
   "outputs": [
    {
     "name": "stdout",
     "output_type": "stream",
     "text": [
      "48\n"
     ]
    }
   ],
   "source": [
    "#2nd program using for loop\n",
    "n=int(input())\n",
    "mul=1\n",
    "if n==0:\n",
    "    print(n)\n",
    "else:\n",
    "    for i in range(len(str(n))):\n",
    "        m=n%10\n",
    "        mul=mul*m\n",
    "        n=n//10\n",
    "print(mul)"
   ]
  },
  {
   "cell_type": "code",
   "execution_count": 3,
   "metadata": {},
   "outputs": [
    {
     "name": "stdout",
     "output_type": "stream",
     "text": [
      "100\n"
     ]
    }
   ],
   "source": [
    "#decimal to binary\n",
    "m=int(input())\n",
    "s=\"\"\n",
    "while m:\n",
    "    a=m%2\n",
    "    s=s+str(a)\n",
    "    m=m//2\n",
    "print(s[::-1])"
   ]
  },
  {
   "cell_type": "code",
   "execution_count": 6,
   "metadata": {},
   "outputs": [
    {
     "name": "stdout",
     "output_type": "stream",
     "text": [
      "7\n"
     ]
    }
   ],
   "source": [
    "#binary to decimal\n",
    "n=int(input())\n"
   ]
  },
  {
   "cell_type": "code",
   "execution_count": 13,
   "metadata": {},
   "outputs": [
    {
     "name": "stdout",
     "output_type": "stream",
     "text": [
      "4 2 1\n"
     ]
    }
   ],
   "source": [
    "#print even no's first and odd no's \n",
    "l=list(map(int,input().split()))\n",
    "e,o=[],[]\n",
    "for i in l:\n",
    "    if(i%2==0):\n",
    "        e.append(str(i))\n",
    "    else:\n",
    "        o.append(str(i))\n",
    "print(\" \".join(e+o))"
   ]
  },
  {
   "cell_type": "code",
   "execution_count": 22,
   "metadata": {},
   "outputs": [
    {
     "name": "stdout",
     "output_type": "stream",
     "text": [
      "5\n",
      "[1, 2, 3, 4, 5]\n"
     ]
    }
   ],
   "source": [
    "n=int(input())\n",
    "l=[int(i) for i in input().split()]\n",
    "print(l[:n])"
   ]
  }
 ],
 "metadata": {
  "kernelspec": {
   "display_name": "Python 3",
   "language": "python",
   "name": "python3"
  },
  "language_info": {
   "codemirror_mode": {
    "name": "ipython",
    "version": 3
   },
   "file_extension": ".py",
   "mimetype": "text/x-python",
   "name": "python",
   "nbconvert_exporter": "python",
   "pygments_lexer": "ipython3",
   "version": "3.11.4"
  },
  "orig_nbformat": 4
 },
 "nbformat": 4,
 "nbformat_minor": 2
}
