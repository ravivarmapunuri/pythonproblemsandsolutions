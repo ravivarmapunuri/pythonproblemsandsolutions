{
 "cells": [
  {
   "cell_type": "code",
   "execution_count": null,
   "metadata": {},
   "outputs": [],
   "source": [
    "\"\"\"\n",
    "l=[1,2,4,9,3,5]\n",
    "(1,2)\n",
    "(1,2,4)\n",
    "(1,2,3)\n",
    "(1,2,5)\n",
    "(2,4)\n",
    "(2,3)\n",
    "(2,5)\n",
    "(4,3)\n",
    "(3,5)\"\"\""
   ]
  },
  {
   "cell_type": "code",
   "execution_count": 50,
   "metadata": {},
   "outputs": [
    {
     "name": "stdout",
     "output_type": "stream",
     "text": [
      "[(1, 2), (1, 2, 4), (1, 2, 3), (1, 2, 5), (1, 4), (1, 4, 3), (1, 3), (1, 5), (2, 4), (2, 3), (2, 5), (4, 3), (3, 5)]\n"
     ]
    }
   ],
   "source": [
    "l=[1,2,4,9,3,5]\n",
    "s=8\n",
    "l1=[]\n",
    "for i in range(len(l)):\n",
    "    for j in range(i+1,len(l)):\n",
    "        s1=l[i]+l[j]\n",
    "        if s1<=8:\n",
    "            l1.append((l[i],l[j]))\n",
    "            for x in range(j+1,len(l)):\n",
    "                s2=s1+l[x]\n",
    "                if s2<=8:\n",
    "                    l1.append((l[i],l[j],l[x]))\n",
    "print(l1)"
   ]
  },
  {
   "cell_type": "code",
   "execution_count": 8,
   "metadata": {},
   "outputs": [
    {
     "name": "stdout",
     "output_type": "stream",
     "text": [
      "2345 4561\n"
     ]
    }
   ],
   "source": [
    "#simple input \n",
    "#234 456\n",
    "#Out put\n",
    "#236 454\n",
    "n,m=map(str,input().split())\n",
    "n1,m1=\"\",\"\"\n",
    "for i in range(len(n)-1):\n",
    "    n1+=n[i]\n",
    "    m1+=m[i]\n",
    "print(n1+m[-1],m1+n[-1])"
   ]
  },
  {
   "cell_type": "code",
   "execution_count": 18,
   "metadata": {},
   "outputs": [
    {
     "name": "stdout",
     "output_type": "stream",
     "text": [
      "2345 4561\n"
     ]
    }
   ],
   "source": [
    "n=int(input())\n",
    "m=int(input())\n",
    "n1=n%10\n",
    "m1=m%10\n",
    "new_n1=n-n1+m1\n",
    "new_m1=m-m1+n1\n",
    "print(new_n1,new_m1)"
   ]
  },
  {
   "cell_type": "code",
   "execution_count": 6,
   "metadata": {},
   "outputs": [
    {
     "name": "stdout",
     "output_type": "stream",
     "text": [
      "2345\n"
     ]
    }
   ],
   "source": [
    "print(2345%100000)"
   ]
  }
 ],
 "metadata": {
  "kernelspec": {
   "display_name": "Python 3",
   "language": "python",
   "name": "python3"
  },
  "language_info": {
   "codemirror_mode": {
    "name": "ipython",
    "version": 3
   },
   "file_extension": ".py",
   "mimetype": "text/x-python",
   "name": "python",
   "nbconvert_exporter": "python",
   "pygments_lexer": "ipython3",
   "version": "3.11.4"
  },
  "orig_nbformat": 4
 },
 "nbformat": 4,
 "nbformat_minor": 2
}
