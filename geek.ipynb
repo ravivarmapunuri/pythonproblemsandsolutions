{
 "cells": [
  {
   "cell_type": "code",
   "execution_count": 2,
   "metadata": {},
   "outputs": [
    {
     "name": "stdout",
     "output_type": "stream",
     "text": [
      "N\n"
     ]
    }
   ],
   "source": [
    "n=int(input())\n",
    "f=0\n",
    "f1=1\n",
    "if n==f or n==f1:\n",
    "    print(\"y\")\n",
    "else:\n",
    "    while 1:\n",
    "        f3=f+f1\n",
    "        f=f1\n",
    "        f1=f3\n",
    "        if n==f3:\n",
    "            print('Y')\n",
    "            break\n",
    "        else:\n",
    "            if f3>n:\n",
    "                print(\"N\")\n",
    "                break"
   ]
  },
  {
   "cell_type": "code",
   "execution_count": 4,
   "metadata": {},
   "outputs": [
    {
     "name": "stdout",
     "output_type": "stream",
     "text": [
      "-4 -3 -2 -1 "
     ]
    }
   ],
   "source": [
    "n=-4\n",
    "m=5\n",
    "for i in range(n,m):\n",
    "    if i<0:\n",
    "        print(i,end=\" \")"
   ]
  },
  {
   "cell_type": "code",
   "execution_count": 10,
   "metadata": {},
   "outputs": [
    {
     "name": "stdout",
     "output_type": "stream",
     "text": [
      "10 30 60 100 150 "
     ]
    }
   ],
   "source": [
    "l=[10,20,30,40,50]\n",
    "for i in range(len(l)):\n",
    "    if i==0:\n",
    "        print(l[i],end=\" \")\n",
    "    else:\n",
    "        print(sum(l[:i+1]),end=\" \")"
   ]
  },
  {
   "cell_type": "code",
   "execution_count": 17,
   "metadata": {},
   "outputs": [
    {
     "name": "stdout",
     "output_type": "stream",
     "text": [
      "10 10 10 10 10 10 10 10 10 "
     ]
    }
   ],
   "source": [
    "x=[[1,2,3],[4,5,6],[7,8,9]]\n",
    "y=[[9,8,7],[6,5,4],[3,2,1]]\n",
    "for i in range(len(x)):\n",
    "    for j in range(len(x[i])):\n",
    "        print(x[i][j]+y[i][j],end=\" \")"
   ]
  },
  {
   "cell_type": "code",
   "execution_count": 25,
   "metadata": {},
   "outputs": [
    {
     "ename": "TypeError",
     "evalue": "can only concatenate str (not \"int\") to str",
     "output_type": "error",
     "traceback": [
      "\u001b[1;31m---------------------------------------------------------------------------\u001b[0m",
      "\u001b[1;31mTypeError\u001b[0m                                 Traceback (most recent call last)",
      "\u001b[1;32mc:\\Users\\Varma\\Desktop\\python\\geek.ipynb Cell 5\u001b[0m line \u001b[0;36m1\n\u001b[0;32m     <a href='vscode-notebook-cell:/c%3A/Users/Varma/Desktop/python/geek.ipynb#W5sZmlsZQ%3D%3D?line=12'>13</a>\u001b[0m                 x\u001b[39m+\u001b[39m\u001b[39m=\u001b[39m\u001b[39m1\u001b[39m   \n\u001b[0;32m     <a href='vscode-notebook-cell:/c%3A/Users/Varma/Desktop/python/geek.ipynb#W5sZmlsZQ%3D%3D?line=14'>15</a>\u001b[0m         \u001b[39melse\u001b[39;00m:\n\u001b[1;32m---> <a href='vscode-notebook-cell:/c%3A/Users/Varma/Desktop/python/geek.ipynb#W5sZmlsZQ%3D%3D?line=15'>16</a>\u001b[0m             x\u001b[39m+\u001b[39;49m\u001b[39m=\u001b[39;49m\u001b[39m1\u001b[39;49m\n\u001b[0;32m     <a href='vscode-notebook-cell:/c%3A/Users/Varma/Desktop/python/geek.ipynb#W5sZmlsZQ%3D%3D?line=17'>18</a>\u001b[0m \u001b[39mprint\u001b[39m(x)\n",
      "\u001b[1;31mTypeError\u001b[0m: can only concatenate str (not \"int\") to str"
     ]
    }
   ],
   "source": [
    "s=\"GFG\"\n",
    "x=\"ntr\"\n",
    "while 1:\n",
    "    if len(s)==len(x):\n",
    "        v=0\n",
    "        if s[v]==x[v]:\n",
    "            if s[1]==s[1]:\n",
    "                if s[2]==x[2]:\n",
    "                    break\n",
    "                else:\n",
    "                    x+=1\n",
    "            else:\n",
    "                x+=1   \n",
    "            \n",
    "        else:\n",
    "            x+=1\n",
    "\n",
    "print(x)"
   ]
  },
  {
   "cell_type": "code",
   "execution_count": 42,
   "metadata": {},
   "outputs": [
    {
     "name": "stdout",
     "output_type": "stream",
     "text": [
      "39\n",
      "18\n",
      "16\n"
     ]
    }
   ],
   "source": [
    "s=\"GFG\"\n",
    "v=\"n4W\"\n",
    "c=0\n",
    "if len(s)==len(v):\n",
    "    if s==v:\n",
    "        print(0)\n",
    "    else:\n",
    "        for i in range(len(s)):\n",
    "            if s[i]==v[i]:\n",
    "                    pass\n",
    "            else:\n",
    "                print(abs((ord(s[i])-ord(v[i]))))"
   ]
  },
  {
   "cell_type": "code",
   "execution_count": 50,
   "metadata": {},
   "outputs": [
    {
     "name": "stdout",
     "output_type": "stream",
     "text": [
      "71 110\n",
      "70 52\n",
      "71 87\n"
     ]
    }
   ],
   "source": [
    "print(ord('G'),ord('n'))\n",
    "print(ord('F'),ord('4'))\n",
    "print(ord('G'),ord('W'))"
   ]
  }
 ],
 "metadata": {
  "kernelspec": {
   "display_name": "Python 3",
   "language": "python",
   "name": "python3"
  },
  "language_info": {
   "codemirror_mode": {
    "name": "ipython",
    "version": 3
   },
   "file_extension": ".py",
   "mimetype": "text/x-python",
   "name": "python",
   "nbconvert_exporter": "python",
   "pygments_lexer": "ipython3",
   "version": "3.11.4"
  }
 },
 "nbformat": 4,
 "nbformat_minor": 2
}
