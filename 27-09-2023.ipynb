{
 "cells": [
  {
   "cell_type": "code",
   "execution_count": null,
   "metadata": {},
   "outputs": [],
   "source": [
    "#23-09-2023(test).ipynb\n",
    "#three questions"
   ]
  },
  {
   "cell_type": "code",
   "execution_count": 23,
   "metadata": {},
   "outputs": [
    {
     "name": "stdout",
     "output_type": "stream",
     "text": [
      "[(0, 1), (0, 2)]\n",
      "[(1, 2), (1, 3)]\n",
      "[(2, 3)]\n",
      "[(3, 4)]\n",
      "[]\n",
      "[(5, 6)]\n",
      "[]\n",
      "[(7, 8), (7, 9)]\n",
      "[(8, 9), (8, 10)]\n",
      "[(9, 10)]\n"
     ]
    }
   ],
   "source": [
    "n,m=map(int,input().split())\n",
    "l=list(map(int,input().split()))\n",
    "z=[]\n",
    "for i in range(len(l)):\n",
    "    v=[]\n",
    "    for j in range(i+1,len(l)+1):\n",
    "        if sum(l[i:j])<m:\n",
    "            v.append((i,j))\n",
    "    z.append(v)\n",
    "for i in z:\n",
    "    print(i)"
   ]
  },
  {
   "cell_type": "code",
   "execution_count": 25,
   "metadata": {},
   "outputs": [
    {
     "name": "stdout",
     "output_type": "stream",
     "text": [
      "[[1, 3], [8, 10]]\n"
     ]
    }
   ],
   "source": [
    "n,k=map(int,input().split())\n",
    "l=list(map(int,input().split()))\n",
    "r=[]\n",
    "for i in range(0,len(l)):\n",
    "    s=0\n",
    "    for j in range(i,len(l)):\n",
    "        s+=l[j]\n",
    "        if s==k:\n",
    "            r.append([i+1,j+1])\n",
    "print(r)"
   ]
  }
 ],
 "metadata": {
  "kernelspec": {
   "display_name": "Python 3",
   "language": "python",
   "name": "python3"
  },
  "language_info": {
   "codemirror_mode": {
    "name": "ipython",
    "version": 3
   },
   "file_extension": ".py",
   "mimetype": "text/x-python",
   "name": "python",
   "nbconvert_exporter": "python",
   "pygments_lexer": "ipython3",
   "version": "3.11.4"
  },
  "orig_nbformat": 4
 },
 "nbformat": 4,
 "nbformat_minor": 2
}
