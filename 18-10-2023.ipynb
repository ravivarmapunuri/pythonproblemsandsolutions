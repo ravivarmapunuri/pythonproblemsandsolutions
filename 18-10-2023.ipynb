{
 "cells": [
  {
   "cell_type": "code",
   "execution_count": 9,
   "metadata": {},
   "outputs": [
    {
     "name": "stdout",
     "output_type": "stream",
     "text": [
      "Sum of the factors: 7\n"
     ]
    }
   ],
   "source": [
    "#1st prg\n",
    "s=int(input())\n",
    "s1=0\n",
    "for i in range(1,s):\n",
    "    if s%i==0:\n",
    "        s1+=i\n",
    "if s==s1:\n",
    "    print(1)\n",
    "else:\n",
    "    print(\"Sum of the factors:\",s1)"
   ]
  },
  {
   "cell_type": "code",
   "execution_count": 3,
   "metadata": {},
   "outputs": [
    {
     "name": "stdout",
     "output_type": "stream",
     "text": [
      "5\n"
     ]
    }
   ],
   "source": [
    "#2nd prg\n",
    "s=input()\n",
    "s1=[]\n",
    "for i in range(len(s)):\n",
    "    for j in range(i+1,len(s)+1):\n",
    "        if '0' not in s[i:j]:\n",
    "            s1.append(len(s[i:j]))\n",
    "print(max(s1))"
   ]
  },
  {
   "cell_type": "code",
   "execution_count": 1,
   "metadata": {},
   "outputs": [
    {
     "name": "stdout",
     "output_type": "stream",
     "text": [
      "[1, 3, 1, 1, 1]\n",
      "3\n"
     ]
    }
   ],
   "source": [
    "a=input()\n",
    "s=[]\n",
    "c=0\n",
    "for i in a:\n",
    "    if i==\"1\":\n",
    "        c+=1\n",
    "    else:\n",
    "        s.append(c)\n",
    "        c=0\n",
    "print(s)\n",
    "print(max(s))#10111010101011"
   ]
  },
  {
   "cell_type": "code",
   "execution_count": 57,
   "metadata": {},
   "outputs": [
    {
     "name": "stdout",
     "output_type": "stream",
     "text": [
      "bbb\n"
     ]
    }
   ],
   "source": [
    "a=\"abcbbbcce\"\n",
    "c=0\n",
    "s1=[]\n",
    "s=[]\n",
    "for i in range(len(a)):\n",
    "    if i+1<len(a):\n",
    "        if a[i]==a[i+1]:\n",
    "            c+=1\n",
    "        else:\n",
    "            s.append(c)\n",
    "            s1.append(a[i])\n",
    "            c=0\n",
    "print((max(s)+1)*s1[s.index(max(s))])"
   ]
  },
  {
   "cell_type": "code",
   "execution_count": 43,
   "metadata": {},
   "outputs": [
    {
     "name": "stdout",
     "output_type": "stream",
     "text": [
      "['e', 'b', 'c', 'a'] [1, 3, 3, 1] 3\n",
      "b\n"
     ]
    }
   ],
   "source": [
    "a=\"abcbbcce\"\n",
    "l=list(set(a))\n",
    "s=[]\n",
    "for i in l:\n",
    "    s.append(a.count(i))    \n",
    "print(l,s,max(s))\n",
    "for i in s:\n",
    "    if i==max(s):\n",
    "        print(l[s.index(i)])\n",
    "        break"
   ]
  },
  {
   "cell_type": "code",
   "execution_count": 28,
   "metadata": {},
   "outputs": [
    {
     "name": "stdout",
     "output_type": "stream",
     "text": [
      "98.000\n"
     ]
    }
   ],
   "source": [
    "#3rd prg\n",
    "s=input()\n",
    "s1=0\n",
    "for i in s:\n",
    "    s1+=ord(i)\n",
    "print(f'{s1/len(s):.3f}')\n",
    "print()"
   ]
  }
 ],
 "metadata": {
  "kernelspec": {
   "display_name": "Python 3",
   "language": "python",
   "name": "python3"
  },
  "language_info": {
   "codemirror_mode": {
    "name": "ipython",
    "version": 3
   },
   "file_extension": ".py",
   "mimetype": "text/x-python",
   "name": "python",
   "nbconvert_exporter": "python",
   "pygments_lexer": "ipython3",
   "version": "3.11.4"
  }
 },
 "nbformat": 4,
 "nbformat_minor": 2
}
