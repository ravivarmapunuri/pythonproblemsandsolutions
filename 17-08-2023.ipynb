{
 "cells": [
  {
   "cell_type": "code",
   "execution_count": 3,
   "metadata": {},
   "outputs": [
    {
     "name": "stdout",
     "output_type": "stream",
     "text": [
      "10\n"
     ]
    }
   ],
   "source": [
    "#binary to decimal\n",
    "'''n=input()\n",
    "print(int(n,2))'''"
   ]
  },
  {
   "cell_type": "code",
   "execution_count": 9,
   "metadata": {},
   "outputs": [
    {
     "name": "stdout",
     "output_type": "stream",
     "text": [
      "5\n"
     ]
    }
   ],
   "source": [
    "n=int(input())\n",
    "s=str(n)\n",
    "l=len(s)-1\n",
    "res=0\n",
    "for i in s:\n",
    "    res+=int(i)*(2**l)\n",
    "    l-=1\n",
    "print(res)"
   ]
  },
  {
   "cell_type": "code",
   "execution_count": 15,
   "metadata": {},
   "outputs": [
    {
     "name": "stdout",
     "output_type": "stream",
     "text": [
      "1010\n"
     ]
    }
   ],
   "source": [
    "#decimal to binary\n",
    "n=int(input())\n",
    "print(bin(n)[2:])\n",
    "\"\"\"\n",
    "m=int(input())\n",
    "print(format(m,'b))\n",
    "\"\"\""
   ]
  },
  {
   "cell_type": "code",
   "execution_count": 22,
   "metadata": {},
   "outputs": [
    {
     "name": "stdout",
     "output_type": "stream",
     "text": [
      "1010\n"
     ]
    }
   ],
   "source": [
    "n=int(input())\n",
    "b=0\n",
    "mul=1\n",
    "while n>0:\n",
    "    rem=n%2 \n",
    "    b=b+(rem*mul)\n",
    "    mul=mul*10\n",
    "    n=n//2\n",
    "print(b)"
   ]
  },
  {
   "cell_type": "code",
   "execution_count": 5,
   "metadata": {},
   "outputs": [
    {
     "name": "stdout",
     "output_type": "stream",
     "text": [
      "d\n"
     ]
    }
   ],
   "source": [
    "#count the maximume occurence\n",
    "s=input()\n",
    "m=\"\"\n",
    "l=[]\n",
    "for i in s:\n",
    "    l.append(s.count(i))\n",
    "for i in s:\n",
    "    if s.count(i)==max(l) and i not in m:\n",
    "        m+=i\n",
    "print(m)"
   ]
  },
  {
   "cell_type": "code",
   "execution_count": 24,
   "metadata": {},
   "outputs": [
    {
     "name": "stdout",
     "output_type": "stream",
     "text": [
      "N\n",
      "a\n"
     ]
    }
   ],
   "source": [
    "a=input()\n",
    "b=0\n",
    "for i in a:\n",
    "    c=0\n",
    "    for j in a:\n",
    "        if i==j:\n",
    "            c+=1\n",
    "    if c>b:\n",
    "        b=c\n",
    "print(b)"
   ]
  },
  {
   "cell_type": "code",
   "execution_count": 52,
   "metadata": {},
   "outputs": [
    {
     "name": "stdout",
     "output_type": "stream",
     "text": [
      "false\n"
     ]
    }
   ],
   "source": [
    "#check wheather given number is not \n",
    "n=input(\"enter only 0's and 1's\")\n",
    "a=\"\"\n",
    "for i in n:\n",
    "    if i=='0' or i=='1':\n",
    "        a=a+i\n",
    "        \n",
    "if n==a:\n",
    "    print(\"true\")\n",
    "else:\n",
    "    print(\"false\")"
   ]
  },
  {
   "cell_type": "code",
   "execution_count": 65,
   "metadata": {},
   "outputs": [
    {
     "name": "stdout",
     "output_type": "stream",
     "text": [
      "False\n"
     ]
    }
   ],
   "source": [
    "n=input()\n",
    "l=['0','1']\n",
    "c=0\n",
    "for i in n:\n",
    "    if i in l:\n",
    "        c+=1\n",
    "if c==len(n):\n",
    "    print(\"True\")\n",
    "else:\n",
    "    print(\"False\")"
   ]
  },
  {
   "cell_type": "code",
   "execution_count": 23,
   "metadata": {},
   "outputs": [
    {
     "ename": "ValueError",
     "evalue": "min() arg is an empty sequence",
     "output_type": "error",
     "traceback": [
      "\u001b[1;31m---------------------------------------------------------------------------\u001b[0m",
      "\u001b[1;31mValueError\u001b[0m                                Traceback (most recent call last)",
      "Cell \u001b[1;32mIn[23], line 12\u001b[0m\n\u001b[0;32m     10\u001b[0m     \u001b[39mif\u001b[39;00m c\u001b[39m==\u001b[39m\u001b[39m1\u001b[39m:\n\u001b[0;32m     11\u001b[0m         l\u001b[39m.\u001b[39mappend(i)\n\u001b[1;32m---> 12\u001b[0m m\u001b[39m=\u001b[39m\u001b[39mmin\u001b[39;49m(l)\u001b[39m+\u001b[39m\u001b[39mmax\u001b[39m(l)\n\u001b[0;32m     13\u001b[0m \u001b[39mprint\u001b[39m(m)\n",
      "\u001b[1;31mValueError\u001b[0m: min() arg is an empty sequence"
     ]
    }
   ],
   "source": [
    "n1,n2=5,9\n",
    "l=[]\n",
    "c=0\n",
    "for i in range(n1,n2+1):\n",
    "    for j in range(2,n1//2):\n",
    "        if i%j==0:\n",
    "            break\n",
    "        else:\n",
    "            c=1\n",
    "    if c==1:\n",
    "        l.append(i)\n",
    "m=min(l)+max(l)\n",
    "print(m)"
   ]
  }
 ],
 "metadata": {
  "kernelspec": {
   "display_name": "Python 3",
   "language": "python",
   "name": "python3"
  },
  "language_info": {
   "codemirror_mode": {
    "name": "ipython",
    "version": 3
   },
   "file_extension": ".py",
   "mimetype": "text/x-python",
   "name": "python",
   "nbconvert_exporter": "python",
   "pygments_lexer": "ipython3",
   "version": "3.11.4"
  },
  "orig_nbformat": 4
 },
 "nbformat": 4,
 "nbformat_minor": 2
}
