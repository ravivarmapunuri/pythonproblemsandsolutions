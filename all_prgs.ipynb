{
 "cells": [
  {
   "cell_type": "code",
   "execution_count": null,
   "metadata": {},
   "outputs": [],
   "source": [
    "#basic programs "
   ]
  },
  {
   "cell_type": "code",
   "execution_count": 18,
   "metadata": {},
   "outputs": [
    {
     "name": "stdout",
     "output_type": "stream",
     "text": [
      "Even\n"
     ]
    }
   ],
   "source": [
    "#even or not the given number\n",
    "n=int(input())\n",
    "if n==0:\n",
    "    print(\"Either or zero\")\n",
    "elif n%2==0:\n",
    "    print(\"Even\")\n",
    "else:\n",
    "    print(\"Odd\")"
   ]
  },
  {
   "cell_type": "code",
   "execution_count": 84,
   "metadata": {},
   "outputs": [
    {
     "name": "stdout",
     "output_type": "stream",
     "text": [
      "Prime\n"
     ]
    }
   ],
   "source": [
    "#print the given number is prime or not\n",
    "n=int(input())\n",
    "if n==0 or n==1:\n",
    "    print(\"not a prime\")\n",
    "else:\n",
    "    c=0\n",
    "    for i in range(2,n//2+1):\n",
    "        if n%i==0:\n",
    "            c=1\n",
    "            break\n",
    "    if c==0:\n",
    "        print(\"Prime\")\n",
    "    else:\n",
    "        print(\"Not a Prime\")\n",
    "            "
   ]
  },
  {
   "cell_type": "code",
   "execution_count": 98,
   "metadata": {},
   "outputs": [
    {
     "name": "stdout",
     "output_type": "stream",
     "text": [
      "2 3 5 7 11 13 17 19 23 29 31 37 41 43 47 53 59 61 67 71 73 79 83 89 97 "
     ]
    }
   ],
   "source": [
    "#print the primes number between given range\n",
    "l=int(input())\n",
    "m=int(input())\n",
    "for i in range(l,m+1):\n",
    "    if i==0 or i==1:\n",
    "        pass\n",
    "    else:\n",
    "        for j in range(2,i):\n",
    "            if i%j==0:\n",
    "                break\n",
    "        else:\n",
    "            print(i,end=\" \")"
   ]
  },
  {
   "cell_type": "code",
   "execution_count": 7,
   "metadata": {},
   "outputs": [
    {
     "name": "stdout",
     "output_type": "stream",
     "text": [
      "2\n",
      "3\n",
      "5\n",
      "7\n"
     ]
    }
   ],
   "source": [
    "s=int(input())\n",
    "s1=int(input())\n",
    "for i in range(1,s1+1):\n",
    "    if i==0 or i==1:\n",
    "        pass\n",
    "    else:\n",
    "        for j in range(2,i):\n",
    "            if i % j==0:\n",
    "                break\n",
    "        else:\n",
    "            print(i)"
   ]
  },
  {
   "cell_type": "code",
   "execution_count": 119,
   "metadata": {},
   "outputs": [
    {
     "name": "stdout",
     "output_type": "stream",
     "text": [
      "not a pronic\n"
     ]
    }
   ],
   "source": [
    "#pronic or not\n",
    "n=int(input())\n",
    "c=0\n",
    "for i in range(1,n//2+1):\n",
    "    if i*(i+1)==n:\n",
    "        c=1\n",
    "if c==1:\n",
    "    print(\"pronic\")\n",
    "else:\n",
    "    print(\"not a pronic\")"
   ]
  },
  {
   "cell_type": "code",
   "execution_count": 140,
   "metadata": {},
   "outputs": [
    {
     "name": "stdout",
     "output_type": "stream",
     "text": [
      "perfect\n"
     ]
    }
   ],
   "source": [
    "#perfect number or not\n",
    "n=int(input())\n",
    "temp=0\n",
    "for i in range(1,n):\n",
    "    if n%i==0:\n",
    "        temp+=i\n",
    "if temp==n:\n",
    "    print(\"perfect\")\n",
    "else:\n",
    "    print(\"not a perfect\")"
   ]
  },
  {
   "cell_type": "code",
   "execution_count": 149,
   "metadata": {},
   "outputs": [
    {
     "name": "stdout",
     "output_type": "stream",
     "text": [
      "lcm 75\n",
      "gcd 5\n"
     ]
    }
   ],
   "source": [
    "#print the lcm(least common multipler) and gcd(great common division) of a given numbers\n",
    "a=int(input())\n",
    "b=int(input())\n",
    "\n",
    "def gcd(a,b):\n",
    "    if b==0:\n",
    "        return a\n",
    "    else:\n",
    "        return gcd(b,a%b)\n",
    "    \n",
    "def lcm(a,b):\n",
    "    return a*b//gcd(a,b)\n",
    "    \n",
    "print(\"lcm\",lcm(a,b))\n",
    "print(\"gcd\",gcd(a,b))"
   ]
  },
  {
   "cell_type": "code",
   "execution_count": 151,
   "metadata": {},
   "outputs": [
    {
     "name": "stdout",
     "output_type": "stream",
     "text": [
      "gcd 1\n",
      "lcm 0\n"
     ]
    }
   ],
   "source": [
    "n1=int(input())\n",
    "n2=int(input())\n",
    "i=1\n",
    "gcd=1\n",
    "while (i<=n1):\n",
    "    if n1%i==0 and n2%i==0:\n",
    "        gcd=i\n",
    "    i+=1\n",
    "print(\"gcd\",gcd)\n",
    "print(\"lcm\",(n1*n2)//gcd)"
   ]
  },
  {
   "cell_type": "code",
   "execution_count": 161,
   "metadata": {},
   "outputs": [
    {
     "name": "stdout",
     "output_type": "stream",
     "text": [
      "1\n"
     ]
    }
   ],
   "source": [
    "#print the factorial of a given number without using recursion\n",
    "n=int(input())\n",
    "fact=1\n",
    "if n==0 or n==1:\n",
    "    print(n)\n",
    "else:\n",
    "    for i in range(1,n+1):\n",
    "        fact=fact*i\n",
    "    print(fact)"
   ]
  },
  {
   "cell_type": "code",
   "execution_count": 170,
   "metadata": {},
   "outputs": [
    {
     "name": "stdout",
     "output_type": "stream",
     "text": [
      "0 1 1 2 3 5 "
     ]
    }
   ],
   "source": [
    "#fibnocci series\n",
    "n=int(input())\n",
    "a=0\n",
    "b=1\n",
    "print(a,b,end=\" \")\n",
    "for i in range(n):\n",
    "    c=a+b\n",
    "    if c<=n:\n",
    "        print(c,end=\" \")\n",
    "        a=b\n",
    "        b=c\n",
    "    "
   ]
  },
  {
   "cell_type": "code",
   "execution_count": 171,
   "metadata": {},
   "outputs": [
    {
     "name": "stdout",
     "output_type": "stream",
     "text": [
      "0 1 1 2 3 5 8 13 21 34 "
     ]
    }
   ],
   "source": [
    "#fibonacci series upto given n number\n",
    "n=int(input())\n",
    "a=0\n",
    "b=1\n",
    "print(a,b,end=\" \")\n",
    "for i in range(n-2):\n",
    "    c=a+b\n",
    "    print(c,end=\" \")\n",
    "    a=b\n",
    "    b=c"
   ]
  },
  {
   "cell_type": "code",
   "execution_count": 175,
   "metadata": {},
   "outputs": [
    {
     "name": "stdout",
     "output_type": "stream",
     "text": [
      "341\n"
     ]
    }
   ],
   "source": [
    "#print the reverse order of a given number\n",
    "n=int(input())\n",
    "temp=0\n",
    "while n>0:\n",
    "    m=n%10\n",
    "    temp=(temp*10)+m\n",
    "    n=n//10\n",
    "print(temp)"
   ]
  },
  {
   "cell_type": "code",
   "execution_count": 179,
   "metadata": {},
   "outputs": [
    {
     "name": "stdout",
     "output_type": "stream",
     "text": [
      "not a palindrome\n"
     ]
    }
   ],
   "source": [
    "#print the given number is palindrome or not\n",
    "n=int(input())\n",
    "temp=n\n",
    "res=0\n",
    "while n>0:\n",
    "    rem=n%10\n",
    "    res=res*10+rem\n",
    "    n=n//10\n",
    "if temp==res:\n",
    "    print(\"Palindrome\")\n",
    "else:\n",
    "    print(\"not a palindrome\")"
   ]
  },
  {
   "cell_type": "code",
   "execution_count": 37,
   "metadata": {},
   "outputs": [
    {
     "name": "stdout",
     "output_type": "stream",
     "text": [
      "Not\n"
     ]
    }
   ],
   "source": [
    "#program to print a given number is strong number or not (strong number -:>  145= 1!+4!+5!)\n",
    "n=int(input())\n",
    "sum=0\n",
    "for i in str(n):\n",
    "    z=int(i)\n",
    "    fact=1\n",
    "    for i in range(1,z+1):\n",
    "        fact=fact*i\n",
    "    sum+=fact\n",
    "if n==sum:\n",
    "    print(\"Strong Number\")\n",
    "else:\n",
    "    print(\"Not\")"
   ]
  },
  {
   "cell_type": "code",
   "execution_count": 95,
   "metadata": {},
   "outputs": [
    {
     "name": "stdout",
     "output_type": "stream",
     "text": [
      "Not\n"
     ]
    }
   ],
   "source": [
    "#print the number if the number is armstrong or not  (armstrong number -> 153= 1*1*1 + %*5*5 + 3*3*3)\n",
    "n=str(int(input()))\n",
    "l=len(n)\n",
    "temp=0\n",
    "for i in n:\n",
    "    s=1\n",
    "    for j in range(1,l+1):\n",
    "        s=s*int(i)\n",
    "    temp=temp+s\n",
    "if int(n)==temp:\n",
    "    print(\"ArmStrong\")\n",
    "else:\n",
    "    print(\"Not\")"
   ]
  },
  {
   "cell_type": "code",
   "execution_count": 94,
   "metadata": {},
   "outputs": [
    {
     "name": "stdout",
     "output_type": "stream",
     "text": [
      "Not\n"
     ]
    }
   ],
   "source": [
    "n=int(input())\n",
    "l=len(str(n))\n",
    "temp=n\n",
    "s=0\n",
    "while n>0:\n",
    "    rem=n%10\n",
    "    s=s+pow(rem,l)\n",
    "    n=n//10\n",
    "if temp==s:\n",
    "    print(\"Armstrong\")\n",
    "else:\n",
    "    print(\"Not\")"
   ]
  },
  {
   "cell_type": "code",
   "execution_count": 103,
   "metadata": {},
   "outputs": [
    {
     "name": "stdout",
     "output_type": "stream",
     "text": [
      "Anagram\n"
     ]
    }
   ],
   "source": [
    "#print if the two strings are anagram or not \n",
    "s1=input()\n",
    "s2=input()\n",
    "if sorted(s1)==sorted(s2):\n",
    "    print(\"Anagram\")\n",
    "else:\n",
    "    print(\"Not a anagram\")"
   ]
  },
  {
   "cell_type": "code",
   "execution_count": 110,
   "metadata": {},
   "outputs": [
    {
     "name": "stdout",
     "output_type": "stream",
     "text": [
      "Panagram\n"
     ]
    }
   ],
   "source": [
    "#program to check the given string is panagram or not (panagram :-> contains all alphabets)\n",
    "s=input()\n",
    "a=\"abcdefghijklmnopqrstuvwxyz\"\n",
    "flag=0\n",
    "for i in a:\n",
    "    if i not in s:\n",
    "        flag=1\n",
    "        break\n",
    "if flag==0:\n",
    "    print(\"Panagram\")\n",
    "else:\n",
    "    print(\"Not a panagram\")"
   ]
  },
  {
   "cell_type": "code",
   "execution_count": 121,
   "metadata": {},
   "outputs": [
    {
     "name": "stdout",
     "output_type": "stream",
     "text": [
      "101\n"
     ]
    }
   ],
   "source": [
    "#program to print the decimal number to binary\n",
    "n=int(input())\n",
    "res=\"\"\n",
    "while n>0:\n",
    "    res+=str(n%2)\n",
    "    n=n//2\n",
    "print(res[::-1])"
   ]
  },
  {
   "cell_type": "code",
   "execution_count": 116,
   "metadata": {},
   "outputs": [
    {
     "name": "stdout",
     "output_type": "stream",
     "text": [
      "100\n"
     ]
    }
   ],
   "source": [
    "n=int(input())\n",
    "print(bin(n)[2:])"
   ]
  },
  {
   "cell_type": "code",
   "execution_count": 119,
   "metadata": {},
   "outputs": [
    {
     "name": "stdout",
     "output_type": "stream",
     "text": [
      "100\n"
     ]
    }
   ],
   "source": [
    "n=int(input())\n",
    "b=0\n",
    "mul=1\n",
    "while n>0:\n",
    "    rem=n%2\n",
    "    b=b+(rem*mul)\n",
    "    mul=mul*10\n",
    "    n=n//2\n",
    "print(b)"
   ]
  },
  {
   "cell_type": "code",
   "execution_count": 133,
   "metadata": {},
   "outputs": [
    {
     "name": "stdout",
     "output_type": "stream",
     "text": [
      "8\n"
     ]
    }
   ],
   "source": [
    "#program to convert the binary number to decimal\n",
    "n=int(input())\n",
    "l=len(str(n))-1\n",
    "res=0\n",
    "for j in str(n):\n",
    "    res+=int(j)*(2**l)\n",
    "    l-=1\n",
    "print(res)"
   ]
  },
  {
   "cell_type": "code",
   "execution_count": 141,
   "metadata": {},
   "outputs": [
    {
     "name": "stdout",
     "output_type": "stream",
     "text": [
      "a value 10 b value 20\n",
      "20 10\n"
     ]
    }
   ],
   "source": [
    "#swap the given numbers without taking third variable\n",
    "a=int(input())\n",
    "b=int(input())\n",
    "print(\"a value\",a,\"b value\",b)\n",
    "a=a+b\n",
    "b=a-b\n",
    "a=a-b\n",
    "print(a,b)"
   ]
  },
  {
   "cell_type": "code",
   "execution_count": 142,
   "metadata": {},
   "outputs": [
    {
     "name": "stdout",
     "output_type": "stream",
     "text": [
      "10 20\n"
     ]
    }
   ],
   "source": [
    "a=int(input())\n",
    "b=int(input())\n",
    "a=a^b\n",
    "b=a^b\n",
    "a=a^b\n",
    "print(a,b)"
   ]
  },
  {
   "cell_type": "code",
   "execution_count": 145,
   "metadata": {},
   "outputs": [
    {
     "name": "stdout",
     "output_type": "stream",
     "text": [
      "6 3\n"
     ]
    }
   ],
   "source": [
    "n=int(input())\n",
    "m=int(input())\n",
    "n=n*m\n",
    "m=n//m\n",
    "n=n//m\n",
    "print(n,m)"
   ]
  },
  {
   "cell_type": "code",
   "execution_count": 154,
   "metadata": {},
   "outputs": [
    {
     "name": "stdout",
     "output_type": "stream",
     "text": [
      "Leap Year\n"
     ]
    }
   ],
   "source": [
    "#print the given year is leap or not\n",
    "y=int(input())\n",
    "if y%4==0 and (y%400==0 or y%100!=0):\n",
    "    print(\"Leap Year\")\n",
    "else:\n",
    "    print(\"Not a leap year\")"
   ]
  },
  {
   "cell_type": "code",
   "execution_count": 159,
   "metadata": {},
   "outputs": [
    {
     "name": "stdout",
     "output_type": "stream",
     "text": [
      "leap year\n"
     ]
    }
   ],
   "source": [
    "a=int(input())\n",
    "if a%400==0 and a%100!=0 or a%4==0:\n",
    "    print(\"leap year\")\n",
    "else:\n",
    "    print(\"not\")"
   ]
  }
 ],
 "metadata": {
  "kernelspec": {
   "display_name": "Python 3",
   "language": "python",
   "name": "python3"
  },
  "language_info": {
   "codemirror_mode": {
    "name": "ipython",
    "version": 3
   },
   "file_extension": ".py",
   "mimetype": "text/x-python",
   "name": "python",
   "nbconvert_exporter": "python",
   "pygments_lexer": "ipython3",
   "version": "3.11.4"
  },
  "orig_nbformat": 4
 },
 "nbformat": 4,
 "nbformat_minor": 2
}
