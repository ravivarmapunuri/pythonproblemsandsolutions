{
 "cells": [
  {
   "cell_type": "code",
   "execution_count": 28,
   "metadata": {},
   "outputs": [
    {
     "name": "stdout",
     "output_type": "stream",
     "text": [
      "invalid input\n"
     ]
    }
   ],
   "source": [
    "#1st prg\n",
    "n=int(input())\n",
    "if n>=0 and n<=100:\n",
    "    if n<=34:\n",
    "        print(\"Fail\")\n",
    "    elif n>=35 and n<=44:\n",
    "        print(\"Pass with D grade\")\n",
    "    elif n>=45 and n<=55:\n",
    "        print(\"Pass with C grade\")\n",
    "    elif n>=56 and n<=71:\n",
    "        print(\"pass with B grade\") \n",
    "    elif n>=72 and n<=100:\n",
    "        print(\"pass with A grade\")\n",
    "else:\n",
    "    print(\"invalid input\")"
   ]
  },
  {
   "cell_type": "code",
   "execution_count": 31,
   "metadata": {},
   "outputs": [
    {
     "name": "stdout",
     "output_type": "stream",
     "text": [
      "vowels: 3\n",
      "constant: 4\n"
     ]
    }
   ],
   "source": [
    "#2nd prg\n",
    "s=input().lower()\n",
    "v=0\n",
    "c=0\n",
    "vowels=['a','e','i','o','u']\n",
    "for i in s:\n",
    "    if i.isalpha():\n",
    "        if i in vowels:\n",
    "            v+=1\n",
    "        else:\n",
    "            c+=1\n",
    "print(\"vowels:\",v)\n",
    "print(\"constant:\",c)"
   ]
  },
  {
   "cell_type": "code",
   "execution_count": 34,
   "metadata": {},
   "outputs": [
    {
     "name": "stdout",
     "output_type": "stream",
     "text": [
      "e o e "
     ]
    }
   ],
   "source": [
    "s=\"welcome\"\n",
    "for i in s:\n",
    "    if i in \"aeiou\":\n",
    "        print(i,end=\" \")"
   ]
  },
  {
   "cell_type": "code",
   "execution_count": 40,
   "metadata": {},
   "outputs": [
    {
     "name": "stdout",
     "output_type": "stream",
     "text": [
      "dtbsqw"
     ]
    }
   ],
   "source": [
    "#3rd prg\n",
    "s=input().lower()\n",
    "for i in s:\n",
    "    if i.isalpha():\n",
    "        if i not in \"aeiou\":\n",
    "            print(i,end=\"\")"
   ]
  },
  {
   "cell_type": "code",
   "execution_count": 44,
   "metadata": {},
   "outputs": [
    {
     "name": "stdout",
     "output_type": "stream",
     "text": [
      "not a anagram\n"
     ]
    }
   ],
   "source": [
    "#4th prg\n",
    "s=sorted(input())\n",
    "s1=sorted(input())\n",
    "if s==s1:\n",
    "    print(\"anagram\")\n",
    "else:\n",
    "    print(\"not a anagram\")"
   ]
  },
  {
   "cell_type": "code",
   "execution_count": 56,
   "metadata": {},
   "outputs": [
    {
     "name": "stdout",
     "output_type": "stream",
     "text": [
      "listen\n",
      "silent\n",
      "care\n",
      "hello\n",
      "race\n"
     ]
    }
   ],
   "source": [
    "#5th prg\n",
    "s=[\"listen\",\"silent\",\"care\",\"hello\",\"race\"]\n",
    "l=[\"\".join(sorted(i)) for i in s]\n",
    "v=set(l)\n",
    "l1=[]\n",
    "for i in s:\n",
    "    if \"\".join(sorted(i)) in l:\n",
    "        print(i)"
   ]
  },
  {
   "cell_type": "code",
   "execution_count": 27,
   "metadata": {},
   "outputs": [
    {
     "name": "stdout",
     "output_type": "stream",
     "text": [
      "['race', 'silent', 'care', 'hello', 'listen']\n"
     ]
    }
   ],
   "source": [
    "s=[\"race\",\"silent\",\"care\",\"hello\",\"listen\"]\n",
    "l=[]\n",
    "for i in range(len(s)+1):\n",
    "    if i+1<len(s):\n",
    "        if len(s[i])==len(s[i+1]):\n",
    "            if sorted(s[i])==sorted(s[i+1]):\n",
    "                l.append([s[i],s[i+1]])\n",
    "print(s)"
   ]
  },
  {
   "cell_type": "code",
   "execution_count": 11,
   "metadata": {},
   "outputs": [
    {
     "name": "stdout",
     "output_type": "stream",
     "text": [
      "['race', 'care', 'silent', 'listen']\n",
      "[['hello'], ['race', 'care'], ['silent', 'listen']]\n"
     ]
    }
   ],
   "source": [
    "s=[\"race\",\"silent\",\"care\",\"hello\",\"listen\"]\n",
    "l=[]\n",
    "for i in range(len(s)):\n",
    "    for j in range(i+1,len(s)):\n",
    "        if len(s[i])==len(s[j]) and sorted(s[i])==sorted(s[j]):\n",
    "            l.append(s[i])\n",
    "            l.append(s[j])\n",
    "\n",
    "print(l)\n",
    "l1=[]\n",
    "for i in s:\n",
    "    if i not in l:\n",
    "        l1.append([i])\n",
    "\n",
    "for i in range(len(s)):\n",
    "    for j in range(i+1,len(s)):\n",
    "        if len(s[i])==len(s[j]) and sorted(s[i])==sorted(s[j]):\n",
    "            l1.append([s[i],s[j]])\n",
    "print(l1)"
   ]
  },
  {
   "cell_type": "code",
   "execution_count": 57,
   "metadata": {},
   "outputs": [
    {
     "name": "stdout",
     "output_type": "stream",
     "text": [
      "['acer', 'eilnst']\n"
     ]
    }
   ],
   "source": [
    "s=[\"race\",\"silent\",\"care\",\"hello\",\"listen\"]\n",
    "s1=[]\n",
    "for i in s:\n",
    "    v=\"\".join(sorted(i))\n",
    "    s1.append(v)\n",
    "l1=[]\n",
    "l=[]\n",
    "for i in s1:\n",
    "    if s1.count(i)>1:\n",
    "        if i not in l:\n",
    "            l.append(i)\n",
    "print(l)"
   ]
  }
 ],
 "metadata": {
  "kernelspec": {
   "display_name": "Python 3",
   "language": "python",
   "name": "python3"
  },
  "language_info": {
   "codemirror_mode": {
    "name": "ipython",
    "version": 3
   },
   "file_extension": ".py",
   "mimetype": "text/x-python",
   "name": "python",
   "nbconvert_exporter": "python",
   "pygments_lexer": "ipython3",
   "version": "3.11.4"
  }
 },
 "nbformat": 4,
 "nbformat_minor": 2
}
