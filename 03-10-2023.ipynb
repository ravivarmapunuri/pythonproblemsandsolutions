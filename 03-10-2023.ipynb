{
 "cells": [
  {
   "cell_type": "code",
   "execution_count": 46,
   "metadata": {},
   "outputs": [
    {
     "name": "stdout",
     "output_type": "stream",
     "text": [
      "6\n"
     ]
    }
   ],
   "source": [
    "#1st prg\n",
    "n=list(map(int,input().split()))\n",
    "v=sum(n)\n",
    "l=[int(i) for i in str(v)]\n",
    "s=sum(l)\n",
    "z=len(str(s))\n",
    "if z==1:\n",
    "    print(s)\n",
    "else:\n",
    "    while z>1:\n",
    "        v=[int(i) for i in str(s)]\n",
    "        z1=sum(v)\n",
    "    print(z)"
   ]
  },
  {
   "cell_type": "code",
   "execution_count": 45,
   "metadata": {},
   "outputs": [],
   "source": [
    "n=123456\n",
    "l=[int(i) for i in str(n)]\n",
    "v=sum(l)\n",
    "z=len(str(v))\n",
    "\n",
    "    "
   ]
  },
  {
   "cell_type": "code",
   "execution_count": 44,
   "metadata": {},
   "outputs": [
    {
     "name": "stdout",
     "output_type": "stream",
     "text": [
      "3\n"
     ]
    }
   ],
   "source": [
    "n=int(input())\n",
    "if n==0:\n",
    "    print(\"0\")\n",
    "elif n%9==0:\n",
    "    print(\"9\")\n",
    "else:\n",
    "    print(n%9)"
   ]
  },
  {
   "cell_type": "code",
   "execution_count": 75,
   "metadata": {},
   "outputs": [
    {
     "name": "stdout",
     "output_type": "stream",
     "text": [
      "4\n"
     ]
    }
   ],
   "source": [
    "a=[1,2,3,4,5]\n",
    "b=int(input())\n",
    "c=b%len(a)\n",
    "print(a[c-1])"
   ]
  },
  {
   "cell_type": "code",
   "execution_count": 2,
   "metadata": {},
   "outputs": [
    {
     "name": "stdout",
     "output_type": "stream",
     "text": [
      "30\n"
     ]
    }
   ],
   "source": [
    "#49\n",
    "#fareprice \n",
    "def getfare(s,d):\n",
    "    Bs = [\"TH\",\"GA\",\"IC\", \"HA\", \"TE\", \"LU\", \"NI\",\"CA\" ]\n",
    "    P = [800, 600, 750, 900, 1400, 1200, 1100, 1500]\n",
    "    l=[]\n",
    "    if s and d not in Bs:\n",
    "        print(\"Invalid Input\")\n",
    "    else:   \n",
    "        for i in range(len(Bs)):\n",
    "            if Bs[i]==s:\n",
    "                l.append(i)\n",
    "            if Bs[i]==d:\n",
    "                l.append(i)\n",
    "        z=P[l[0]:l[1]+1]\n",
    "        s1=0\n",
    "        for i in z:\n",
    "            fare=(i*5/1000)\n",
    "            s1+=round(fare)\n",
    "        print(s1)\n",
    "\n",
    "s=input().upper()\n",
    "d=input().upper()\n",
    "if s==d:\n",
    "    print(\"invalid input\")\n",
    "else:\n",
    "    getfare(s,d)"
   ]
  },
  {
   "cell_type": "code",
   "execution_count": 46,
   "metadata": {},
   "outputs": [
    {
     "name": "stdout",
     "output_type": "stream",
     "text": [
      "4600\n",
      "23\n"
     ]
    }
   ],
   "source": [
    "Bs = [\"TH\",\"GA\",\"IC\", \"HA\", \"TE\", \"LU\", \"NI\",\"CA\" ]\n",
    "P = [800, 600, 750, 900, 1400, 1200, 1100, 1500]\n",
    "s=input().upper()\n",
    "d=input().upper()\n",
    "if s==d:\n",
    "    print(\"invalid \")\n",
    "else:\n",
    "    v=0\n",
    "    if s and d not in Bs:\n",
    "        print(\"invalid\")\n",
    "    else:\n",
    "        for i in range(len(Bs)):\n",
    "            if s==Bs[i]:\n",
    "                s1=i\n",
    "            if d==Bs[i]:\n",
    "                d1=i\n",
    "        for i in range(min(s1,d1),max(s1,d1)+1):\n",
    "            v+=P[i]\n",
    "        print(v)\n",
    "        print(round(v*0.05/10))"
   ]
  },
  {
   "cell_type": "code",
   "execution_count": 52,
   "metadata": {},
   "outputs": [
    {
     "name": "stdout",
     "output_type": "stream",
     "text": [
      "23.0\n"
     ]
    }
   ],
   "source": [
    "print(4600*0.50/100)"
   ]
  },
  {
   "cell_type": "code",
   "execution_count": 1,
   "metadata": {},
   "outputs": [
    {
     "name": "stdout",
     "output_type": "stream",
     "text": [
      "r 1000\n",
      "v 250\n",
      "x 250\n"
     ]
    }
   ],
   "source": [
    "#50 \n",
    "s=input()\n",
    "c=input().lower()\n",
    "if c==\"y\":\n",
    "    l=list(map(str,input().split()))\n",
    "    ss= int((len(l)/10) * 5000)\n",
    "    print(s,ss)\n",
    "    for i in l:\n",
    "        print(i,int(0.05 * 5000))\n",
    "else:\n",
    "    print(s,int(0.05 * 5000))"
   ]
  },
  {
   "cell_type": "code",
   "execution_count": 9,
   "metadata": {},
   "outputs": [
    {
     "name": "stdout",
     "output_type": "stream",
     "text": [
      "r:500\n"
     ]
    }
   ],
   "source": [
    "#madam logic\n",
    "s=input()\n",
    "c=input().lower()\n",
    "if c=='y':\n",
    "    l=input().split()\n",
    "    print(\"total members\",len(l)+1)\n",
    "    print(\"comission details \")\n",
    "    print(\"{}:{}\".format(s,500*len(l)))\n",
    "    for i in l:\n",
    "        print(\"{}:{}\".format(i,250))\n",
    "else:\n",
    "    print(\"{}:{}\".format(s,250))"
   ]
  }
 ],
 "metadata": {
  "kernelspec": {
   "display_name": "Python 3",
   "language": "python",
   "name": "python3"
  },
  "language_info": {
   "codemirror_mode": {
    "name": "ipython",
    "version": 3
   },
   "file_extension": ".py",
   "mimetype": "text/x-python",
   "name": "python",
   "nbconvert_exporter": "python",
   "pygments_lexer": "ipython3",
   "version": "3.11.4"
  },
  "orig_nbformat": 4
 },
 "nbformat": 4,
 "nbformat_minor": 2
}
