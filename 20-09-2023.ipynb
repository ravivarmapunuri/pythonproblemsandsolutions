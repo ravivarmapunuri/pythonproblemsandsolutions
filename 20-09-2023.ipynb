{
 "cells": [
  {
   "cell_type": "code",
   "execution_count": 14,
   "metadata": {},
   "outputs": [
    {
     "name": "stdout",
     "output_type": "stream",
     "text": [
      "1\n",
      "2\n",
      "3\n",
      "4\n",
      "8\n",
      "12\n",
      "16\n",
      "15\n",
      "14\n",
      "13\n",
      "9\n",
      "5\n",
      "6\n",
      "7\n",
      "11\n",
      "10\n"
     ]
    }
   ],
   "source": [
    "def spiralOrder(arr):\n",
    "    ans=[]\n",
    "    while arr:\n",
    "        ans+=arr.pop(0)\n",
    "        arr= (list(zip(*arr)))[::-1]\n",
    "    return ans\n",
    "arr=[]\n",
    "n,m=map(int,input().split())\n",
    "for i in range(n):\n",
    "    arr.append(list(map(int,input().split())))\n",
    "for i in spiralOrder(arr):\n",
    "    print(i)"
   ]
  },
  {
   "cell_type": "code",
   "execution_count": 2,
   "metadata": {},
   "outputs": [
    {
     "name": "stdout",
     "output_type": "stream",
     "text": [
      "1 2 3 4 8 12 16 15 14 13 9 5 6 7 11 10\n"
     ]
    }
   ],
   "source": [
    "def spiralOrder(arr):\n",
    "    if not arr:\n",
    "        return []\n",
    "    \n",
    "    ans = []\n",
    "    top, bottom, left, right = 0, len(arr) - 1, 0, len(arr[0]) - 1\n",
    "\n",
    "    while top <= bottom and left <= right:\n",
    "        for i in range(left, right + 1):\n",
    "            ans.append(arr[top][i])\n",
    "        top += 1\n",
    "\n",
    "        for i in range(top, bottom + 1):\n",
    "            ans.append(arr[i][right])\n",
    "        right -= 1\n",
    "\n",
    "        if top <= bottom:\n",
    "            for i in range(right, left - 1, -1):\n",
    "                ans.append(arr[bottom][i])\n",
    "            bottom -= 1\n",
    "\n",
    "        if left <= right:\n",
    "            for i in range(bottom, top - 1, -1):\n",
    "                ans.append(arr[i][left])\n",
    "            left += 1\n",
    "\n",
    "    return ans\n",
    "\n",
    "arr = [[1,2,3,4],\n",
    "       [5,6,7,8],\n",
    "       [9,10,11,12],\n",
    "        [13,14,15,16]]\n",
    "n, m = 4,4\n",
    "#map(int, input().split())\n",
    "#for i in range(n):\n",
    "#    arr.append(list(map(int, input().split())))\n",
    "print(*spiralOrder(arr))\n"
   ]
  },
  {
   "cell_type": "code",
   "execution_count": 5,
   "metadata": {},
   "outputs": [
    {
     "name": "stdout",
     "output_type": "stream",
     "text": [
      "[[1, 0, 1, 0, 1], [0, 0, 0, 1, 0], [1, 0, 0, 0, 0], [0, 0, 0, 0, 0]]\n"
     ]
    }
   ],
   "source": [
    "n,m=map(int,input().split())\n",
    "z=[]\n",
    "for i in range(n):\n",
    "    z.append(list(map(int,input().split())))\n",
    "print(z[0][0])"
   ]
  },
  {
   "cell_type": "code",
   "execution_count": 1,
   "metadata": {},
   "outputs": [
    {
     "name": "stdout",
     "output_type": "stream",
     "text": [
      "2\n"
     ]
    }
   ],
   "source": [
    "def row(list1, rindex):\n",
    "    c1 = 0\n",
    "    for i in range(len(list1[0])):\n",
    "        if list1[rindex][i] == 1:\n",
    "            c1 += 1\n",
    "    return c1\n",
    "\n",
    "def col(list1, rindex, cindex):\n",
    "    c1 = 0\n",
    "    for i in range(rindex, len(list1)):\n",
    "        if list1[i][cindex] == 1:\n",
    "            c1 += 1\n",
    "    return c1\n",
    "\n",
    "a = [[1, 0, 1, 0, 1],\n",
    "     [0, 0, 0, 1, 0],\n",
    "     [1, 0, 0, 0, 0],\n",
    "     [0, 0, 0, 0, 0]]\n",
    "\n",
    "ans = 0\n",
    "for rows in range(len(a)):\n",
    "    for cols in range(len(a[rows])):\n",
    "        if a[rows][cols] == 1:\n",
    "            if row(a, rows) > 1 and col(a, rows, cols) > 1:\n",
    "                ans += (row(a, rows) - 1) * (col(a, rows, cols) - 1)\n",
    "\n",
    "print(ans)\n"
   ]
  },
  {
   "cell_type": "code",
   "execution_count": 12,
   "metadata": {},
   "outputs": [
    {
     "name": "stdout",
     "output_type": "stream",
     "text": [
      "2\n"
     ]
    }
   ],
   "source": [
    "def row(list1,rindex):\n",
    "    count=0\n",
    "    for i in range(len(list1[0])):\n",
    "        if list1[rindex][i]==1:\n",
    "            count+=1\n",
    "    return count\n",
    "def column(list1,rindex,cindex):\n",
    "    count=0\n",
    "    for i in range(rindex,len(list1)):\n",
    "        if list1[i][cindex]==1:\n",
    "            count+=1\n",
    "    return count\n",
    "\n",
    "\n",
    "a = [[1,0,1,0,1],\n",
    "     [0,0,0,1,0],\n",
    "     [1,0,0,0,0],\n",
    "     [0,0,0,0,0]]\n",
    "ans=0\n",
    "for rows in range(len(a)):\n",
    "    for col in range(len(a[rows])):\n",
    "        if a[rows][col]==1:\n",
    "           if  row(a,rows) >1 and column(a,rows,col)>1:\n",
    "               ans = (row(a,rows)-1)*(column(a,rows,col)-1)\n",
    "print(ans)"
   ]
  }
 ],
 "metadata": {
  "kernelspec": {
   "display_name": "Python 3",
   "language": "python",
   "name": "python3"
  },
  "language_info": {
   "codemirror_mode": {
    "name": "ipython",
    "version": 3
   },
   "file_extension": ".py",
   "mimetype": "text/x-python",
   "name": "python",
   "nbconvert_exporter": "python",
   "pygments_lexer": "ipython3",
   "version": "3.11.4"
  },
  "orig_nbformat": 4
 },
 "nbformat": 4,
 "nbformat_minor": 2
}
