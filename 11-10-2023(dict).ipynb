{
 "cells": [
  {
   "cell_type": "code",
   "execution_count": 14,
   "metadata": {},
   "outputs": [
    {
     "name": "stdout",
     "output_type": "stream",
     "text": [
      "dict_keys(['eilnst', 'acer', 'ehllo'])\n",
      "['listen', 'silent'] ['care', 'race'] ['hello']\n"
     ]
    }
   ],
   "source": [
    "def anagram(list1):\n",
    "    a={}\n",
    "    for i in list1:\n",
    "        s=sorted(i)\n",
    "        s2=\"\".join(s)\n",
    "        if s2 in a:\n",
    "            a[s2].append(i)\n",
    "        else:\n",
    "            a[s2]=[i]\n",
    "    return list(a.values())\n",
    "\n",
    "list2=[\"listen\",\"care\",\"silent\",\"race\",\"hello\"]\n",
    "print(*anagram(list2))"
   ]
  }
 ],
 "metadata": {
  "kernelspec": {
   "display_name": "Python 3",
   "language": "python",
   "name": "python3"
  },
  "language_info": {
   "codemirror_mode": {
    "name": "ipython",
    "version": 3
   },
   "file_extension": ".py",
   "mimetype": "text/x-python",
   "name": "python",
   "nbconvert_exporter": "python",
   "pygments_lexer": "ipython3",
   "version": "3.11.4"
  }
 },
 "nbformat": 4,
 "nbformat_minor": 2
}
