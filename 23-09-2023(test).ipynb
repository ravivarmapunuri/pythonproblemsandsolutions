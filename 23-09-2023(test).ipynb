{
 "cells": [
  {
   "cell_type": "code",
   "execution_count": 14,
   "metadata": {},
   "outputs": [
    {
     "name": "stdout",
     "output_type": "stream",
     "text": [
      "123456654321\n",
      "1\n"
     ]
    }
   ],
   "source": [
    "#1st\n",
    "#123456654321\n",
    "#1\n",
    "n=input()\n",
    "print(n)\n",
    "for i in n:\n",
    "    if n.count(i)>1:\n",
    "        print(i)\n",
    "        break"
   ]
  },
  {
   "cell_type": "code",
   "execution_count": 13,
   "metadata": {},
   "outputs": [
    {
     "name": "stdout",
     "output_type": "stream",
     "text": [
      "567896789\n",
      "987698765\n",
      "9\n"
     ]
    }
   ],
   "source": [
    "#another model\n",
    "n=input()\n",
    "print(n)\n",
    "z=n[::-1]\n",
    "print(z)\n",
    "v=[]\n",
    "for i in n:\n",
    "    for j in z:\n",
    "        if i==j:\n",
    "            v.append(i)\n",
    "print(v[-1])"
   ]
  },
  {
   "cell_type": "code",
   "execution_count": 5,
   "metadata": {},
   "outputs": [
    {
     "name": "stdout",
     "output_type": "stream",
     "text": [
      "[8, 1, 2, 3, 4, 2, 5, 6, 2, 2]\n",
      "[1, 2, 3, 4, 2, 5, 6, 2]\n",
      "6\n"
     ]
    }
   ],
   "source": [
    "#2nd\n",
    "# 8 1 2 3 4 2 5 6 2 2\n",
    "#6\n",
    "l=list(map(int,input().split()))\n",
    "print(l)\n",
    "n=l[1:-1]\n",
    "n1=l[-1]\n",
    "print(n)\n",
    "print(n1*n.count(n1))"
   ]
  },
  {
   "cell_type": "code",
   "execution_count": 12,
   "metadata": {},
   "outputs": [
    {
     "name": "stdout",
     "output_type": "stream",
     "text": [
      "[8, 1, 2, 3, 4, 2, 5, 6, 2, 2] 8 2\n",
      "6\n"
     ]
    }
   ],
   "source": [
    "#another model\n",
    "n=list(map(int,input().split()))\n",
    "v,m=l[0],l[-1]\n",
    "s=0\n",
    "print(n,v,m)\n",
    "for  i in range(1,len(n)-1):\n",
    "    if n[i]==m:\n",
    "        s+=n[i]\n",
    "print(s)"
   ]
  },
  {
   "cell_type": "code",
   "execution_count": 31,
   "metadata": {},
   "outputs": [
    {
     "name": "stdout",
     "output_type": "stream",
     "text": [
      "['1', '10', '11', '100', '101']\n",
      "0 0 0 1 1 "
     ]
    }
   ],
   "source": [
    "#3rd\n",
    "#5\n",
    "#1 2 3 4 5\n",
    "#2\n",
    "#0 0 0 1 1\n",
    "n=int(input())\n",
    "l=list(map(int,input().split()))\n",
    "v=int(input())\n",
    "z=[(bin(i)[2:]) for i in l]\n",
    "print(z)\n",
    "for i in range(len(z)):\n",
    "    if len(z[i])<=v:\n",
    "        print(0,end=\" \")\n",
    "    else:\n",
    "        print(z[i][:-v],end=\" \")"
   ]
  },
  {
   "cell_type": "code",
   "execution_count": 1,
   "metadata": {},
   "outputs": [
    {
     "name": "stdout",
     "output_type": "stream",
     "text": [
      "[1, 2, 3, 4, 5]\n",
      "['1', '10', '11', '100', '101']\n",
      "0 0 0 1 1 "
     ]
    }
   ],
   "source": [
    "n=int(input())\n",
    "l=list(map(int,input().split()))\n",
    "v=int(input())\n",
    "z=[(bin(i)[2:]) for i in l]\n",
    "for i in z:\n",
    "    if len(i)<=v:\n",
    "        print(0,end=\" \")\n",
    "    else:\n",
    "        print(i[:-v],end=\" \")"
   ]
  }
 ],
 "metadata": {
  "kernelspec": {
   "display_name": "Python 3",
   "language": "python",
   "name": "python3"
  },
  "language_info": {
   "codemirror_mode": {
    "name": "ipython",
    "version": 3
   },
   "file_extension": ".py",
   "mimetype": "text/x-python",
   "name": "python",
   "nbconvert_exporter": "python",
   "pygments_lexer": "ipython3",
   "version": "3.11.4"
  },
  "orig_nbformat": 4
 },
 "nbformat": 4,
 "nbformat_minor": 2
}
