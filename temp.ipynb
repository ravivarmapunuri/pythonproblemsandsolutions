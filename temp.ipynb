{
 "cells": [
  {
   "cell_type": "code",
   "execution_count": 1,
   "metadata": {},
   "outputs": [
    {
     "name": "stdout",
     "output_type": "stream",
     "text": [
      "3\n"
     ]
    }
   ],
   "source": [
    "# Your code here\n",
    "n=int(input())\n",
    "if 3<=n<=100:\n",
    "    a=list(map(int,input().split()))[:n]\n",
    "    for i in range(n):\n",
    "        if a.count(a[i])==1:\n",
    "            print(i+1)\n",
    "            break"
   ]
  },
  {
   "cell_type": "code",
   "execution_count": 18,
   "metadata": {},
   "outputs": [
    {
     "name": "stdout",
     "output_type": "stream",
     "text": [
      "abcaabcaabcc\n",
      "ab\n",
      "abc\n",
      "abca\n",
      "b\n",
      "bc\n",
      "bca\n",
      "c\n",
      "ca\n",
      "ab\n",
      "abc\n",
      "abca\n",
      "b\n",
      "bc\n",
      "bca\n",
      "c\n",
      "ca\n"
     ]
    },
    {
     "ename": "ValueError",
     "evalue": "not enough values to unpack (expected 2, got 0)",
     "output_type": "error",
     "traceback": [
      "\u001b[1;31m---------------------------------------------------------------------------\u001b[0m",
      "\u001b[1;31mValueError\u001b[0m                                Traceback (most recent call last)",
      "\u001b[1;32mUntitled-1.ipynb Cell 2\u001b[0m line \u001b[0;36m7\n\u001b[0;32m      <a href='vscode-notebook-cell:Untitled-1.ipynb?jupyter-notebook#W1sdW50aXRsZWQ%3D?line=4'>5</a>\u001b[0m l\u001b[39m=\u001b[39m[]\n\u001b[0;32m      <a href='vscode-notebook-cell:Untitled-1.ipynb?jupyter-notebook#W1sdW50aXRsZWQ%3D?line=5'>6</a>\u001b[0m \u001b[39mfor\u001b[39;00m i \u001b[39min\u001b[39;00m \u001b[39mrange\u001b[39m(q):\n\u001b[1;32m----> <a href='vscode-notebook-cell:Untitled-1.ipynb?jupyter-notebook#W1sdW50aXRsZWQ%3D?line=6'>7</a>\u001b[0m     a,b\u001b[39m=\u001b[39m\u001b[39mmap\u001b[39m(\u001b[39mint\u001b[39m,\u001b[39minput\u001b[39m()\u001b[39m.\u001b[39msplit())\n\u001b[0;32m      <a href='vscode-notebook-cell:Untitled-1.ipynb?jupyter-notebook#W1sdW50aXRsZWQ%3D?line=7'>8</a>\u001b[0m     v\u001b[39m=\u001b[39ms[a\u001b[39m-\u001b[39m\u001b[39m1\u001b[39m:b]\n\u001b[0;32m      <a href='vscode-notebook-cell:Untitled-1.ipynb?jupyter-notebook#W1sdW50aXRsZWQ%3D?line=8'>9</a>\u001b[0m     \u001b[39mfor\u001b[39;00m j \u001b[39min\u001b[39;00m \u001b[39mrange\u001b[39m(\u001b[39mlen\u001b[39m(v)):\n",
      "\u001b[1;31mValueError\u001b[0m: not enough values to unpack (expected 2, got 0)"
     ]
    }
   ],
   "source": [
    "n,q=map(int,input().split())\n",
    "if 1<=n and q<=100000:\n",
    "    s=input()\n",
    "    print(s)\n",
    "    l=[]\n",
    "    for i in range(q):\n",
    "        a,b=map(int,input().split())\n",
    "        v=s[a-1:b]\n",
    "        t=[]\n",
    "        for j in range(len(v)):\n",
    "            for k in range(j+1,len(v)+1):\n",
    "                t.append(v[j:k])\n",
    "        print(t)"
   ]
  },
  {
   "cell_type": "code",
   "execution_count": 28,
   "metadata": {},
   "outputs": [
    {
     "name": "stdout",
     "output_type": "stream",
     "text": [
      "abcaabcabcabcc\n"
     ]
    },
    {
     "name": "stdout",
     "output_type": "stream",
     "text": [
      "4\n"
     ]
    }
   ],
   "source": [
    "n,q=12,1\n",
    "if 1<=n and q<=100000:\n",
    "    s=\"abcaabcabcabcc\"\n",
    "    print(s)\n",
    "    l=[]\n",
    "    for i in range(q):\n",
    "        a,b=map(int,input().split())\n",
    "        v=s[a-1:b]\n",
    "        t=[]\n",
    "        for j in range(len(v)):\n",
    "            for k in range(j+1,len(v)+1):\n",
    "                t.append(v[j:k])\n",
    "        temp=[]\n",
    "        for x in t:\n",
    "            if x not in temp and t.count(x)==2:\n",
    "                temp.append(len(x))\n",
    "        print(max(temp))"
   ]
  },
  {
   "cell_type": "code",
   "execution_count": 4,
   "metadata": {},
   "outputs": [
    {
     "name": "stdout",
     "output_type": "stream",
     "text": [
      "10 is an integer and 2.50 is a float\n"
     ]
    }
   ],
   "source": [
    "a=10\n",
    "b=2.5\n",
    "print(\"%d is an integer and %.2f is a float\"%(a,b))"
   ]
  }
 ],
 "metadata": {
  "kernelspec": {
   "display_name": "Python 3",
   "language": "python",
   "name": "python3"
  },
  "language_info": {
   "codemirror_mode": {
    "name": "ipython",
    "version": 3
   },
   "file_extension": ".py",
   "mimetype": "text/x-python",
   "name": "python",
   "nbconvert_exporter": "python",
   "pygments_lexer": "ipython3",
   "version": "3.11.4"
  }
 },
 "nbformat": 4,
 "nbformat_minor": 2
}
