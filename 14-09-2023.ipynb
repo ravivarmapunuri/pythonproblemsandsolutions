{
 "cells": [
  {
   "cell_type": "code",
   "execution_count": null,
   "metadata": {},
   "outputs": [],
   "source": [
    "#1st program\n",
    "a=int(input())\n",
    "z=[]\n",
    "for i in range(a,(a)-1):\n",
    "    b=[]\n",
    "    for j in range(a,(a)-1):\n",
    "        b.append(j)\n",
    "    z.append(b)\n",
    "for i in z:\n",
    "    print(*i)"
   ]
  },
  {
   "cell_type": "code",
   "execution_count": 3,
   "metadata": {},
   "outputs": [
    {
     "ename": "ValueError",
     "evalue": "invalid literal for int() with base 10: ''",
     "output_type": "error",
     "traceback": [
      "\u001b[1;31m---------------------------------------------------------------------------\u001b[0m",
      "\u001b[1;31mValueError\u001b[0m                                Traceback (most recent call last)",
      "\u001b[1;32mc:\\Users\\Varma\\Desktop\\python\\14-09-2023.ipynb Cell 2\u001b[0m line \u001b[0;36m1\n\u001b[1;32m----> <a href='vscode-notebook-cell:/c%3A/Users/Varma/Desktop/python/14-09-2023.ipynb#W1sZmlsZQ%3D%3D?line=0'>1</a>\u001b[0m a\u001b[39m=\u001b[39m\u001b[39mint\u001b[39;49m(\u001b[39minput\u001b[39;49m())\n\u001b[0;32m      <a href='vscode-notebook-cell:/c%3A/Users/Varma/Desktop/python/14-09-2023.ipynb#W1sZmlsZQ%3D%3D?line=1'>2</a>\u001b[0m z\u001b[39m=\u001b[39m[]\n\u001b[0;32m      <a href='vscode-notebook-cell:/c%3A/Users/Varma/Desktop/python/14-09-2023.ipynb#W1sZmlsZQ%3D%3D?line=2'>3</a>\u001b[0m \u001b[39mfor\u001b[39;00m i \u001b[39min\u001b[39;00m \u001b[39mrange\u001b[39m(a):\n",
      "\u001b[1;31mValueError\u001b[0m: invalid literal for int() with base 10: ''"
     ]
    }
   ],
   "source": [
    "a=int(input())\n",
    "z=[]\n",
    "for i in range(a):\n",
    "    b=[]\n",
    "    for j in range(a):\n",
    "        b.append(input())\n",
    "    z.append(b)\n",
    "for i in z:\n",
    "    print(i)"
   ]
  },
  {
   "cell_type": "code",
   "execution_count": null,
   "metadata": {},
   "outputs": [
    {
     "name": "stdout",
     "output_type": "stream",
     "text": [
      "1 2 3 4 5\n",
      "16 17 18 19 6\n",
      "15 24 25 20 7\n",
      "14 23 22 21 8\n",
      "13 12 11 10 9\n"
     ]
    }
   ],
   "source": [
    "def generate_spiral_matrix(n):\n",
    "    matrix = [[0] * n for _ in range(n)]\n",
    "    top, bottom, left, right = 0, n - 1, 0, n - 1\n",
    "    num = 1\n",
    "\n",
    "    while num <= n * n:\n",
    "        # Traverse from left to right\n",
    "        for i in range(left, right + 1):\n",
    "            matrix[top][i] = num\n",
    "            num += 1\n",
    "        top += 1\n",
    "\n",
    "        # Traverse from top to bottom\n",
    "        for i in range(top, bottom + 1):\n",
    "            matrix[i][right] = num\n",
    "            num += 1\n",
    "        right -= 1\n",
    "\n",
    "        # Traverse from right to left\n",
    "        for i in range(right, left - 1, -1):\n",
    "            matrix[bottom][i] = num\n",
    "            num += 1\n",
    "        bottom -= 1\n",
    "\n",
    "        # Traverse from bottom to top\n",
    "        for i in range(bottom, top - 1, -1):\n",
    "            matrix[i][left] = num\n",
    "            num += 1\n",
    "        left += 1\n",
    "\n",
    "    return matrix\n",
    "\n",
    "# Example usage:\n",
    "n = 5  # Change this to the desired size of the spiral matrix\n",
    "spiral_matrix = generate_spiral_matrix(n)\n",
    "\n",
    "# Print the spiral matrix\n",
    "for row in spiral_matrix:\n",
    "    print(*row)\n"
   ]
  },
  {
   "cell_type": "code",
   "execution_count": null,
   "metadata": {},
   "outputs": [
    {
     "name": "stdout",
     "output_type": "stream",
     "text": [
      "5 4 3 2 1 \n",
      "5 4 3 2 \n",
      "5 4 3 \n",
      "5 4 \n",
      "5 \n"
     ]
    }
   ],
   "source": [
    "a = int(input())\n",
    "\n",
    "for i in range(a):\n",
    "    for j in range(a, i, -1):\n",
    "        print(j, end=\" \")\n",
    "    print()\n"
   ]
  },
  {
   "cell_type": "code",
   "execution_count": null,
   "metadata": {},
   "outputs": [],
   "source": []
  },
  {
   "cell_type": "code",
   "execution_count": null,
   "metadata": {},
   "outputs": [
    {
     "name": "stdout",
     "output_type": "stream",
     "text": [
      "5 \n",
      "5 4 \n",
      "5 4 3 \n",
      "5 4 3 2 \n",
      "5 4 3 2 1 \n"
     ]
    }
   ],
   "source": [
    "a = int(input())\n",
    "for i in range(1, a + 1):\n",
    "    for j in range(a, a - i, -1):\n",
    "        print(j, end=\" \")\n",
    "    print()\n"
   ]
  },
  {
   "cell_type": "code",
   "execution_count": null,
   "metadata": {},
   "outputs": [
    {
     "name": "stdout",
     "output_type": "stream",
     "text": [
      "6 \n",
      "6 5 \n",
      "6 5 4 \n",
      "6 5 4 3 \n",
      "6 5 4 3 2 \n",
      "6 5 4 3 2 1 \n"
     ]
    }
   ],
   "source": [
    "a=int(input())\n",
    "var=a\n",
    "for i in range(1,a+1):\n",
    "    a=var\n",
    "    for j in range(0,i):\n",
    "        print(a,end=\" \")\n",
    "        a-=1\n",
    "    print()"
   ]
  },
  {
   "cell_type": "code",
   "execution_count": null,
   "metadata": {},
   "outputs": [
    {
     "name": "stdout",
     "output_type": "stream",
     "text": [
      "5 \n",
      "5 9 \n",
      "5 9 14 \n",
      "5 9 14 28 \n",
      "5 9 14 28 56 \n"
     ]
    }
   ],
   "source": [
    "a=int(input())\n",
    "for i in range(1,a+1):\n",
    "    l=[]\n",
    "    for j in range(1,i+1):\n",
    "        if j==1:\n",
    "            print(a,end=\" \")\n",
    "        elif j==2:\n",
    "            print(a+(a-1),end=\" \")\n",
    "            l.append(a)\n",
    "            l.append(a+(a-1))\n",
    "        else:\n",
    "            print(sum(l),end=\" \")\n",
    "            l.append(sum(l))\n",
    "    print()\n",
    "\n",
    "\n"
   ]
  },
  {
   "cell_type": "code",
   "execution_count": null,
   "metadata": {},
   "outputs": [
    {
     "name": "stdout",
     "output_type": "stream",
     "text": [
      "5 \n",
      "5 9 \n",
      "5 9 14 \n",
      "5 9 14 28 \n",
      "5 9 14 28 56 \n"
     ]
    }
   ],
   "source": [
    "n=int(input())\n",
    "count=n\n",
    "lst=[]\n",
    "s=0\n",
    "for i in range(0,n):\n",
    "    n=count\n",
    "    lst=[]\n",
    "    s=0\n",
    "    for j in range(0,i+1):\n",
    "        if(i<2):\n",
    "            print(n,end=\" \")\n",
    "            n=n-1\n",
    "            n=count+n\n",
    "        else:\n",
    "            if(j<2):\n",
    "                print(n,end=\" \")\n",
    "                lst.append(n)\n",
    "                n=n-1\n",
    "                n=count+n\n",
    "            else:\n",
    "                s=0\n",
    "                for k in lst:\n",
    "                    s=s+k\n",
    "                lst.append(s)\n",
    "                print(s,end=\" \")\n",
    "    print()"
   ]
  },
  {
   "cell_type": "code",
   "execution_count": 10,
   "metadata": {},
   "outputs": [
    {
     "ename": "ValueError",
     "evalue": "invalid literal for int() with base 10: ''",
     "output_type": "error",
     "traceback": [
      "\u001b[1;31m---------------------------------------------------------------------------\u001b[0m",
      "\u001b[1;31mValueError\u001b[0m                                Traceback (most recent call last)",
      "\u001b[1;32mc:\\Users\\Varma\\Desktop\\python\\14-09-2023.ipynb Cell 10\u001b[0m line \u001b[0;36m1\n\u001b[0;32m     <a href='vscode-notebook-cell:/c%3A/Users/Varma/Desktop/python/14-09-2023.ipynb#X12sZmlsZQ%3D%3D?line=13'>14</a>\u001b[0m     e\u001b[39m=\u001b[39ms[i:\u001b[39mlen\u001b[39m(s)\u001b[39m+\u001b[39m\u001b[39m1\u001b[39m]\n\u001b[0;32m     <a href='vscode-notebook-cell:/c%3A/Users/Varma/Desktop/python/14-09-2023.ipynb#X12sZmlsZQ%3D%3D?line=14'>15</a>\u001b[0m     d\u001b[39m=\u001b[39m\u001b[39mint\u001b[39m(d)\n\u001b[1;32m---> <a href='vscode-notebook-cell:/c%3A/Users/Varma/Desktop/python/14-09-2023.ipynb#X12sZmlsZQ%3D%3D?line=15'>16</a>\u001b[0m     e\u001b[39m=\u001b[39m\u001b[39mint\u001b[39;49m(e)\n\u001b[0;32m     <a href='vscode-notebook-cell:/c%3A/Users/Varma/Desktop/python/14-09-2023.ipynb#X12sZmlsZQ%3D%3D?line=16'>17</a>\u001b[0m     l\u001b[39m.\u001b[39mappend(d\u001b[39m+\u001b[39me)\n\u001b[0;32m     <a href='vscode-notebook-cell:/c%3A/Users/Varma/Desktop/python/14-09-2023.ipynb#X12sZmlsZQ%3D%3D?line=17'>18</a>\u001b[0m \u001b[39mprint\u001b[39m(l)\n",
      "\u001b[1;31mValueError\u001b[0m: invalid literal for int() with base 10: ''"
     ]
    }
   ],
   "source": [
    "s=input()\n",
    "v=int(s)\n",
    "b = int(s)\n",
    "l = []\n",
    "a = 0\n",
    "while(v>0):\n",
    "    n = v%10\n",
    "    v = int(v/10)\n",
    "    a = a + n\n",
    "l.append(a)\n",
    "l.append(b)\n",
    "for i in (1,len(s)):\n",
    "    d=s[0:i]\n",
    "    e=s[i:len(s)+1]\n",
    "    d=int(d)\n",
    "    e=int(e)\n",
    "    l.append(d+e)\n",
    "print(l)\n"
   ]
  },
  {
   "cell_type": "code",
   "execution_count": 50,
   "metadata": {},
   "outputs": [
    {
     "name": "stdout",
     "output_type": "stream",
     "text": [
      "[[1], [1, 2], [1, 2, 3], [1, 2, 3, 4], [2], [2, 3], [2, 3, 4], [3], [3, 4], [4]]\n",
      "-1\n",
      "-1\n",
      "-1\n",
      "7\n",
      "-1\n",
      "-1\n",
      "7\n",
      "-1\n",
      "7\n",
      "-1\n"
     ]
    }
   ],
   "source": [
    "def find_subarrays(arr):\n",
    "    subarrays = []\n",
    "    n = len(arr)\n",
    "\n",
    "    for i in range(n):\n",
    "        for j in range(i, n):\n",
    "            subarray = arr[i:j+1]\n",
    "            l.append(subarray)\n",
    "        \n",
    "l=[]\n",
    "# Example usage:\n",
    "input_array = [1, 2, 3, 4]\n",
    "subarrays = find_subarrays(input_array)\n",
    "print(l)\n",
    "\"\"\"k=5\n",
    "for i in l:\n",
    "    result=0\n",
    "    for j in i:\n",
    "        result|=j\n",
    "    if result>k:\n",
    "        print(result)\n",
    "    else:\n",
    "        print(\"-1\")\"\"\""
   ]
  },
  {
   "cell_type": "code",
   "execution_count": 36,
   "metadata": {},
   "outputs": [
    {
     "name": "stdout",
     "output_type": "stream",
     "text": [
      "3\n"
     ]
    }
   ],
   "source": [
    "n=2\n",
    "m=3\n",
    "v=bin(n)[2:]\n",
    "u=bin(m)[2:]\n",
    "z=int(v)|int(u)\n",
    "a=int(str(z),2)\n",
    "print(a)"
   ]
  },
  {
   "cell_type": "code",
   "execution_count": 22,
   "metadata": {},
   "outputs": [
    {
     "name": "stdout",
     "output_type": "stream",
     "text": [
      "[9]\n"
     ]
    }
   ],
   "source": [
    "s=input()\n",
    "l=[]\n",
    "b=0\n",
    "for i in s:\n",
    "    b+=int(i)\n",
    "l.append(b)\n",
    "print(l)"
   ]
  },
  {
   "cell_type": "code",
   "execution_count": 51,
   "metadata": {},
   "outputs": [
    {
     "name": "stdout",
     "output_type": "stream",
     "text": [
      "1`2`2`3`3`3`"
     ]
    }
   ],
   "source": [
    "n=int(input())\n",
    "for i in range(n):\n",
    "    for j in range(i):\n",
    "        print(i,end=\"\")\n"
   ]
  },
  {
   "cell_type": "code",
   "execution_count": 65,
   "metadata": {},
   "outputs": [
    {
     "name": "stdout",
     "output_type": "stream",
     "text": [
      "        1   \n",
      "      2   2   \n",
      "    3   3   3   \n",
      "  4   4   4   4   \n",
      "5   5   5   5   5   \n"
     ]
    }
   ],
   "source": [
    "\n",
    "a=int(input())\n",
    "for i in range(1,a+1):\n",
    "    for j in range(a,0,-1):\n",
    "        if j >i:\n",
    "            print(\" \",end=\" \")\n",
    "        else:\n",
    "            print(i,end=\"   \")\n",
    "    print()"
   ]
  },
  {
   "cell_type": "code",
   "execution_count": 53,
   "metadata": {},
   "outputs": [
    {
     "name": "stdout",
     "output_type": "stream",
     "text": [
      "1 1 1 1 1 \n",
      "2 2 2 2 2 \n",
      "3 3 3 3 3 \n",
      "4 4 4 4 4 \n",
      "5 5 5 5 5 \n"
     ]
    }
   ],
   "source": [
    "a=int(input())\n",
    "for i in range(1,a+1):\n",
    "    for j in range(a,0,-1):\n",
    "        print(i,end=\" \")\n",
    "    print()"
   ]
  },
  {
   "cell_type": "code",
   "execution_count": 58,
   "metadata": {},
   "outputs": [
    {
     "name": "stdout",
     "output_type": "stream",
     "text": [
      "1 1 1 1 1 \n",
      "2 2 2 2 2 \n",
      "3 3 3 3 3 \n",
      "4 4 4 4 4 \n",
      "5 5 5 5 5 \n"
     ]
    }
   ],
   "source": [
    "a=int(input())\n",
    "for i in range(1,a+1):\n",
    "    for j in range(a):\n",
    "        print(i,end=\" \")\n",
    "    print()"
   ]
  },
  {
   "cell_type": "markdown",
   "metadata": {},
   "source": []
  },
  {
   "cell_type": "code",
   "execution_count": 116,
   "metadata": {},
   "outputs": [
    {
     "name": "stdout",
     "output_type": "stream",
     "text": [
      "20  20  20  20  20  20  20  20  20  20  20  20  20  20  20  20  20  20  20  20  \n",
      " 19  19  19  19  19  19  19  19  19  19  19  19  19  19  19  19  19  19  19  \n",
      "  18  18  18  18  18  18  18  18  18  18  18  18  18  18  18  18  18  18  \n",
      "   17  17  17  17  17  17  17  17  17  17  17  17  17  17  17  17  17  \n",
      "    16  16  16  16  16  16  16  16  16  16  16  16  16  16  16  16  \n",
      "     15  15  15  15  15  15  15  15  15  15  15  15  15  15  15  \n",
      "      14  14  14  14  14  14  14  14  14  14  14  14  14  14  \n",
      "       13  13  13  13  13  13  13  13  13  13  13  13  13  \n",
      "        12  12  12  12  12  12  12  12  12  12  12  12  \n",
      "         11  11  11  11  11  11  11  11  11  11  11  \n",
      "          10  10  10  10  10  10  10  10  10  10  \n",
      "           9  9  9  9  9  9  9  9  9  \n",
      "            8  8  8  8  8  8  8  8  \n",
      "             7  7  7  7  7  7  7  \n",
      "              6  6  6  6  6  6  \n",
      "               5  5  5  5  5  \n",
      "                4  4  4  4  \n",
      "                 3  3  3  \n",
      "                  2  2  \n",
      "                   1  \n"
     ]
    }
   ],
   "source": [
    "\n",
    "a=int(input())\n",
    "for i in range(a,0,-1):\n",
    "    for j in range(a,0,-1):\n",
    "        if j <= i:\n",
    "            print(i,end=\" \")\n",
    "        else:\n",
    "            print(\"\"*a,end=\" \")\n",
    "    print()"
   ]
  },
  {
   "cell_type": "code",
   "execution_count": 85,
   "metadata": {},
   "outputs": [
    {
     "name": "stdout",
     "output_type": "stream",
     "text": [
      "1 2 3 4 5 \n",
      "1 2 3 4 \n",
      "1 2 3 \n",
      "1 2 \n",
      "1 \n"
     ]
    }
   ],
   "source": [
    "a=int(input())\n",
    "for i in range(a,0,-1):\n",
    "    for j in range(1,i+1):\n",
    "        print(j,end=\" \")\n",
    "    print()"
   ]
  },
  {
   "cell_type": "code",
   "execution_count": 94,
   "metadata": {},
   "outputs": [
    {
     "name": "stdout",
     "output_type": "stream",
     "text": [
      "1 1 1 1 1 \n",
      "2 2 2 2 \n",
      "3 3 3 \n",
      "4 4 \n",
      "5 \n"
     ]
    }
   ],
   "source": [
    "a=int(input())\n",
    "for i in range(1,a+1):\n",
    "    for j in range(i,a+1):\n",
    "        print(i,end=\" \")\n",
    "    print()"
   ]
  }
 ],
 "metadata": {
  "kernelspec": {
   "display_name": "Python 3",
   "language": "python",
   "name": "python3"
  },
  "language_info": {
   "codemirror_mode": {
    "name": "ipython",
    "version": 3
   },
   "file_extension": ".py",
   "mimetype": "text/x-python",
   "name": "python",
   "nbconvert_exporter": "python",
   "pygments_lexer": "ipython3",
   "version": "3.11.4"
  },
  "orig_nbformat": 4
 },
 "nbformat": 4,
 "nbformat_minor": 2
}
