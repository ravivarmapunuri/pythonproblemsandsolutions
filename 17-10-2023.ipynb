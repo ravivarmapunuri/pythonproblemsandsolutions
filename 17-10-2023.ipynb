{
 "cells": [
  {
   "cell_type": "code",
   "execution_count": 13,
   "metadata": {},
   "outputs": [
    {
     "name": "stdout",
     "output_type": "stream",
     "text": [
      "1010110\n"
     ]
    }
   ],
   "source": [
    "#1st prg\n",
    "a=\"abcdefg\"\n",
    "a1=[1,10,100,1000,10000,100000,1000000]\n",
    "s=input().lower()\n",
    "s1=0\n",
    "for i in s:\n",
    "    if i in a:\n",
    "        s1+=a1[a.index(i)]\n",
    "print(s1)"
   ]
  },
  {
   "cell_type": "code",
   "execution_count": 23,
   "metadata": {},
   "outputs": [
    {
     "name": "stdout",
     "output_type": "stream",
     "text": [
      "capetrop\n"
     ]
    }
   ],
   "source": [
    "#2nd prg\n",
    "s=\"cape\"\n",
    "s1=\"port\"\n",
    "l,r,m=\"\",\"\",\"\"\n",
    "for i in range(len(s)):\n",
    "    l+=min(s[i],s1[i])\n",
    "    r+=max(s[i],s1[i])\n",
    "else:\n",
    "    m+=s1[len(s):]\n",
    "print(l+m+r[::-1])"
   ]
  }
 ],
 "metadata": {
  "kernelspec": {
   "display_name": "Python 3",
   "language": "python",
   "name": "python3"
  },
  "language_info": {
   "codemirror_mode": {
    "name": "ipython",
    "version": 3
   },
   "file_extension": ".py",
   "mimetype": "text/x-python",
   "name": "python",
   "nbconvert_exporter": "python",
   "pygments_lexer": "ipython3",
   "version": "3.11.4"
  }
 },
 "nbformat": 4,
 "nbformat_minor": 2
}
