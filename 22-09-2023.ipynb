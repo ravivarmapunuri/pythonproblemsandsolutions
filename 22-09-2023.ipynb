{
 "cells": [
  {
   "cell_type": "code",
   "execution_count": null,
   "metadata": {},
   "outputs": [],
   "source": [
    "#horse betting program\n",
    "n,m=map(int,input().split())\n",
    "l=list(map(int,input().split()))[:n]\n",
    "c=0\n",
    "for i in range(len(l)):\n",
    "    for j in range(i,len(l)):\n",
    "        if sum(l[i:j+1])<m and len(l[i:j+1])>c:\n",
    "            c=len(l[i:j+1])\n",
    "print(c)"
   ]
  },
  {
   "cell_type": "code",
   "execution_count": 42,
   "metadata": {},
   "outputs": [
    {
     "name": "stdout",
     "output_type": "stream",
     "text": [
      "[3, 7, 1, 7, 8, 4, 5, 2]\n",
      "[7, 8, 7, 8, -1, 5, -1, -1]\n"
     ]
    }
   ],
   "source": [
    "#numbers game \n",
    "#3, 7, 1, 7, 8,4,5, 2\n",
    "#n=int(input())\n",
    "l=list(map(int,input().split(\",\")))\n",
    "print(l)\n",
    "\"\"\"for i in range(n):\n",
    "    l.append(int(input()))\"\"\"\n",
    "z=[]\n",
    "i=0\n",
    "j=1\n",
    "while i<len(l):\n",
    "    if l[i]==l[-1]:\n",
    "        z.append(-1)\n",
    "    if j<len(l):\n",
    "        if l[i]<l[j]:\n",
    "            z.append(l[j])\n",
    "        elif l[i]<max(l[i:]):\n",
    "            z.append(max(l[i:]))\n",
    "        elif l[i]>l[j]:\n",
    "            z.append(-1)\n",
    "    i+=1\n",
    "    j+=1\n",
    "print(z)\n"
   ]
  },
  {
   "cell_type": "code",
   "execution_count": 1,
   "metadata": {},
   "outputs": [
    {
     "name": "stdout",
     "output_type": "stream",
     "text": [
      "1\n",
      "4\n",
      "4\n",
      "4\n",
      "-1\n",
      "2\n",
      "-1\n",
      "-1\n"
     ]
    }
   ],
   "source": [
    "n = int(input())\n",
    "l = []\n",
    "h = 0\n",
    "\n",
    "# Input elements into the list\n",
    "for i in range(n):\n",
    "    l.append(int(input()))\n",
    "\n",
    "for i in range(len(l)):\n",
    "    r = -1\n",
    "    for j in range(i + 1, len(l)):\n",
    "        if l[j] > l[i]:\n",
    "            h = l[j]\n",
    "            for k in range(j + 1, len(l)):\n",
    "                if l[k] < h:\n",
    "                    r = l[k]\n",
    "                    break\n",
    "            if r != -1:  # Check if we found a smaller element\n",
    "                break  # Exit the loop if we found it\n",
    "    print(r)\n"
   ]
  },
  {
   "cell_type": "code",
   "execution_count": 3,
   "metadata": {},
   "outputs": [
    {
     "name": "stdout",
     "output_type": "stream",
     "text": [
      "5 101\n",
      "1\n"
     ]
    }
   ],
   "source": [
    "n=int(input())\n",
    "l,k=map(int,input().split())\n",
    "m=0\n",
    "for i in range(1,l+1):\n",
    "    b=bin(i)[2:]\n",
    "    if '101' in b:\n",
    "        c=0 \n",
    "        for v in range(len(b)):\n",
    "            if b[v:v+3]=='101':\n",
    "                c+=1\n",
    "        if c>=k:\n",
    "            print(i,b)\n",
    "            m+=1\n",
    "print(m)"
   ]
  }
 ],
 "metadata": {
  "kernelspec": {
   "display_name": "Python 3",
   "language": "python",
   "name": "python3"
  },
  "language_info": {
   "codemirror_mode": {
    "name": "ipython",
    "version": 3
   },
   "file_extension": ".py",
   "mimetype": "text/x-python",
   "name": "python",
   "nbconvert_exporter": "python",
   "pygments_lexer": "ipython3",
   "version": "3.11.4"
  },
  "orig_nbformat": 4
 },
 "nbformat": 4,
 "nbformat_minor": 2
}
