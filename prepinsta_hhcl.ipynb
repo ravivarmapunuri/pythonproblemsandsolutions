{
 "cells": [
  {
   "cell_type": "code",
   "execution_count": 11,
   "metadata": {},
   "outputs": [
    {
     "name": "stdout",
     "output_type": "stream",
     "text": [
      "###MoveHashtoFront\n"
     ]
    }
   ],
   "source": [
    "#1st prg\n",
    "s=input()\n",
    "l=s.replace(\"#\",\"\")\n",
    "c=s.count('#')\n",
    "print('#'*c+l)"
   ]
  },
  {
   "cell_type": "code",
   "execution_count": 40,
   "metadata": {},
   "outputs": [
    {
     "name": "stdout",
     "output_type": "stream",
     "text": [
      "654 666\n",
      "Not possible\n"
     ]
    }
   ],
   "source": [
    "#2nd prg\n",
    "n1=int(input())\n",
    "n2=int(input())\n",
    "print(n1,n2)\n",
    "c=0\n",
    "if n1<n2:\n",
    "    print(\"Not possible\")\n",
    "elif n1==n2:\n",
    "    print(0)\n",
    "else:\n",
    "    v,v1=str(n1)[::-1],str(n2)[::-1]\n",
    "    print(v,v1)\n",
    "    for i in range(len(max(v,v1))):\n",
    "        if v[i]<=v1[i]:\n",
    "            c+=1\n",
    "            int(v[i+1])-1\n",
    "    print(c)"
   ]
  },
  {
   "cell_type": "code",
   "execution_count": 45,
   "metadata": {},
   "outputs": [
    {
     "name": "stdout",
     "output_type": "stream",
     "text": [
      "prepinsta\n"
     ]
    }
   ],
   "source": [
    "#3rd prg\n",
    "s=input()\n",
    "l=input()\n",
    "if l.isupper():\n",
    "    s=s.replace(l,chr(ord(l)+32))\n",
    "else:\n",
    "    s=s.replace(l,l.capitalize())\n",
    "print(s)"
   ]
  },
  {
   "cell_type": "code",
   "execution_count": null,
   "metadata": {},
   "outputs": [],
   "source": [
    "s=input()\n",
    "k=input()\n",
    "if(k.isupper()):\n",
    "    s=s.replace(k,chr(ord(k)+32))\n",
    "else:\n",
    "    s=s.replace(k,chr(ord(k)-32))\n",
    "print(s)"
   ]
  },
  {
   "cell_type": "code",
   "execution_count": 64,
   "metadata": {},
   "outputs": [
    {
     "name": "stdout",
     "output_type": "stream",
     "text": [
      "a2b4e4f2g3\n"
     ]
    }
   ],
   "source": [
    "#4th prg\n",
    "l=input()\n",
    "l1=[]\n",
    "s1=\"\"\n",
    "for i in range(len(l)):\n",
    "    if l.count(l[i])==1:\n",
    "        s1+=l[i]\n",
    "    elif l.count(l[i])>1:\n",
    "        if l[i] not in l1:\n",
    "            l1.append(l[i])\n",
    "            l1.append(l.count(l[i]))\n",
    "for i in l1:\n",
    "    s1+=str(i)\n",
    "print(s1)"
   ]
  },
  {
   "cell_type": "code",
   "execution_count": 65,
   "metadata": {},
   "outputs": [
    {
     "name": "stdout",
     "output_type": "stream",
     "text": [
      "a2b4e1\n"
     ]
    }
   ],
   "source": [
    "s=input()\n",
    "i=1\n",
    "c=1\n",
    "while i<len(s):\n",
    "    if s[i]==s[i-1]:    \n",
    "        c+=1\n",
    "    else:\n",
    "        print(s[i-1],end=\"\")\n",
    "        print(c,end=\"\")\n",
    "        c=1\n",
    "    i+=1\n",
    "print(s[i-1],end=\"\")\n",
    "print(c)"
   ]
  },
  {
   "cell_type": "code",
   "execution_count": 66,
   "metadata": {},
   "outputs": [
    {
     "name": "stdout",
     "output_type": "stream",
     "text": [
      "\n"
     ]
    }
   ],
   "source": [
    "#5th prg\n",
    "def spiralOrder(arr):\n",
    "    ans=[]\n",
    "    while arr:\n",
    "        ans+=arr.pop(0)\n",
    "        arr= (list(zip(*arr)))[::-1]\n",
    "    return ans\n",
    "arr=[]\n",
    "n,m=map(int,input().split())\n",
    "for i in range(n):\n",
    "    arr.append(list(map(int,input().split())))\n",
    "print(*spiralOrder(arr))"
   ]
  }
 ],
 "metadata": {
  "kernelspec": {
   "display_name": "Python 3",
   "language": "python",
   "name": "python3"
  },
  "language_info": {
   "codemirror_mode": {
    "name": "ipython",
    "version": 3
   },
   "file_extension": ".py",
   "mimetype": "text/x-python",
   "name": "python",
   "nbconvert_exporter": "python",
   "pygments_lexer": "ipython3",
   "version": "3.11.4"
  }
 },
 "nbformat": 4,
 "nbformat_minor": 2
}
