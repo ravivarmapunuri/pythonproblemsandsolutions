{
 "cells": [
  {
   "cell_type": "code",
   "execution_count": 20,
   "metadata": {},
   "outputs": [
    {
     "name": "stdout",
     "output_type": "stream",
     "text": [
      "3\n"
     ]
    }
   ],
   "source": [
    "#1st prg\n",
    "n=int(input())\n",
    "l=[int(input()) for i in range(n)]\n",
    "c=1\n",
    "for i in range(len(l)):\n",
    "    m=l[0]\n",
    "    if m<l[i]:\n",
    "        m=l[i]\n",
    "        c+=1\n",
    "print(c)"
   ]
  },
  {
   "cell_type": "code",
   "execution_count": 7,
   "metadata": {},
   "outputs": [
    {
     "name": "stdout",
     "output_type": "stream",
     "text": [
      "9\n"
     ]
    }
   ],
   "source": [
    "#2nd prg\n",
    "n=int(input())\n",
    "r=int(input())\n",
    "s=0\n",
    "for i in str(n):\n",
    "    s+=int(i)\n",
    "v=s*r\n",
    "z=0\n",
    "for i in str(v):\n",
    "    z+=int(i)\n",
    "print(z)"
   ]
  },
  {
   "cell_type": "code",
   "execution_count": 19,
   "metadata": {},
   "outputs": [
    {
     "name": "stdout",
     "output_type": "stream",
     "text": [
      "9\n",
      "99 3 [9, 9] 54 [5, 4]\n"
     ]
    }
   ],
   "source": [
    "#another model\n",
    "n=int(input())\n",
    "r=int(input())\n",
    "l=[int(i) for i in str(n)]\n",
    "s=sum(l)*r\n",
    "z=[int(i) for i in str(s)]\n",
    "print(sum(z))"
   ]
  },
  {
   "cell_type": "code",
   "execution_count": 2,
   "metadata": {},
   "outputs": [
    {
     "name": "stdout",
     "output_type": "stream",
     "text": [
      "4\n"
     ]
    }
   ],
   "source": [
    "#3rd prg\n",
    "n=int(input())\n",
    "l=list(map(int,input().split()))[:n]\n",
    "v=l[0]\n",
    "c=0\n",
    "for i in l:\n",
    "    if v!=i:\n",
    "        c+=1\n",
    "print(c)"
   ]
  },
  {
   "cell_type": "code",
   "execution_count": 6,
   "metadata": {},
   "outputs": [
    {
     "name": "stdout",
     "output_type": "stream",
     "text": [
      "4\n"
     ]
    }
   ],
   "source": [
    "#another mode\n",
    "n=int(input())\n",
    "v=list(map(int,input().split()))[:n]\n",
    "v1=v.count(v[0])\n",
    "if v1==len(v):\n",
    "    print(0)\n",
    "else:\n",
    "    print(len(v)-v1)"
   ]
  },
  {
   "cell_type": "code",
   "execution_count": 92,
   "metadata": {},
   "outputs": [
    {
     "name": "stdout",
     "output_type": "stream",
     "text": [
      "4\n",
      "[[0, 0, 0], [0, 0, 1], [0, 1, 0], [1, 1, 1]]\n"
     ]
    }
   ],
   "source": [
    "#4th prg\n",
    "r=int(input())\n",
    "c=int(input())\n",
    "l=list(map(int,input().split()))\n",
    "temp,v=0,c\n",
    "z,x=[],[]\n",
    "for i in range(len(l)):\n",
    "    if temp==len(l):\n",
    "        break\n",
    "    else:\n",
    "        z=l[temp:v]\n",
    "        x.append(z)\n",
    "        temp+=c\n",
    "        v+=c\n",
    "z1=[]\n",
    "for i in range(len(x)):\n",
    "    b=x[i].count(1)\n",
    "    z1.append(b)\n",
    "for i in range(len(z1)):\n",
    "    if max(z1)==z1[i]:\n",
    "        print(i+1)\n",
    "print(x)"
   ]
  },
  {
   "cell_type": "code",
   "execution_count": 89,
   "metadata": {},
   "outputs": [
    {
     "name": "stdout",
     "output_type": "stream",
     "text": [
      "[[0, 0, 0, 0], [0, 1, 0, 1], [0, 1, 1, 1]]\n"
     ]
    }
   ],
   "source": [
    "#another model\n",
    "r=int(input())\n",
    "c=int(input())\n",
    "l=list(map(int,input().split()))\n",
    "temp,v=0,c\n",
    "z,x=[],[]\n",
    "for i in range(len(l)):\n",
    "    if temp==len(l):\n",
    "        break\n",
    "    else:\n",
    "        z=l[temp:v]\n",
    "        x.append(z)\n",
    "        temp+=c\n",
    "        v+=c\n",
    "print(x)"
   ]
  },
  {
   "cell_type": "code",
   "execution_count": 1,
   "metadata": {},
   "outputs": [
    {
     "name": "stdout",
     "output_type": "stream",
     "text": [
      "3\n"
     ]
    }
   ],
   "source": [
    "r=int(input())\n",
    "c=int(input())\n",
    "l=[]\n",
    "for i in range(r):\n",
    "    s=s1=0\n",
    "    for j in range(c):\n",
    "        s+=int(input())\n",
    "if s>s1:\n",
    "    s=s1\n",
    "    r1=i+1\n",
    "print(r1)"
   ]
  },
  {
   "cell_type": "code",
   "execution_count": 23,
   "metadata": {},
   "outputs": [
    {
     "name": "stdout",
     "output_type": "stream",
     "text": [
      "bmm uif cftu{\n"
     ]
    }
   ],
   "source": [
    "#5th prg\n",
    "#input + key = encrypt message \n",
    "n=list(map(str,input().split()))\n",
    "k=int(input())\n",
    "z=[]\n",
    "if k==0:\n",
    "    print(\"Invalid Input\")\n",
    "else:\n",
    "    for i in n:\n",
    "        v=[]\n",
    "        for j in i:\n",
    "            v.append(chr(ord(j)+k))\n",
    "        z.append(\"\".join(v))\n",
    "print(*z)\n"
   ]
  },
  {
   "cell_type": "code",
   "execution_count": 26,
   "metadata": {},
   "outputs": [
    {
     "name": "stdout",
     "output_type": "stream",
     "text": [
      "bmm uif cftu{\n"
     ]
    }
   ],
   "source": [
    "#5th prg\n",
    "#input + key = encrypt message \n",
    "n=list(map(str,input().split()))\n",
    "k=int(input())\n",
    "z=[]\n",
    "if k==0:\n",
    "    print(\"Invalid Input\")\n",
    "else:\n",
    "    for i in n:\n",
    "        v=[]\n",
    "        for j in i:\n",
    "            if ord(j)+k==122:\n",
    "                v.append(chr(122-25))\n",
    "            else:\n",
    "                v.append(chr(ord(j)+k))\n",
    "        z.append(\"\".join(v))\n",
    "print(*z)\n"
   ]
  },
  {
   "cell_type": "code",
   "execution_count": 25,
   "metadata": {},
   "outputs": [
    {
     "name": "stdout",
     "output_type": "stream",
     "text": [
      "a\n",
      "a\n",
      "A\n"
     ]
    }
   ],
   "source": [
    "#65-90,97-122\n",
    "\n",
    "print(chr(97))\n",
    "print(chr(122-25))\n",
    "print(chr(90-25))"
   ]
  }
 ],
 "metadata": {
  "kernelspec": {
   "display_name": "Python 3",
   "language": "python",
   "name": "python3"
  },
  "language_info": {
   "codemirror_mode": {
    "name": "ipython",
    "version": 3
   },
   "file_extension": ".py",
   "mimetype": "text/x-python",
   "name": "python",
   "nbconvert_exporter": "python",
   "pygments_lexer": "ipython3",
   "version": "3.11.4"
  },
  "orig_nbformat": 4
 },
 "nbformat": 4,
 "nbformat_minor": 2
}
