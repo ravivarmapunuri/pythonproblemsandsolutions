{
 "cells": [
  {
   "cell_type": "code",
   "execution_count": 14,
   "metadata": {},
   "outputs": [
    {
     "name": "stdout",
     "output_type": "stream",
     "text": [
      "Valid\n"
     ]
    }
   ],
   "source": [
    "s=\"Ss@d@123\"\n",
    "u,l,ss,n=0,0,0,0\n",
    "if len(s)>=8:\n",
    "    for i in s:\n",
    "        if i.isupper():\n",
    "            u=1\n",
    "        elif i.islower():\n",
    "            l=1\n",
    "        elif i.isdigit():\n",
    "            n=1\n",
    "        else:\n",
    "            ss=1\n",
    "    if u+l+ss+n==4:\n",
    "        print(\"Valid\")\n",
    "    else:\n",
    "        print(\"Invalid\")\n",
    "else:\n",
    "    print(\"Invalid\")"
   ]
  },
  {
   "cell_type": "code",
   "execution_count": 19,
   "metadata": {},
   "outputs": [
    {
     "name": "stdout",
     "output_type": "stream",
     "text": [
      "H s laying Crickt"
     ]
    }
   ],
   "source": [
    "s=\"H3 1s 9laying Crick3t\"\n",
    "for i in s:\n",
    "    if not i.isdigit():\n",
    "        print(i,end=\"\")"
   ]
  },
  {
   "cell_type": "code",
   "execution_count": 37,
   "metadata": {},
   "outputs": [
    {
     "name": "stdout",
     "output_type": "stream",
     "text": [
      "1&0|1|1&0^1\n",
      "1\n"
     ]
    }
   ],
   "source": [
    "s=\"1A0B1B1A0C1\".replace(\"A\",\"&\").replace(\"B\",\"|\").replace(\"C\",\"^\")\n",
    "print(s)\n",
    "r=int(s[0])\n",
    "for i in range(1,len(s)):\n",
    "    if s[i]==\"&\":\n",
    "        r=r&int(s[i+1])\n",
    "    elif s[i]==\"|\":\n",
    "        r=r|int(s[i+1])\n",
    "    elif s[i]==\"^\":\n",
    "        r=r^int(s[i+1])\n",
    "print(r)"
   ]
  },
  {
   "cell_type": "code",
   "execution_count": 39,
   "metadata": {},
   "outputs": [
    {
     "name": "stdout",
     "output_type": "stream",
     "text": [
      "1 6\n",
      "2 5\n",
      "3 4\n"
     ]
    }
   ],
   "source": [
    "s=7\n",
    "for i in range(1,7+1):\n",
    "    for j in range(7,-1,-1):\n",
    "        if i<j:\n",
    "            if i+j==7:\n",
    "                print(i,j)"
   ]
  },
  {
   "cell_type": "code",
   "execution_count": 41,
   "metadata": {},
   "outputs": [
    {
     "name": "stdout",
     "output_type": "stream",
     "text": [
      "2\n"
     ]
    }
   ],
   "source": [
    "m=[18,19,18,19,12]\n",
    "v=[]\n",
    "for i in m:\n",
    "    if m.count(i)>1 and i not in v:\n",
    "        v.append(i)\n",
    "print(len(v))"
   ]
  },
  {
   "cell_type": "code",
   "execution_count": 46,
   "metadata": {},
   "outputs": [
    {
     "name": "stdout",
     "output_type": "stream",
     "text": [
      "2\n"
     ]
    }
   ],
   "source": [
    "v=300\n",
    "c=0\n",
    "for i in range(200,v+1):\n",
    "    m=str(i)\n",
    "    if '2' in m and '4' in m and '8' in m:\n",
    "        c+=1\n",
    "print(c)"
   ]
  },
  {
   "cell_type": "code",
   "execution_count": null,
   "metadata": {},
   "outputs": [],
   "source": []
  }
 ],
 "metadata": {
  "kernelspec": {
   "display_name": "Python 3",
   "language": "python",
   "name": "python3"
  },
  "language_info": {
   "codemirror_mode": {
    "name": "ipython",
    "version": 3
   },
   "file_extension": ".py",
   "mimetype": "text/x-python",
   "name": "python",
   "nbconvert_exporter": "python",
   "pygments_lexer": "ipython3",
   "version": "3.11.4"
  }
 },
 "nbformat": 4,
 "nbformat_minor": 2
}
