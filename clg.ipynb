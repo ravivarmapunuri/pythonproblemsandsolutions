{
 "cells": [
  {
   "cell_type": "code",
   "execution_count": 107,
   "metadata": {},
   "outputs": [],
   "source": [
    "#14-08-2023"
   ]
  },
  {
   "cell_type": "code",
   "execution_count": 106,
   "metadata": {},
   "outputs": [
    {
     "name": "stdout",
     "output_type": "stream",
     "text": [
      "[4, 3, 2, 1]\n",
      "2\n"
     ]
    }
   ],
   "source": [
    "n=int(input())\n",
    "l=[int(i) for i in input().split()]\n",
    "z=l[:n]\n",
    "c=0\n",
    "print(z)\n",
    "for i in range(0,len(z)):\n",
    "    for j in range(1,len(z)):\n",
    "        if z[i]>z[j]:\n",
    "            c+=1\n",
    "            break\n",
    "        else:\n",
    "            if z[i]<z[j]:\n",
    "                break\n",
    "print(c)"
   ]
  },
  {
   "cell_type": "code",
   "execution_count": 89,
   "metadata": {},
   "outputs": [
    {
     "name": "stdout",
     "output_type": "stream",
     "text": [
      "3\n"
     ]
    }
   ],
   "source": [
    "#3rd program with using bulit in function\n",
    "n=[int(i) for i in input().split()]\n",
    "v=n[0]\n",
    "e=n[-1]\n",
    "l=[]\n",
    "c=0\n",
    "for i in range(1,v+1):\n",
    "    l.append(bin(i)[2:])\n",
    "for i in l:\n",
    "    if i.count(\"1\")==2:\n",
    "        c+=1\n",
    "print(c)"
   ]
  },
  {
   "cell_type": "code",
   "execution_count": 105,
   "metadata": {},
   "outputs": [
    {
     "name": "stdout",
     "output_type": "stream",
     "text": [
      "3\n"
     ]
    }
   ],
   "source": [
    "#3rd program without using bulit in funtion\n",
    "n=[int(i) for i in input().split()]\n",
    "r=n[0]\n",
    "v=n[-1]\n",
    "l=[]\n",
    "def dec(num):\n",
    "    mul=1\n",
    "    bin1=0\n",
    "    while num>0:\n",
    "        rem=num%2\n",
    "        bin1=bin1+(rem*mul)\n",
    "        mul=mul*10\n",
    "        num=num//2\n",
    "    l.append(bin1)\n",
    "for i in range(1,r+1):\n",
    "    dec(i)\n",
    "c=0\n",
    "for i in l:\n",
    "    if str(i).count(\"1\")==2:\n",
    "        c+=1\n",
    "print(c)"
   ]
  },
  {
   "cell_type": "code",
   "execution_count": 3,
   "metadata": {},
   "outputs": [
    {
     "name": "stdout",
     "output_type": "stream",
     "text": [
      "11\n"
     ]
    }
   ],
   "source": [
    "#2nd program \n",
    "n=int(input())\n",
    "l=[int(i) for i in input().split()]\n",
    "fl=l[:n]\n",
    "an=int(input())\n",
    "b=0\n",
    "for i in range(0,len(fl)):\n",
    "    if fl[i]==an+1:\n",
    "        b=bin(fl[i])[2:]\n",
    "print(b)"
   ]
  },
  {
   "cell_type": "code",
   "execution_count": 32,
   "metadata": {},
   "outputs": [
    {
     "name": "stdout",
     "output_type": "stream",
     "text": [
      "The sum is 0030\n"
     ]
    }
   ],
   "source": [
    "print('The sum is %.4d' %(int(input('Enter first number: ')) + int(input('Enter second number: '))))    "
   ]
  },
  {
   "cell_type": "code",
   "execution_count": 2,
   "metadata": {},
   "outputs": [
    {
     "name": "stdout",
     "output_type": "stream",
     "text": [
      "Swapped value of x is 4 & y is 6\n"
     ]
    }
   ],
   "source": [
    "#Python program to swap two variables without using third variable\n",
    "a = int(input(\"Enter the first number: \"))\n",
    "b = int(input(\"Enter the second number: \"))\n",
    "#swapping using bitwise operators\n",
    "a = a * b\n",
    "b = a / b\n",
    "a = a / b\n",
    "#printing the output\n",
    "print(\"Swapped value of x is %d & y is %d\" %(a,b))"
   ]
  },
  {
   "cell_type": "code",
   "execution_count": 13,
   "metadata": {},
   "outputs": [
    {
     "name": "stdout",
     "output_type": "stream",
     "text": [
      "75\n"
     ]
    }
   ],
   "source": [
    "a=int(input())\n",
    "b=int(input())\n",
    "mx=max(a,b)\n",
    "mn=min(a,b)\n",
    "while True:\n",
    "    if mx % a == 0 and mx % b ==0:\n",
    "        print(mx)\n",
    "        break\n",
    "    mx+=1\n"
   ]
  },
  {
   "cell_type": "code",
   "execution_count": 12,
   "metadata": {},
   "outputs": [
    {
     "name": "stdout",
     "output_type": "stream",
     "text": [
      "gcd of 15 and 75 15\n",
      "lcm of 15 and 75 75\n"
     ]
    }
   ],
   "source": [
    "a=int(input())\n",
    "b=int(input())\n",
    "i=1\n",
    "while i<=a and i<=b:\n",
    "    if a%i==0 and b%i==0:\n",
    "        gcd=i\n",
    "    i+=1\n",
    "lcm=a*b//gcd\n",
    "print(\"gcd of\",a,\"and\",b,gcd)\n",
    "print(\"lcm of\",a,\"and\",b,lcm)"
   ]
  },
  {
   "cell_type": "code",
   "execution_count": 14,
   "metadata": {},
   "outputs": [
    {
     "name": "stdout",
     "output_type": "stream",
     "text": [
      "1.Addition 2.Mulitplication 3.Subtraction 4.Division\n"
     ]
    }
   ],
   "source": [
    "a=int(input())\n",
    "b=int(input())\n",
    "print(\"1.Addition\",\"2.Mulitplication\",\"3.Subtraction\",\"4.Division\")\n",
    "choice=int(input())\n",
    "if()"
   ]
  },
  {
   "cell_type": "code",
   "execution_count": 6,
   "metadata": {},
   "outputs": [
    {
     "name": "stdout",
     "output_type": "stream",
     "text": [
      "0 1 1 10 10 "
     ]
    }
   ],
   "source": [
    "n=int(input())\n",
    "l=list(map(int,input().split()))\n",
    "m=int(input())\n",
    "for n in l:\n",
    "    res=\"\"\n",
    "    while(n>0):\n",
    "        rem=n%2\n",
    "        res+=str(rem)\n",
    "        n=n//2\n",
    "    s=res[::-1]\n",
    "    if(len(s[:-m])>0):\n",
    "        print(s[:-m],end=\" \")\n",
    "    else:\n",
    "        print('0',end=\" \")"
   ]
  },
  {
   "cell_type": "code",
   "execution_count": 9,
   "metadata": {},
   "outputs": [
    {
     "name": "stdout",
     "output_type": "stream",
     "text": [
      "0 5\n"
     ]
    }
   ],
   "source": [
    "n=int(input())\n",
    "rank=list(map(int,input().split(\",\")))\n",
    "m=rank[0]\n",
    "c=0\n",
    "for i in range(1,n):\n",
    "    if rank[i]<m:#if l[i]<l[i-1]\n",
    "        m=rank[i]#print(c)\n",
    "        c+=1\n",
    "print(c,rank[i])"
   ]
  },
  {
   "cell_type": "code",
   "execution_count": 11,
   "metadata": {},
   "outputs": [
    {
     "name": "stdout",
     "output_type": "stream",
     "text": [
      "1,2,3,4,5,"
     ]
    }
   ],
   "source": [
    "n=int(input())\n",
    "c=0\n",
    "o=[1,3,5,7,9]\n",
    "e=[2,4,6,8]\n",
    "for i in range(1,n+1):\n",
    "    if i<=10:\n",
    "        print(i,end=\",\")\n",
    "    else:\n",
    "        i=str(i)\n",
    "        for j in range(len(i)-1):\n",
    "            f=0\n",
    "            if int(i[j]) in o and int(i[j+1]) in e:\n",
    "                f=1\n",
    "            elif int(i[j]) in e and int(i[j+1]) in o:\n",
    "                f=1\n",
    "                break\n",
    "        if f==1:\n",
    "            print(int(i),end=\" \")"
   ]
  },
  {
   "cell_type": "code",
   "execution_count": null,
   "metadata": {},
   "outputs": [],
   "source": [
    "\"\"\"r=input().split()\n",
    "p=['.','!','?']\n",
    "found=\" \"\n",
    "for i in r:\n",
    "    for j in p:\n",
    "        if j==i:\n",
    "            found.append(i)           \n",
    "    print(\"\".join(i),end=\" \")\"\"\"\n",
    "s=input().split()\n",
    "c=0\n",
    "for i in s:\n",
    "    if((i[len(i)-1])==\"!\" or (i[len(i)-1])==\"?\"):\n",
    "        c+=1\n",
    "    elif (i[len(i)-1])==\".\" and (i[len(i)-2]!=\".\"):\n",
    "        c+=1\n",
    "print(c)"
   ]
  }
 ],
 "metadata": {
  "kernelspec": {
   "display_name": "Python 3",
   "language": "python",
   "name": "python3"
  },
  "language_info": {
   "codemirror_mode": {
    "name": "ipython",
    "version": 3
   },
   "file_extension": ".py",
   "mimetype": "text/x-python",
   "name": "python",
   "nbconvert_exporter": "python",
   "pygments_lexer": "ipython3",
   "version": "3.11.4"
  },
  "orig_nbformat": 4
 },
 "nbformat": 4,
 "nbformat_minor": 2
}
