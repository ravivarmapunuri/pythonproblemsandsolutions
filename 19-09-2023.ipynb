{
 "cells": [
  {
   "cell_type": "code",
   "execution_count": 19,
   "metadata": {},
   "outputs": [],
   "source": [
    "#1st\n",
    "#print the prime numbers with using only for and while loop\n",
    "n=int(input())\n",
    "m=int(input())\n",
    "while n<=m:\n",
    "    if n==0 or n==1:\n",
    "        pass\n",
    "    else:\n",
    "        for i in range(2,n):\n",
    "            if n%i==0:\n",
    "                break\n",
    "        else:\n",
    "            print(n,end=\" \")\n",
    "    n+=1"
   ]
  },
  {
   "cell_type": "code",
   "execution_count": 20,
   "metadata": {},
   "outputs": [
    {
     "name": "stdout",
     "output_type": "stream",
     "text": [
      "a course is available\n"
     ]
    }
   ],
   "source": [
    "#2nd\n",
    "n=int(input(\"Enter the no.of courses\"))\n",
    "l=[]\n",
    "for i in range(n):\n",
    "    l.append(input())\n",
    "c=input(\"Enter the course to be searched\")\n",
    "if c in l:\n",
    "    print(c,\"course is available\")"
   ]
  },
  {
   "cell_type": "code",
   "execution_count": 24,
   "metadata": {},
   "outputs": [
    {
     "name": "stdout",
     "output_type": "stream",
     "text": [
      "1 2 1 0 0\n"
     ]
    }
   ],
   "source": [
    "#3rd \n",
    "n=int(input())\n",
    "l=list(map(str,input().split()))[:n]\n",
    "z,n=[],[]\n",
    "for i in l:\n",
    "    if i=='0':\n",
    "        z.append(i)\n",
    "    else:\n",
    "        n.append(i)\n",
    "print(*(n+z))"
   ]
  },
  {
   "cell_type": "code",
   "execution_count": 28,
   "metadata": {},
   "outputs": [
    {
     "name": "stdout",
     "output_type": "stream",
     "text": [
      "1 2 3 6 9 18 27 54 "
     ]
    }
   ],
   "source": [
    "#4th\n",
    "n=abs(int(input()))\n",
    "for i in range(1,n+1):\n",
    "    if n%i==0:\n",
    "        print(i,end=\" \")"
   ]
  },
  {
   "cell_type": "code",
   "execution_count": 16,
   "metadata": {},
   "outputs": [
    {
     "name": "stdout",
     "output_type": "stream",
     "text": [
      "-54\n",
      "1 2 3 6 9 18 27 54 "
     ]
    }
   ],
   "source": [
    "n=int(input())\n",
    "z=[i for i in str(n) if i!=\"-\"]\n",
    "s1=\"\".join(z)\n",
    "for i in range(1,int(s1)+1):\n",
    "    if int(s1)%i==0:\n",
    "        print(i,end=\" \")"
   ]
  },
  {
   "cell_type": "code",
   "execution_count": 1,
   "metadata": {},
   "outputs": [
    {
     "name": "stdout",
     "output_type": "stream",
     "text": [
      "[[30], [30, 40], [30, 40, 50], [30, 40, 50, 20], [30, 40, 50, 20, 20], [30, 40, 50, 20, 20, 10], [30, 40, 50, 20, 20, 10, 90], [30, 40, 50, 20, 20, 10, 90, 10], [30, 40, 50, 20, 20, 10, 90, 10, 10], [30, 40, 50, 20, 20, 10, 90, 10, 10, 10], [40], [40, 50], [40, 50, 20], [40, 50, 20, 20], [40, 50, 20, 20, 10], [40, 50, 20, 20, 10, 90], [40, 50, 20, 20, 10, 90, 10], [40, 50, 20, 20, 10, 90, 10, 10], [40, 50, 20, 20, 10, 90, 10, 10, 10], [50], [50, 20], [50, 20, 20], [50, 20, 20, 10], [50, 20, 20, 10, 90], [50, 20, 20, 10, 90, 10], [50, 20, 20, 10, 90, 10, 10], [50, 20, 20, 10, 90, 10, 10, 10], [20], [20, 20], [20, 20, 10], [20, 20, 10, 90], [20, 20, 10, 90, 10], [20, 20, 10, 90, 10, 10], [20, 20, 10, 90, 10, 10, 10], [20], [20, 10], [20, 10, 90], [20, 10, 90, 10], [20, 10, 90, 10, 10], [20, 10, 90, 10, 10, 10], [10], [10, 90], [10, 90, 10], [10, 90, 10, 10], [10, 90, 10, 10, 10], [90], [90, 10], [90, 10, 10], [90, 10, 10, 10], [10], [10, 10], [10, 10, 10], [10], [10, 10], [10]]\n",
      "3\n"
     ]
    }
   ],
   "source": [
    "#5th\n",
    "n,m=input().split()\n",
    "l=list(map(int,input().split()))[:int(n)]\n",
    "s=len(l)\n",
    "v,w=[],[]\n",
    "for i in range(s):\n",
    "    for j in range(i,s):\n",
    "        v=l[i:j+1]\n",
    "        w.append(v)\n",
    "z=[]\n",
    "print(w)\n",
    "for i in w:\n",
    "    if sum(i)<int(m):\n",
    "        z.append(len(i))\n",
    "print(max(z))"
   ]
  },
  {
   "cell_type": "code",
   "execution_count": 25,
   "metadata": {},
   "outputs": [
    {
     "name": "stdout",
     "output_type": "stream",
     "text": [
      "3\n"
     ]
    }
   ],
   "source": [
    "n,m=map(int,input().split())\n",
    "l=list(map(int,input().split()))[:n]\n",
    "c=0\n",
    "for i in range(len(l)):\n",
    "    for j in range(i,len(l)):\n",
    "        if sum(l[i:j+1])<m and len(l[i:j+1])>c:\n",
    "            c=len(l[i:j+1])\n",
    "print(c)"
   ]
  },
  {
   "cell_type": "code",
   "execution_count": 31,
   "metadata": {},
   "outputs": [
    {
     "name": "stdout",
     "output_type": "stream",
     "text": [
      "6\n"
     ]
    }
   ],
   "source": [
    "#6th\n",
    "n=int(input())\n",
    "l=list(map(int,input().split()))[:n]\n",
    "l1=list(range(1,n+1))\n",
    "c=1\n",
    "for i in range(n):\n",
    "    if l[:n]!=l1[:n]:\n",
    "        c+=1\n",
    "        n-=1\n",
    "print(c)"
   ]
  },
  {
   "cell_type": "code",
   "execution_count": 37,
   "metadata": {},
   "outputs": [
    {
     "name": "stdout",
     "output_type": "stream",
     "text": [
      "130 70\n"
     ]
    }
   ],
   "source": [
    "#7th\n",
    "v=int(input())\n",
    "w=int(input())\n",
    "tw=0\n",
    "fw=0\n",
    "s=0\n",
    "for i in range(1,v):\n",
    "    if (i*2)+(v-i)*4==w:\n",
    "        tw=i\n",
    "        fw=v-i\n",
    "print(tw,fw)"
   ]
  },
  {
   "cell_type": "code",
   "execution_count": 48,
   "metadata": {},
   "outputs": [
    {
     "name": "stdout",
     "output_type": "stream",
     "text": [
      "Bmm uif cftu\n"
     ]
    }
   ],
   "source": [
    "#8th\n",
    "m=input().split()\n",
    "k=int(input())\n",
    "l=[]\n",
    "for i in m:\n",
    "    z=[]\n",
    "    for j in range(len(i)):\n",
    "        z.append(chr(ord(i[j])+k))\n",
    "    l.append(\"\".join(z))\n",
    "print(\" \".join(l))"
   ]
  }
 ],
 "metadata": {
  "kernelspec": {
   "display_name": "Python 3",
   "language": "python",
   "name": "python3"
  },
  "language_info": {
   "codemirror_mode": {
    "name": "ipython",
    "version": 3
   },
   "file_extension": ".py",
   "mimetype": "text/x-python",
   "name": "python",
   "nbconvert_exporter": "python",
   "pygments_lexer": "ipython3",
   "version": "3.11.4"
  },
  "orig_nbformat": 4
 },
 "nbformat": 4,
 "nbformat_minor": 2
}
