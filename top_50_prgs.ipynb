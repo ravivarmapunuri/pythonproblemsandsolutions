{
 "cells": [
  {
   "cell_type": "code",
   "execution_count": 2,
   "metadata": {},
   "outputs": [
    {
     "name": "stdout",
     "output_type": "stream",
     "text": [
      "Invalid Input\n"
     ]
    }
   ],
   "source": [
    "#1st prg\n",
    "f=float(input())\n",
    "if f not in range(0,23):\n",
    "    print(\"Invalid Input\")\n",
    "else:\n",
    "    a=[f,f+0.04,f+0.09,f+0.15,f+0.19,f+0.22]\n",
    "    print(*a)"
   ]
  },
  {
   "cell_type": "code",
   "execution_count": null,
   "metadata": {},
   "outputs": [
    {
     "name": "stdout",
     "output_type": "stream",
     "text": [
      "10\n"
     ]
    }
   ],
   "source": [
    "#2nd prg\n",
    "import math\n",
    "def CountDoors(n):\n",
    "    doorsOpen=int(math.sqrt(n))\n",
    "    return doorsOpen\n",
    "n=100\n",
    "print(CountDoors(n))"
   ]
  },
  {
   "cell_type": "code",
   "execution_count": null,
   "metadata": {},
   "outputs": [
    {
     "name": "stdout",
     "output_type": "stream",
     "text": [
      "[1, 2]\n",
      "2\n"
     ]
    }
   ],
   "source": [
    "#another model\n",
    "n=int(input())\n",
    "l=[i for i in range(1,n+1) if i*i<=n]\n",
    "print(l)\n",
    "print(l[-1])"
   ]
  },
  {
   "cell_type": "code",
   "execution_count": null,
   "metadata": {},
   "outputs": [
    {
     "name": "stdout",
     "output_type": "stream",
     "text": [
      "Initial string abc\n",
      "Resultant List ['abc', 'acb', 'bac', 'bca', 'cab', 'cba']\n"
     ]
    }
   ],
   "source": [
    "#3rd prg\n",
    "from itertools import permutations\n",
    "ini_str = \"abc\"\n",
    "print(\"Initial string\", ini_str)\n",
    "permutation = [''.join(p) for p in permutations(ini_str)]\n",
    "print(\"Resultant List\", str(permutation))"
   ]
  },
  {
   "cell_type": "code",
   "execution_count": null,
   "metadata": {},
   "outputs": [
    {
     "name": "stdout",
     "output_type": "stream",
     "text": [
      "Initial string abcd\n",
      "Resultant permutations ['abcd', 'abdc', 'acbd', 'acdb', 'adcb', 'adbc', 'bacd', 'badc', 'bcad', 'bcda', 'bdca', 'bdac', 'cbad', 'cbda', 'cabd', 'cadb', 'cdab', 'cdba', 'dbca', 'dbac', 'dcba', 'dcab', 'dacb', 'dabc']\n"
     ]
    }
   ],
   "source": [
    "ini_str = \"abcd\"\n",
    "print(\"Initial string\", ini_str)\n",
    "result = []\n",
    " \n",
    "def permute(data, i, length):\n",
    "    if i == length:\n",
    "        result.append(''.join(data) )\n",
    "    else:\n",
    "        for j in range(i, length):\n",
    "            # swap\n",
    "            data[i], data[j] = data[j], data[i]\n",
    "            permute(data, i + 1, length)\n",
    "            data[i], data[j] = data[j], data[i] \n",
    "permute(list(ini_str), 0, len(ini_str))\n",
    "\n",
    "print(\"Resultant permutations\", str(result))"
   ]
  },
  {
   "cell_type": "code",
   "execution_count": null,
   "metadata": {},
   "outputs": [
    {
     "name": "stdout",
     "output_type": "stream",
     "text": [
      "['-2', '26']\n"
     ]
    }
   ],
   "source": [
    "n=input()\n",
    "l=[]\n",
    "for i in range(len(n)):\n",
    "    z=n[i]\n",
    "    v=i+1\n",
    "    if v<len(n):\n",
    "        l.append((z+n[v]))\n",
    "print(l)"
   ]
  },
  {
   "cell_type": "code",
   "execution_count": null,
   "metadata": {},
   "outputs": [
    {
     "name": "stdout",
     "output_type": "stream",
     "text": [
      "[[1], [1, 2], [1, 2, 3], [2], [2, 3], [3]]\n"
     ]
    }
   ],
   "source": [
    "def sublists(lst):\n",
    "\tn = len(lst)\n",
    "\tsublists = []\n",
    "\t\n",
    "\tfor start in range(n):\n",
    "\t\tfor end in range(start + 1, n + 1):\n",
    "\t\t\tsublists.append(lst[start:end])\n",
    "\t\n",
    "\treturn sublists\n",
    "\n",
    "original_list = [1, 2, 3]\n",
    "sublists_nested = sublists(original_list)\n",
    "print(sublists_nested)\n"
   ]
  },
  {
   "cell_type": "code",
   "execution_count": null,
   "metadata": {},
   "outputs": [
    {
     "name": "stdout",
     "output_type": "stream",
     "text": [
      "abc\n",
      "0\n",
      "1\n",
      "2\n"
     ]
    }
   ],
   "source": [
    "#another model\n",
    "a=input()\n",
    "print(a)\n",
    "for i in range(0,len(a)):\n",
    "    if i==0:\n",
    "        "
   ]
  },
  {
   "cell_type": "code",
   "execution_count": null,
   "metadata": {},
   "outputs": [
    {
     "name": "stdout",
     "output_type": "stream",
     "text": [
      "[0, 0, 1]\n",
      "[1, 0, 1]\n",
      "[1, 1, 0]\n",
      "Yes\n"
     ]
    }
   ],
   "source": [
    "#4th prg\n",
    "l=[[0,0,1],[1,0,1],[1,1,0]]\n",
    "c=0\n",
    "for i in l:\n",
    "    print(i)\n",
    "    if i.count(0):\n",
    "        c+=1\n",
    "if c>=3:\n",
    "    print(\"Yes\")\n",
    "else:\n",
    "    print(\"No\")"
   ]
  },
  {
   "cell_type": "code",
   "execution_count": null,
   "metadata": {},
   "outputs": [
    {
     "name": "stdout",
     "output_type": "stream",
     "text": [
      "12\n"
     ]
    }
   ],
   "source": [
    "#5th prg\n",
    "# 3 11\n",
    "#4  Explanation: (3*4)%11==1 therefore output is 4 \n",
    "a,m=map(int,input().split())\n",
    "for i in range(1,m):\n",
    "    if i*a%m==1:\n",
    "        print(i)"
   ]
  },
  {
   "cell_type": "code",
   "execution_count": null,
   "metadata": {},
   "outputs": [
    {
     "name": "stdout",
     "output_type": "stream",
     "text": [
      "7 5 3 1 2 4 10\n"
     ]
    }
   ],
   "source": [
    "#6th prg\n",
    "#1, 2, 3, 5, 4, 7, 10\n",
    "#7, 5, 3, 1, 2, 4, 10\n",
    "l=list(map(int,input().split(\",\")))\n",
    "e,o=[],[]\n",
    "for i in l:\n",
    "    if i%2==0:\n",
    "        e.append(i)\n",
    "    else:\n",
    "        o.append(i)\n",
    "e.sort()\n",
    "o.sort()\n",
    "print(*(o[::-1]+e))"
   ]
  },
  {
   "cell_type": "code",
   "execution_count": null,
   "metadata": {},
   "outputs": [
    {
     "name": "stdout",
     "output_type": "stream",
     "text": [
      "4 5 6\n"
     ]
    }
   ],
   "source": [
    "#7th prg\n",
    "#5, 4, 6, 2, 1, 3, 8, 9, -1 [4]\n",
    "#2 4 5 6 9 8 3 1 -1\n",
    "v=list(map(int,input().split(\",\")))\n",
    "k=int(input())\n",
    "l,l1=[],[]\n",
    "for i in range(len(v)):\n",
    "    if i<k:\n",
    "        l.append(v[i])\n",
    "    else:\n",
    "        l1.append(v[i])\n",
    "l.sort()\n",
    "l1.sort(reverse=True)\n",
    "print(*(l+l1))"
   ]
  },
  {
   "cell_type": "code",
   "execution_count": null,
   "metadata": {},
   "outputs": [
    {
     "name": "stdout",
     "output_type": "stream",
     "text": [
      "[7, 8, 9]\n",
      "[4, 5, 6]\n",
      "[1, 2, 3]\n"
     ]
    }
   ],
   "source": [
    "#8th prg\n",
    "l=[[1,2,3],[4,5,6],[7,8,9]]\n",
    "v=len(l)\n",
    "for i in range(v-1,-1,-1):\n",
    "    print(l[i])"
   ]
  },
  {
   "cell_type": "code",
   "execution_count": null,
   "metadata": {},
   "outputs": [
    {
     "name": "stdout",
     "output_type": "stream",
     "text": [
      "[7, 8, 9]\n",
      "[4, 5, 6]\n",
      "[1, 2, 3]\n"
     ]
    }
   ],
   "source": [
    "l=int(input())\n",
    "z=[]\n",
    "for i in range(l):\n",
    "    v=[]\n",
    "    for j in range(l):\n",
    "        v.append(int(input()))\n",
    "    v.sort()\n",
    "    z.append(v)\n",
    "z.sort()\n",
    "for i in range(l-1,-1,-1):\n",
    "    print(z[i])"
   ]
  },
  {
   "cell_type": "code",
   "execution_count": null,
   "metadata": {},
   "outputs": [
    {
     "name": "stdout",
     "output_type": "stream",
     "text": [
      "4 3\n",
      "0.25\n"
     ]
    }
   ],
   "source": [
    "#9th prg\n",
    "n,m=map(int,input().split())\n",
    "print(n,m)\n",
    "if n==m:\n",
    "    print(\"0.50000\")\n",
    "else:\n",
    "    v=1-(m/n)\n",
    "    print(v)"
   ]
  },
  {
   "cell_type": "code",
   "execution_count": null,
   "metadata": {},
   "outputs": [
    {
     "name": "stdout",
     "output_type": "stream",
     "text": [
      "105\n"
     ]
    }
   ],
   "source": [
    "#10th prg\n",
    "n=int(input())\n",
    "L=[]\n",
    "p1=1\n",
    "p2=1\n",
    "for i in range(n):\n",
    "    l=list(map(int,input().split()))\n",
    "    L.append(l)\n",
    "    p1*=L[i][i]\n",
    "    p2*=L[i][n-i-1]\n",
    "print(max(p1,p2))"
   ]
  },
  {
   "cell_type": "code",
   "execution_count": null,
   "metadata": {},
   "outputs": [
    {
     "name": "stdout",
     "output_type": "stream",
     "text": [
      "105\n"
     ]
    }
   ],
   "source": [
    "l=[[1,2,3],\n",
    "   [4,5,6],\n",
    "   [7,8,9]]\n",
    "p1,p2=1,1\n",
    "n,j=-1,0\n",
    "for i in l:\n",
    "    p1*=i[j]\n",
    "    j+=1\n",
    "    p2*=i[n]\n",
    "    n-=1\n",
    "print(max(p1,p2))"
   ]
  },
  {
   "cell_type": "code",
   "execution_count": null,
   "metadata": {},
   "outputs": [
    {
     "name": "stdout",
     "output_type": "stream",
     "text": [
      "105\n"
     ]
    }
   ],
   "source": [
    "#another model\n",
    "l=int(input())\n",
    "z=[]\n",
    "for i in range(l):\n",
    "    v=[]\n",
    "    for j in range(l):\n",
    "        v.append(int(input()))\n",
    "    z.append(v)\n",
    "p1,p2=1,1\n",
    "n,j=-1,0\n",
    "for i in z:\n",
    "    p1*=i[j]\n",
    "    j+=1\n",
    "    p2*=i[n]\n",
    "    n-=1\n",
    "print(max(p1,p2))"
   ]
  },
  {
   "cell_type": "code",
   "execution_count": null,
   "metadata": {},
   "outputs": [
    {
     "name": "stdout",
     "output_type": "stream",
     "text": [
      "0\n"
     ]
    }
   ],
   "source": [
    "#11th prg\n",
    "#(9*(7-2)*(1*5)\n",
    "#1\n",
    "s=input()\n",
    "c=0\n",
    "for i in s:\n",
    "    if i =='(':\n",
    "        c+=1\n",
    "    elif (i==')') and c>0 :\n",
    "        c-=1\n",
    "print(int(c>0))"
   ]
  },
  {
   "cell_type": "code",
   "execution_count": null,
   "metadata": {},
   "outputs": [
    {
     "name": "stdout",
     "output_type": "stream",
     "text": [
      "19\n"
     ]
    }
   ],
   "source": [
    "#12th prg\n",
    "#   5\n",
    "# 4 6 9 3 7\n",
    "#   19\n",
    "n=int(input())\n",
    "l=list(map(int,input().split()))\n",
    "s=0\n",
    "for i in l:\n",
    "    if i==1:\n",
    "        s+=i\n",
    "    else:\n",
    "        for j in range(2,i):\n",
    "            if i%j==0:\n",
    "                s+=i\n",
    "                break\n",
    "print(s)\n"
   ]
  },
  {
   "cell_type": "code",
   "execution_count": null,
   "metadata": {},
   "outputs": [
    {
     "name": "stdout",
     "output_type": "stream",
     "text": [
      "54 2/5\n"
     ]
    }
   ],
   "source": [
    "#13th prg\n",
    "# 33 45 67 89 38\n",
    "#54 2/5\n",
    "l=list(map(int,input().split()))\n",
    "s=0\n",
    "for i in l:\n",
    "    s+=i\n",
    "print(int((s/len(l))),end=\" \")\n",
    "print((s%len(l)),\"\\b/5\")"
   ]
  },
  {
   "cell_type": "code",
   "execution_count": null,
   "metadata": {},
   "outputs": [
    {
     "name": "stdout",
     "output_type": "stream",
     "text": [
      "981\n"
     ]
    }
   ],
   "source": [
    "#14th prg\n",
    "# 1,8,7,125,5,211,343,25,400,512 output :-  981 [1+125+343+512]\n",
    "# 4,9,343,25,78,512 output:- Not Found\n",
    "\n",
    "l=list(map(int,input().split(\",\")))\n",
    "z=[]\n",
    "s=0\n",
    "for i in l:\n",
    "    z.append(i*i*i)\n",
    "for i in l:\n",
    "    if i in z:\n",
    "        s+=i\n",
    "if s==0:\n",
    "    print(\"Not Found\")\n",
    "else:\n",
    "    print(s)"
   ]
  },
  {
   "cell_type": "code",
   "execution_count": null,
   "metadata": {},
   "outputs": [
    {
     "name": "stdout",
     "output_type": "stream",
     "text": [
      "abc gho hkc hki xyz\n"
     ]
    }
   ],
   "source": [
    "#15th prg\n",
    "\"\"\"\n",
    "abc hki gho hkc xyz\n",
    "The output of the program will be\n",
    " abc gho hkc hki xyz\"\"\"\n",
    "l=list(map(str,input().split()))\n",
    "l.sort()\n",
    "print(*l)"
   ]
  },
  {
   "cell_type": "code",
   "execution_count": null,
   "metadata": {},
   "outputs": [
    {
     "name": "stdout",
     "output_type": "stream",
     "text": [
      "if 1\n",
      "you 2\n",
      "fail 2\n",
      "to 2\n",
      "plan 1\n",
      "are 1\n",
      "planning 1\n"
     ]
    }
   ],
   "source": [
    "#16th prg\n",
    "\"\"\"input:-  you are good when your thoughts are good and your deeds are good\n",
    "   output:- and 1\n",
    "            are  3\n",
    "            deeds  1\n",
    "            good 3\n",
    "            thoughts 1\n",
    "            when 1\n",
    "            you 1\n",
    "            your  2\"\"\"\n",
    "l=list(map(str,input().split()))\n",
    "z=[]\n",
    "for i in l:\n",
    "    z.append([i,l.count(i)])\n",
    "l1=[]\n",
    "for i in z:\n",
    "    if i not in l1:\n",
    "        l1.append(i)\n",
    "for i in l1:\n",
    "    print(*i)"
   ]
  },
  {
   "cell_type": "code",
   "execution_count": null,
   "metadata": {},
   "outputs": [
    {
     "name": "stdout",
     "output_type": "stream",
     "text": [
      "2\n"
     ]
    }
   ],
   "source": [
    "#17th prg\n",
    "\"\"\"Case 1:\n",
    "    For the input provided as follows\n",
    "            7\n",
    "    The output of the program will be\n",
    "            3\n",
    "Explanation\n",
    "Binary representation of 7 is 111 and has 3 set bits.\"\"\"\n",
    "n=int(input())\n",
    "v=bin(n)[2:]\n",
    "print(v.count('1'))"
   ]
  },
  {
   "cell_type": "code",
   "execution_count": null,
   "metadata": {},
   "outputs": [
    {
     "name": "stdout",
     "output_type": "stream",
     "text": [
      "7 [3, 8, 10, 6, 2, 4, 6]\n",
      "7\n"
     ]
    }
   ],
   "source": [
    "#18th prg\n",
    "# 7\n",
    "# 3 8 10 6 2 4 6\n",
    "# 7\n",
    "l=int(input())\n",
    "n=list(map(int,input().split()))\n",
    "print(l,n)\n",
    "m=0\n",
    "m1=n[0]\n",
    "for i in range(l):\n",
    "    m1=min(m1,n[i])\n",
    "    m=max(m,n[i]-m1)\n",
    "print(m)\n"
   ]
  },
  {
   "cell_type": "code",
   "execution_count": null,
   "metadata": {},
   "outputs": [
    {
     "name": "stdout",
     "output_type": "stream",
     "text": [
      "100000100011001011\n",
      "216129\n"
     ]
    }
   ],
   "source": [
    "#19th prg\n",
    "v= 35000\n",
    "z=bin(v)[2:]\n",
    "print(z)\n",
    "print(int(z[::-1],2))\n"
   ]
  },
  {
   "cell_type": "code",
   "execution_count": null,
   "metadata": {},
   "outputs": [
    {
     "name": "stdout",
     "output_type": "stream",
     "text": [
      "487653376  \n"
     ]
    }
   ],
   "source": [
    "m=int(input())\n",
    "while m:\n",
    "    m-=1\n",
    "    n=int(input())\n",
    "    s=\"\"\n",
    "    for i in range(32):\n",
    "        if (n&1):\n",
    "            s+='1'\n",
    "        else:\n",
    "            s+='0'\n",
    "        n>>=1\n",
    "    print(int(s,2),end=\", \")\n",
    "print(\"\\b\\b  \")"
   ]
  },
  {
   "cell_type": "code",
   "execution_count": null,
   "metadata": {},
   "outputs": [],
   "source": [
    "#20th prg\n"
   ]
  },
  {
   "cell_type": "code",
   "execution_count": null,
   "metadata": {},
   "outputs": [
    {
     "name": "stdout",
     "output_type": "stream",
     "text": [
      "c\n"
     ]
    }
   ],
   "source": [
    "#21th prg\n",
    "#cdadaca\n",
    "#c\n",
    "s=input()\n",
    "ans=[]\n",
    "for i in s:\n",
    "    ans.append(s.count(i))\n",
    "print(s[ans.index(min(ans))])"
   ]
  },
  {
   "cell_type": "code",
   "execution_count": null,
   "metadata": {},
   "outputs": [
    {
     "name": "stdout",
     "output_type": "stream",
     "text": [
      "7\n"
     ]
    }
   ],
   "source": [
    "#22th prg\n",
    "#PPPPPP@PPP@PP$PP\n",
    "# 7\n",
    "s=input()\n",
    "s=s.replace('@',\" \").replace(\"$\",\" \")\n",
    "s=s.split()\n",
    "l=[]\n",
    "for i in s:\n",
    "    l.append(len(i)+1)\n",
    "print(max(l))"
   ]
  },
  {
   "cell_type": "code",
   "execution_count": null,
   "metadata": {},
   "outputs": [
    {
     "name": "stdout",
     "output_type": "stream",
     "text": [
      "1\n"
     ]
    }
   ],
   "source": [
    "#23rd prg\n",
    "#rac\n",
    "#car\n",
    "#1\n",
    "a=\"\".join(sorted(input().lower()))\n",
    "b=\"\".join(sorted(input().lower()))\n",
    "if a==b:\n",
    "    print(1)\n",
    "else:\n",
    "    print(0)"
   ]
  },
  {
   "cell_type": "code",
   "execution_count": null,
   "metadata": {},
   "outputs": [
    {
     "name": "stdout",
     "output_type": "stream",
     "text": [
      "Invalid password try again !\n"
     ]
    }
   ],
   "source": [
    "#24th prg\n",
    "#abjnlL09\n",
    "#password valid else print(invalid password try again)\n",
    "n=input()\n",
    "l,u,d,s=0,0,0,0\n",
    "if len(n)<6:\n",
    "    print(\"Invalid password try again !\")\n",
    "else:\n",
    "    for i in n:\n",
    "        if i.islower():\n",
    "            l=1\n",
    "        if i.isupper():\n",
    "            u=1\n",
    "        if i.isdigit():\n",
    "            d=1\n",
    "        if i!=\" \" or i!=\"/\":\n",
    "            s=1\n",
    "if sum((l,u,d,s))==4:\n",
    "    print(\"Password valid\")\n",
    "else:\n",
    "    print(\"Invalid password try again !\")"
   ]
  },
  {
   "cell_type": "code",
   "execution_count": null,
   "metadata": {},
   "outputs": [
    {
     "name": "stdout",
     "output_type": "stream",
     "text": [
      "ger"
     ]
    }
   ],
   "source": [
    "#25th prg\n",
    "#tiger i/p\n",
    "#ti i/p\n",
    "#ger o/p\n",
    "a=input()\n",
    "b=input()\n",
    "for i in a:\n",
    "    if i in b:\n",
    "        pass\n",
    "    else:\n",
    "        print(i,end=\"\")"
   ]
  },
  {
   "cell_type": "code",
   "execution_count": null,
   "metadata": {},
   "outputs": [
    {
     "name": "stdout",
     "output_type": "stream",
     "text": [
      "4 5 1 5 0 0 0\n"
     ]
    }
   ],
   "source": [
    "#26th prg\n",
    "# i/p 6\n",
    "# i/p [6,0,1,8,0,2]\n",
    "# o/p  6 1 8 2 0 0\n",
    "n=int(input())\n",
    "l=list(map(int,input().split(\",\")))[:n]\n",
    "a,o=[],[]\n",
    "for i in l:\n",
    "    if i==0:\n",
    "        o.append(i)\n",
    "    else:\n",
    "        a.append(i)\n",
    "print(*(a+o))"
   ]
  },
  {
   "cell_type": "code",
   "execution_count": null,
   "metadata": {},
   "outputs": [
    {
     "name": "stdout",
     "output_type": "stream",
     "text": [
      "5\n"
     ]
    }
   ],
   "source": [
    "#27th prg\n",
    "# 10---->1010\n",
    "# 5 ------> 0101\n",
    "n=bin(int(input()))[2:]\n",
    "print(int(n[::-1],2))\n"
   ]
  },
  {
   "cell_type": "code",
   "execution_count": null,
   "metadata": {},
   "outputs": [
    {
     "name": "stdout",
     "output_type": "stream",
     "text": [
      "27\n"
     ]
    }
   ],
   "source": [
    "#28th prg\n",
    "num = str(input())\n",
    "print(int(num,17))"
   ]
  },
  {
   "cell_type": "code",
   "execution_count": null,
   "metadata": {},
   "outputs": [
    {
     "name": "stdout",
     "output_type": "stream",
     "text": [
      "1\n"
     ]
    }
   ],
   "source": [
    "#29th prg\n",
    "n=input()\n",
    "e,o=0,0\n",
    "for i in range(len(n)):\n",
    "    if i%2==0:\n",
    "        e+=int(n[i])\n",
    "    else:\n",
    "        o+=int(n[i])\n",
    "print(abs(o-e))"
   ]
  },
  {
   "cell_type": "code",
   "execution_count": null,
   "metadata": {},
   "outputs": [
    {
     "name": "stdout",
     "output_type": "stream",
     "text": [
      "4 2 ['7', '8', '9', '3']\n",
      "3\n",
      "3 0\n",
      "3\n",
      "3 1\n",
      "4\n",
      "4 2\n",
      "1\n",
      "3\n"
     ]
    }
   ],
   "source": [
    "#30th prg\n",
    "n = int(input())\n",
    "m = 0\n",
    "mxPos = 0\n",
    "v = []\n",
    "x = int(input())\n",
    "v_input = input().split()\n",
    "print(n,x,v_input)\n",
    "for i in range(n):\n",
    "    v.append(int(v_input[i]))\n",
    "    v[i] = (v[i]-1)//x\n",
    "    if v[i] >= m:\n",
    "        m = v[i]\n",
    "        mxPos = i\n",
    "print(mxPos+1)\n"
   ]
  },
  {
   "cell_type": "code",
   "execution_count": null,
   "metadata": {},
   "outputs": [
    {
     "name": "stdout",
     "output_type": "stream",
     "text": [
      "[[7, 8, 9, 3, 5], [8, 9, 3, 5], [9, 3, 5], [3, 5]]\n"
     ]
    }
   ],
   "source": [
    "l=[7 ,8 ,9 ,3]\n",
    "v=2\n",
    "z=[]\n",
    "for i in range(len(l)):\n",
    "    v=[]\n",
    "    if l[0]==1:\n",
    "        l.remove(1)\n",
    "    else:\n",
    "        v1=[l[-1]+2]\n",
    "        v=l[i:]+v1\n",
    "        z.append(v)\n",
    "print(z)\n"
   ]
  },
  {
   "cell_type": "code",
   "execution_count": null,
   "metadata": {},
   "outputs": [
    {
     "name": "stdout",
     "output_type": "stream",
     "text": [
      "3 0\n"
     ]
    }
   ],
   "source": [
    "#31st prg\n",
    "n=int(input())\n",
    "L1=[0] *n\n",
    "L2=[0]*n\n",
    "for i in range(n):\n",
    "    L2[i]=int(input())\n",
    "for i in range(n):\n",
    "    L1[i]=int(input())\n",
    "for i in range(n):\n",
    "    L2[i]=L2[i]-L1[i]\n",
    "L2.sort()\n",
    "su=0\n",
    "ans=0\n",
    "for i in range(n):\n",
    "    su=su+L2[i]\n",
    "if su<0:\n",
    "    ans = ans + abs(su)\n",
    "    su=0\n",
    "print(ans)"
   ]
  },
  {
   "cell_type": "code",
   "execution_count": null,
   "metadata": {},
   "outputs": [
    {
     "name": "stdout",
     "output_type": "stream",
     "text": [
      "1\n"
     ]
    }
   ],
   "source": [
    "#32th prg\n",
    "import math\n",
    "n=int(input())-1\n",
    "m=int(input())-1\n",
    "x=int(input())-1\n",
    "y=int(input())-1\n",
    "ans=math.factorial(n+m)\n",
    "ans=ans//(math.factorial(n))\n",
    "ans=ans//(math.factorial(m))\n",
    "ans1=math.factorial(x+y)\n",
    "ans1=ans1//(math.factorial(x))\n",
    "ans1=ans1//(math.factorial(y))\n",
    "x1=n-x\n",
    "y1=m-y\n",
    "ans2=math.factorial(x1+y1)\n",
    "ans2=ans2//(math.factorial(x1))\n",
    "ans2=ans2//(math.factorial(y1))\n",
    "print(ans-(ans1*ans2))\n"
   ]
  },
  {
   "cell_type": "code",
   "execution_count": null,
   "metadata": {},
   "outputs": [
    {
     "name": "stdout",
     "output_type": "stream",
     "text": [
      "0\n"
     ]
    },
    {
     "ename": "ValueError",
     "evalue": "invalid literal for int() with base 10: ''",
     "output_type": "error",
     "traceback": [
      "\u001b[1;31m---------------------------------------------------------------------------\u001b[0m",
      "\u001b[1;31mValueError\u001b[0m                                Traceback (most recent call last)",
      "\u001b[1;32mc:\\Users\\Varma\\Desktop\\python\\top_50_prgs.ipynb Cell 43\u001b[0m line \u001b[0;36m2\n\u001b[0;32m     <a href='vscode-notebook-cell:/c%3A/Users/Varma/Desktop/python/top_50_prgs.ipynb#X61sZmlsZQ%3D%3D?line=22'>23</a>\u001b[0m         a\u001b[39m+\u001b[39m\u001b[39m=\u001b[39mn[i]\n\u001b[0;32m     <a href='vscode-notebook-cell:/c%3A/Users/Varma/Desktop/python/top_50_prgs.ipynb#X61sZmlsZQ%3D%3D?line=23'>24</a>\u001b[0m     i\u001b[39m+\u001b[39m\u001b[39m=\u001b[39m\u001b[39m1\u001b[39m\n\u001b[1;32m---> <a href='vscode-notebook-cell:/c%3A/Users/Varma/Desktop/python/top_50_prgs.ipynb#X61sZmlsZQ%3D%3D?line=24'>25</a>\u001b[0m \u001b[39mprint\u001b[39m(\u001b[39mint\u001b[39;49m(a)\u001b[39m%\u001b[39m((\u001b[39m10\u001b[39m\u001b[39m*\u001b[39m\u001b[39m*\u001b[39m\u001b[39m9\u001b[39m)\u001b[39m+\u001b[39m\u001b[39m7\u001b[39m))\n",
      "\u001b[1;31mValueError\u001b[0m: invalid literal for int() with base 10: ''"
     ]
    }
   ],
   "source": [
    "#33th prg\n",
    "n=input()\n",
    "k=int(input())\n",
    "n1=len(n)\n",
    "if len(n)<=k:\n",
    "    print(0)\n",
    "a='' \n",
    "i=0\n",
    "while i < (n1-1) and k>0:\n",
    "    if int(n[i])>int(n[i+1]):\n",
    "        i+=1\n",
    "        k-=1\n",
    "        continue\n",
    "    else:\n",
    "        a+=n[i]\n",
    "        i+=1\n",
    "        a+=n[i]\n",
    "    i+=1\n",
    "if k>0:\n",
    "    a=a[:-k]\n",
    "if i<=(n1-1):\n",
    "    while i < n1:\n",
    "        a+=n[i]\n",
    "    i+=1\n",
    "print(int(a)%((10**9)+7))"
   ]
  },
  {
   "cell_type": "code",
   "execution_count": null,
   "metadata": {},
   "outputs": [
    {
     "name": "stdout",
     "output_type": "stream",
     "text": [
      "725\n"
     ]
    }
   ],
   "source": [
    "#34th prg\n",
    "n=int(input())\n",
    "l=[]\n",
    "for i in range(n):\n",
    "    l.append(int(input()))\n",
    "s=0\n",
    "for i in l:\n",
    "    if i==1:\n",
    "        s+=10\n",
    "    if i==2:\n",
    "        s+=55\n",
    "    if i==3:\n",
    "        s+=220\n",
    "    if i==4:\n",
    "        s+=715\n",
    "print(s)"
   ]
  },
  {
   "cell_type": "code",
   "execution_count": null,
   "metadata": {},
   "outputs": [
    {
     "name": "stdout",
     "output_type": "stream",
     "text": [
      "5\n"
     ]
    }
   ],
   "source": [
    "#35th prg\n",
    "n=int(input())\n",
    "l=[]\n",
    "for i in range(n):\n",
    "    l.append(int(input()))\n",
    "v=int(input())\n",
    "c=0\n",
    "for i in l:\n",
    "    c+=1\n",
    "    if i>v:\n",
    "        c+=1\n",
    "print(c)\n",
    "    "
   ]
  },
  {
   "cell_type": "code",
   "execution_count": null,
   "metadata": {},
   "outputs": [
    {
     "name": "stdout",
     "output_type": "stream",
     "text": [
      "0\n",
      "1\n",
      "1\n",
      "2\n",
      "2\n",
      "3\n",
      "3\n",
      "4\n",
      "5\n"
     ]
    }
   ],
   "source": [
    "def weightMachine(N,weights,T):\n",
    "    amount=0\n",
    "    for i in weights:\n",
    "        amount+=1\n",
    "        if(i>T):\n",
    "            amount+=1\n",
    "    return amount\n",
    "N=int(input())\n",
    "weights=[]\n",
    "for i in range(N):\n",
    "    weights.append(int(input()))\n",
    "T=int(input())\n",
    "print(weightMachine(N,weights,T))"
   ]
  }
 ],
 "metadata": {
  "kernelspec": {
   "display_name": "Python 3",
   "language": "python",
   "name": "python3"
  },
  "language_info": {
   "codemirror_mode": {
    "name": "ipython",
    "version": 3
   },
   "file_extension": ".py",
   "mimetype": "text/x-python",
   "name": "python",
   "nbconvert_exporter": "python",
   "pygments_lexer": "ipython3",
   "version": "3.11.4"
  },
  "orig_nbformat": 4
 },
 "nbformat": 4,
 "nbformat_minor": 2
}
