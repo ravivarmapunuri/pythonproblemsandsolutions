{
 "cells": [
  {
   "cell_type": "code",
   "execution_count": 94,
   "metadata": {},
   "outputs": [
    {
     "name": "stdout",
     "output_type": "stream",
     "text": [
      "1\n",
      "1\n"
     ]
    }
   ],
   "source": [
    "a=[1,2,3,4,5]\n",
    "b=int(input())\n",
    "c=b%len(a)\n",
    "print(a[c-1])"
   ]
  },
  {
   "cell_type": "code",
   "execution_count": 90,
   "metadata": {},
   "outputs": [
    {
     "name": "stdout",
     "output_type": "stream",
     "text": [
      "10\n"
     ]
    }
   ],
   "source": [
    "#1st prg\n",
    "l=list(map(int,input().split()))\n",
    "z=[l.count(i) for i in l ]\n",
    "m=max(z)\n",
    "s=0\n",
    "for i in range(len(l)):\n",
    "    if m==z[i]:\n",
    "        s+=l[i]\n",
    "        v=l[i]\n",
    "if s>=max(l) and v>=max(l):\n",
    "        print(v)\n",
    "else:\n",
    "    print(-1)\n",
    "    "
   ]
  },
  {
   "cell_type": "code",
   "execution_count": 96,
   "metadata": {},
   "outputs": [
    {
     "name": "stdout",
     "output_type": "stream",
     "text": [
      "-1\n"
     ]
    }
   ],
   "source": [
    "l=list(map(int,input().split()))\n",
    "z=[l.count(i) for i in l ]\n",
    "m=max(z)\n",
    "s=0\n",
    "v=l[i]\n",
    "for i in range(len(l)):\n",
    "    if m==z[i]:\n",
    "        s+=l[i]\n",
    "        v=l[i]\n",
    "if v>=max(l):\n",
    "    print(v)\n",
    "else:\n",
    "    print(-1)"
   ]
  },
  {
   "cell_type": "code",
   "execution_count": 101,
   "metadata": {},
   "outputs": [
    {
     "name": "stdout",
     "output_type": "stream",
     "text": [
      "-1\n"
     ]
    }
   ],
   "source": [
    "#madam code\n",
    "l=list(map(int,input().split(\" \")))\n",
    "k=len(l)\n",
    "for i in range(0,len(l)):\n",
    "    if l.count(l[i])>k//2:\n",
    "        print (l[i])\n",
    "        break\n",
    "else:\n",
    "    print(\"-1\")\n"
   ]
  },
  {
   "cell_type": "code",
   "execution_count": 29,
   "metadata": {},
   "outputs": [
    {
     "name": "stdout",
     "output_type": "stream",
     "text": [
      "pacecollegeongole\n",
      "pacecollegeongole\n"
     ]
    }
   ],
   "source": [
    "#2nd prg\n",
    "#pacecollegeongole--->pace\n",
    "s=input()\n",
    "print(s)\n",
    "l=[]\n",
    "for i in range(len(s)):\n",
    "    if s.count(s[i])>1:\n",
    "        l.append(s[i])\n",
    "v=l[0]\n",
    "s1=\"\"\n",
    "c=0\n",
    "for i in s:\n",
    "    c=0\n",
    "    s1+=i\n",
    "    c+=1\n",
    "    if c>1:\n",
    "        break\n",
    "print(s1)"
   ]
  },
  {
   "cell_type": "code",
   "execution_count": 56,
   "metadata": {},
   "outputs": [
    {
     "name": "stdout",
     "output_type": "stream",
     "text": [
      "['c', 'e', 'c', 'o', 'l', 'l', 'e', 'g', 'e', 'o', 'g', 'o', 'l', 'e']\n",
      "pace\n"
     ]
    }
   ],
   "source": [
    "s=input()\n",
    "l=[]\n",
    "for i in range(len(s)):\n",
    "    if s.count(s[i])>1:\n",
    "        l.append((s[i]))\n",
    "print(l)\n",
    "v=l[0]\n",
    "s1=[]\n",
    "for i in range(len(s)):\n",
    "    if v==s[i]:\n",
    "        s1.append(i)\n",
    "v1=\"\"\n",
    "for i in range(len(s)):\n",
    "    if i==s1[-1]:\n",
    "        break\n",
    "    else:\n",
    "        v1+=s[i]\n",
    "print(v1)\n"
   ]
  },
  {
   "cell_type": "code",
   "execution_count": 5,
   "metadata": {},
   "outputs": [
    {
     "name": "stdout",
     "output_type": "stream",
     "text": [
      "s\n",
      "sr\n",
      "sri\n",
      "srin\n",
      "srina\n",
      "srinat\n",
      "srinath\n",
      "srinath\n",
      "r\n",
      "ri\n",
      "rin\n",
      "rina\n",
      "rinat\n",
      "rinath\n",
      "rinath\n",
      "i\n",
      "in\n",
      "ina\n",
      "inat\n",
      "inath\n",
      "inath\n",
      "n\n",
      "na\n",
      "nat\n",
      "nath\n",
      "nath\n",
      "a\n",
      "at\n",
      "ath\n",
      "ath\n",
      "t\n",
      "th\n",
      "th\n",
      "h\n",
      "h\n"
     ]
    },
    {
     "data": {
      "text/plain": [
       "'\\nfor i in s:\\n    if s.count(i)>=2:\\n        l.append(i)\\nz=[]\\nfor i in p:\\n    for j in i:\\n        if i.count(j)==2:\\n            break\\n        else:\\n            z.append(i)  \\nz1=[]\\nfor i in z:\\n    if i not in z1:\\n        z1.append(i)\\ns1=[]\\nfor i in z1:\\n    s1.append(len(i))\\nfor i in z1:\\n    if len(i)==max(s1):\\n        print(i)\\n        break'"
      ]
     },
     "execution_count": 5,
     "metadata": {},
     "output_type": "execute_result"
    }
   ],
   "source": [
    "\n",
    "s=input()\n",
    "p=[]\n",
    "v=[]\n",
    "l=[]\n",
    "for i in range(len(s)):\n",
    "    for j in range(i,len(s)+1):\n",
    "        v=s[i:j+1]\n",
    "        p.append(v)\n",
    "for i in p:\n",
    "    print(i)\n",
    "\"\"\"\n",
    "for i in s:\n",
    "    if s.count(i)>=2:\n",
    "        l.append(i)\n",
    "z=[]\n",
    "for i in p:\n",
    "    for j in i:\n",
    "        if i.count(j)==2:\n",
    "            break\n",
    "        else:\n",
    "            z.append(i)  \n",
    "z1=[]\n",
    "for i in z:\n",
    "    if i not in z1:\n",
    "        z1.append(i)\n",
    "s1=[]\n",
    "for i in z1:\n",
    "    s1.append(len(i))\n",
    "for i in z1:\n",
    "    if len(i)==max(s1):\n",
    "        print(i)\n",
    "        break\"\"\""
   ]
  }
 ],
 "metadata": {
  "kernelspec": {
   "display_name": "Python 3",
   "language": "python",
   "name": "python3"
  },
  "language_info": {
   "codemirror_mode": {
    "name": "ipython",
    "version": 3
   },
   "file_extension": ".py",
   "mimetype": "text/x-python",
   "name": "python",
   "nbconvert_exporter": "python",
   "pygments_lexer": "ipython3",
   "version": "3.11.4"
  },
  "orig_nbformat": 4
 },
 "nbformat": 4,
 "nbformat_minor": 2
}
