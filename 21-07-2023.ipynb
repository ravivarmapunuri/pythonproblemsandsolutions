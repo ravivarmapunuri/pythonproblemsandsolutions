{
 "cells": [
  {
   "cell_type": "code",
   "execution_count": 39,
   "metadata": {},
   "outputs": [
    {
     "name": "stdout",
     "output_type": "stream",
     "text": [
      "1\n",
      "11\n",
      "111\n",
      "1111\n"
     ]
    }
   ],
   "source": [
    "#1st prg\n",
    "n=int(input())\n",
    "for i in range(n):\n",
    "    for j in range(i+1):\n",
    "        print(\"1\",end=\"\") \n",
    "    print(\"\")\n"
   ]
  },
  {
   "cell_type": "code",
   "execution_count": 47,
   "metadata": {},
   "outputs": [
    {
     "name": "stdout",
     "output_type": "stream",
     "text": [
      "1\n"
     ]
    }
   ],
   "source": [
    "#2nd prg\n",
    "month=input()\n",
    "day=int(input())\n",
    "print(CheckBirthDay(month,day))\n",
    "\n",
    "def CheckBirthDay(m,d):\n",
    "    if m==\"July\" and d==5:\n",
    "        return 1\n",
    "    else:\n",
    "        return 0\n",
    "\n"
   ]
  },
  {
   "cell_type": "code",
   "execution_count": 9,
   "metadata": {},
   "outputs": [
    {
     "name": "stdout",
     "output_type": "stream",
     "text": [
      "156\n"
     ]
    }
   ],
   "source": [
    "#3rd Prg\n",
    "l=[int(i) for i in input().split()]\n",
    "max1=max(l)\n",
    "sum=0\n",
    "for i in l:\n",
    "    sum=sum+i\n",
    "mid=sum//len(l)\n",
    "print(max1*mid)"
   ]
  },
  {
   "cell_type": "code",
   "execution_count": 3,
   "metadata": {},
   "outputs": [
    {
     "name": "stdout",
     "output_type": "stream",
     "text": [
      "[[1, 2], [3, 4]]\n"
     ]
    }
   ],
   "source": [
    "n=int(input())\n",
    "m=int(input())\n",
    "l=[]\n",
    "for i in range(m):\n",
    "    l1=[]\n",
    "    for j in range(n):\n",
    "        l1.append(int(input()))\n",
    "    l.append(l1)\n",
    "print(l)\n",
    "\n",
    "\n"
   ]
  },
  {
   "cell_type": "code",
   "execution_count": 9,
   "metadata": {},
   "outputs": [
    {
     "name": "stdout",
     "output_type": "stream",
     "text": [
      "[[1, 2, 3], [4, 5, 6], [7, 8, 9]]\n",
      "[1, 2, 3]\n",
      "[4, 5, 6]\n",
      "[7, 8, 9]\n"
     ]
    }
   ],
   "source": [
    "def get_nested_list(rows, cols):\n",
    "    nested_list = []\n",
    "    for i in range(rows):\n",
    "        row = []\n",
    "        for j in range(cols):\n",
    "            value = input()\n",
    "            row.append(int(value))  # Assuming you want the elements to be integers\n",
    "        nested_list.append(row)\n",
    "    return nested_list\n",
    "\n",
    "# Get the size of the nested list from the user\n",
    "num_rows = int(input())\n",
    "num_cols = int(input())\n",
    "\n",
    "# Get the nested list from the user\n",
    "user_nested_list = get_nested_list(num_rows, num_cols)\n",
    "print(user_nested_list)\n"
   ]
  },
  {
   "cell_type": "code",
   "execution_count": 1,
   "metadata": {},
   "outputs": [
    {
     "name": "stdout",
     "output_type": "stream",
     "text": [
      "[[1, 2], [3, 4]]\n",
      "10\n"
     ]
    }
   ],
   "source": [
    "n=int(input())\n",
    "m=int(input())\n",
    "l1=[]\n",
    "for i in range(m):\n",
    "    l=[]\n",
    "    for i in range(n):\n",
    "        k=int(input())\n",
    "        l.append(k)\n",
    "    l1.append(l)\n",
    "print(l1)\n",
    "s=0\n",
    "for i in range(m):\n",
    "    for j in range(n):\n",
    "        s=s+l1[i][j]\n",
    "print(s)"
   ]
  },
  {
   "cell_type": "code",
   "execution_count": 12,
   "metadata": {},
   "outputs": [
    {
     "name": "stdout",
     "output_type": "stream",
     "text": [
      "[3, 3, 3]\n"
     ]
    }
   ],
   "source": [
    "n=int(input())\n",
    "l=[]\n",
    "for i in range(n):\n",
    "    l.append(int(input()))\n",
    "l.sort()\n",
    "print(l)"
   ]
  },
  {
   "cell_type": "code",
   "execution_count": 15,
   "metadata": {},
   "outputs": [
    {
     "name": "stdout",
     "output_type": "stream",
     "text": [
      "[9, 6, 1]\n"
     ]
    }
   ],
   "source": [
    "n=int(input())\n",
    "l=[]\n",
    "for i in range(n):\n",
    "    l.append(int(input()))\n",
    "l.sort()\n",
    "print(l[::-1])"
   ]
  },
  {
   "cell_type": "code",
   "execution_count": 4,
   "metadata": {},
   "outputs": [
    {
     "name": "stdout",
     "output_type": "stream",
     "text": [
      "2\n"
     ]
    }
   ],
   "source": [
    "n=[int(i) for i in input().split()]\n",
    "v=int(input())\n",
    "c=0\n",
    "for i in n:\n",
    "    if v==i:\n",
    "        c+=1\n",
    "print(c)"
   ]
  },
  {
   "cell_type": "code",
   "execution_count": 6,
   "metadata": {},
   "outputs": [
    {
     "name": "stdout",
     "output_type": "stream",
     "text": [
      "0\n"
     ]
    }
   ],
   "source": [
    "n=int(input())\n",
    "n=n%10\n",
    "print(n)\n"
   ]
  },
  {
   "cell_type": "code",
   "execution_count": 37,
   "metadata": {},
   "outputs": [
    {
     "name": "stdout",
     "output_type": "stream",
     "text": [
      "no\n",
      "yes\n",
      "no\n",
      "no\n",
      "yes\n",
      "yes\n",
      "no\n",
      "yes\n",
      "no\n",
      "no\n",
      "yes\n",
      "yes\n",
      "yes\n",
      "no\n",
      "yes\n",
      "yes\n",
      "no\n",
      "no\n",
      "yes\n",
      "no\n",
      "yes\n",
      "yes\n",
      "no\n",
      "no\n",
      "no\n",
      "yes\n",
      "no\n",
      "no\n",
      "yes\n",
      "yes\n",
      "yes\n",
      "no\n",
      "yes\n",
      "yes\n",
      "no\n",
      "no\n"
     ]
    }
   ],
   "source": [
    "l=[1,1,0,0,1,0]\n",
    "l1=[]\n",
    "j=l[::-1]\n",
    "for i in l:\n",
    "    for m in j:\n",
    "        if i==m:\n",
    "            print(\"yes\")\n",
    "        else:\n",
    "            print(\"no\")"
   ]
  },
  {
   "cell_type": "code",
   "execution_count": 8,
   "metadata": {},
   "outputs": [
    {
     "name": "stdout",
     "output_type": "stream",
     "text": [
      "0\n",
      "1\n",
      "1\n",
      "2\n",
      "3\n"
     ]
    }
   ],
   "source": [
    "n=int(input())\n",
    "fib1,fib2=0,1\n",
    "fib3=0\n",
    "for i in range(n):\n",
    "    print(fib1)\n",
    "    fib3=fib1+fib2\n",
    "    fib1=fib2\n",
    "    fib2=fib3\n"
   ]
  },
  {
   "cell_type": "code",
   "execution_count": 33,
   "metadata": {},
   "outputs": [
    {
     "name": "stdout",
     "output_type": "stream",
     "text": [
      "['2', '8', '6', '4']\n",
      "['2', '8', '4', '6']\n"
     ]
    }
   ],
   "source": [
    "#halflistsort\n",
    "z=int(input())\n",
    "n=[]\n",
    "for i in range(z):\n",
    "    n.append(input())\n",
    "print(n)\n",
    "m=len(n)//2\n",
    "l=[]\n",
    "r=[]\n",
    "for i in range(m):\n",
    "    l.append(n[i])\n",
    "for i in range(m,len(n)):\n",
    "    r.append(n[i])\n",
    "l=l+r[::-1]\n",
    "print(l)"
   ]
  },
  {
   "cell_type": "code",
   "execution_count": 11,
   "metadata": {},
   "outputs": [
    {
     "name": "stdout",
     "output_type": "stream",
     "text": [
      "['o', 'e']\n",
      "['h', 'e', 'l', 'l', 'o']\n",
      "['h', \"'\", 'l', 'l', 'o']\n"
     ]
    }
   ],
   "source": [
    "\"\"\"given string changing the vowels to consants\"\"\"\n",
    "n=input()\n",
    "vl=['a', 'e', 'i', 'o', 'u']\n",
    "nl=[]\n",
    "l=list(n)\n",
    "for i in l:\n",
    "    if(i in vl):\n",
    "        nl.append(i)\n",
    "nl=str(nl[::-1])\n",
    "\n"
   ]
  },
  {
   "cell_type": "code",
   "execution_count": 20,
   "metadata": {},
   "outputs": [
    {
     "name": "stdout",
     "output_type": "stream",
     "text": [
      "e\n"
     ]
    }
   ],
   "source": [
    "n=input()\n",
    "a,z=[],[]\n",
    "v=['a','e','i','o','u']\n",
    "for i in v:\n",
    "    if i in n:\n",
    "        a.append(i)\n",
    "for i in n:\n",
    "    j=0\n",
    "    if i==a[j]:\n",
    "        z=a[j]\n",
    "        print(z)\n",
    "        j+=1"
   ]
  }
 ],
 "metadata": {
  "kernelspec": {
   "display_name": "Python 3",
   "language": "python",
   "name": "python3"
  },
  "language_info": {
   "codemirror_mode": {
    "name": "ipython",
    "version": 3
   },
   "file_extension": ".py",
   "mimetype": "text/x-python",
   "name": "python",
   "nbconvert_exporter": "python",
   "pygments_lexer": "ipython3",
   "version": "3.11.4"
  },
  "orig_nbformat": 4
 },
 "nbformat": 4,
 "nbformat_minor": 2
}
