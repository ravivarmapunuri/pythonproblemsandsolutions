{
 "cells": [
  {
   "cell_type": "code",
   "execution_count": null,
   "metadata": {},
   "outputs": [],
   "source": [
    "#39's missing\n",
    "n=int(input()) #input 5\n",
    "\n",
    "l=list(map(int,input().split()))[:n]  #list of values upto n size\n",
    "\n",
    "l1=list(map(int,input().spllit()))[:n-1]  # list of values upto n-1 size \n",
    "\n",
    "l2=list(map(int,input().split()))[:n-2]    # list of values uptp n-2 size\n",
    "\n",
    "for i in l:\n",
    "    if i not in l1:\n",
    "        print(i) #printing the value of l list which is not in l1\n",
    "        for j in l1:\n",
    "            if j not in l2:\n",
    "                print(j) # printing the value of l1 which is not in l2"
   ]
  },
  {
   "cell_type": "code",
   "execution_count": 4,
   "metadata": {},
   "outputs": [
    {
     "name": "stdout",
     "output_type": "stream",
     "text": [
      "11\n"
     ]
    }
   ],
   "source": [
    "#print the prime numbers equal to n\n",
    "n=int(input())\n",
    "\n",
    "i=1\n",
    "\n",
    "l=[]\n",
    "\n",
    "while i:\n",
    "    if i>1:\n",
    "        for x in range(2,i):\n",
    "            if i%x==0:\n",
    "                break\n",
    "        else:\n",
    "            l.append(i)\n",
    "\n",
    "    if len(l)==n:\n",
    "        break\n",
    "    else:\n",
    "        i+=1\n",
    "\n",
    "print(l[-1])"
   ]
  },
  {
   "cell_type": "code",
   "execution_count": 8,
   "metadata": {},
   "outputs": [
    {
     "name": "stdout",
     "output_type": "stream",
     "text": [
      "223\n"
     ]
    }
   ],
   "source": [
    "n=int(input())\n",
    "m=int(input())\n",
    "c=0\n",
    "for i in range(n,m+1):\n",
    "    if i>1:\n",
    "        for j in range(2,i):\n",
    "            if i%j==0:\n",
    "                break\n",
    "        else:\n",
    "            v=int(str(i)[::-1])\n",
    "            for x in range(2,v):\n",
    "                if v%x==0:\n",
    "                    break\n",
    "\n",
    "            else:\n",
    "                c+=i\n",
    "        \n",
    "print(c)\n"
   ]
  },
  {
   "cell_type": "code",
   "execution_count": 8,
   "metadata": {},
   "outputs": [
    {
     "name": "stdout",
     "output_type": "stream",
     "text": [
      "armaravi v\n"
     ]
    }
   ],
   "source": [
    "s=\"ravi varma\"\n",
    "n=4\n",
    "print(s[-n:]+s[:-n])"
   ]
  },
  {
   "cell_type": "code",
   "execution_count": null,
   "metadata": {},
   "outputs": [],
   "source": []
  }
 ],
 "metadata": {
  "kernelspec": {
   "display_name": "Python 3",
   "language": "python",
   "name": "python3"
  },
  "language_info": {
   "codemirror_mode": {
    "name": "ipython",
    "version": 3
   },
   "file_extension": ".py",
   "mimetype": "text/x-python",
   "name": "python",
   "nbconvert_exporter": "python",
   "pygments_lexer": "ipython3",
   "version": "3.11.4"
  }
 },
 "nbformat": 4,
 "nbformat_minor": 2
}
