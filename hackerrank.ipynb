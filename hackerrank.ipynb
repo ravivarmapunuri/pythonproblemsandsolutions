{
 "cells": [
  {
   "cell_type": "code",
   "execution_count": 1,
   "metadata": {},
   "outputs": [
    {
     "name": "stdout",
     "output_type": "stream",
     "text": [
      "   *   \n",
      "  ***  \n",
      " ***** \n",
      "*******\n",
      "  ****            ****          \n",
      "  ****            ****          \n",
      "  ****            ****          \n",
      "  ****            ****          \n",
      "  ****            ****          \n",
      "  ********************  \n",
      "  ********************  \n",
      "  ****            ****          \n",
      "  ****            ****          \n",
      "  ****            ****          \n",
      "  ****            ****          \n",
      "  ****            ****          \n",
      "                ******* \n",
      "                 *****  \n",
      "                  ***   \n",
      "                   *    \n"
     ]
    }
   ],
   "source": [
    "thickness = int(input()) #This must be an odd number\n",
    "c = '*'\n",
    "\n",
    "#Top Cone\n",
    "for i in range(thickness):\n",
    "    print((c*i).rjust(thickness-1)+c+(c*i).ljust(thickness-1))\n",
    "\n",
    "#Top Pillars\n",
    "for i in range(thickness+1):\n",
    "    print((c*thickness).center(thickness*2)+(c*thickness).center(thickness*6))\n",
    "\n",
    "#Middle Belt\n",
    "for i in range((thickness+1)//2):\n",
    "    print((c*thickness*5).center(thickness*6))    \n",
    "\n",
    "#Bottom Pillars\n",
    "for i in range(thickness+1):\n",
    "    print((c*thickness).center(thickness*2)+(c*thickness).center(thickness*6))    \n",
    "\n",
    "#Bottom Cone\n",
    "for i in range(thickness):\n",
    "    print(((c*(thickness-i-1)).rjust(thickness)+c+(c*(thickness-i-1)).ljust(thickness)).rjust(thickness*6))"
   ]
  },
  {
   "cell_type": "code",
   "execution_count": 8,
   "metadata": {},
   "outputs": [
    {
     "name": "stdout",
     "output_type": "stream",
     "text": [
      "---.|.----\n",
      ".|..|..|.-\n",
      "-WELCOME--\n",
      ".|..|..|.-\n",
      "---.|.----\n"
     ]
    }
   ],
   "source": [
    "a,b=input().split() #input\n",
    "\n",
    "for i in range(1,int(a)):\n",
    "    if((i%2)!=0):\n",
    "        print((\".|.\"*i).center(int(b),\"-\"))\n",
    "print(\"WELCOME\".center(int(b),\"-\"))\n",
    "\n",
    "a=int(a)-1\n",
    "for i in range(a):\n",
    "    if(((a-i)%2)!=0):\n",
    "        print((\".|.\"*(a-i)).center(int(b),\"-\"))"
   ]
  }
 ],
 "metadata": {
  "kernelspec": {
   "display_name": "Python 3",
   "language": "python",
   "name": "python3"
  },
  "language_info": {
   "codemirror_mode": {
    "name": "ipython",
    "version": 3
   },
   "file_extension": ".py",
   "mimetype": "text/x-python",
   "name": "python",
   "nbconvert_exporter": "python",
   "pygments_lexer": "ipython3",
   "version": "3.11.4"
  },
  "orig_nbformat": 4
 },
 "nbformat": 4,
 "nbformat_minor": 2
}
