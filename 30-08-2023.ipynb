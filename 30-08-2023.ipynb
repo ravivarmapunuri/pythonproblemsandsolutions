{
 "cells": [
  {
   "cell_type": "code",
   "execution_count": 22,
   "metadata": {},
   "outputs": [
    {
     "name": "stdout",
     "output_type": "stream",
     "text": [
      "10 26 36 55 72 99\n"
     ]
    }
   ],
   "source": [
    "#10 36 99 72 55 26\n",
    "a=list(map(int,input().split()))\n",
    "for i in range(0,len(a)-1):\n",
    "    for j in range(i+1,len(a)):\n",
    "        if a[i] > a[j]:\n",
    "            temp= a[i]\n",
    "            a[i] = a[j]\n",
    "            a[j] = temp\n",
    "print(*a)\n"
   ]
  },
  {
   "cell_type": "code",
   "execution_count": 21,
   "metadata": {},
   "outputs": [
    {
     "name": "stdout",
     "output_type": "stream",
     "text": [
      "1 4 9 16\n"
     ]
    }
   ],
   "source": [
    "def sq(n):\n",
    "    return n**2\n",
    "\n",
    "a=[1,2,3,4]\n",
    "print(*list(map(sq,a)))"
   ]
  },
  {
   "cell_type": "code",
   "execution_count": null,
   "metadata": {},
   "outputs": [],
   "source": [
    "\"\"\"\n",
    "1) Program to display half of the numbers in ascending order and other half in descending order\n",
    "   input: [7,9,6,19,28,1] \n",
    "   output: [1,6,7,28,19,9]\n",
    "2) All the even numbers followed by odd\n",
    "    input : [1,3,4,6,7,8,2,5]\n",
    "    ouptut:[2,4,6,8,1,3,5,7]\n",
    "3) same but odd no's first then even no's later\n",
    "4) program to count the missing numbers after sorting in ascending order\n",
    "    input : 6 1 9 2 12 7 5 3 16 4\n",
    "    output : 6\n",
    "5) print non prime numbers from the list \n",
    "    input : 1 5 9 3 10 76 22\n",
    "    output : 1 9 10 76 22\n",
    "6) print sum of prime numbers from the list \n",
    "    input : 1 5 9  3 10 76 22 2 \n",
    "    output : 10\n",
    "7) print maximum and minimum numbers from the list\n",
    "    input : 10 34 56 22 87 1 99 2 3 878\n",
    "    output: minimum number - 1\n",
    "            maximum number - 878\n",
    "\"\"\"\n"
   ]
  },
  {
   "cell_type": "code",
   "execution_count": 46,
   "metadata": {},
   "outputs": [
    {
     "name": "stdout",
     "output_type": "stream",
     "text": [
      "[7, 9, 6, 19, 28, 1]\n",
      "[1, 6, 7, 9, 19, 28]\n",
      "[1, 6, 7, 28, 19, 9]\n"
     ]
    }
   ],
   "source": [
    "#1st program\n",
    "a=list(map(int,input().split()))\n",
    "print(a)\n",
    "for i in range(0,len(a)-1):\n",
    "    for j in range(i+1,len(a)):\n",
    "        if a[i]>a[j]:\n",
    "            temp = a[i]\n",
    "            a[i]= a[j]\n",
    "            a[j] =temp\n",
    "print(a)\n",
    "l=len(a)//2\n",
    "l1=a[:l]\n",
    "l2=a[l:]\n",
    "for i in range(0,len(l2)):\n",
    "    for j in range(i+1,len(l2)):\n",
    "        if l2[i]<l2[j]:\n",
    "            temp=l2[i]\n",
    "            l2[i]=l2[j]\n",
    "            l2[j]=temp\n",
    "print(l1+l2)\n",
    "#7 9 6 19 28 1"
   ]
  },
  {
   "cell_type": "code",
   "execution_count": 1,
   "metadata": {},
   "outputs": [
    {
     "name": "stdout",
     "output_type": "stream",
     "text": [
      "[1, 3, 4, 6, 7, 8, 2, 5]\n",
      "2 4 6 8 1 3 5 7\n"
     ]
    }
   ],
   "source": [
    "#2th program\n",
    "a=list(map(int,input().split()))\n",
    "print(a)\n",
    "for i in range(0,len(a)-1):\n",
    "    for j in range(i+1,len(a)):\n",
    "        if a[i] > a[j]:\n",
    "            temp= a[i]\n",
    "            a[i] = a[j]\n",
    "            a[j] = temp\n",
    "e,o=[],[]\n",
    "for i in a:\n",
    "    if i%2==0:\n",
    "        e.append(i)\n",
    "    else:\n",
    "        o.append(i)\n",
    "print(*(e+o))"
   ]
  },
  {
   "cell_type": "code",
   "execution_count": 30,
   "metadata": {},
   "outputs": [
    {
     "name": "stdout",
     "output_type": "stream",
     "text": [
      "[2, 4, 6, 8, 7, 9]\n",
      "7 9 2 4 6 8\n"
     ]
    }
   ],
   "source": [
    "#3rd program\n",
    "a=list(map(int,input().split()))\n",
    "print(a)\n",
    "for i in range(0,len(a)-1):\n",
    "    for j in range(i+1,len(a)):\n",
    "        if a[i] > a[j]:\n",
    "            temp= a[i]\n",
    "            a[i] = a[j]\n",
    "            a[j] = temp\n",
    "e,o=[],[]\n",
    "for i in a:\n",
    "    if i%2==0:\n",
    "        e.append(i)\n",
    "    else:\n",
    "        o.append(i)\n",
    "print(*(o+e))"
   ]
  },
  {
   "cell_type": "code",
   "execution_count": 103,
   "metadata": {},
   "outputs": [
    {
     "name": "stdout",
     "output_type": "stream",
     "text": [
      "[6, 1, 9, 2, 12, 7, 5, 3, 16, 4]\n",
      "6\n"
     ]
    }
   ],
   "source": [
    "#4th program\n",
    "a=list(map(int,input().split()))\n",
    "print(a)\n",
    "m2=a[0]\n",
    "m1=a[0]\n",
    "c=0\n",
    "for i in range(0,len(a)):\n",
    "    if m<a[i]:\n",
    "        m2=a[i]\n",
    "    if m1>a[i]:\n",
    "        m1=a[i]\n",
    "for i in range(m1,m2+1):\n",
    "    if i not in a:\n",
    "        c+=1\n",
    "print(c)\n",
    "    "
   ]
  },
  {
   "cell_type": "code",
   "execution_count": 76,
   "metadata": {},
   "outputs": [
    {
     "name": "stdout",
     "output_type": "stream",
     "text": [
      "[1, 5, 9, 3, 10, 76, 22, 2]\n",
      "1 9 10 76 22 "
     ]
    }
   ],
   "source": [
    "#5th program\n",
    "a=list(map(int,input().split()))\n",
    "print(a)\n",
    "b=[]\n",
    "#1 5 9  3 10 76 22 2 \n",
    "#1 9 10 76 22\n",
    "for i in range(0,len(a)):\n",
    "    if a[i]==0 or a[i]==1:\n",
    "        pass\n",
    "    else:\n",
    "        for j in range(2,a[i]):\n",
    "            if a[i]%j==0:\n",
    "                break\n",
    "        else:\n",
    "            b.append(a[i])\n",
    "for i in a:\n",
    "    if i not in b:\n",
    "        print(i,end=\" \")"
   ]
  },
  {
   "cell_type": "code",
   "execution_count": 61,
   "metadata": {},
   "outputs": [
    {
     "name": "stdout",
     "output_type": "stream",
     "text": [
      "[1, 5, 9, 3, 10, 76, 22, 2]\n",
      "5\n",
      "3\n",
      "2\n",
      "10\n"
     ]
    }
   ],
   "source": [
    "#6th program\n",
    "a=list(map(int,input().split()))\n",
    "print(a)\n",
    "#1 5 9  3 10 76 22 2 \n",
    "s=0\n",
    "for i in range(0,len(a)):\n",
    "    if a[i]==0 or a[i]==1:\n",
    "        pass\n",
    "    else:\n",
    "        for j in range(2,a[i]):\n",
    "            if a[i]%j==0:\n",
    "                break\n",
    "        else:\n",
    "            print(a[i])\n",
    "            s+=a[i]\n",
    "print(s)\n"
   ]
  },
  {
   "cell_type": "code",
   "execution_count": 92,
   "metadata": {},
   "outputs": [
    {
     "name": "stdout",
     "output_type": "stream",
     "text": [
      "Minimum number - 0\n",
      "Maximum number - 878\n"
     ]
    }
   ],
   "source": [
    "#7th program\n",
    "a=list(map(int,input().split()))\n",
    "print(a)\n",
    "m=a[0]\n",
    "m1=a[0]\n",
    "for i in range(0,len(a)):\n",
    "    if m<a[i]:\n",
    "        m=a[i]\n",
    "    if m1>a[i]:\n",
    "        m1=a[i]\n",
    "print(\"Minimum number -\",m1)\n",
    "print(\"Maximum number -\",m)"
   ]
  },
  {
   "cell_type": "code",
   "execution_count": 3,
   "metadata": {},
   "outputs": [
    {
     "name": "stdout",
     "output_type": "stream",
     "text": [
      "[99, 1, 88, 2, 77, 3, 66, 4, 55, 8]\n",
      "[1, 2, 3, 4, 8, 55, 66, 77, 88, 99]\n",
      "[1, 2, 3, 4, 8, 99, 88, 77, 66, 55]\n"
     ]
    }
   ],
   "source": [
    "a=list(map(int,input().split()))\n",
    "print(a)\n",
    "for i in range(len(a)):\n",
    "       for j in range(i+1,len(a)):\n",
    "            if a[i]>a[j]:   \n",
    "               temp=a[i]\n",
    "               a[i]=a[j]\n",
    "               a[j]=temp\n",
    "print(a)\n",
    "for k in range(len(a)//2,len(a)):\n",
    "    for m in range(k+1,len(a)):\n",
    "        if a[k]<a[m]:\n",
    "           temp=a[k]\n",
    "           a[k]=a[m]\n",
    "           a[m]=temp\n",
    "print(a)"
   ]
  }
 ],
 "metadata": {
  "kernelspec": {
   "display_name": "Python 3",
   "language": "python",
   "name": "python3"
  },
  "language_info": {
   "codemirror_mode": {
    "name": "ipython",
    "version": 3
   },
   "file_extension": ".py",
   "mimetype": "text/x-python",
   "name": "python",
   "nbconvert_exporter": "python",
   "pygments_lexer": "ipython3",
   "version": "3.11.4"
  },
  "orig_nbformat": 4
 },
 "nbformat": 4,
 "nbformat_minor": 2
}
