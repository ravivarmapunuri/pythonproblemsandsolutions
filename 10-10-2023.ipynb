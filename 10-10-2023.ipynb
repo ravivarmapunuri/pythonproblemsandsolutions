{
 "cells": [
  {
   "cell_type": "code",
   "execution_count": 22,
   "metadata": {},
   "outputs": [
    {
     "name": "stdout",
     "output_type": "stream",
     "text": [
      "4201.75\n",
      "3858.75\n"
     ]
    }
   ],
   "source": [
    "#1st prg\n",
    "k,q,rr=75,150,50\n",
    "t=int(input(\"Enter the no of tickets:\"))\n",
    "r=input(\"Do you want to refreshment ?\").lower()\n",
    "c=input(\"Do you have coupon code ? \").lower()\n",
    "cc=input(\"Enter the circle \").lower()\n",
    "tt=0\n",
    "if t>=5 and t<=40:\n",
    "    if cc=='k':\n",
    "        tt=t*k\n",
    "    if cc=='q':\n",
    "        tt=t*q\n",
    "    if r=='y':\n",
    "        tt+=t*rr\n",
    "    if t>20:\n",
    "        tt=tt-(tt*0.1)\n",
    "    if c=='y':\n",
    "        tt=tt-(tt*0.02)\n",
    "    print(tt)"
   ]
  },
  {
   "cell_type": "code",
   "execution_count": 31,
   "metadata": {},
   "outputs": [
    {
     "name": "stdout",
     "output_type": "stream",
     "text": [
      "21212 palindrome\n"
     ]
    }
   ],
   "source": [
    "#2nd prg\n",
    "n=input()\n",
    "if n==n[::-1]:\n",
    "    print(n,\"palindrome\")\n",
    "else:\n",
    "    print(n,\"not a palindrome\")"
   ]
  },
  {
   "cell_type": "code",
   "execution_count": 41,
   "metadata": {},
   "outputs": [
    {
     "name": "stdout",
     "output_type": "stream",
     "text": [
      "not a palindrome\n"
     ]
    }
   ],
   "source": [
    "n=int(input())\n",
    "res=0\n",
    "temp=n\n",
    "while n:\n",
    "    rem=n%10\n",
    "    res=(res*10)+rem\n",
    "    n=n//10\n",
    "if res==temp:\n",
    "    print(\"Palindrome\")\n",
    "else:\n",
    "    print(\"not a palindrome\")"
   ]
  },
  {
   "cell_type": "code",
   "execution_count": 30,
   "metadata": {},
   "outputs": [
    {
     "name": "stdout",
     "output_type": "stream",
     "text": [
      "Lucky Number\n"
     ]
    }
   ],
   "source": [
    "#3rd prg\n",
    "n=int(input())\n",
    "l=sum([int(i) for i in str(n)])\n",
    "if n==0:\n",
    "    print(\"Sorry its not my lucky number\")\n",
    "elif l%3==0 or l%5==0 or l%7==0:\n",
    "    print(\"Lucky Number\")\n",
    "else:\n",
    "    print(\"Sorry its not my lucky number\")"
   ]
  },
  {
   "cell_type": "code",
   "execution_count": 1,
   "metadata": {},
   "outputs": [
    {
     "name": "stdout",
     "output_type": "stream",
     "text": [
      "65 A\n",
      "66 B\n",
      "67 C\n",
      "68 D\n"
     ]
    }
   ],
   "source": [
    "#4th prg\n",
    "l=list(map(int,input().split()))\n",
    "for i in l:\n",
    "    print(i,chr(i))"
   ]
  },
  {
   "cell_type": "code",
   "execution_count": 59,
   "metadata": {},
   "outputs": [
    {
     "name": "stdout",
     "output_type": "stream",
     "text": [
      "1\n"
     ]
    }
   ],
   "source": [
    "#5th prg\n",
    "s=input()\n",
    "l=[]\n",
    "l1=[]\n",
    "for i in s:\n",
    "    if i=='(':\n",
    "        l.append(i)\n",
    "    if i==')':\n",
    "        l1.append(i)\n",
    "if len(l)==len(l1):\n",
    "    print(0)\n",
    "else:\n",
    "    print(abs(len(l)-len(l1)))"
   ]
  }
 ],
 "metadata": {
  "kernelspec": {
   "display_name": "Python 3",
   "language": "python",
   "name": "python3"
  },
  "language_info": {
   "codemirror_mode": {
    "name": "ipython",
    "version": 3
   },
   "file_extension": ".py",
   "mimetype": "text/x-python",
   "name": "python",
   "nbconvert_exporter": "python",
   "pygments_lexer": "ipython3",
   "version": "3.11.4"
  }
 },
 "nbformat": 4,
 "nbformat_minor": 2
}
