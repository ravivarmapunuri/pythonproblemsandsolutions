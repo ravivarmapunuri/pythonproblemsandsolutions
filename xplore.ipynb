{
 "cells": [
  {
   "cell_type": "code",
   "execution_count": 6,
   "metadata": {},
   "outputs": [
    {
     "name": "stdout",
     "output_type": "stream",
     "text": [
      "samedsamed"
     ]
    }
   ],
   "source": [
    "g=\"abab\"\n",
    "s=\"aaaa\"\n",
    "for i in range(len(g)):\n",
    "    if s[i]==g[i]:\n",
    "        print(\"same\",end=\"\")\n",
    "    else:\n",
    "        print(\"d\",end=\"\")"
   ]
  },
  {
   "cell_type": "code",
   "execution_count": 12,
   "metadata": {},
   "outputs": [
    {
     "name": "stdout",
     "output_type": "stream",
     "text": [
      "2\n"
     ]
    }
   ],
   "source": [
    "l=[10, 11, 12, 13, 13, 14, 15, 16 ]\n",
    "f=13\n",
    "if f in l:\n",
    "    print(l.count(f))\n",
    "else:\n",
    "    print(-1)"
   ]
  },
  {
   "cell_type": "code",
   "execution_count": 27,
   "metadata": {},
   "outputs": [
    {
     "name": "stdout",
     "output_type": "stream",
     "text": [
      "[512, 256, 128, 64, 1024]\n",
      "64 1024\n",
      "1\n"
     ]
    }
   ],
   "source": [
    "l=list(map(int,\"512 256 128 64 1024\".split()))\n",
    "print(l)\n",
    "s=1088\n",
    "c=0\n",
    "for i in range(len(l)):\n",
    "    for j in range(i,len(l)):\n",
    "        if l[i]!=l[j]:\n",
    "            if l[i]+l[j]==s:\n",
    "                print(l[i],l[j])\n",
    "                c+=1\n",
    "print(c)"
   ]
  },
  {
   "cell_type": "code",
   "execution_count": 40,
   "metadata": {},
   "outputs": [
    {
     "name": "stdout",
     "output_type": "stream",
     "text": [
      "2 20\n"
     ]
    }
   ],
   "source": [
    "m,n=10,4\n",
    "h=0\n",
    "for i in range(1,min(m,n)+1):\n",
    "    if m%i==0 and n%i==0:\n",
    "        h=i\n",
    "print(h,(m*n)//h)"
   ]
  },
  {
   "cell_type": "code",
   "execution_count": 46,
   "metadata": {},
   "outputs": [
    {
     "name": "stdout",
     "output_type": "stream",
     "text": [
      "Neutral\n"
     ]
    }
   ],
   "source": [
    "n,m,r=20,21,41\n",
    "s=0\n",
    "for i in range(n,m+1):\n",
    "    s+=i\n",
    "if s==r:\n",
    "    print(\"Neutral\")\n",
    "elif s>r:\n",
    "    print(\"decreases\",abs(s-r))\n",
    "elif s<r:\n",
    "    print(\"add\",abs(s-r))"
   ]
  },
  {
   "cell_type": "code",
   "execution_count": 3,
   "metadata": {},
   "outputs": [
    {
     "name": "stdout",
     "output_type": "stream",
     "text": [
      "teachr\n"
     ]
    }
   ],
   "source": [
    "s=\"teacher\"\n",
    "v=\"\"\n",
    "for i in s:\n",
    "    if i not in v:\n",
    "        v+=i\n",
    "print(v)"
   ]
  },
  {
   "cell_type": "code",
   "execution_count": 20,
   "metadata": {},
   "outputs": [
    {
     "name": "stdout",
     "output_type": "stream",
     "text": [
      "abc def ghi  "
     ]
    }
   ],
   "source": [
    "s=\"abcdefghi\"\n",
    "n=3\n",
    "if len(s)<n:\n",
    "    print('invalid')\n",
    "else:\n",
    "    for i in range(0,len(s)+1,n):\n",
    "        print(s[i:i+n],end=\" \")"
   ]
  },
  {
   "cell_type": "code",
   "execution_count": null,
   "metadata": {},
   "outputs": [],
   "source": [
    "#--------------------------"
   ]
  }
 ],
 "metadata": {
  "kernelspec": {
   "display_name": "Python 3",
   "language": "python",
   "name": "python3"
  },
  "language_info": {
   "codemirror_mode": {
    "name": "ipython",
    "version": 3
   },
   "file_extension": ".py",
   "mimetype": "text/x-python",
   "name": "python",
   "nbconvert_exporter": "python",
   "pygments_lexer": "ipython3",
   "version": "3.11.4"
  }
 },
 "nbformat": 4,
 "nbformat_minor": 2
}
