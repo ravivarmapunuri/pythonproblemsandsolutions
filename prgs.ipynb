{
 "cells": [
  {
   "cell_type": "code",
   "execution_count": null,
   "metadata": {},
   "outputs": [],
   "source": [
    "#----------------------------------------------------------------------30 programs----------------------------------------------------------------------"
   ]
  },
  {
   "cell_type": "code",
   "execution_count": 5,
   "metadata": {},
   "outputs": [
    {
     "name": "stdout",
     "output_type": "stream",
     "text": [
      "Odd Number\n"
     ]
    }
   ],
   "source": [
    "#even or odd\n",
    "n=int(input(\"Enter the Number\"))\n",
    "if n % 2==0:\n",
    "    print(\"Even Number\")\n",
    "else:\n",
    "    print(\"Odd Number\")"
   ]
  },
  {
   "cell_type": "code",
   "execution_count": 6,
   "metadata": {},
   "outputs": [
    {
     "name": "stdout",
     "output_type": "stream",
     "text": [
      "prime number\n"
     ]
    }
   ],
   "source": [
    "#prime number : the number which is divisible by 1 and itself is called prime\n",
    "n=int(input())\n",
    "count=0\n",
    "for i in range(1,n+1):\n",
    "    if n%i==0:\n",
    "        count+=1\n",
    "if count==2:\n",
    "    print(\"prime number\")\n",
    "else:\n",
    "    print(\"not a prime number\")"
   ]
  },
  {
   "cell_type": "code",
   "execution_count": 10,
   "metadata": {},
   "outputs": [
    {
     "name": "stdout",
     "output_type": "stream",
     "text": [
      "2\n",
      "3\n",
      "5\n",
      "7\n"
     ]
    }
   ],
   "source": [
    "#prime number between given range\n",
    "low=int(input())\n",
    "high=int(input())\n",
    "for i in range(low,high):\n",
    "    count=0\n",
    "    for j in range(1,i+1):\n",
    "        if i%j==0:\n",
    "            count+=1\n",
    "    if count==2:\n",
    "        print(i)"
   ]
  },
  {
   "cell_type": "code",
   "execution_count": 15,
   "metadata": {},
   "outputs": [
    {
     "name": "stdout",
     "output_type": "stream",
     "text": [
      "not a pronic\n"
     ]
    }
   ],
   "source": [
    "#pronic number: A number which can be defined as a product of two consecutive integers.(ex:5*6)\n",
    "n=int(input())\n",
    "flag=0\n",
    "for i in range(1,n):\n",
    "    if(i*(i+1)==n):\n",
    "        print(\"Pronic\")\n",
    "        flag=1\n",
    "        break\n",
    "if(flag==0):\n",
    "    print(\"not a pronic\")"
   ]
  },
  {
   "cell_type": "code",
   "execution_count": 23,
   "metadata": {},
   "outputs": [
    {
     "name": "stdout",
     "output_type": "stream",
     "text": [
      "perfect\n"
     ]
    }
   ],
   "source": [
    "#perfect number: the sum of the all the factors of given number is equal to that number\n",
    "n=int(input())\n",
    "sum=0\n",
    "for i in range(1,n):\n",
    "    if(n%i==0):\n",
    "        sum+=i\n",
    "if(sum==n):\n",
    "    print(\"perfect\")\n",
    "else:\n",
    "    print(\"not perfect\")"
   ]
  },
  {
   "cell_type": "code",
   "execution_count": 26,
   "metadata": {},
   "outputs": [
    {
     "name": "stdout",
     "output_type": "stream",
     "text": [
      "gcd: 5\n",
      "lcm: 75\n"
     ]
    }
   ],
   "source": [
    "#gcd and lcm numbers\n",
    "n1=int(input())\n",
    "n2=int(input())\n",
    "i=1\n",
    "gcd=1\n",
    "while(i<=n1):\n",
    "    if(n1%i==0 and n2 %i==0):\n",
    "        gcd=i\n",
    "    i+=1\n",
    "print(\"gcd:\",gcd)\n",
    "print(\"lcm:\",(n1*n2)//gcd)"
   ]
  },
  {
   "cell_type": "code",
   "execution_count": 28,
   "metadata": {},
   "outputs": [
    {
     "name": "stdout",
     "output_type": "stream",
     "text": [
      "120\n"
     ]
    }
   ],
   "source": [
    "#program to find the factorial of the given number without recursion\n",
    "n=int(input())\n",
    "fact=1\n",
    "for i in range(1,n+1):\n",
    "    fact=fact*i\n",
    "print(fact)"
   ]
  },
  {
   "cell_type": "code",
   "execution_count": 33,
   "metadata": {},
   "outputs": [
    {
     "name": "stdout",
     "output_type": "stream",
     "text": [
      "factorial is: 120\n"
     ]
    }
   ],
   "source": [
    "#factorial with recursion\n",
    "n=int(input())\n",
    "def factorial(n):\n",
    "    if(n==1):\n",
    "        return n\n",
    "    elif(n==0):\n",
    "        return 0\n",
    "    else:\n",
    "        return n*factorial(n-1)\n",
    "print(\"factorial is:\",factorial(n))"
   ]
  },
  {
   "cell_type": "code",
   "execution_count": 37,
   "metadata": {},
   "outputs": [
    {
     "name": "stdout",
     "output_type": "stream",
     "text": [
      "0 1 1 2 3 5 "
     ]
    }
   ],
   "source": [
    "#fibonacci series upto given number\n",
    "n=int(input())\n",
    "a=0\n",
    "b=1\n",
    "print(a,b,end=\" \")\n",
    "for i in range(0,n):\n",
    "    c=a+b\n",
    "    if(c<=n):\n",
    "        print(c,end=\" \")\n",
    "        a=b\n",
    "        b=c\n"
   ]
  },
  {
   "cell_type": "code",
   "execution_count": 39,
   "metadata": {},
   "outputs": [
    {
     "name": "stdout",
     "output_type": "stream",
     "text": [
      "0 1 1 2 3 5 8 13 21 34 "
     ]
    }
   ],
   "source": [
    "#fibonacci series of given number N upto that contains exactly N digit\n",
    "n=int(input())\n",
    "a=0\n",
    "b=1\n",
    "print(a,b,end=\" \")\n",
    "for i in range(2,n):\n",
    "    c=a+b\n",
    "    print(c,end=\" \")\n",
    "    a=b\n",
    "    b=c\n"
   ]
  },
  {
   "cell_type": "code",
   "execution_count": 40,
   "metadata": {},
   "outputs": [
    {
     "name": "stdout",
     "output_type": "stream",
     "text": [
      "321\n"
     ]
    }
   ],
   "source": [
    "#given number in reverse order\n",
    "n=int(input())\n",
    "rev=0\n",
    "while(n>0):\n",
    "    rem=n%10\n",
    "    rev=(rev*10)+rem\n",
    "    n//=10\n",
    "print(rev)"
   ]
  },
  {
   "cell_type": "code",
   "execution_count": 2,
   "metadata": {},
   "outputs": [
    {
     "name": "stdout",
     "output_type": "stream",
     "text": [
      "2 6\n"
     ]
    }
   ],
   "source": [
    "s=input()\n",
    "l=s.split()\n",
    "l.sort()\n",
    "print(l[0],l[-1])\n"
   ]
  },
  {
   "cell_type": "code",
   "execution_count": 7,
   "metadata": {},
   "outputs": [
    {
     "name": "stdout",
     "output_type": "stream",
     "text": [
      "   Hello, World!  \n"
     ]
    }
   ],
   "source": [
    "string = \"   Hello, World!  \"\n",
    "new_string = string.replace(\"/s\",\"\")\n",
    "print(new_string)\n"
   ]
  },
  {
   "cell_type": "code",
   "execution_count": 2,
   "metadata": {},
   "outputs": [
    {
     "name": "stdout",
     "output_type": "stream",
     "text": [
      "[1, 4, 9, 16, 25]\n",
      "<class 'map'>\n"
     ]
    }
   ],
   "source": [
    "def square(x):\n",
    "    return x * x\n",
    "\n",
    "numbers = [1, 2, 3, 4, 5]\n",
    "squared_numbers = map(square, numbers)\n",
    "print(list(squared_numbers))\n",
    "print(type(squared_numbers))\n"
   ]
  },
  {
   "cell_type": "code",
   "execution_count": 56,
   "metadata": {},
   "outputs": [
    {
     "name": "stdout",
     "output_type": "stream",
     "text": [
      "12345\n",
      "2345\n",
      "345\n",
      "45\n",
      "5\n"
     ]
    }
   ],
   "source": [
    "n=int(input())\n",
    "for i in range(1,n+1):\n",
    "    for j in range(i,n+1):\n",
    "        print(j,end=\"\")\n",
    "        j-=1\n",
    "    print()\n"
   ]
  },
  {
   "cell_type": "code",
   "execution_count": 21,
   "metadata": {},
   "outputs": [
    {
     "name": "stdout",
     "output_type": "stream",
     "text": [
      "11111\n",
      "2222\n",
      "333\n",
      "44\n",
      "5\n"
     ]
    }
   ],
   "source": [
    "for i in range(1,6):\n",
    "    for j in range(i,6):\n",
    "        #print(j,end=\"\")\n",
    "\n",
    "        print(i,end=\"\")\n",
    "    print()"
   ]
  },
  {
   "cell_type": "code",
   "execution_count": 61,
   "metadata": {},
   "outputs": [
    {
     "name": "stdout",
     "output_type": "stream",
     "text": [
      "12345\n",
      "2345\n",
      "345\n",
      "45\n",
      "5\n"
     ]
    }
   ],
   "source": [
    "n=int(input())\n",
    "for i in range(1,n+1):\n",
    "    for j in range(i,n+1):\n",
    "        print(j,end=\"\")\n",
    "    i-=1\n",
    "    print()"
   ]
  },
  {
   "cell_type": "code",
   "execution_count": 98,
   "metadata": {},
   "outputs": [
    {
     "name": "stdout",
     "output_type": "stream",
     "text": [
      "1\n",
      "12\n",
      "123\n",
      "1234\n",
      "12345\n"
     ]
    }
   ],
   "source": [
    "n=input()\n",
    "for i in n:\n",
    "    for j in range(1,int(i)+1):\n",
    "        for k in range(1,int(j)+1):\n",
    "            print(k,end=\"\")\n",
    "        print()\n",
    "        j-=1\n"
   ]
  },
  {
   "cell_type": "code",
   "execution_count": 104,
   "metadata": {},
   "outputs": [
    {
     "name": "stdout",
     "output_type": "stream",
     "text": [
      "true\n"
     ]
    }
   ],
   "source": [
    "if(0):\n",
    "    print(\"true\")\n",
    "else:\n",
    "    print(\"false\")\n"
   ]
  },
  {
   "cell_type": "code",
   "execution_count": 72,
   "metadata": {},
   "outputs": [
    {
     "name": "stdout",
     "output_type": "stream",
     "text": [
      "not a prime number\n"
     ]
    }
   ],
   "source": [
    "n=int(input())\n",
    "c=0\n",
    "for i in range(2,n):\n",
    "    if n%i==0:\n",
    "        c+=1\n",
    "if c==1:\n",
    "    print(n,\"It's a prime number\")\n",
    "else:\n",
    "    print(\"not a prime number\")"
   ]
  },
  {
   "cell_type": "code",
   "execution_count": 67,
   "metadata": {},
   "outputs": [
    {
     "name": "stdout",
     "output_type": "stream",
     "text": [
      "4 is not a prime number\n"
     ]
    }
   ],
   "source": [
    "def is_prime(n):\n",
    "    if n <= 1:\n",
    "        return False\n",
    "    for i in range(2, n):\n",
    "        if n % i == 0:\n",
    "            return False\n",
    "    return True\n",
    "\n",
    "num = int(input('Enter a number: '))\n",
    "if is_prime(num):\n",
    "    print(num, 'is a prime number')\n",
    "else:\n",
    "    print(num, 'is not a prime number')\n"
   ]
  },
  {
   "cell_type": "code",
   "execution_count": 33,
   "metadata": {},
   "outputs": [
    {
     "name": "stdout",
     "output_type": "stream",
     "text": [
      "3\n"
     ]
    }
   ],
   "source": [
    "#mine\n",
    "n=int(input())\n",
    "z=int(input())\n",
    "l=[]\n",
    "for i in range(1,n):\n",
    "    m=n%10\n",
    "    if m==0:\n",
    "        break\n",
    "    else:\n",
    "        n=n//10\n",
    "    l.append(m)\n",
    "l.sort()\n",
    "print(l[z])"
   ]
  },
  {
   "cell_type": "code",
   "execution_count": 62,
   "metadata": {},
   "outputs": [
    {
     "name": "stdout",
     "output_type": "stream",
     "text": [
      "5\n"
     ]
    }
   ],
   "source": [
    "#sai's with modification\n",
    "n=int(input())\n",
    "p=int(input())\n",
    "s=str(n)\n",
    "l=[]\n",
    "for i in s:\n",
    "    l.append(i)\n",
    "l.sort()\n",
    "print(l[p])\n"
   ]
  },
  {
   "cell_type": "code",
   "execution_count": 81,
   "metadata": {},
   "outputs": [
    {
     "ename": "TypeError",
     "evalue": "can't multiply sequence by non-int of type 'str'",
     "output_type": "error",
     "traceback": [
      "\u001b[1;31m---------------------------------------------------------------------------\u001b[0m",
      "\u001b[1;31mTypeError\u001b[0m                                 Traceback (most recent call last)",
      "Cell \u001b[1;32mIn[81], line 4\u001b[0m\n\u001b[0;32m      2\u001b[0m s\u001b[39m=\u001b[39m\u001b[39m'\u001b[39m\u001b[39m'\u001b[39m\n\u001b[0;32m      3\u001b[0m \u001b[39mfor\u001b[39;00m i \u001b[39min\u001b[39;00m \u001b[39mrange\u001b[39m(\u001b[39m0\u001b[39m,\u001b[39mlen\u001b[39m(n),\u001b[39m3\u001b[39m):\n\u001b[1;32m----> 4\u001b[0m     s\u001b[39m=\u001b[39ms\u001b[39m+\u001b[39m\u001b[39mint\u001b[39m(n[i]\u001b[39m*\u001b[39;49mn[i])\n\u001b[0;32m      5\u001b[0m \u001b[39mprint\u001b[39m(s)\n",
      "\u001b[1;31mTypeError\u001b[0m: can't multiply sequence by non-int of type 'str'"
     ]
    }
   ],
   "source": [
    "n=input()\n",
    "s=''\n",
    "for i in range(0,len(n),3):\n",
    "    s=s+int(n[i]*n[i])\n",
    "print(s)"
   ]
  },
  {
   "cell_type": "code",
   "execution_count": 1,
   "metadata": {},
   "outputs": [
    {
     "name": "stdout",
     "output_type": "stream",
     "text": [
      " prime\n"
     ]
    }
   ],
   "source": [
    "#prime number   \n",
    "n=int(input())\n",
    "c=0\n",
    "if(n==0 or n==1):\n",
    "    print(\"not a prime\")\n",
    "else:\n",
    "    for i in range(2,n):\n",
    "        if n%i==0:\n",
    "            c=1\n",
    "            break\n",
    "    if c==0:\n",
    "        print(\" prime\")\n",
    "    else:\n",
    "        print(\"not prime\")"
   ]
  },
  {
   "cell_type": "code",
   "execution_count": 2,
   "metadata": {},
   "outputs": [
    {
     "name": "stdout",
     "output_type": "stream",
     "text": [
      "2\n",
      "3\n",
      "5\n",
      "7\n",
      "11\n",
      "13\n",
      "17\n",
      "19\n"
     ]
    }
   ],
   "source": [
    "#prime numbers between given range\n",
    "l=int(input())\n",
    "z=int(input())\n",
    "for i in range(l,z+1):\n",
    "    if i>1:\n",
    "        for j in range(2,i):\n",
    "            if i%j==0:\n",
    "                break\n",
    "        else:\n",
    "            print(i)"
   ]
  },
  {
   "cell_type": "code",
   "execution_count": 96,
   "metadata": {},
   "outputs": [
    {
     "name": "stdout",
     "output_type": "stream",
     "text": [
      "5040\n"
     ]
    }
   ],
   "source": [
    "#factorial number\n",
    "n=int(input())\n",
    "fact=1\n",
    "if n==0:\n",
    "    fact=0\n",
    "else:\n",
    "    for i in range(1,n+1):\n",
    "        fact=fact*i\n",
    "print(fact)"
   ]
  },
  {
   "cell_type": "code",
   "execution_count": 107,
   "metadata": {},
   "outputs": [
    {
     "name": "stdout",
     "output_type": "stream",
     "text": [
      "8\n"
     ]
    }
   ],
   "source": [
    "#sum of individual digits in a number\n",
    "n=int(input())\n",
    "sum=0\n",
    "if n==0:\n",
    "    print(n)\n",
    "else:\n",
    "    for i in str(n):\n",
    "        sum=sum+int(i)\n",
    "print(sum)"
   ]
  },
  {
   "cell_type": "code",
   "execution_count": 5,
   "metadata": {},
   "outputs": [
    {
     "name": "stdout",
     "output_type": "stream",
     "text": [
      "241\n"
     ]
    }
   ],
   "source": [
    "# reverse a number without using slicing\n",
    "n=int(input())\n",
    "res=0\n",
    "if n==0:\n",
    "    print(n)\n",
    "else:\n",
    "    while n>0:\n",
    "        m=n%10\n",
    "        res=(res*10)+m\n",
    "        n=n//10\n",
    "print(res)"
   ]
  }
 ],
 "metadata": {
  "kernelspec": {
   "display_name": "Python 3",
   "language": "python",
   "name": "python3"
  },
  "language_info": {
   "codemirror_mode": {
    "name": "ipython",
    "version": 3
   },
   "file_extension": ".py",
   "mimetype": "text/x-python",
   "name": "python",
   "nbconvert_exporter": "python",
   "pygments_lexer": "ipython3",
   "version": "3.11.4"
  },
  "orig_nbformat": 4
 },
 "nbformat": 4,
 "nbformat_minor": 2
}
