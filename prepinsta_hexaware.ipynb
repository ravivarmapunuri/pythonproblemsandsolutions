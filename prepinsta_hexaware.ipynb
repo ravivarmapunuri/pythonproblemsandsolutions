{
 "cells": [
  {
   "cell_type": "code",
   "execution_count": 2,
   "metadata": {},
   "outputs": [
    {
     "name": "stdout",
     "output_type": "stream",
     "text": [
      "1\n",
      "1\n",
      "1\n",
      "1\n",
      "morning\n"
     ]
    }
   ],
   "source": [
    "#1stprg\n",
    "n = int(input())\n",
    "L = list(map(str,input().split()))\n",
    "\n",
    "result = \"\"\n",
    "\n",
    "for a in L:\n",
    "    if (len(a) & 1):\n",
    "        if len(a) > len(result):\n",
    "            result = a\n",
    "\n",
    "if result == \"\":\n",
    "    result = \"Better luck next time\"\n",
    " \n",
    "print(result)"
   ]
  },
  {
   "cell_type": "code",
   "execution_count": 10,
   "metadata": {},
   "outputs": [
    {
     "name": "stdout",
     "output_type": "stream",
     "text": [
      "10\n"
     ]
    }
   ],
   "source": [
    "#2nd prg\n",
    "l=[1, 9, 2, 11, 1, 9, 2 ]\n",
    "l1=[]\n",
    "for i in range(1,len(l)):\n",
    "    if l[0]<l[i]:\n",
    "        l1.append(l[i])\n",
    "if l1:\n",
    "    print(max(l1)-l[0])\n",
    "else:\n",
    "    print(0)"
   ]
  },
  {
   "cell_type": "code",
   "execution_count": null,
   "metadata": {},
   "outputs": [],
   "source": [
    "#3rd prg\n",
    "s = input()\n",
    "start = []\n",
    "end = []\n",
    "n = int(input())\n",
    "\n",
    "for i in range(n):  \n",
    "    start.append(int(input()))\n",
    "\n",
    "for i in range(int(input())):\n",
    "    end.append(int(input()))\n",
    "\n",
    "for i in range(n):\n",
    "    Str = s[start[i]-1:end[i]]\n",
    "    print(Str.strip('*').count('*'))"
   ]
  },
  {
   "cell_type": "code",
   "execution_count": 12,
   "metadata": {},
   "outputs": [
    {
     "name": "stdout",
     "output_type": "stream",
     "text": [
      "9\n"
     ]
    }
   ],
   "source": [
    "#4th prg\n",
    "n = int(input())\n",
    "ar = input()\n",
    "sorted(ar, reverse=True)\n",
    "br = []\n",
    "s = 0\n",
    "aa = []\n",
    "for i in ar:\n",
    "    aa.append(int(i))\n",
    "\n",
    "su = sum(aa)\n",
    "while s <= su:\n",
    "    s += (aa[0])\n",
    "    su = su - (aa[0])\n",
    "    br.append(aa.pop(0))\n",
    "print(sum(br))"
   ]
  },
  {
   "cell_type": "code",
   "execution_count": 31,
   "metadata": {},
   "outputs": [
    {
     "name": "stdout",
     "output_type": "stream",
     "text": [
      "7\n"
     ]
    }
   ],
   "source": [
    "#5th prg\n",
    "s = input()\n",
    "s = s.replace(\"@\", \" \").replace(\"$\", \" \")\n",
    "s = s.split()\n",
    "ans = []\n",
    "for i in s:\n",
    "    ans.append(len(i) + 1)\n",
    "ans[-1] -= 1\n",
    "print(max(ans))"
   ]
  },
  {
   "cell_type": "code",
   "execution_count": 32,
   "metadata": {},
   "outputs": [
    {
     "name": "stdout",
     "output_type": "stream",
     "text": [
      "[2, 3, 2, 3, 2, 3, 2]\n",
      "c\n"
     ]
    }
   ],
   "source": [
    "#6th prg\n",
    "s = input()\n",
    "ans = []\n",
    "\n",
    "for i in s:\n",
    "    ans.append(s.count(i))\n",
    "print(ans)\n",
    "print(s[ans.index(min(ans))])"
   ]
  },
  {
   "cell_type": "code",
   "execution_count": 43,
   "metadata": {},
   "outputs": [
    {
     "name": "stdout",
     "output_type": "stream",
     "text": [
      "0 5 -1\n",
      "24\n"
     ]
    }
   ],
   "source": [
    "#7th prg\n",
    "i,j,k=map(int,input().split())\n",
    "print(i,j,k)\n",
    "s=0\n",
    "for x in range(i,j+1):\n",
    "    s+=x\n",
    "for y in range(j-1,k-1,-1):\n",
    "    s+=y\n",
    "print(s)"
   ]
  },
  {
   "cell_type": "code",
   "execution_count": null,
   "metadata": {},
   "outputs": [],
   "source": [
    "i = int(input())\n",
    "j = int(input())\n",
    "k = int(input())\n",
    "n = abs(j - i) + 1\n",
    "s1 = (n / 2) * (2 * i + (n - 1))\n",
    "n = abs(k - (j - 1)) + 1\n",
    "s2 = (n / 2) * (2 * (j - 1) - (n - 1))\n",
    "print(int(s1 + s2))"
   ]
  },
  {
   "cell_type": "code",
   "execution_count": 44,
   "metadata": {},
   "outputs": [
    {
     "name": "stdout",
     "output_type": "stream",
     "text": [
      "3\n"
     ]
    }
   ],
   "source": [
    "#8th prg\n",
    "l=[ 1, 3, 3, 4, 3, 3 ]\n",
    "s=set(l)\n",
    "print(len(l)-len(s))"
   ]
  },
  {
   "cell_type": "code",
   "execution_count": null,
   "metadata": {},
   "outputs": [],
   "source": [
    "#9th prg\n",
    "s = input()\n",
    "j = 1\n",
    "c = 0\n",
    "while j < len(s):\n",
    "    if ord(s[c]) < ord(s[j]):\n",
    "        c = j\n",
    "    j += 1\n",
    "print(s[c:])"
   ]
  },
  {
   "cell_type": "code",
   "execution_count": 52,
   "metadata": {},
   "outputs": [
    {
     "name": "stdout",
     "output_type": "stream",
     "text": [
      "3\n"
     ]
    }
   ],
   "source": [
    "#10th prg\n",
    "l= [1,2,3,1,2]\n",
    "x=1\n",
    "l1=[]\n",
    "for i in range(len(l)):\n",
    "    for j in range(i+1,len(l)):\n",
    "        l1.append(l[i:j])\n",
    "y=[]\n",
    "for i in l1:\n",
    "    if len(i)==x:\n",
    "        if i not in y:\n",
    "            y.append(i)\n",
    "print(len(y))"
   ]
  }
 ],
 "metadata": {
  "kernelspec": {
   "display_name": "Python 3",
   "language": "python",
   "name": "python3"
  },
  "language_info": {
   "codemirror_mode": {
    "name": "ipython",
    "version": 3
   },
   "file_extension": ".py",
   "mimetype": "text/x-python",
   "name": "python",
   "nbconvert_exporter": "python",
   "pygments_lexer": "ipython3",
   "version": "3.11.4"
  }
 },
 "nbformat": 4,
 "nbformat_minor": 2
}
